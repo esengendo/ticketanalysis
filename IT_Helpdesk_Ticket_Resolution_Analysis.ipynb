{
 "cells": [
  {
   "cell_type": "markdown",
   "metadata": {},
   "source": [
    "**Table of contents**<a id='toc0_'></a>    \n",
    "- [Project Title:](#toc1_1_1_)    \n",
    "    - [Project Overview:](#toc1_1_2_)    \n",
    "  - [1: Data Preprocessing:](#toc1_2_)    \n",
    "    - [ Data Initial Assessment](#toc1_2_1_)    \n",
    "    - [ Data Cleaning](#toc1_2_2_)    \n",
    "    - [ Feature Engineering ](#toc1_2_3_)    \n",
    "    - [Natural Language Processing (NLP) ](#toc1_2_4_)    \n",
    "  - [2: Exploratory Data Analysis (EDA): ](#toc1_3_)    \n",
    "    - [ Outliers ](#toc1_3_1_)    \n",
    "  - [3: Feature Selection: ](#toc1_4_)    \n",
    "  - [4: Model Development: ](#toc1_5_)    \n",
    "  - [5: Hyperparameter Tuning:](#toc1_6_)    \n",
    "  - [6: Model Evaluation and Validation: ](#toc1_7_)    \n",
    "    - [Feature Importance](#toc1_7_1_)    \n",
    "    - [Interpretation and Next Steps:](#toc1_7_2_)    \n",
    "  - [7: Deployement Strategy: ](#toc1_8_)    \n",
    "      - [Model Integration:](#toc1_8_1_1_)    \n",
    "      - [User Interface (UI) Design:](#toc1_8_1_2_)    \n",
    "  - [8: Monitoring and Maintenance:](#toc1_9_)    \n",
    "      - [Model Monitoring System: ](#toc1_9_1_1_)    \n",
    "      - [Model Retraining: ](#toc1_9_1_2_)    \n",
    "  - [9: Key Considerations:](#toc1_10_)    \n",
    "\n",
    "<!-- vscode-jupyter-toc-config\n",
    "\tnumbering=false\n",
    "\tanchor=true\n",
    "\tflat=false\n",
    "\tminLevel=1\n",
    "\tmaxLevel=6\n",
    "\t/vscode-jupyter-toc-config -->\n",
    "<!-- THIS CELL WILL BE REPLACED ON TOC UPDATE. DO NOT WRITE YOUR TEXT IN THIS CELL -->"
   ]
  },
  {
   "cell_type": "markdown",
   "metadata": {},
   "source": [
    "### <a id='toc1_1_1_'></a>[Project Title:](#toc0_)\n",
    "**Predictive Analysis of IT Helpdesk Ticket Resolution Time**\n",
    "\n",
    "### <a id='toc1_1_2_'></a>[Project Overview:](#toc0_)\n",
    "Develop a machine learning model to predict the resolution time of IT helpdesk tickets, using historical data. This aims to improve resource allocation, customer satisfaction, and operational efficiency.  This project, using data from Kaggle -  [IT Helpdesk Dataset](https://www.kaggle.com/datasets/utsav15/it-helpdesk/data), demonstrates the application of data science and machine learning to enhance IT helpdesk operations, including text summarization and sentiment analysis for feature engineering.\n"
   ]
  },
  {
   "cell_type": "code",
   "execution_count": 2,
   "metadata": {},
   "outputs": [
    {
     "name": "stderr",
     "output_type": "stream",
     "text": [
      "/Users/baboo/Desktop/Portfolio/ITHelp/ithelp/lib/python3.9/site-packages/urllib3/__init__.py:34: NotOpenSSLWarning: urllib3 v2 only supports OpenSSL 1.1.1+, currently the 'ssl' module is compiled with 'LibreSSL 2.8.3'. See: https://github.com/urllib3/urllib3/issues/3020\n",
      "  warnings.warn(\n",
      "/Users/baboo/Desktop/Portfolio/ITHelp/ithelp/lib/python3.9/site-packages/tqdm/auto.py:21: TqdmWarning: IProgress not found. Please update jupyter and ipywidgets. See https://ipywidgets.readthedocs.io/en/stable/user_install.html\n",
      "  from .autonotebook import tqdm as notebook_tqdm\n",
      "2024-01-22 15:01:37.471071: I tensorflow/core/platform/cpu_feature_guard.cc:182] This TensorFlow binary is optimized to use available CPU instructions in performance-critical operations.\n",
      "To enable the following instructions: AVX2 FMA, in other operations, rebuild TensorFlow with the appropriate compiler flags.\n"
     ]
    }
   ],
   "source": [
    "import pandas as pd\n",
    "from dateutil.parser import parse\n",
    "import numpy as np\n",
    "import seaborn as sns\n",
    "import matplotlib.pyplot as plt\n",
    "from scipy import stats\n",
    "\n",
    "import plotly.graph_objects as go\n",
    "from plotly.subplots import make_subplots\n",
    "import plotly.express as px\n",
    "\n",
    "from sklearn.preprocessing import LabelEncoder\n",
    "from sklearn.model_selection import train_test_split\n",
    "from sklearn.preprocessing import StandardScaler\n",
    "from sklearn.preprocessing import MinMaxScaler\n",
    "from sklearn.linear_model import LinearRegression\n",
    "from sklearn.ensemble import RandomForestRegressor, GradientBoostingRegressor\n",
    "from sklearn.metrics import mean_squared_error\n",
    "from sklearn.model_selection import cross_val_score\n",
    "from sklearn.model_selection import GridSearchCV\n",
    "from sklearn.metrics import mean_squared_error, mean_absolute_error, r2_score\n",
    "\n",
    "\n",
    "from transformers import pipeline\n",
    "import pickle"
   ]
  },
  {
   "cell_type": "markdown",
   "metadata": {},
   "source": [
    "## <a id='toc1_2_'></a>[1: Data Preprocessing:](#toc0_)\n",
    "\n",
    "### <a id='toc1_2_1_'></a>[ Data Initial Assessment](#toc0_)"
   ]
  },
  {
   "cell_type": "code",
   "execution_count": 2,
   "metadata": {},
   "outputs": [
    {
     "data": {
      "text/html": [
       "<div>\n",
       "<style scoped>\n",
       "    .dataframe tbody tr th:only-of-type {\n",
       "        vertical-align: middle;\n",
       "    }\n",
       "\n",
       "    .dataframe tbody tr th {\n",
       "        vertical-align: top;\n",
       "    }\n",
       "\n",
       "    .dataframe thead th {\n",
       "        text-align: right;\n",
       "    }\n",
       "</style>\n",
       "<table border=\"1\" class=\"dataframe\">\n",
       "  <thead>\n",
       "    <tr style=\"text-align: right;\">\n",
       "      <th></th>\n",
       "      <th>Unnamed: 0</th>\n",
       "      <th>Unnamed: 1</th>\n",
       "      <th>Unnamed: 2</th>\n",
       "      <th>Unnamed: 3</th>\n",
       "      <th>Unnamed: 4</th>\n",
       "      <th>Unnamed: 5</th>\n",
       "      <th>Unnamed: 6</th>\n",
       "      <th>Unnamed: 7</th>\n",
       "      <th>Unnamed: 8</th>\n",
       "      <th>Unnamed: 9</th>\n",
       "      <th>Unnamed: 10</th>\n",
       "      <th>Unnamed: 11</th>\n",
       "    </tr>\n",
       "  </thead>\n",
       "  <tbody>\n",
       "    <tr>\n",
       "      <th>0</th>\n",
       "      <td>TicketNumber</td>\n",
       "      <td>Client</td>\n",
       "      <td>Staff</td>\n",
       "      <td>Source</td>\n",
       "      <td>Title</td>\n",
       "      <td>Resolution</td>\n",
       "      <td>HelpTopic</td>\n",
       "      <td>DataOn</td>\n",
       "      <td>DueDate</td>\n",
       "      <td>ClosedDate</td>\n",
       "      <td>ModifiedDate</td>\n",
       "      <td>KYC</td>\n",
       "    </tr>\n",
       "    <tr>\n",
       "      <th>1</th>\n",
       "      <td>T955496</td>\n",
       "      <td>User</td>\n",
       "      <td>ITSupport</td>\n",
       "      <td>Email</td>\n",
       "      <td>Need Ethernet access</td>\n",
       "      <td>Please connect the LAN cable to the red port o...</td>\n",
       "      <td>Network &amp; Wireless</td>\n",
       "      <td>12/17/15 12:00 PM</td>\n",
       "      <td>NaN</td>\n",
       "      <td>12/17/15 01:02 PM</td>\n",
       "      <td>12/17/15 12:59 PM</td>\n",
       "      <td>YY</td>\n",
       "    </tr>\n",
       "    <tr>\n",
       "      <th>2</th>\n",
       "      <td>IT413956</td>\n",
       "      <td>User</td>\n",
       "      <td>ITSupport</td>\n",
       "      <td>Email</td>\n",
       "      <td>Need a LAN Cable</td>\n",
       "      <td>Please come to IT desk and collect.</td>\n",
       "      <td>Accessories</td>\n",
       "      <td>14-12-2017 12:06</td>\n",
       "      <td>NaN</td>\n",
       "      <td>15-12-2017 13:13</td>\n",
       "      <td>14-12-2017 12:42</td>\n",
       "      <td>N</td>\n",
       "    </tr>\n",
       "    <tr>\n",
       "      <th>3</th>\n",
       "      <td>IT413444</td>\n",
       "      <td>User</td>\n",
       "      <td>ITSupport</td>\n",
       "      <td>Email</td>\n",
       "      <td>Need a laptop Conector.</td>\n",
       "      <td>Please come to IT desk and collect.</td>\n",
       "      <td>Accessories</td>\n",
       "      <td>14-12-2017 12:06</td>\n",
       "      <td>NaN</td>\n",
       "      <td>15-12-2017 13:13</td>\n",
       "      <td>14-12-2017 13:44</td>\n",
       "      <td>N</td>\n",
       "    </tr>\n",
       "    <tr>\n",
       "      <th>4</th>\n",
       "      <td>IT413923</td>\n",
       "      <td>User</td>\n",
       "      <td>ITSupport</td>\n",
       "      <td>Email</td>\n",
       "      <td>Need a mouse</td>\n",
       "      <td>hello Raj Ganpur&lt;br /&gt;&lt;br /&gt;please come to It ...</td>\n",
       "      <td>Accessories</td>\n",
       "      <td>14-12-2017 12:06</td>\n",
       "      <td>NaN</td>\n",
       "      <td>15-12-2017 13:13</td>\n",
       "      <td>15-12-2017 12:15</td>\n",
       "      <td>N</td>\n",
       "    </tr>\n",
       "  </tbody>\n",
       "</table>\n",
       "</div>"
      ],
      "text/plain": [
       "     Unnamed: 0 Unnamed: 1 Unnamed: 2 Unnamed: 3               Unnamed: 4  \\\n",
       "0  TicketNumber     Client      Staff     Source                    Title   \n",
       "1       T955496       User  ITSupport      Email     Need Ethernet access   \n",
       "2      IT413956       User  ITSupport      Email         Need a LAN Cable   \n",
       "3      IT413444       User  ITSupport      Email  Need a laptop Conector.   \n",
       "4      IT413923       User  ITSupport      Email             Need a mouse   \n",
       "\n",
       "                                          Unnamed: 5          Unnamed: 6  \\\n",
       "0                                         Resolution           HelpTopic   \n",
       "1  Please connect the LAN cable to the red port o...  Network & Wireless   \n",
       "2                Please come to IT desk and collect.         Accessories   \n",
       "3                Please come to IT desk and collect.         Accessories   \n",
       "4  hello Raj Ganpur<br /><br />please come to It ...         Accessories   \n",
       "\n",
       "          Unnamed: 7 Unnamed: 8         Unnamed: 9        Unnamed: 10  \\\n",
       "0             DataOn    DueDate         ClosedDate       ModifiedDate   \n",
       "1  12/17/15 12:00 PM        NaN  12/17/15 01:02 PM  12/17/15 12:59 PM   \n",
       "2   14-12-2017 12:06        NaN   15-12-2017 13:13   14-12-2017 12:42   \n",
       "3   14-12-2017 12:06        NaN   15-12-2017 13:13   14-12-2017 13:44   \n",
       "4   14-12-2017 12:06        NaN   15-12-2017 13:13   15-12-2017 12:15   \n",
       "\n",
       "  Unnamed: 11  \n",
       "0         KYC  \n",
       "1          YY  \n",
       "2           N  \n",
       "3           N  \n",
       "4           N  "
      ]
     },
     "execution_count": 2,
     "metadata": {},
     "output_type": "execute_result"
    }
   ],
   "source": [
    "df = pd.read_excel('/Users/baboo/Desktop/Portfolio/ITHelp/SampleInput.xlsx')\n",
    "df.head()"
   ]
  },
  {
   "cell_type": "code",
   "execution_count": 3,
   "metadata": {},
   "outputs": [
    {
     "data": {
      "text/plain": [
       "(399, 12)"
      ]
     },
     "execution_count": 3,
     "metadata": {},
     "output_type": "execute_result"
    }
   ],
   "source": [
    "# Get the dimensions of the DataFrame (rows, columns)\n",
    "\n",
    "df.shape"
   ]
  },
  {
   "cell_type": "code",
   "execution_count": 4,
   "metadata": {},
   "outputs": [
    {
     "data": {
      "text/html": [
       "<div>\n",
       "<style scoped>\n",
       "    .dataframe tbody tr th:only-of-type {\n",
       "        vertical-align: middle;\n",
       "    }\n",
       "\n",
       "    .dataframe tbody tr th {\n",
       "        vertical-align: top;\n",
       "    }\n",
       "\n",
       "    .dataframe thead th {\n",
       "        text-align: right;\n",
       "    }\n",
       "</style>\n",
       "<table border=\"1\" class=\"dataframe\">\n",
       "  <thead>\n",
       "    <tr style=\"text-align: right;\">\n",
       "      <th></th>\n",
       "      <th>Unnamed: 0</th>\n",
       "      <th>Unnamed: 1</th>\n",
       "      <th>Unnamed: 2</th>\n",
       "      <th>Unnamed: 3</th>\n",
       "      <th>Unnamed: 4</th>\n",
       "      <th>Unnamed: 5</th>\n",
       "      <th>Unnamed: 6</th>\n",
       "      <th>Unnamed: 7</th>\n",
       "      <th>Unnamed: 8</th>\n",
       "      <th>Unnamed: 9</th>\n",
       "      <th>Unnamed: 10</th>\n",
       "      <th>Unnamed: 11</th>\n",
       "    </tr>\n",
       "  </thead>\n",
       "  <tbody>\n",
       "    <tr>\n",
       "      <th>count</th>\n",
       "      <td>399</td>\n",
       "      <td>399</td>\n",
       "      <td>399</td>\n",
       "      <td>399</td>\n",
       "      <td>274</td>\n",
       "      <td>399</td>\n",
       "      <td>399</td>\n",
       "      <td>399</td>\n",
       "      <td>1</td>\n",
       "      <td>399</td>\n",
       "      <td>399</td>\n",
       "      <td>395</td>\n",
       "    </tr>\n",
       "    <tr>\n",
       "      <th>unique</th>\n",
       "      <td>133</td>\n",
       "      <td>2</td>\n",
       "      <td>2</td>\n",
       "      <td>4</td>\n",
       "      <td>77</td>\n",
       "      <td>281</td>\n",
       "      <td>17</td>\n",
       "      <td>105</td>\n",
       "      <td>1</td>\n",
       "      <td>105</td>\n",
       "      <td>300</td>\n",
       "      <td>4</td>\n",
       "    </tr>\n",
       "    <tr>\n",
       "      <th>top</th>\n",
       "      <td>IT125886</td>\n",
       "      <td>User</td>\n",
       "      <td>ITSupport</td>\n",
       "      <td>Email</td>\n",
       "      <td>Status Changed</td>\n",
       "      <td>Ticket flagged as overdue by the system.</td>\n",
       "      <td>Access Requests</td>\n",
       "      <td>2016-09-08 22:07:00</td>\n",
       "      <td>DueDate</td>\n",
       "      <td>2016-11-08 18:57:00</td>\n",
       "      <td>19-01-2016 13:14</td>\n",
       "      <td>N</td>\n",
       "    </tr>\n",
       "    <tr>\n",
       "      <th>freq</th>\n",
       "      <td>12</td>\n",
       "      <td>398</td>\n",
       "      <td>398</td>\n",
       "      <td>349</td>\n",
       "      <td>44</td>\n",
       "      <td>34</td>\n",
       "      <td>243</td>\n",
       "      <td>12</td>\n",
       "      <td>1</td>\n",
       "      <td>12</td>\n",
       "      <td>6</td>\n",
       "      <td>341</td>\n",
       "    </tr>\n",
       "  </tbody>\n",
       "</table>\n",
       "</div>"
      ],
      "text/plain": [
       "       Unnamed: 0 Unnamed: 1 Unnamed: 2 Unnamed: 3      Unnamed: 4  \\\n",
       "count         399        399        399        399             274   \n",
       "unique        133          2          2          4              77   \n",
       "top      IT125886       User  ITSupport      Email  Status Changed   \n",
       "freq           12        398        398        349              44   \n",
       "\n",
       "                                      Unnamed: 5       Unnamed: 6  \\\n",
       "count                                        399              399   \n",
       "unique                                       281               17   \n",
       "top     Ticket flagged as overdue by the system.  Access Requests   \n",
       "freq                                          34              243   \n",
       "\n",
       "                 Unnamed: 7 Unnamed: 8           Unnamed: 9       Unnamed: 10  \\\n",
       "count                   399          1                  399               399   \n",
       "unique                  105          1                  105               300   \n",
       "top     2016-09-08 22:07:00    DueDate  2016-11-08 18:57:00  19-01-2016 13:14   \n",
       "freq                     12          1                   12                 6   \n",
       "\n",
       "       Unnamed: 11  \n",
       "count          395  \n",
       "unique           4  \n",
       "top              N  \n",
       "freq           341  "
      ]
     },
     "execution_count": 4,
     "metadata": {},
     "output_type": "execute_result"
    }
   ],
   "source": [
    "# Generate descriptive statistics of the DataFrame\n",
    "\n",
    "df.describe()"
   ]
  },
  {
   "cell_type": "code",
   "execution_count": 5,
   "metadata": {},
   "outputs": [
    {
     "data": {
      "text/plain": [
       "Unnamed: 0       0\n",
       "Unnamed: 1       0\n",
       "Unnamed: 2       0\n",
       "Unnamed: 3       0\n",
       "Unnamed: 4     125\n",
       "Unnamed: 5       0\n",
       "Unnamed: 6       0\n",
       "Unnamed: 7       0\n",
       "Unnamed: 8     398\n",
       "Unnamed: 9       0\n",
       "Unnamed: 10      0\n",
       "Unnamed: 11      4\n",
       "dtype: int64"
      ]
     },
     "execution_count": 5,
     "metadata": {},
     "output_type": "execute_result"
    }
   ],
   "source": [
    "#Count missing values in each column of the DataFrame\n",
    "\n",
    "df.isnull().sum()"
   ]
  },
  {
   "cell_type": "markdown",
   "metadata": {},
   "source": [
    "### <a id='toc1_2_2_'></a>[ Data Cleaning](#toc0_)"
   ]
  },
  {
   "cell_type": "markdown",
   "metadata": {},
   "source": [
    "This code block defines new names for the columns of a DataFrame `df`, replacing generic 'Unnamed' labels with descriptive titles, and then drops the first row. It uses a dictionary to map old column names to new ones for renaming, ensuring the DataFrame's columns are clearly identifiable and removing an unwanted row."
   ]
  },
  {
   "cell_type": "code",
   "execution_count": 6,
   "metadata": {},
   "outputs": [],
   "source": [
    "# Your current column names\n",
    "old_names = ['Unnamed: 0', 'Unnamed: 1', 'Unnamed: 2', 'Unnamed: 3', 'Unnamed: 4',\n",
    "             'Unnamed: 5', 'Unnamed: 6', 'Unnamed: 7', 'Unnamed: 8', 'Unnamed: 9',\n",
    "             'Unnamed: 10', 'Unnamed: 11']\n",
    "\n",
    "# The new column names you want to use\n",
    "new_names = ['TicketNumber', 'Client', 'Staff', 'Source', 'Title', \n",
    "             'Resolution', 'HelpTopic', 'DataOn', 'DueDate', 'ClosedDate',\n",
    "             'ModifiedDate', 'KYC']\n",
    "\n",
    "# Creating a dictionary for renaming\n",
    "rename_dict = dict(zip(old_names, new_names))\n",
    "\n",
    "# Renaming the columns\n",
    "df.rename(columns=rename_dict, inplace=True)\n",
    "\n",
    "# Dropping the first row of the DataFrame\n",
    "df.drop(index=0, inplace=True)\n",
    "\n"
   ]
  },
  {
   "cell_type": "markdown",
   "metadata": {},
   "source": [
    "Below we define a custom function `parse_date` to convert various date string formats to a standardized datetime format and applies it to the 'DataOn' column of a DataFrame `df`. The function tries multiple specified formats and uses a date parser as a fallback, returning 'Not a Time' for unrecognizable formats."
   ]
  },
  {
   "cell_type": "code",
   "execution_count": 7,
   "metadata": {},
   "outputs": [],
   "source": [
    "# Custom Function to Parse Dates: function that attempts to parse dates using each of these formats and returns the date in a standard format or indicates if the format is unrecognized.\n",
    "\n",
    "def parse_date(date_str):\n",
    "    formats = ['%m/%d/%y %I:%M %p', '%d-%m-%Y %H:%M', '%Y-%m-%d %H:%M:%S']\n",
    "    for fmt in formats:\n",
    "        try:\n",
    "            return pd.to_datetime(date_str, format=fmt)\n",
    "        except ValueError:\n",
    "            continue\n",
    "    try:\n",
    "        # As a last resort, use dateutil's parser\n",
    "        return parse(date_str)\n",
    "    except ValueError:\n",
    "        return pd.NaT  # Return Not a Time for unparseable formats\n",
    "\n",
    "df['Date Opened'] = df['DataOn'].apply(parse_date)\n"
   ]
  },
  {
   "cell_type": "markdown",
   "metadata": {},
   "source": [
    "Below, we then convert the 'ClosedDate' and 'ModifiedDate' columns of the DataFrame `df` into datetime objects using the previously defined `parse_date` function. It standardizes the date formats for better consistency and analysis in the dataset."
   ]
  },
  {
   "cell_type": "code",
   "execution_count": 8,
   "metadata": {},
   "outputs": [],
   "source": [
    "# Convert each of the date columns to datetime objects with the specified format\n",
    "\n",
    "df['Closed Date'] = df['ClosedDate'].apply(parse_date)\n",
    "df['Modified Date'] = df['ModifiedDate'].apply(parse_date)"
   ]
  },
  {
   "cell_type": "code",
   "execution_count": 9,
   "metadata": {},
   "outputs": [],
   "source": [
    "# We drop DueDate column \n",
    "\n",
    "df.drop(columns=['DueDate'], inplace=True)"
   ]
  },
  {
   "cell_type": "markdown",
   "metadata": {},
   "source": [
    "### <a id='toc1_2_3_'></a>[ Feature Engineering ](#toc0_)"
   ]
  },
  {
   "cell_type": "markdown",
   "metadata": {},
   "source": [
    "We then perform feature engineering on the DataFrame `df` by creating new columns that derive additional insights from existing date-time data:\n",
    "\n",
    "1. **Resolution Duration**: It calculates the duration between ticket opening and closing times in minutes (`ResolutionDurationMins`), providing a metric for how long it took to resolve each ticket.\n",
    "\n",
    "2. **Day of Week**: The code extracts the day of the week (`DayOfWeekOpened`) from the 'Date Opened' column, which can be useful for analyzing trends on different days.\n",
    "\n",
    "3. **Time of Day**: It also extracts the hour from the 'Date Opened' column (`TimeOfDayOpened`), allowing for analysis of what time of day tickets are typically opened."
   ]
  },
  {
   "cell_type": "code",
   "execution_count": 10,
   "metadata": {},
   "outputs": [],
   "source": [
    "# Calculate the resolution duration in minutes\n",
    "df['ResolutionDurationMins'] = (df['Closed Date'] - df['Date Opened']).dt.total_seconds() / 60\n",
    "\n",
    "# Extract the day of the week as a string (e.g., Monday, Tuesday, etc.)\n",
    "df['DayOfWeekOpened'] = df['Date Opened'].dt.day_name()\n",
    "\n",
    "# Extract the hour from the 'Date Opened' column to determine the time of day\n",
    "df['TimeOfDayOpened'] = df['Date Opened'].dt.hour\n",
    "\n"
   ]
  },
  {
   "cell_type": "markdown",
   "metadata": {},
   "source": [
    "Since we are getting negative values in the ResolutionDurationMins column after calculating the resolution duration, becuase in some rows, the Closed Date is earlier than the Date Opened. This could be due to data entry errors or incorrect date formats in your dataset.  We will set those rows to 0."
   ]
  },
  {
   "cell_type": "code",
   "execution_count": 11,
   "metadata": {},
   "outputs": [
    {
     "name": "stdout",
     "output_type": "stream",
     "text": [
      "41\n"
     ]
    }
   ],
   "source": [
    "negative_duration = df[df['ResolutionDurationMins'] < 0]\n",
    "print(len(negative_duration[['Date Opened', 'Closed Date', 'ResolutionDurationMins']]))\n"
   ]
  },
  {
   "cell_type": "code",
   "execution_count": 12,
   "metadata": {},
   "outputs": [],
   "source": [
    "# Correcting negative values in 'ResolutionDurationMins'\n",
    "# If the resolution duration is less than 0, it is set to 0, assuming that a negative duration is not valid\n",
    "\n",
    "df.loc[df['ResolutionDurationMins'] < 0, 'ResolutionDurationMins'] = 0\n"
   ]
  },
  {
   "cell_type": "code",
   "execution_count": 13,
   "metadata": {},
   "outputs": [
    {
     "data": {
      "text/html": [
       "<div>\n",
       "<style scoped>\n",
       "    .dataframe tbody tr th:only-of-type {\n",
       "        vertical-align: middle;\n",
       "    }\n",
       "\n",
       "    .dataframe tbody tr th {\n",
       "        vertical-align: top;\n",
       "    }\n",
       "\n",
       "    .dataframe thead th {\n",
       "        text-align: right;\n",
       "    }\n",
       "</style>\n",
       "<table border=\"1\" class=\"dataframe\">\n",
       "  <thead>\n",
       "    <tr style=\"text-align: right;\">\n",
       "      <th></th>\n",
       "      <th>TicketNumber</th>\n",
       "      <th>Client</th>\n",
       "      <th>Staff</th>\n",
       "      <th>Source</th>\n",
       "      <th>Title</th>\n",
       "      <th>Resolution</th>\n",
       "      <th>HelpTopic</th>\n",
       "      <th>DataOn</th>\n",
       "      <th>ClosedDate</th>\n",
       "      <th>ModifiedDate</th>\n",
       "      <th>KYC</th>\n",
       "      <th>Date Opened</th>\n",
       "      <th>Closed Date</th>\n",
       "      <th>Modified Date</th>\n",
       "      <th>ResolutionDurationMins</th>\n",
       "      <th>DayOfWeekOpened</th>\n",
       "      <th>TimeOfDayOpened</th>\n",
       "      <th>Ticket Age</th>\n",
       "    </tr>\n",
       "  </thead>\n",
       "  <tbody>\n",
       "    <tr>\n",
       "      <th>1</th>\n",
       "      <td>T955496</td>\n",
       "      <td>User</td>\n",
       "      <td>ITSupport</td>\n",
       "      <td>Email</td>\n",
       "      <td>Need Ethernet access</td>\n",
       "      <td>Please connect the LAN cable to the red port o...</td>\n",
       "      <td>Network &amp; Wireless</td>\n",
       "      <td>12/17/15 12:00 PM</td>\n",
       "      <td>12/17/15 01:02 PM</td>\n",
       "      <td>12/17/15 12:59 PM</td>\n",
       "      <td>YY</td>\n",
       "      <td>2015-12-17 12:00:00</td>\n",
       "      <td>2015-12-17 13:02:00</td>\n",
       "      <td>2015-12-17 12:59:00</td>\n",
       "      <td>62.0</td>\n",
       "      <td>Thursday</td>\n",
       "      <td>12.0</td>\n",
       "      <td>62.0</td>\n",
       "    </tr>\n",
       "    <tr>\n",
       "      <th>2</th>\n",
       "      <td>IT413956</td>\n",
       "      <td>User</td>\n",
       "      <td>ITSupport</td>\n",
       "      <td>Email</td>\n",
       "      <td>Need a LAN Cable</td>\n",
       "      <td>Please come to IT desk and collect.</td>\n",
       "      <td>Accessories</td>\n",
       "      <td>14-12-2017 12:06</td>\n",
       "      <td>15-12-2017 13:13</td>\n",
       "      <td>14-12-2017 12:42</td>\n",
       "      <td>N</td>\n",
       "      <td>2017-12-14 12:06:00</td>\n",
       "      <td>2017-12-15 13:13:00</td>\n",
       "      <td>2017-12-14 12:42:00</td>\n",
       "      <td>1507.0</td>\n",
       "      <td>Thursday</td>\n",
       "      <td>12.0</td>\n",
       "      <td>1507.0</td>\n",
       "    </tr>\n",
       "    <tr>\n",
       "      <th>3</th>\n",
       "      <td>IT413444</td>\n",
       "      <td>User</td>\n",
       "      <td>ITSupport</td>\n",
       "      <td>Email</td>\n",
       "      <td>Need a laptop Conector.</td>\n",
       "      <td>Please come to IT desk and collect.</td>\n",
       "      <td>Accessories</td>\n",
       "      <td>14-12-2017 12:06</td>\n",
       "      <td>15-12-2017 13:13</td>\n",
       "      <td>14-12-2017 13:44</td>\n",
       "      <td>N</td>\n",
       "      <td>2017-12-14 12:06:00</td>\n",
       "      <td>2017-12-15 13:13:00</td>\n",
       "      <td>2017-12-14 13:44:00</td>\n",
       "      <td>1507.0</td>\n",
       "      <td>Thursday</td>\n",
       "      <td>12.0</td>\n",
       "      <td>1507.0</td>\n",
       "    </tr>\n",
       "    <tr>\n",
       "      <th>4</th>\n",
       "      <td>IT413923</td>\n",
       "      <td>User</td>\n",
       "      <td>ITSupport</td>\n",
       "      <td>Email</td>\n",
       "      <td>Need a mouse</td>\n",
       "      <td>hello Raj Ganpur&lt;br /&gt;&lt;br /&gt;please come to It ...</td>\n",
       "      <td>Accessories</td>\n",
       "      <td>14-12-2017 12:06</td>\n",
       "      <td>15-12-2017 13:13</td>\n",
       "      <td>15-12-2017 12:15</td>\n",
       "      <td>N</td>\n",
       "      <td>2017-12-14 12:06:00</td>\n",
       "      <td>2017-12-15 13:13:00</td>\n",
       "      <td>2017-12-15 12:15:00</td>\n",
       "      <td>1507.0</td>\n",
       "      <td>Thursday</td>\n",
       "      <td>12.0</td>\n",
       "      <td>1507.0</td>\n",
       "    </tr>\n",
       "    <tr>\n",
       "      <th>5</th>\n",
       "      <td>IT413990</td>\n",
       "      <td>User</td>\n",
       "      <td>ITSupport</td>\n",
       "      <td>Email</td>\n",
       "      <td>Mouse replacement is needed.</td>\n",
       "      <td>hello Raj Ganpur&lt;br /&gt;&lt;br /&gt;we are replaced th...</td>\n",
       "      <td>Accessories</td>\n",
       "      <td>14-12-2017 12:06</td>\n",
       "      <td>15-12-2017 13:13</td>\n",
       "      <td>15-12-2017 13:13</td>\n",
       "      <td>N</td>\n",
       "      <td>2017-12-14 12:06:00</td>\n",
       "      <td>2017-12-15 13:13:00</td>\n",
       "      <td>2017-12-15 13:13:00</td>\n",
       "      <td>1507.0</td>\n",
       "      <td>Thursday</td>\n",
       "      <td>12.0</td>\n",
       "      <td>1507.0</td>\n",
       "    </tr>\n",
       "  </tbody>\n",
       "</table>\n",
       "</div>"
      ],
      "text/plain": [
       "  TicketNumber Client      Staff Source                         Title  \\\n",
       "1      T955496   User  ITSupport  Email          Need Ethernet access   \n",
       "2     IT413956   User  ITSupport  Email              Need a LAN Cable   \n",
       "3     IT413444   User  ITSupport  Email       Need a laptop Conector.   \n",
       "4     IT413923   User  ITSupport  Email                  Need a mouse   \n",
       "5     IT413990   User  ITSupport  Email  Mouse replacement is needed.   \n",
       "\n",
       "                                          Resolution           HelpTopic  \\\n",
       "1  Please connect the LAN cable to the red port o...  Network & Wireless   \n",
       "2                Please come to IT desk and collect.         Accessories   \n",
       "3                Please come to IT desk and collect.         Accessories   \n",
       "4  hello Raj Ganpur<br /><br />please come to It ...         Accessories   \n",
       "5  hello Raj Ganpur<br /><br />we are replaced th...         Accessories   \n",
       "\n",
       "              DataOn         ClosedDate       ModifiedDate KYC  \\\n",
       "1  12/17/15 12:00 PM  12/17/15 01:02 PM  12/17/15 12:59 PM  YY   \n",
       "2   14-12-2017 12:06   15-12-2017 13:13   14-12-2017 12:42   N   \n",
       "3   14-12-2017 12:06   15-12-2017 13:13   14-12-2017 13:44   N   \n",
       "4   14-12-2017 12:06   15-12-2017 13:13   15-12-2017 12:15   N   \n",
       "5   14-12-2017 12:06   15-12-2017 13:13   15-12-2017 13:13   N   \n",
       "\n",
       "          Date Opened         Closed Date       Modified Date  \\\n",
       "1 2015-12-17 12:00:00 2015-12-17 13:02:00 2015-12-17 12:59:00   \n",
       "2 2017-12-14 12:06:00 2017-12-15 13:13:00 2017-12-14 12:42:00   \n",
       "3 2017-12-14 12:06:00 2017-12-15 13:13:00 2017-12-14 13:44:00   \n",
       "4 2017-12-14 12:06:00 2017-12-15 13:13:00 2017-12-15 12:15:00   \n",
       "5 2017-12-14 12:06:00 2017-12-15 13:13:00 2017-12-15 13:13:00   \n",
       "\n",
       "   ResolutionDurationMins DayOfWeekOpened  TimeOfDayOpened  Ticket Age  \n",
       "1                    62.0        Thursday             12.0        62.0  \n",
       "2                  1507.0        Thursday             12.0      1507.0  \n",
       "3                  1507.0        Thursday             12.0      1507.0  \n",
       "4                  1507.0        Thursday             12.0      1507.0  \n",
       "5                  1507.0        Thursday             12.0      1507.0  "
      ]
     },
     "execution_count": 13,
     "metadata": {},
     "output_type": "execute_result"
    }
   ],
   "source": [
    "# Calculating 'Ticket Age' in minutes\n",
    "# For closed tickets, it's the duration from 'Date Opened' to 'Closed Date'\n",
    "# For open tickets, it's the duration from 'Date Opened' to the current time\n",
    "\n",
    "df['Ticket Age'] = df.apply(lambda row: ((row['Closed Date'] - row['Date Opened']).total_seconds() / 60)\n",
    "                            if pd.notnull(row['Closed Date']) \n",
    "                            else ((current_time - row['Date Opened']).total_seconds() / 60), axis=1)\n",
    "df.head()"
   ]
  },
  {
   "cell_type": "code",
   "execution_count": 16,
   "metadata": {},
   "outputs": [],
   "source": [
    "# Dropping rows with NaN values in specific columns to clean the data\n",
    "# Ensures that the dataset does not contain incomplete records in the specified columns\n",
    "\n",
    "columns_with_nans = ['KYC', 'Date Opened', 'Closed Date', 'Modified Date', \n",
    "                     'ResolutionDurationMins', 'DayOfWeekOpened', 'TimeOfDayOpened']\n",
    "\n",
    "# Drop rows where any of these columns have NaN values\n",
    "df = df.dropna(subset=columns_with_nans)\n"
   ]
  },
  {
   "cell_type": "code",
   "execution_count": 17,
   "metadata": {},
   "outputs": [
    {
     "data": {
      "text/plain": [
       "1     Please connect the LAN cable to the red port o...\n",
       "2                   Please come to IT desk and collect.\n",
       "3                   Please come to IT desk and collect.\n",
       "4     hello Raj Ganpur<br /><br />please come to It ...\n",
       "5     hello Raj Ganpur<br /><br />we are replaced th...\n",
       "6     Status changed from Open to Closed by Kumara S...\n",
       "7     We have reset the password and communicated to...\n",
       "8     Status changed from Open to Closed by Vinod Ku...\n",
       "9     Go to URL : accountsetup.com, Enter personal d...\n",
       "10    As you requested, we have enabled USB access o...\n",
       "11    Naga Appana &lt;nappana@abc.com&gt; via Email ...\n",
       "12               <div> <p class=MsoNormal\"><span>Hi Sam\n",
       "13    <div> <p class=MsoNormal\">Thanks for the updat...\n",
       "14             Ticket flagged as overdue by the system.\n",
       "15                      Please do need full<br /><br />\n",
       "16            could you please take care of the ticket.\n",
       "17    Hi Valli<br /><br />We have arranged the lapto...\n",
       "18                   Sent the followup request to Hazi.\n",
       "19    We have already created account and details ha...\n",
       "20    Account created and details sent to user's per...\n",
       "21    Go to URL : password.reset.com, Enter you logi...\n",
       "22    Go to URL : password.reset.com, Enter you logi...\n",
       "23                                               update\n",
       "24                         pls check and do the needful\n",
       "25             Ticket flagged as overdue by the system.\n",
       "27            Sent the follow up request to procurement\n",
       "28    order placed from procurement team, delivery i...\n",
       "29                      Still under procurement process\n",
       "30                      Still under procurement process\n",
       "31      received the battery, at now it is in KJ office\n",
       "33                 Resolved. Please check the same now.\n",
       "34    Go to URL : accountsetup.com, Enter personal d...\n",
       "35    We have reset the password and communicated to...\n",
       "40    Vamshi Tatiparthi &lt;vtatiparthi@abc.com&gt; ...\n",
       "41    PradeepKumar OV &lt;pvijayakumar@abc.com&gt; v...\n",
       "42              Ticket claimed by Pavan Kumar Thukuntla\n",
       "43    Received From: PradeepKumar OV &lt;pvijayakuma...\n",
       "44    <div style=font-size:10pt;color:#000000;font-f...\n",
       "45                <div style=font-size:12pt;color:rgb(0\n",
       "46    <div style=font-size:10pt;color:#000000;font-f...\n",
       "Name: Resolution, dtype: object"
      ]
     },
     "execution_count": 17,
     "metadata": {},
     "output_type": "execute_result"
    }
   ],
   "source": [
    "df.Resolution[:40]"
   ]
  },
  {
   "cell_type": "markdown",
   "metadata": {},
   "source": [
    "### <a id='toc1_2_4_'></a>[Natural Language Processing (NLP) ](#toc0_)"
   ]
  },
  {
   "cell_type": "markdown",
   "metadata": {},
   "source": [
    "***Text Summarization*** on our Resolutions - Automatically generate summaries of lengthy resolution texts. This can be beneficial for creating quick reports or summaries for management or for building a knowledge base.\n",
    "\n",
    "For example, we can create concise summaries of resolution descriptions for quick reference.  \n",
    "\n",
    "This block of NLP feature engineering code uses a text summarization model, specifically \"t5-small\", to process and condense the text in the 'Resolution' column of a DataFrame `df`. It defines a function `get_summary` to apply the summarization model to each text entry, handling empty or invalid texts and potential errors. The function is then applied to the 'Resolution' column to create a new column 'Resolution Summary', which contains the summarized text, enhancing the DataFrame with concise representations of longer text data."
   ]
  },
  {
   "cell_type": "code",
   "execution_count": 18,
   "metadata": {},
   "outputs": [
    {
     "name": "stderr",
     "output_type": "stream",
     "text": [
      "All PyTorch model weights were used when initializing TFT5ForConditionalGeneration.\n",
      "\n",
      "All the weights of TFT5ForConditionalGeneration were initialized from the PyTorch model.\n",
      "If your task is similar to the task the model of the checkpoint was trained on, you can already use TFT5ForConditionalGeneration for predictions without further training.\n",
      "Your max_length is set to 50, but your input_length is only 35. Since this is a summarization task, where outputs shorter than the input are typically wanted, you might consider decreasing max_length manually, e.g. summarizer('...', max_length=17)\n",
      "2024-01-18 10:08:02.643488: I external/local_xla/xla/service/service.cc:168] XLA service 0x7f82bdbe89c0 initialized for platform Host (this does not guarantee that XLA will be used). Devices:\n",
      "2024-01-18 10:08:02.643502: I external/local_xla/xla/service/service.cc:176]   StreamExecutor device (0): Host, Default Version\n",
      "2024-01-18 10:08:02.643699: I tensorflow/core/platform/cpu_feature_guard.cc:182] This TensorFlow binary is optimized to use available CPU instructions in performance-critical operations.\n",
      "To enable the following instructions: AVX2 FMA, in other operations, rebuild TensorFlow with the appropriate compiler flags.\n",
      "2024-01-18 10:08:02.648008: I tensorflow/compiler/mlir/tensorflow/utils/dump_mlir_util.cc:269] disabling MLIR crash reproducer, set env var `MLIR_CRASH_REPRODUCER_DIRECTORY` to enable.\n",
      "WARNING: All log messages before absl::InitializeLog() is called are written to STDERR\n",
      "I0000 00:00:1705601282.668711       1 device_compiler.h:186] Compiled cluster using XLA!  This line is logged at most once for the lifetime of the process.\n",
      "2024-01-18 10:08:02.669790: E external/local_xla/xla/stream_executor/stream_executor_internal.h:177] SetPriority unimplemented for this stream.\n",
      "Your max_length is set to 50, but your input_length is only 11. Since this is a summarization task, where outputs shorter than the input are typically wanted, you might consider decreasing max_length manually, e.g. summarizer('...', max_length=5)\n",
      "Your max_length is set to 50, but your input_length is only 11. Since this is a summarization task, where outputs shorter than the input are typically wanted, you might consider decreasing max_length manually, e.g. summarizer('...', max_length=5)\n",
      "Your max_length is set to 50, but your input_length is only 29. Since this is a summarization task, where outputs shorter than the input are typically wanted, you might consider decreasing max_length manually, e.g. summarizer('...', max_length=14)\n",
      "Your max_length is set to 50, but your input_length is only 17. Since this is a summarization task, where outputs shorter than the input are typically wanted, you might consider decreasing max_length manually, e.g. summarizer('...', max_length=8)\n",
      "Your max_length is set to 50, but your input_length is only 20. Since this is a summarization task, where outputs shorter than the input are typically wanted, you might consider decreasing max_length manually, e.g. summarizer('...', max_length=10)\n",
      "Your max_length is set to 50, but your input_length is only 37. Since this is a summarization task, where outputs shorter than the input are typically wanted, you might consider decreasing max_length manually, e.g. summarizer('...', max_length=18)\n",
      "Your max_length is set to 50, but your input_length is only 22. Since this is a summarization task, where outputs shorter than the input are typically wanted, you might consider decreasing max_length manually, e.g. summarizer('...', max_length=11)\n",
      "Your max_length is set to 50, but your input_length is only 25. Since this is a summarization task, where outputs shorter than the input are typically wanted, you might consider decreasing max_length manually, e.g. summarizer('...', max_length=12)\n",
      "Your max_length is set to 50, but your input_length is only 15. Since this is a summarization task, where outputs shorter than the input are typically wanted, you might consider decreasing max_length manually, e.g. summarizer('...', max_length=7)\n",
      "Your max_length is set to 50, but your input_length is only 19. Since this is a summarization task, where outputs shorter than the input are typically wanted, you might consider decreasing max_length manually, e.g. summarizer('...', max_length=9)\n",
      "Your max_length is set to 50, but your input_length is only 12. Since this is a summarization task, where outputs shorter than the input are typically wanted, you might consider decreasing max_length manually, e.g. summarizer('...', max_length=6)\n",
      "Your max_length is set to 50, but your input_length is only 13. Since this is a summarization task, where outputs shorter than the input are typically wanted, you might consider decreasing max_length manually, e.g. summarizer('...', max_length=6)\n",
      "Your max_length is set to 50, but your input_length is only 18. Since this is a summarization task, where outputs shorter than the input are typically wanted, you might consider decreasing max_length manually, e.g. summarizer('...', max_length=9)\n",
      "Your max_length is set to 50, but your input_length is only 15. Since this is a summarization task, where outputs shorter than the input are typically wanted, you might consider decreasing max_length manually, e.g. summarizer('...', max_length=7)\n",
      "Your max_length is set to 50, but your input_length is only 29. Since this is a summarization task, where outputs shorter than the input are typically wanted, you might consider decreasing max_length manually, e.g. summarizer('...', max_length=14)\n",
      "Your max_length is set to 50, but your input_length is only 29. Since this is a summarization task, where outputs shorter than the input are typically wanted, you might consider decreasing max_length manually, e.g. summarizer('...', max_length=14)\n",
      "Your max_length is set to 50, but your input_length is only 4. Since this is a summarization task, where outputs shorter than the input are typically wanted, you might consider decreasing max_length manually, e.g. summarizer('...', max_length=2)\n",
      "Your max_length is set to 50, but your input_length is only 11. Since this is a summarization task, where outputs shorter than the input are typically wanted, you might consider decreasing max_length manually, e.g. summarizer('...', max_length=5)\n",
      "Your max_length is set to 50, but your input_length is only 15. Since this is a summarization task, where outputs shorter than the input are typically wanted, you might consider decreasing max_length manually, e.g. summarizer('...', max_length=7)\n",
      "Your max_length is set to 50, but your input_length is only 11. Since this is a summarization task, where outputs shorter than the input are typically wanted, you might consider decreasing max_length manually, e.g. summarizer('...', max_length=5)\n",
      "Your max_length is set to 50, but your input_length is only 14. Since this is a summarization task, where outputs shorter than the input are typically wanted, you might consider decreasing max_length manually, e.g. summarizer('...', max_length=7)\n",
      "Your max_length is set to 50, but your input_length is only 7. Since this is a summarization task, where outputs shorter than the input are typically wanted, you might consider decreasing max_length manually, e.g. summarizer('...', max_length=3)\n",
      "Your max_length is set to 50, but your input_length is only 7. Since this is a summarization task, where outputs shorter than the input are typically wanted, you might consider decreasing max_length manually, e.g. summarizer('...', max_length=3)\n",
      "Your max_length is set to 50, but your input_length is only 15. Since this is a summarization task, where outputs shorter than the input are typically wanted, you might consider decreasing max_length manually, e.g. summarizer('...', max_length=7)\n",
      "Your max_length is set to 50, but your input_length is only 14. Since this is a summarization task, where outputs shorter than the input are typically wanted, you might consider decreasing max_length manually, e.g. summarizer('...', max_length=7)\n",
      "Your max_length is set to 50, but your input_length is only 37. Since this is a summarization task, where outputs shorter than the input are typically wanted, you might consider decreasing max_length manually, e.g. summarizer('...', max_length=18)\n",
      "Your max_length is set to 50, but your input_length is only 33. Since this is a summarization task, where outputs shorter than the input are typically wanted, you might consider decreasing max_length manually, e.g. summarizer('...', max_length=16)\n",
      "Your max_length is set to 50, but your input_length is only 15. Since this is a summarization task, where outputs shorter than the input are typically wanted, you might consider decreasing max_length manually, e.g. summarizer('...', max_length=7)\n",
      "Your max_length is set to 50, but your input_length is only 31. Since this is a summarization task, where outputs shorter than the input are typically wanted, you might consider decreasing max_length manually, e.g. summarizer('...', max_length=15)\n",
      "Your max_length is set to 50, but your input_length is only 24. Since this is a summarization task, where outputs shorter than the input are typically wanted, you might consider decreasing max_length manually, e.g. summarizer('...', max_length=12)\n",
      "Your max_length is set to 50, but your input_length is only 31. Since this is a summarization task, where outputs shorter than the input are typically wanted, you might consider decreasing max_length manually, e.g. summarizer('...', max_length=15)\n",
      "Your max_length is set to 50, but your input_length is only 36. Since this is a summarization task, where outputs shorter than the input are typically wanted, you might consider decreasing max_length manually, e.g. summarizer('...', max_length=18)\n",
      "Your max_length is set to 50, but your input_length is only 19. Since this is a summarization task, where outputs shorter than the input are typically wanted, you might consider decreasing max_length manually, e.g. summarizer('...', max_length=9)\n",
      "Your max_length is set to 50, but your input_length is only 9. Since this is a summarization task, where outputs shorter than the input are typically wanted, you might consider decreasing max_length manually, e.g. summarizer('...', max_length=4)\n",
      "Your max_length is set to 50, but your input_length is only 15. Since this is a summarization task, where outputs shorter than the input are typically wanted, you might consider decreasing max_length manually, e.g. summarizer('...', max_length=7)\n",
      "Your max_length is set to 50, but your input_length is only 9. Since this is a summarization task, where outputs shorter than the input are typically wanted, you might consider decreasing max_length manually, e.g. summarizer('...', max_length=4)\n",
      "Your max_length is set to 50, but your input_length is only 11. Since this is a summarization task, where outputs shorter than the input are typically wanted, you might consider decreasing max_length manually, e.g. summarizer('...', max_length=5)\n",
      "Your max_length is set to 50, but your input_length is only 6. Since this is a summarization task, where outputs shorter than the input are typically wanted, you might consider decreasing max_length manually, e.g. summarizer('...', max_length=3)\n",
      "Your max_length is set to 50, but your input_length is only 15. Since this is a summarization task, where outputs shorter than the input are typically wanted, you might consider decreasing max_length manually, e.g. summarizer('...', max_length=7)\n",
      "Your max_length is set to 50, but your input_length is only 15. Since this is a summarization task, where outputs shorter than the input are typically wanted, you might consider decreasing max_length manually, e.g. summarizer('...', max_length=7)\n",
      "Your max_length is set to 50, but your input_length is only 15. Since this is a summarization task, where outputs shorter than the input are typically wanted, you might consider decreasing max_length manually, e.g. summarizer('...', max_length=7)\n",
      "Your max_length is set to 50, but your input_length is only 15. Since this is a summarization task, where outputs shorter than the input are typically wanted, you might consider decreasing max_length manually, e.g. summarizer('...', max_length=7)\n",
      "Your max_length is set to 50, but your input_length is only 15. Since this is a summarization task, where outputs shorter than the input are typically wanted, you might consider decreasing max_length manually, e.g. summarizer('...', max_length=7)\n",
      "Your max_length is set to 50, but your input_length is only 19. Since this is a summarization task, where outputs shorter than the input are typically wanted, you might consider decreasing max_length manually, e.g. summarizer('...', max_length=9)\n",
      "Your max_length is set to 50, but your input_length is only 15. Since this is a summarization task, where outputs shorter than the input are typically wanted, you might consider decreasing max_length manually, e.g. summarizer('...', max_length=7)\n",
      "Your max_length is set to 50, but your input_length is only 8. Since this is a summarization task, where outputs shorter than the input are typically wanted, you might consider decreasing max_length manually, e.g. summarizer('...', max_length=4)\n",
      "Your max_length is set to 50, but your input_length is only 15. Since this is a summarization task, where outputs shorter than the input are typically wanted, you might consider decreasing max_length manually, e.g. summarizer('...', max_length=7)\n",
      "Your max_length is set to 50, but your input_length is only 7. Since this is a summarization task, where outputs shorter than the input are typically wanted, you might consider decreasing max_length manually, e.g. summarizer('...', max_length=3)\n",
      "Your max_length is set to 50, but your input_length is only 14. Since this is a summarization task, where outputs shorter than the input are typically wanted, you might consider decreasing max_length manually, e.g. summarizer('...', max_length=7)\n",
      "Your max_length is set to 50, but your input_length is only 7. Since this is a summarization task, where outputs shorter than the input are typically wanted, you might consider decreasing max_length manually, e.g. summarizer('...', max_length=3)\n",
      "Your max_length is set to 50, but your input_length is only 14. Since this is a summarization task, where outputs shorter than the input are typically wanted, you might consider decreasing max_length manually, e.g. summarizer('...', max_length=7)\n",
      "Your max_length is set to 50, but your input_length is only 8. Since this is a summarization task, where outputs shorter than the input are typically wanted, you might consider decreasing max_length manually, e.g. summarizer('...', max_length=4)\n",
      "Your max_length is set to 50, but your input_length is only 37. Since this is a summarization task, where outputs shorter than the input are typically wanted, you might consider decreasing max_length manually, e.g. summarizer('...', max_length=18)\n",
      "Your max_length is set to 50, but your input_length is only 16. Since this is a summarization task, where outputs shorter than the input are typically wanted, you might consider decreasing max_length manually, e.g. summarizer('...', max_length=8)\n",
      "Your max_length is set to 50, but your input_length is only 47. Since this is a summarization task, where outputs shorter than the input are typically wanted, you might consider decreasing max_length manually, e.g. summarizer('...', max_length=23)\n",
      "Your max_length is set to 50, but your input_length is only 49. Since this is a summarization task, where outputs shorter than the input are typically wanted, you might consider decreasing max_length manually, e.g. summarizer('...', max_length=24)\n",
      "Your max_length is set to 50, but your input_length is only 7. Since this is a summarization task, where outputs shorter than the input are typically wanted, you might consider decreasing max_length manually, e.g. summarizer('...', max_length=3)\n",
      "Your max_length is set to 50, but your input_length is only 7. Since this is a summarization task, where outputs shorter than the input are typically wanted, you might consider decreasing max_length manually, e.g. summarizer('...', max_length=3)\n",
      "Your max_length is set to 50, but your input_length is only 15. Since this is a summarization task, where outputs shorter than the input are typically wanted, you might consider decreasing max_length manually, e.g. summarizer('...', max_length=7)\n",
      "Your max_length is set to 50, but your input_length is only 34. Since this is a summarization task, where outputs shorter than the input are typically wanted, you might consider decreasing max_length manually, e.g. summarizer('...', max_length=17)\n",
      "Your max_length is set to 50, but your input_length is only 14. Since this is a summarization task, where outputs shorter than the input are typically wanted, you might consider decreasing max_length manually, e.g. summarizer('...', max_length=7)\n",
      "Your max_length is set to 50, but your input_length is only 15. Since this is a summarization task, where outputs shorter than the input are typically wanted, you might consider decreasing max_length manually, e.g. summarizer('...', max_length=7)\n",
      "Your max_length is set to 50, but your input_length is only 8. Since this is a summarization task, where outputs shorter than the input are typically wanted, you might consider decreasing max_length manually, e.g. summarizer('...', max_length=4)\n",
      "Your max_length is set to 50, but your input_length is only 16. Since this is a summarization task, where outputs shorter than the input are typically wanted, you might consider decreasing max_length manually, e.g. summarizer('...', max_length=8)\n",
      "Your max_length is set to 50, but your input_length is only 27. Since this is a summarization task, where outputs shorter than the input are typically wanted, you might consider decreasing max_length manually, e.g. summarizer('...', max_length=13)\n",
      "Your max_length is set to 50, but your input_length is only 33. Since this is a summarization task, where outputs shorter than the input are typically wanted, you might consider decreasing max_length manually, e.g. summarizer('...', max_length=16)\n",
      "Your max_length is set to 50, but your input_length is only 15. Since this is a summarization task, where outputs shorter than the input are typically wanted, you might consider decreasing max_length manually, e.g. summarizer('...', max_length=7)\n",
      "Your max_length is set to 50, but your input_length is only 30. Since this is a summarization task, where outputs shorter than the input are typically wanted, you might consider decreasing max_length manually, e.g. summarizer('...', max_length=15)\n",
      "Your max_length is set to 50, but your input_length is only 31. Since this is a summarization task, where outputs shorter than the input are typically wanted, you might consider decreasing max_length manually, e.g. summarizer('...', max_length=15)\n",
      "Your max_length is set to 50, but your input_length is only 36. Since this is a summarization task, where outputs shorter than the input are typically wanted, you might consider decreasing max_length manually, e.g. summarizer('...', max_length=18)\n",
      "Your max_length is set to 50, but your input_length is only 19. Since this is a summarization task, where outputs shorter than the input are typically wanted, you might consider decreasing max_length manually, e.g. summarizer('...', max_length=9)\n",
      "Your max_length is set to 50, but your input_length is only 15. Since this is a summarization task, where outputs shorter than the input are typically wanted, you might consider decreasing max_length manually, e.g. summarizer('...', max_length=7)\n",
      "Your max_length is set to 50, but your input_length is only 20. Since this is a summarization task, where outputs shorter than the input are typically wanted, you might consider decreasing max_length manually, e.g. summarizer('...', max_length=10)\n",
      "Your max_length is set to 50, but your input_length is only 16. Since this is a summarization task, where outputs shorter than the input are typically wanted, you might consider decreasing max_length manually, e.g. summarizer('...', max_length=8)\n",
      "Your max_length is set to 50, but your input_length is only 13. Since this is a summarization task, where outputs shorter than the input are typically wanted, you might consider decreasing max_length manually, e.g. summarizer('...', max_length=6)\n",
      "Your max_length is set to 50, but your input_length is only 23. Since this is a summarization task, where outputs shorter than the input are typically wanted, you might consider decreasing max_length manually, e.g. summarizer('...', max_length=11)\n",
      "Your max_length is set to 50, but your input_length is only 41. Since this is a summarization task, where outputs shorter than the input are typically wanted, you might consider decreasing max_length manually, e.g. summarizer('...', max_length=20)\n",
      "Your max_length is set to 50, but your input_length is only 16. Since this is a summarization task, where outputs shorter than the input are typically wanted, you might consider decreasing max_length manually, e.g. summarizer('...', max_length=8)\n",
      "Your max_length is set to 50, but your input_length is only 22. Since this is a summarization task, where outputs shorter than the input are typically wanted, you might consider decreasing max_length manually, e.g. summarizer('...', max_length=11)\n",
      "Your max_length is set to 50, but your input_length is only 41. Since this is a summarization task, where outputs shorter than the input are typically wanted, you might consider decreasing max_length manually, e.g. summarizer('...', max_length=20)\n",
      "Your max_length is set to 50, but your input_length is only 34. Since this is a summarization task, where outputs shorter than the input are typically wanted, you might consider decreasing max_length manually, e.g. summarizer('...', max_length=17)\n",
      "Your max_length is set to 50, but your input_length is only 16. Since this is a summarization task, where outputs shorter than the input are typically wanted, you might consider decreasing max_length manually, e.g. summarizer('...', max_length=8)\n",
      "Your max_length is set to 50, but your input_length is only 14. Since this is a summarization task, where outputs shorter than the input are typically wanted, you might consider decreasing max_length manually, e.g. summarizer('...', max_length=7)\n",
      "Your max_length is set to 50, but your input_length is only 37. Since this is a summarization task, where outputs shorter than the input are typically wanted, you might consider decreasing max_length manually, e.g. summarizer('...', max_length=18)\n",
      "Your max_length is set to 50, but your input_length is only 16. Since this is a summarization task, where outputs shorter than the input are typically wanted, you might consider decreasing max_length manually, e.g. summarizer('...', max_length=8)\n",
      "Your max_length is set to 50, but your input_length is only 16. Since this is a summarization task, where outputs shorter than the input are typically wanted, you might consider decreasing max_length manually, e.g. summarizer('...', max_length=8)\n",
      "Your max_length is set to 50, but your input_length is only 22. Since this is a summarization task, where outputs shorter than the input are typically wanted, you might consider decreasing max_length manually, e.g. summarizer('...', max_length=11)\n",
      "Your max_length is set to 50, but your input_length is only 41. Since this is a summarization task, where outputs shorter than the input are typically wanted, you might consider decreasing max_length manually, e.g. summarizer('...', max_length=20)\n",
      "Your max_length is set to 50, but your input_length is only 24. Since this is a summarization task, where outputs shorter than the input are typically wanted, you might consider decreasing max_length manually, e.g. summarizer('...', max_length=12)\n",
      "Your max_length is set to 50, but your input_length is only 6. Since this is a summarization task, where outputs shorter than the input are typically wanted, you might consider decreasing max_length manually, e.g. summarizer('...', max_length=3)\n",
      "Your max_length is set to 50, but your input_length is only 14. Since this is a summarization task, where outputs shorter than the input are typically wanted, you might consider decreasing max_length manually, e.g. summarizer('...', max_length=7)\n",
      "Your max_length is set to 50, but your input_length is only 15. Since this is a summarization task, where outputs shorter than the input are typically wanted, you might consider decreasing max_length manually, e.g. summarizer('...', max_length=7)\n",
      "Your max_length is set to 50, but your input_length is only 20. Since this is a summarization task, where outputs shorter than the input are typically wanted, you might consider decreasing max_length manually, e.g. summarizer('...', max_length=10)\n",
      "Your max_length is set to 50, but your input_length is only 26. Since this is a summarization task, where outputs shorter than the input are typically wanted, you might consider decreasing max_length manually, e.g. summarizer('...', max_length=13)\n",
      "Your max_length is set to 50, but your input_length is only 16. Since this is a summarization task, where outputs shorter than the input are typically wanted, you might consider decreasing max_length manually, e.g. summarizer('...', max_length=8)\n",
      "Your max_length is set to 50, but your input_length is only 15. Since this is a summarization task, where outputs shorter than the input are typically wanted, you might consider decreasing max_length manually, e.g. summarizer('...', max_length=7)\n",
      "Your max_length is set to 50, but your input_length is only 18. Since this is a summarization task, where outputs shorter than the input are typically wanted, you might consider decreasing max_length manually, e.g. summarizer('...', max_length=9)\n",
      "Your max_length is set to 50, but your input_length is only 22. Since this is a summarization task, where outputs shorter than the input are typically wanted, you might consider decreasing max_length manually, e.g. summarizer('...', max_length=11)\n",
      "Your max_length is set to 50, but your input_length is only 7. Since this is a summarization task, where outputs shorter than the input are typically wanted, you might consider decreasing max_length manually, e.g. summarizer('...', max_length=3)\n",
      "Your max_length is set to 50, but your input_length is only 18. Since this is a summarization task, where outputs shorter than the input are typically wanted, you might consider decreasing max_length manually, e.g. summarizer('...', max_length=9)\n",
      "Your max_length is set to 50, but your input_length is only 6. Since this is a summarization task, where outputs shorter than the input are typically wanted, you might consider decreasing max_length manually, e.g. summarizer('...', max_length=3)\n",
      "Your max_length is set to 50, but your input_length is only 21. Since this is a summarization task, where outputs shorter than the input are typically wanted, you might consider decreasing max_length manually, e.g. summarizer('...', max_length=10)\n",
      "Your max_length is set to 50, but your input_length is only 27. Since this is a summarization task, where outputs shorter than the input are typically wanted, you might consider decreasing max_length manually, e.g. summarizer('...', max_length=13)\n",
      "Your max_length is set to 50, but your input_length is only 42. Since this is a summarization task, where outputs shorter than the input are typically wanted, you might consider decreasing max_length manually, e.g. summarizer('...', max_length=21)\n",
      "Your max_length is set to 50, but your input_length is only 14. Since this is a summarization task, where outputs shorter than the input are typically wanted, you might consider decreasing max_length manually, e.g. summarizer('...', max_length=7)\n",
      "Your max_length is set to 50, but your input_length is only 41. Since this is a summarization task, where outputs shorter than the input are typically wanted, you might consider decreasing max_length manually, e.g. summarizer('...', max_length=20)\n",
      "Your max_length is set to 50, but your input_length is only 18. Since this is a summarization task, where outputs shorter than the input are typically wanted, you might consider decreasing max_length manually, e.g. summarizer('...', max_length=9)\n",
      "Your max_length is set to 50, but your input_length is only 8. Since this is a summarization task, where outputs shorter than the input are typically wanted, you might consider decreasing max_length manually, e.g. summarizer('...', max_length=4)\n",
      "Your max_length is set to 50, but your input_length is only 19. Since this is a summarization task, where outputs shorter than the input are typically wanted, you might consider decreasing max_length manually, e.g. summarizer('...', max_length=9)\n",
      "Your max_length is set to 50, but your input_length is only 41. Since this is a summarization task, where outputs shorter than the input are typically wanted, you might consider decreasing max_length manually, e.g. summarizer('...', max_length=20)\n",
      "Your max_length is set to 50, but your input_length is only 24. Since this is a summarization task, where outputs shorter than the input are typically wanted, you might consider decreasing max_length manually, e.g. summarizer('...', max_length=12)\n",
      "Your max_length is set to 50, but your input_length is only 11. Since this is a summarization task, where outputs shorter than the input are typically wanted, you might consider decreasing max_length manually, e.g. summarizer('...', max_length=5)\n",
      "Your max_length is set to 50, but your input_length is only 17. Since this is a summarization task, where outputs shorter than the input are typically wanted, you might consider decreasing max_length manually, e.g. summarizer('...', max_length=8)\n",
      "Your max_length is set to 50, but your input_length is only 9. Since this is a summarization task, where outputs shorter than the input are typically wanted, you might consider decreasing max_length manually, e.g. summarizer('...', max_length=4)\n",
      "Your max_length is set to 50, but your input_length is only 15. Since this is a summarization task, where outputs shorter than the input are typically wanted, you might consider decreasing max_length manually, e.g. summarizer('...', max_length=7)\n",
      "Your max_length is set to 50, but your input_length is only 17. Since this is a summarization task, where outputs shorter than the input are typically wanted, you might consider decreasing max_length manually, e.g. summarizer('...', max_length=8)\n",
      "Your max_length is set to 50, but your input_length is only 16. Since this is a summarization task, where outputs shorter than the input are typically wanted, you might consider decreasing max_length manually, e.g. summarizer('...', max_length=8)\n",
      "Your max_length is set to 50, but your input_length is only 37. Since this is a summarization task, where outputs shorter than the input are typically wanted, you might consider decreasing max_length manually, e.g. summarizer('...', max_length=18)\n",
      "Your max_length is set to 50, but your input_length is only 16. Since this is a summarization task, where outputs shorter than the input are typically wanted, you might consider decreasing max_length manually, e.g. summarizer('...', max_length=8)\n",
      "Your max_length is set to 50, but your input_length is only 16. Since this is a summarization task, where outputs shorter than the input are typically wanted, you might consider decreasing max_length manually, e.g. summarizer('...', max_length=8)\n",
      "Your max_length is set to 50, but your input_length is only 34. Since this is a summarization task, where outputs shorter than the input are typically wanted, you might consider decreasing max_length manually, e.g. summarizer('...', max_length=17)\n",
      "Your max_length is set to 50, but your input_length is only 20. Since this is a summarization task, where outputs shorter than the input are typically wanted, you might consider decreasing max_length manually, e.g. summarizer('...', max_length=10)\n",
      "Your max_length is set to 50, but your input_length is only 14. Since this is a summarization task, where outputs shorter than the input are typically wanted, you might consider decreasing max_length manually, e.g. summarizer('...', max_length=7)\n",
      "Your max_length is set to 50, but your input_length is only 33. Since this is a summarization task, where outputs shorter than the input are typically wanted, you might consider decreasing max_length manually, e.g. summarizer('...', max_length=16)\n",
      "Your max_length is set to 50, but your input_length is only 32. Since this is a summarization task, where outputs shorter than the input are typically wanted, you might consider decreasing max_length manually, e.g. summarizer('...', max_length=16)\n",
      "Your max_length is set to 50, but your input_length is only 47. Since this is a summarization task, where outputs shorter than the input are typically wanted, you might consider decreasing max_length manually, e.g. summarizer('...', max_length=23)\n",
      "Your max_length is set to 50, but your input_length is only 46. Since this is a summarization task, where outputs shorter than the input are typically wanted, you might consider decreasing max_length manually, e.g. summarizer('...', max_length=23)\n",
      "Your max_length is set to 50, but your input_length is only 11. Since this is a summarization task, where outputs shorter than the input are typically wanted, you might consider decreasing max_length manually, e.g. summarizer('...', max_length=5)\n",
      "Your max_length is set to 50, but your input_length is only 6. Since this is a summarization task, where outputs shorter than the input are typically wanted, you might consider decreasing max_length manually, e.g. summarizer('...', max_length=3)\n",
      "Your max_length is set to 50, but your input_length is only 20. Since this is a summarization task, where outputs shorter than the input are typically wanted, you might consider decreasing max_length manually, e.g. summarizer('...', max_length=10)\n",
      "Your max_length is set to 50, but your input_length is only 49. Since this is a summarization task, where outputs shorter than the input are typically wanted, you might consider decreasing max_length manually, e.g. summarizer('...', max_length=24)\n",
      "Your max_length is set to 50, but your input_length is only 17. Since this is a summarization task, where outputs shorter than the input are typically wanted, you might consider decreasing max_length manually, e.g. summarizer('...', max_length=8)\n",
      "Your max_length is set to 50, but your input_length is only 21. Since this is a summarization task, where outputs shorter than the input are typically wanted, you might consider decreasing max_length manually, e.g. summarizer('...', max_length=10)\n",
      "Your max_length is set to 50, but your input_length is only 21. Since this is a summarization task, where outputs shorter than the input are typically wanted, you might consider decreasing max_length manually, e.g. summarizer('...', max_length=10)\n",
      "Your max_length is set to 50, but your input_length is only 36. Since this is a summarization task, where outputs shorter than the input are typically wanted, you might consider decreasing max_length manually, e.g. summarizer('...', max_length=18)\n",
      "Your max_length is set to 50, but your input_length is only 16. Since this is a summarization task, where outputs shorter than the input are typically wanted, you might consider decreasing max_length manually, e.g. summarizer('...', max_length=8)\n",
      "Your max_length is set to 50, but your input_length is only 9. Since this is a summarization task, where outputs shorter than the input are typically wanted, you might consider decreasing max_length manually, e.g. summarizer('...', max_length=4)\n",
      "Your max_length is set to 50, but your input_length is only 15. Since this is a summarization task, where outputs shorter than the input are typically wanted, you might consider decreasing max_length manually, e.g. summarizer('...', max_length=7)\n",
      "Your max_length is set to 50, but your input_length is only 27. Since this is a summarization task, where outputs shorter than the input are typically wanted, you might consider decreasing max_length manually, e.g. summarizer('...', max_length=13)\n",
      "Your max_length is set to 50, but your input_length is only 37. Since this is a summarization task, where outputs shorter than the input are typically wanted, you might consider decreasing max_length manually, e.g. summarizer('...', max_length=18)\n",
      "Your max_length is set to 50, but your input_length is only 21. Since this is a summarization task, where outputs shorter than the input are typically wanted, you might consider decreasing max_length manually, e.g. summarizer('...', max_length=10)\n",
      "Your max_length is set to 50, but your input_length is only 27. Since this is a summarization task, where outputs shorter than the input are typically wanted, you might consider decreasing max_length manually, e.g. summarizer('...', max_length=13)\n",
      "Your max_length is set to 50, but your input_length is only 32. Since this is a summarization task, where outputs shorter than the input are typically wanted, you might consider decreasing max_length manually, e.g. summarizer('...', max_length=16)\n",
      "Your max_length is set to 50, but your input_length is only 15. Since this is a summarization task, where outputs shorter than the input are typically wanted, you might consider decreasing max_length manually, e.g. summarizer('...', max_length=7)\n",
      "Your max_length is set to 50, but your input_length is only 9. Since this is a summarization task, where outputs shorter than the input are typically wanted, you might consider decreasing max_length manually, e.g. summarizer('...', max_length=4)\n",
      "Your max_length is set to 50, but your input_length is only 16. Since this is a summarization task, where outputs shorter than the input are typically wanted, you might consider decreasing max_length manually, e.g. summarizer('...', max_length=8)\n",
      "Your max_length is set to 50, but your input_length is only 15. Since this is a summarization task, where outputs shorter than the input are typically wanted, you might consider decreasing max_length manually, e.g. summarizer('...', max_length=7)\n",
      "Your max_length is set to 50, but your input_length is only 15. Since this is a summarization task, where outputs shorter than the input are typically wanted, you might consider decreasing max_length manually, e.g. summarizer('...', max_length=7)\n",
      "Your max_length is set to 50, but your input_length is only 15. Since this is a summarization task, where outputs shorter than the input are typically wanted, you might consider decreasing max_length manually, e.g. summarizer('...', max_length=7)\n",
      "Your max_length is set to 50, but your input_length is only 8. Since this is a summarization task, where outputs shorter than the input are typically wanted, you might consider decreasing max_length manually, e.g. summarizer('...', max_length=4)\n",
      "Your max_length is set to 50, but your input_length is only 21. Since this is a summarization task, where outputs shorter than the input are typically wanted, you might consider decreasing max_length manually, e.g. summarizer('...', max_length=10)\n",
      "Your max_length is set to 50, but your input_length is only 15. Since this is a summarization task, where outputs shorter than the input are typically wanted, you might consider decreasing max_length manually, e.g. summarizer('...', max_length=7)\n",
      "Your max_length is set to 50, but your input_length is only 15. Since this is a summarization task, where outputs shorter than the input are typically wanted, you might consider decreasing max_length manually, e.g. summarizer('...', max_length=7)\n",
      "Your max_length is set to 50, but your input_length is only 38. Since this is a summarization task, where outputs shorter than the input are typically wanted, you might consider decreasing max_length manually, e.g. summarizer('...', max_length=19)\n",
      "Your max_length is set to 50, but your input_length is only 21. Since this is a summarization task, where outputs shorter than the input are typically wanted, you might consider decreasing max_length manually, e.g. summarizer('...', max_length=10)\n",
      "Your max_length is set to 50, but your input_length is only 15. Since this is a summarization task, where outputs shorter than the input are typically wanted, you might consider decreasing max_length manually, e.g. summarizer('...', max_length=7)\n",
      "Your max_length is set to 50, but your input_length is only 11. Since this is a summarization task, where outputs shorter than the input are typically wanted, you might consider decreasing max_length manually, e.g. summarizer('...', max_length=5)\n",
      "Your max_length is set to 50, but your input_length is only 19. Since this is a summarization task, where outputs shorter than the input are typically wanted, you might consider decreasing max_length manually, e.g. summarizer('...', max_length=9)\n",
      "Your max_length is set to 50, but your input_length is only 12. Since this is a summarization task, where outputs shorter than the input are typically wanted, you might consider decreasing max_length manually, e.g. summarizer('...', max_length=6)\n",
      "Your max_length is set to 50, but your input_length is only 31. Since this is a summarization task, where outputs shorter than the input are typically wanted, you might consider decreasing max_length manually, e.g. summarizer('...', max_length=15)\n",
      "Your max_length is set to 50, but your input_length is only 31. Since this is a summarization task, where outputs shorter than the input are typically wanted, you might consider decreasing max_length manually, e.g. summarizer('...', max_length=15)\n",
      "Your max_length is set to 50, but your input_length is only 15. Since this is a summarization task, where outputs shorter than the input are typically wanted, you might consider decreasing max_length manually, e.g. summarizer('...', max_length=7)\n",
      "Your max_length is set to 50, but your input_length is only 15. Since this is a summarization task, where outputs shorter than the input are typically wanted, you might consider decreasing max_length manually, e.g. summarizer('...', max_length=7)\n",
      "Your max_length is set to 50, but your input_length is only 19. Since this is a summarization task, where outputs shorter than the input are typically wanted, you might consider decreasing max_length manually, e.g. summarizer('...', max_length=9)\n",
      "Your max_length is set to 50, but your input_length is only 19. Since this is a summarization task, where outputs shorter than the input are typically wanted, you might consider decreasing max_length manually, e.g. summarizer('...', max_length=9)\n",
      "Your max_length is set to 50, but your input_length is only 38. Since this is a summarization task, where outputs shorter than the input are typically wanted, you might consider decreasing max_length manually, e.g. summarizer('...', max_length=19)\n",
      "Your max_length is set to 50, but your input_length is only 41. Since this is a summarization task, where outputs shorter than the input are typically wanted, you might consider decreasing max_length manually, e.g. summarizer('...', max_length=20)\n",
      "Your max_length is set to 50, but your input_length is only 11. Since this is a summarization task, where outputs shorter than the input are typically wanted, you might consider decreasing max_length manually, e.g. summarizer('...', max_length=5)\n",
      "Your max_length is set to 50, but your input_length is only 15. Since this is a summarization task, where outputs shorter than the input are typically wanted, you might consider decreasing max_length manually, e.g. summarizer('...', max_length=7)\n",
      "Your max_length is set to 50, but your input_length is only 15. Since this is a summarization task, where outputs shorter than the input are typically wanted, you might consider decreasing max_length manually, e.g. summarizer('...', max_length=7)\n",
      "Your max_length is set to 50, but your input_length is only 31. Since this is a summarization task, where outputs shorter than the input are typically wanted, you might consider decreasing max_length manually, e.g. summarizer('...', max_length=15)\n",
      "Your max_length is set to 50, but your input_length is only 12. Since this is a summarization task, where outputs shorter than the input are typically wanted, you might consider decreasing max_length manually, e.g. summarizer('...', max_length=6)\n",
      "Your max_length is set to 50, but your input_length is only 24. Since this is a summarization task, where outputs shorter than the input are typically wanted, you might consider decreasing max_length manually, e.g. summarizer('...', max_length=12)\n",
      "Your max_length is set to 50, but your input_length is only 7. Since this is a summarization task, where outputs shorter than the input are typically wanted, you might consider decreasing max_length manually, e.g. summarizer('...', max_length=3)\n",
      "Your max_length is set to 50, but your input_length is only 15. Since this is a summarization task, where outputs shorter than the input are typically wanted, you might consider decreasing max_length manually, e.g. summarizer('...', max_length=7)\n",
      "Your max_length is set to 50, but your input_length is only 31. Since this is a summarization task, where outputs shorter than the input are typically wanted, you might consider decreasing max_length manually, e.g. summarizer('...', max_length=15)\n",
      "Your max_length is set to 50, but your input_length is only 15. Since this is a summarization task, where outputs shorter than the input are typically wanted, you might consider decreasing max_length manually, e.g. summarizer('...', max_length=7)\n",
      "Your max_length is set to 50, but your input_length is only 15. Since this is a summarization task, where outputs shorter than the input are typically wanted, you might consider decreasing max_length manually, e.g. summarizer('...', max_length=7)\n",
      "Your max_length is set to 50, but your input_length is only 15. Since this is a summarization task, where outputs shorter than the input are typically wanted, you might consider decreasing max_length manually, e.g. summarizer('...', max_length=7)\n",
      "Your max_length is set to 50, but your input_length is only 10. Since this is a summarization task, where outputs shorter than the input are typically wanted, you might consider decreasing max_length manually, e.g. summarizer('...', max_length=5)\n",
      "Your max_length is set to 50, but your input_length is only 15. Since this is a summarization task, where outputs shorter than the input are typically wanted, you might consider decreasing max_length manually, e.g. summarizer('...', max_length=7)\n",
      "Your max_length is set to 50, but your input_length is only 21. Since this is a summarization task, where outputs shorter than the input are typically wanted, you might consider decreasing max_length manually, e.g. summarizer('...', max_length=10)\n",
      "Your max_length is set to 50, but your input_length is only 21. Since this is a summarization task, where outputs shorter than the input are typically wanted, you might consider decreasing max_length manually, e.g. summarizer('...', max_length=10)\n",
      "Your max_length is set to 50, but your input_length is only 31. Since this is a summarization task, where outputs shorter than the input are typically wanted, you might consider decreasing max_length manually, e.g. summarizer('...', max_length=15)\n",
      "Your max_length is set to 50, but your input_length is only 31. Since this is a summarization task, where outputs shorter than the input are typically wanted, you might consider decreasing max_length manually, e.g. summarizer('...', max_length=15)\n",
      "Your max_length is set to 50, but your input_length is only 10. Since this is a summarization task, where outputs shorter than the input are typically wanted, you might consider decreasing max_length manually, e.g. summarizer('...', max_length=5)\n",
      "Your max_length is set to 50, but your input_length is only 19. Since this is a summarization task, where outputs shorter than the input are typically wanted, you might consider decreasing max_length manually, e.g. summarizer('...', max_length=9)\n",
      "Your max_length is set to 50, but your input_length is only 35. Since this is a summarization task, where outputs shorter than the input are typically wanted, you might consider decreasing max_length manually, e.g. summarizer('...', max_length=17)\n",
      "Your max_length is set to 50, but your input_length is only 32. Since this is a summarization task, where outputs shorter than the input are typically wanted, you might consider decreasing max_length manually, e.g. summarizer('...', max_length=16)\n",
      "Your max_length is set to 50, but your input_length is only 11. Since this is a summarization task, where outputs shorter than the input are typically wanted, you might consider decreasing max_length manually, e.g. summarizer('...', max_length=5)\n",
      "Your max_length is set to 50, but your input_length is only 16. Since this is a summarization task, where outputs shorter than the input are typically wanted, you might consider decreasing max_length manually, e.g. summarizer('...', max_length=8)\n",
      "Your max_length is set to 50, but your input_length is only 16. Since this is a summarization task, where outputs shorter than the input are typically wanted, you might consider decreasing max_length manually, e.g. summarizer('...', max_length=8)\n",
      "Your max_length is set to 50, but your input_length is only 10. Since this is a summarization task, where outputs shorter than the input are typically wanted, you might consider decreasing max_length manually, e.g. summarizer('...', max_length=5)\n",
      "Your max_length is set to 50, but your input_length is only 35. Since this is a summarization task, where outputs shorter than the input are typically wanted, you might consider decreasing max_length manually, e.g. summarizer('...', max_length=17)\n",
      "Your max_length is set to 50, but your input_length is only 10. Since this is a summarization task, where outputs shorter than the input are typically wanted, you might consider decreasing max_length manually, e.g. summarizer('...', max_length=5)\n",
      "Your max_length is set to 50, but your input_length is only 20. Since this is a summarization task, where outputs shorter than the input are typically wanted, you might consider decreasing max_length manually, e.g. summarizer('...', max_length=10)\n",
      "Your max_length is set to 50, but your input_length is only 20. Since this is a summarization task, where outputs shorter than the input are typically wanted, you might consider decreasing max_length manually, e.g. summarizer('...', max_length=10)\n",
      "Your max_length is set to 50, but your input_length is only 33. Since this is a summarization task, where outputs shorter than the input are typically wanted, you might consider decreasing max_length manually, e.g. summarizer('...', max_length=16)\n",
      "Your max_length is set to 50, but your input_length is only 32. Since this is a summarization task, where outputs shorter than the input are typically wanted, you might consider decreasing max_length manually, e.g. summarizer('...', max_length=16)\n",
      "Your max_length is set to 50, but your input_length is only 33. Since this is a summarization task, where outputs shorter than the input are typically wanted, you might consider decreasing max_length manually, e.g. summarizer('...', max_length=16)\n",
      "Your max_length is set to 50, but your input_length is only 19. Since this is a summarization task, where outputs shorter than the input are typically wanted, you might consider decreasing max_length manually, e.g. summarizer('...', max_length=9)\n",
      "Your max_length is set to 50, but your input_length is only 6. Since this is a summarization task, where outputs shorter than the input are typically wanted, you might consider decreasing max_length manually, e.g. summarizer('...', max_length=3)\n",
      "Your max_length is set to 50, but your input_length is only 18. Since this is a summarization task, where outputs shorter than the input are typically wanted, you might consider decreasing max_length manually, e.g. summarizer('...', max_length=9)\n",
      "Your max_length is set to 50, but your input_length is only 19. Since this is a summarization task, where outputs shorter than the input are typically wanted, you might consider decreasing max_length manually, e.g. summarizer('...', max_length=9)\n",
      "Your max_length is set to 50, but your input_length is only 33. Since this is a summarization task, where outputs shorter than the input are typically wanted, you might consider decreasing max_length manually, e.g. summarizer('...', max_length=16)\n",
      "Your max_length is set to 50, but your input_length is only 15. Since this is a summarization task, where outputs shorter than the input are typically wanted, you might consider decreasing max_length manually, e.g. summarizer('...', max_length=7)\n",
      "Your max_length is set to 50, but your input_length is only 6. Since this is a summarization task, where outputs shorter than the input are typically wanted, you might consider decreasing max_length manually, e.g. summarizer('...', max_length=3)\n",
      "Your max_length is set to 50, but your input_length is only 18. Since this is a summarization task, where outputs shorter than the input are typically wanted, you might consider decreasing max_length manually, e.g. summarizer('...', max_length=9)\n",
      "Your max_length is set to 50, but your input_length is only 29. Since this is a summarization task, where outputs shorter than the input are typically wanted, you might consider decreasing max_length manually, e.g. summarizer('...', max_length=14)\n",
      "Your max_length is set to 50, but your input_length is only 17. Since this is a summarization task, where outputs shorter than the input are typically wanted, you might consider decreasing max_length manually, e.g. summarizer('...', max_length=8)\n",
      "Your max_length is set to 50, but your input_length is only 39. Since this is a summarization task, where outputs shorter than the input are typically wanted, you might consider decreasing max_length manually, e.g. summarizer('...', max_length=19)\n",
      "Your max_length is set to 50, but your input_length is only 9. Since this is a summarization task, where outputs shorter than the input are typically wanted, you might consider decreasing max_length manually, e.g. summarizer('...', max_length=4)\n",
      "Your max_length is set to 50, but your input_length is only 16. Since this is a summarization task, where outputs shorter than the input are typically wanted, you might consider decreasing max_length manually, e.g. summarizer('...', max_length=8)\n",
      "Your max_length is set to 50, but your input_length is only 17. Since this is a summarization task, where outputs shorter than the input are typically wanted, you might consider decreasing max_length manually, e.g. summarizer('...', max_length=8)\n",
      "Your max_length is set to 50, but your input_length is only 17. Since this is a summarization task, where outputs shorter than the input are typically wanted, you might consider decreasing max_length manually, e.g. summarizer('...', max_length=8)\n",
      "Your max_length is set to 50, but your input_length is only 7. Since this is a summarization task, where outputs shorter than the input are typically wanted, you might consider decreasing max_length manually, e.g. summarizer('...', max_length=3)\n",
      "Your max_length is set to 50, but your input_length is only 17. Since this is a summarization task, where outputs shorter than the input are typically wanted, you might consider decreasing max_length manually, e.g. summarizer('...', max_length=8)\n",
      "Your max_length is set to 50, but your input_length is only 29. Since this is a summarization task, where outputs shorter than the input are typically wanted, you might consider decreasing max_length manually, e.g. summarizer('...', max_length=14)\n",
      "Your max_length is set to 50, but your input_length is only 16. Since this is a summarization task, where outputs shorter than the input are typically wanted, you might consider decreasing max_length manually, e.g. summarizer('...', max_length=8)\n",
      "Your max_length is set to 50, but your input_length is only 17. Since this is a summarization task, where outputs shorter than the input are typically wanted, you might consider decreasing max_length manually, e.g. summarizer('...', max_length=8)\n",
      "Your max_length is set to 50, but your input_length is only 7. Since this is a summarization task, where outputs shorter than the input are typically wanted, you might consider decreasing max_length manually, e.g. summarizer('...', max_length=3)\n",
      "Your max_length is set to 50, but your input_length is only 32. Since this is a summarization task, where outputs shorter than the input are typically wanted, you might consider decreasing max_length manually, e.g. summarizer('...', max_length=16)\n",
      "Your max_length is set to 50, but your input_length is only 16. Since this is a summarization task, where outputs shorter than the input are typically wanted, you might consider decreasing max_length manually, e.g. summarizer('...', max_length=8)\n",
      "Your max_length is set to 50, but your input_length is only 15. Since this is a summarization task, where outputs shorter than the input are typically wanted, you might consider decreasing max_length manually, e.g. summarizer('...', max_length=7)\n",
      "Your max_length is set to 50, but your input_length is only 4. Since this is a summarization task, where outputs shorter than the input are typically wanted, you might consider decreasing max_length manually, e.g. summarizer('...', max_length=2)\n",
      "Your max_length is set to 50, but your input_length is only 11. Since this is a summarization task, where outputs shorter than the input are typically wanted, you might consider decreasing max_length manually, e.g. summarizer('...', max_length=5)\n",
      "Your max_length is set to 50, but your input_length is only 20. Since this is a summarization task, where outputs shorter than the input are typically wanted, you might consider decreasing max_length manually, e.g. summarizer('...', max_length=10)\n",
      "Your max_length is set to 50, but your input_length is only 6. Since this is a summarization task, where outputs shorter than the input are typically wanted, you might consider decreasing max_length manually, e.g. summarizer('...', max_length=3)\n",
      "Your max_length is set to 50, but your input_length is only 19. Since this is a summarization task, where outputs shorter than the input are typically wanted, you might consider decreasing max_length manually, e.g. summarizer('...', max_length=9)\n",
      "Your max_length is set to 50, but your input_length is only 4. Since this is a summarization task, where outputs shorter than the input are typically wanted, you might consider decreasing max_length manually, e.g. summarizer('...', max_length=2)\n",
      "Your max_length is set to 50, but your input_length is only 11. Since this is a summarization task, where outputs shorter than the input are typically wanted, you might consider decreasing max_length manually, e.g. summarizer('...', max_length=5)\n",
      "Your max_length is set to 50, but your input_length is only 29. Since this is a summarization task, where outputs shorter than the input are typically wanted, you might consider decreasing max_length manually, e.g. summarizer('...', max_length=14)\n",
      "Your max_length is set to 50, but your input_length is only 16. Since this is a summarization task, where outputs shorter than the input are typically wanted, you might consider decreasing max_length manually, e.g. summarizer('...', max_length=8)\n",
      "Your max_length is set to 50, but your input_length is only 35. Since this is a summarization task, where outputs shorter than the input are typically wanted, you might consider decreasing max_length manually, e.g. summarizer('...', max_length=17)\n",
      "Your max_length is set to 50, but your input_length is only 6. Since this is a summarization task, where outputs shorter than the input are typically wanted, you might consider decreasing max_length manually, e.g. summarizer('...', max_length=3)\n",
      "Your max_length is set to 50, but your input_length is only 29. Since this is a summarization task, where outputs shorter than the input are typically wanted, you might consider decreasing max_length manually, e.g. summarizer('...', max_length=14)\n",
      "Your max_length is set to 50, but your input_length is only 15. Since this is a summarization task, where outputs shorter than the input are typically wanted, you might consider decreasing max_length manually, e.g. summarizer('...', max_length=7)\n",
      "Your max_length is set to 50, but your input_length is only 19. Since this is a summarization task, where outputs shorter than the input are typically wanted, you might consider decreasing max_length manually, e.g. summarizer('...', max_length=9)\n",
      "Your max_length is set to 50, but your input_length is only 6. Since this is a summarization task, where outputs shorter than the input are typically wanted, you might consider decreasing max_length manually, e.g. summarizer('...', max_length=3)\n",
      "Your max_length is set to 50, but your input_length is only 19. Since this is a summarization task, where outputs shorter than the input are typically wanted, you might consider decreasing max_length manually, e.g. summarizer('...', max_length=9)\n",
      "Your max_length is set to 50, but your input_length is only 16. Since this is a summarization task, where outputs shorter than the input are typically wanted, you might consider decreasing max_length manually, e.g. summarizer('...', max_length=8)\n",
      "Your max_length is set to 50, but your input_length is only 15. Since this is a summarization task, where outputs shorter than the input are typically wanted, you might consider decreasing max_length manually, e.g. summarizer('...', max_length=7)\n",
      "Your max_length is set to 50, but your input_length is only 38. Since this is a summarization task, where outputs shorter than the input are typically wanted, you might consider decreasing max_length manually, e.g. summarizer('...', max_length=19)\n",
      "Your max_length is set to 50, but your input_length is only 20. Since this is a summarization task, where outputs shorter than the input are typically wanted, you might consider decreasing max_length manually, e.g. summarizer('...', max_length=10)\n",
      "Your max_length is set to 50, but your input_length is only 14. Since this is a summarization task, where outputs shorter than the input are typically wanted, you might consider decreasing max_length manually, e.g. summarizer('...', max_length=7)\n",
      "Your max_length is set to 50, but your input_length is only 15. Since this is a summarization task, where outputs shorter than the input are typically wanted, you might consider decreasing max_length manually, e.g. summarizer('...', max_length=7)\n",
      "Your max_length is set to 50, but your input_length is only 7. Since this is a summarization task, where outputs shorter than the input are typically wanted, you might consider decreasing max_length manually, e.g. summarizer('...', max_length=3)\n",
      "Your max_length is set to 50, but your input_length is only 17. Since this is a summarization task, where outputs shorter than the input are typically wanted, you might consider decreasing max_length manually, e.g. summarizer('...', max_length=8)\n",
      "Your max_length is set to 50, but your input_length is only 18. Since this is a summarization task, where outputs shorter than the input are typically wanted, you might consider decreasing max_length manually, e.g. summarizer('...', max_length=9)\n",
      "Your max_length is set to 50, but your input_length is only 15. Since this is a summarization task, where outputs shorter than the input are typically wanted, you might consider decreasing max_length manually, e.g. summarizer('...', max_length=7)\n",
      "Your max_length is set to 50, but your input_length is only 7. Since this is a summarization task, where outputs shorter than the input are typically wanted, you might consider decreasing max_length manually, e.g. summarizer('...', max_length=3)\n",
      "Your max_length is set to 50, but your input_length is only 19. Since this is a summarization task, where outputs shorter than the input are typically wanted, you might consider decreasing max_length manually, e.g. summarizer('...', max_length=9)\n",
      "Your max_length is set to 50, but your input_length is only 36. Since this is a summarization task, where outputs shorter than the input are typically wanted, you might consider decreasing max_length manually, e.g. summarizer('...', max_length=18)\n",
      "Your max_length is set to 50, but your input_length is only 14. Since this is a summarization task, where outputs shorter than the input are typically wanted, you might consider decreasing max_length manually, e.g. summarizer('...', max_length=7)\n",
      "Your max_length is set to 50, but your input_length is only 6. Since this is a summarization task, where outputs shorter than the input are typically wanted, you might consider decreasing max_length manually, e.g. summarizer('...', max_length=3)\n",
      "Your max_length is set to 50, but your input_length is only 15. Since this is a summarization task, where outputs shorter than the input are typically wanted, you might consider decreasing max_length manually, e.g. summarizer('...', max_length=7)\n",
      "Your max_length is set to 50, but your input_length is only 18. Since this is a summarization task, where outputs shorter than the input are typically wanted, you might consider decreasing max_length manually, e.g. summarizer('...', max_length=9)\n",
      "Your max_length is set to 50, but your input_length is only 17. Since this is a summarization task, where outputs shorter than the input are typically wanted, you might consider decreasing max_length manually, e.g. summarizer('...', max_length=8)\n",
      "Your max_length is set to 50, but your input_length is only 20. Since this is a summarization task, where outputs shorter than the input are typically wanted, you might consider decreasing max_length manually, e.g. summarizer('...', max_length=10)\n",
      "Your max_length is set to 50, but your input_length is only 15. Since this is a summarization task, where outputs shorter than the input are typically wanted, you might consider decreasing max_length manually, e.g. summarizer('...', max_length=7)\n",
      "Your max_length is set to 50, but your input_length is only 18. Since this is a summarization task, where outputs shorter than the input are typically wanted, you might consider decreasing max_length manually, e.g. summarizer('...', max_length=9)\n",
      "Your max_length is set to 50, but your input_length is only 20. Since this is a summarization task, where outputs shorter than the input are typically wanted, you might consider decreasing max_length manually, e.g. summarizer('...', max_length=10)\n",
      "Your max_length is set to 50, but your input_length is only 21. Since this is a summarization task, where outputs shorter than the input are typically wanted, you might consider decreasing max_length manually, e.g. summarizer('...', max_length=10)\n",
      "Your max_length is set to 50, but your input_length is only 15. Since this is a summarization task, where outputs shorter than the input are typically wanted, you might consider decreasing max_length manually, e.g. summarizer('...', max_length=7)\n",
      "Your max_length is set to 50, but your input_length is only 27. Since this is a summarization task, where outputs shorter than the input are typically wanted, you might consider decreasing max_length manually, e.g. summarizer('...', max_length=13)\n",
      "Your max_length is set to 50, but your input_length is only 25. Since this is a summarization task, where outputs shorter than the input are typically wanted, you might consider decreasing max_length manually, e.g. summarizer('...', max_length=12)\n",
      "Your max_length is set to 50, but your input_length is only 15. Since this is a summarization task, where outputs shorter than the input are typically wanted, you might consider decreasing max_length manually, e.g. summarizer('...', max_length=7)\n",
      "Your max_length is set to 50, but your input_length is only 7. Since this is a summarization task, where outputs shorter than the input are typically wanted, you might consider decreasing max_length manually, e.g. summarizer('...', max_length=3)\n",
      "Your max_length is set to 50, but your input_length is only 7. Since this is a summarization task, where outputs shorter than the input are typically wanted, you might consider decreasing max_length manually, e.g. summarizer('...', max_length=3)\n",
      "Your max_length is set to 50, but your input_length is only 16. Since this is a summarization task, where outputs shorter than the input are typically wanted, you might consider decreasing max_length manually, e.g. summarizer('...', max_length=8)\n",
      "Your max_length is set to 50, but your input_length is only 20. Since this is a summarization task, where outputs shorter than the input are typically wanted, you might consider decreasing max_length manually, e.g. summarizer('...', max_length=10)\n",
      "Your max_length is set to 50, but your input_length is only 36. Since this is a summarization task, where outputs shorter than the input are typically wanted, you might consider decreasing max_length manually, e.g. summarizer('...', max_length=18)\n",
      "Your max_length is set to 50, but your input_length is only 14. Since this is a summarization task, where outputs shorter than the input are typically wanted, you might consider decreasing max_length manually, e.g. summarizer('...', max_length=7)\n",
      "Your max_length is set to 50, but your input_length is only 15. Since this is a summarization task, where outputs shorter than the input are typically wanted, you might consider decreasing max_length manually, e.g. summarizer('...', max_length=7)\n",
      "Your max_length is set to 50, but your input_length is only 11. Since this is a summarization task, where outputs shorter than the input are typically wanted, you might consider decreasing max_length manually, e.g. summarizer('...', max_length=5)\n",
      "Your max_length is set to 50, but your input_length is only 18. Since this is a summarization task, where outputs shorter than the input are typically wanted, you might consider decreasing max_length manually, e.g. summarizer('...', max_length=9)\n",
      "Your max_length is set to 50, but your input_length is only 21. Since this is a summarization task, where outputs shorter than the input are typically wanted, you might consider decreasing max_length manually, e.g. summarizer('...', max_length=10)\n",
      "Your max_length is set to 50, but your input_length is only 21. Since this is a summarization task, where outputs shorter than the input are typically wanted, you might consider decreasing max_length manually, e.g. summarizer('...', max_length=10)\n",
      "Your max_length is set to 50, but your input_length is only 27. Since this is a summarization task, where outputs shorter than the input are typically wanted, you might consider decreasing max_length manually, e.g. summarizer('...', max_length=13)\n",
      "Your max_length is set to 50, but your input_length is only 15. Since this is a summarization task, where outputs shorter than the input are typically wanted, you might consider decreasing max_length manually, e.g. summarizer('...', max_length=7)\n",
      "Your max_length is set to 50, but your input_length is only 8. Since this is a summarization task, where outputs shorter than the input are typically wanted, you might consider decreasing max_length manually, e.g. summarizer('...', max_length=4)\n",
      "Your max_length is set to 50, but your input_length is only 8. Since this is a summarization task, where outputs shorter than the input are typically wanted, you might consider decreasing max_length manually, e.g. summarizer('...', max_length=4)\n",
      "Your max_length is set to 50, but your input_length is only 19. Since this is a summarization task, where outputs shorter than the input are typically wanted, you might consider decreasing max_length manually, e.g. summarizer('...', max_length=9)\n",
      "Your max_length is set to 50, but your input_length is only 20. Since this is a summarization task, where outputs shorter than the input are typically wanted, you might consider decreasing max_length manually, e.g. summarizer('...', max_length=10)\n",
      "Your max_length is set to 50, but your input_length is only 16. Since this is a summarization task, where outputs shorter than the input are typically wanted, you might consider decreasing max_length manually, e.g. summarizer('...', max_length=8)\n",
      "Your max_length is set to 50, but your input_length is only 20. Since this is a summarization task, where outputs shorter than the input are typically wanted, you might consider decreasing max_length manually, e.g. summarizer('...', max_length=10)\n",
      "Your max_length is set to 50, but your input_length is only 31. Since this is a summarization task, where outputs shorter than the input are typically wanted, you might consider decreasing max_length manually, e.g. summarizer('...', max_length=15)\n",
      "Your max_length is set to 50, but your input_length is only 17. Since this is a summarization task, where outputs shorter than the input are typically wanted, you might consider decreasing max_length manually, e.g. summarizer('...', max_length=8)\n",
      "Your max_length is set to 50, but your input_length is only 29. Since this is a summarization task, where outputs shorter than the input are typically wanted, you might consider decreasing max_length manually, e.g. summarizer('...', max_length=14)\n",
      "Your max_length is set to 50, but your input_length is only 19. Since this is a summarization task, where outputs shorter than the input are typically wanted, you might consider decreasing max_length manually, e.g. summarizer('...', max_length=9)\n"
     ]
    },
    {
     "name": "stdout",
     "output_type": "stream",
     "text": [
      "  TicketNumber Client      Staff Source                         Title  \\\n",
      "1      T955496   User  ITSupport  Email          Need Ethernet access   \n",
      "2     IT413956   User  ITSupport  Email              Need a LAN Cable   \n",
      "3     IT413444   User  ITSupport  Email       Need a laptop Conector.   \n",
      "4     IT413923   User  ITSupport  Email                  Need a mouse   \n",
      "5     IT413990   User  ITSupport  Email  Mouse replacement is needed.   \n",
      "\n",
      "                                          Resolution           HelpTopic  \\\n",
      "1  Please connect the LAN cable to the red port o...  Network & Wireless   \n",
      "2                Please come to IT desk and collect.         Accessories   \n",
      "3                Please come to IT desk and collect.         Accessories   \n",
      "4  hello Raj Ganpur<br /><br />please come to It ...         Accessories   \n",
      "5  hello Raj Ganpur<br /><br />we are replaced th...         Accessories   \n",
      "\n",
      "              DataOn         ClosedDate       ModifiedDate KYC  \\\n",
      "1  12/17/15 12:00 PM  12/17/15 01:02 PM  12/17/15 12:59 PM  YY   \n",
      "2   14-12-2017 12:06   15-12-2017 13:13   14-12-2017 12:42   N   \n",
      "3   14-12-2017 12:06   15-12-2017 13:13   14-12-2017 13:44   N   \n",
      "4   14-12-2017 12:06   15-12-2017 13:13   15-12-2017 12:15   N   \n",
      "5   14-12-2017 12:06   15-12-2017 13:13   15-12-2017 13:13   N   \n",
      "\n",
      "          Date Opened         Closed Date       Modified Date  \\\n",
      "1 2015-12-17 12:00:00 2015-12-17 13:02:00 2015-12-17 12:59:00   \n",
      "2 2017-12-14 12:06:00 2017-12-15 13:13:00 2017-12-14 12:42:00   \n",
      "3 2017-12-14 12:06:00 2017-12-15 13:13:00 2017-12-14 13:44:00   \n",
      "4 2017-12-14 12:06:00 2017-12-15 13:13:00 2017-12-15 12:15:00   \n",
      "5 2017-12-14 12:06:00 2017-12-15 13:13:00 2017-12-15 13:13:00   \n",
      "\n",
      "   ResolutionDurationMins DayOfWeekOpened  TimeOfDayOpened  Ticket Age  \\\n",
      "1                    62.0        Thursday             12.0        62.0   \n",
      "2                  1507.0        Thursday             12.0      1507.0   \n",
      "3                  1507.0        Thursday             12.0      1507.0   \n",
      "4                  1507.0        Thursday             12.0      1507.0   \n",
      "5                  1507.0        Thursday             12.0      1507.0   \n",
      "\n",
      "                                  Resolution Summary  \n",
      "1  please connect the LAN cable to the red port o...  \n",
      "2               Please come to IT desk and collect .  \n",
      "3               Please come to IT desk and collect .  \n",
      "4     please come to It desk and collect the mouse .  \n",
      "5  kumaraswamy annepu has been replaced by a mous...  \n"
     ]
    }
   ],
   "source": [
    "# Specify the model \n",
    "model_name = \"t5-small\"\n",
    "\n",
    "# Load the text summarization model\n",
    "summarizer = pipeline(\"summarization\", model=model_name)\n",
    "\n",
    "# Define a function to get a summary of the text\n",
    "def get_summary(text):\n",
    "    if pd.isna(text) or text.strip() == \"\":\n",
    "        return None\n",
    "    try:\n",
    "        # Adjust max_length and min_length as needed\n",
    "        summary_list = summarizer(text, max_length=50, min_length=10, do_sample=False)\n",
    "        summary = summary_list[0]['summary_text']\n",
    "        return summary\n",
    "    except Exception as e:\n",
    "        print(f\"Error in summarization: {e}\")\n",
    "        return None\n",
    "\n",
    "# Apply the text summarization to each row in the 'Resolution' column\n",
    "df['Resolution Summary'] = df['Resolution'].apply(get_summary)\n",
    "\n",
    "# Display the first few rows of the DataFrame to verify the new column\n",
    "print(df.head())\n",
    "\n"
   ]
  },
  {
   "cell_type": "markdown",
   "metadata": {},
   "source": [
    "***Sentiment Analysis*** - Perform sentiment analysis on the text to gauge customer satisfaction or the urgency of a ticket. This can be particularly useful for prioritizing responses and understanding customer sentiment.\n",
    "\n",
    "We can determine if the tone of the ticket is positive, negative, or neutral.  \n",
    "\n",
    "This NLP feature engineering code utilizes a pre-trained sentiment analysis model to analyze the sentiment of text in the 'Title' column of the DataFrame `df`. It defines a function `get_sentiment` that applies the sentiment analysis model to each text entry, returning a sentiment label and score. This function is then used to create two new columns in the DataFrame: 'Sentiment' for the sentiment label (like positive, negative, neutral) and 'Sentiment Score' for the confidence score of the sentiment analysis. The new columns provide an understanding of the emotional tone of each title entry in the dataset."
   ]
  },
  {
   "cell_type": "code",
   "execution_count": 19,
   "metadata": {},
   "outputs": [
    {
     "name": "stderr",
     "output_type": "stream",
     "text": [
      "No model was supplied, defaulted to distilbert-base-uncased-finetuned-sst-2-english and revision af0f99b (https://huggingface.co/distilbert-base-uncased-finetuned-sst-2-english).\n",
      "Using a pipeline without specifying a model name and revision in production is not recommended.\n",
      "All PyTorch model weights were used when initializing TFDistilBertForSequenceClassification.\n",
      "\n",
      "All the weights of TFDistilBertForSequenceClassification were initialized from the PyTorch model.\n",
      "If your task is similar to the task the model of the checkpoint was trained on, you can already use TFDistilBertForSequenceClassification for predictions without further training.\n"
     ]
    },
    {
     "name": "stdout",
     "output_type": "stream",
     "text": [
      "  TicketNumber Client      Staff Source                         Title  \\\n",
      "1      T955496   User  ITSupport  Email          Need Ethernet access   \n",
      "2     IT413956   User  ITSupport  Email              Need a LAN Cable   \n",
      "3     IT413444   User  ITSupport  Email       Need a laptop Conector.   \n",
      "4     IT413923   User  ITSupport  Email                  Need a mouse   \n",
      "5     IT413990   User  ITSupport  Email  Mouse replacement is needed.   \n",
      "\n",
      "                                          Resolution           HelpTopic  \\\n",
      "1  Please connect the LAN cable to the red port o...  Network & Wireless   \n",
      "2                Please come to IT desk and collect.         Accessories   \n",
      "3                Please come to IT desk and collect.         Accessories   \n",
      "4  hello Raj Ganpur<br /><br />please come to It ...         Accessories   \n",
      "5  hello Raj Ganpur<br /><br />we are replaced th...         Accessories   \n",
      "\n",
      "              DataOn         ClosedDate       ModifiedDate  ...  \\\n",
      "1  12/17/15 12:00 PM  12/17/15 01:02 PM  12/17/15 12:59 PM  ...   \n",
      "2   14-12-2017 12:06   15-12-2017 13:13   14-12-2017 12:42  ...   \n",
      "3   14-12-2017 12:06   15-12-2017 13:13   14-12-2017 13:44  ...   \n",
      "4   14-12-2017 12:06   15-12-2017 13:13   15-12-2017 12:15  ...   \n",
      "5   14-12-2017 12:06   15-12-2017 13:13   15-12-2017 13:13  ...   \n",
      "\n",
      "          Date Opened         Closed Date       Modified Date  \\\n",
      "1 2015-12-17 12:00:00 2015-12-17 13:02:00 2015-12-17 12:59:00   \n",
      "2 2017-12-14 12:06:00 2017-12-15 13:13:00 2017-12-14 12:42:00   \n",
      "3 2017-12-14 12:06:00 2017-12-15 13:13:00 2017-12-14 13:44:00   \n",
      "4 2017-12-14 12:06:00 2017-12-15 13:13:00 2017-12-15 12:15:00   \n",
      "5 2017-12-14 12:06:00 2017-12-15 13:13:00 2017-12-15 13:13:00   \n",
      "\n",
      "  ResolutionDurationMins  DayOfWeekOpened TimeOfDayOpened  Ticket Age  \\\n",
      "1                   62.0         Thursday            12.0        62.0   \n",
      "2                 1507.0         Thursday            12.0      1507.0   \n",
      "3                 1507.0         Thursday            12.0      1507.0   \n",
      "4                 1507.0         Thursday            12.0      1507.0   \n",
      "5                 1507.0         Thursday            12.0      1507.0   \n",
      "\n",
      "                                  Resolution Summary Sentiment Sentiment Score  \n",
      "1  please connect the LAN cable to the red port o...  NEGATIVE        0.982784  \n",
      "2               Please come to IT desk and collect .  NEGATIVE        0.997709  \n",
      "3               Please come to IT desk and collect .  NEGATIVE        0.998270  \n",
      "4     please come to It desk and collect the mouse .  NEGATIVE        0.996496  \n",
      "5  kumaraswamy annepu has been replaced by a mous...  NEGATIVE        0.998613  \n",
      "\n",
      "[5 rows x 21 columns]\n"
     ]
    }
   ],
   "source": [
    "\n",
    "# Load a pre-trained sentiment analysis model\n",
    "sentiment_analyzer = pipeline(\"sentiment-analysis\")\n",
    "\n",
    "# Define a function to get sentiment label and score\n",
    "def get_sentiment(text):\n",
    "    if pd.isna(text):\n",
    "        return {'label': None, 'score': None}\n",
    "    result = sentiment_analyzer(text)[0]\n",
    "    return result\n",
    "\n",
    "# Apply the sentiment analysis to each row in the 'Resolution' column\n",
    "df['Sentiment'] = df['Title'].apply(lambda x: get_sentiment(x)['label'])\n",
    "df['Sentiment Score'] = df['Title'].apply(lambda x: get_sentiment(x)['score'])\n",
    "\n",
    "# Display the first few rows of the DataFrame to verify the new columns\n",
    "print(df.head())\n"
   ]
  },
  {
   "cell_type": "code",
   "execution_count": 20,
   "metadata": {},
   "outputs": [
    {
     "data": {
      "text/html": [
       "<div>\n",
       "<style scoped>\n",
       "    .dataframe tbody tr th:only-of-type {\n",
       "        vertical-align: middle;\n",
       "    }\n",
       "\n",
       "    .dataframe tbody tr th {\n",
       "        vertical-align: top;\n",
       "    }\n",
       "\n",
       "    .dataframe thead th {\n",
       "        text-align: right;\n",
       "    }\n",
       "</style>\n",
       "<table border=\"1\" class=\"dataframe\">\n",
       "  <thead>\n",
       "    <tr style=\"text-align: right;\">\n",
       "      <th></th>\n",
       "      <th>Resolution</th>\n",
       "      <th>Resolution Summary</th>\n",
       "    </tr>\n",
       "  </thead>\n",
       "  <tbody>\n",
       "    <tr>\n",
       "      <th>1</th>\n",
       "      <td>Please connect the LAN cable to the red port o...</td>\n",
       "      <td>please connect the LAN cable to the red port o...</td>\n",
       "    </tr>\n",
       "    <tr>\n",
       "      <th>2</th>\n",
       "      <td>Please come to IT desk and collect.</td>\n",
       "      <td>Please come to IT desk and collect .</td>\n",
       "    </tr>\n",
       "    <tr>\n",
       "      <th>3</th>\n",
       "      <td>Please come to IT desk and collect.</td>\n",
       "      <td>Please come to IT desk and collect .</td>\n",
       "    </tr>\n",
       "    <tr>\n",
       "      <th>4</th>\n",
       "      <td>hello Raj Ganpur&lt;br /&gt;&lt;br /&gt;please come to It ...</td>\n",
       "      <td>please come to It desk and collect the mouse .</td>\n",
       "    </tr>\n",
       "    <tr>\n",
       "      <th>5</th>\n",
       "      <td>hello Raj Ganpur&lt;br /&gt;&lt;br /&gt;we are replaced th...</td>\n",
       "      <td>kumaraswamy annepu has been replaced by a mous...</td>\n",
       "    </tr>\n",
       "    <tr>\n",
       "      <th>6</th>\n",
       "      <td>Status changed from Open to Closed by Kumara S...</td>\n",
       "      <td>Status changed from Open to Closed by Kumara S...</td>\n",
       "    </tr>\n",
       "    <tr>\n",
       "      <th>7</th>\n",
       "      <td>We have reset the password and communicated to...</td>\n",
       "      <td>we have reset the password and communicated to...</td>\n",
       "    </tr>\n",
       "    <tr>\n",
       "      <th>8</th>\n",
       "      <td>Status changed from Open to Closed by Vinod Ku...</td>\n",
       "      <td>Status changed from Open to Closed by Vinod Ku...</td>\n",
       "    </tr>\n",
       "    <tr>\n",
       "      <th>9</th>\n",
       "      <td>Go to URL : accountsetup.com, Enter personal d...</td>\n",
       "      <td>go to URL: accountsetup.com, enter personal de...</td>\n",
       "    </tr>\n",
       "    <tr>\n",
       "      <th>10</th>\n",
       "      <td>As you requested, we have enabled USB access o...</td>\n",
       "      <td>as you requested, we have enabled USB access o...</td>\n",
       "    </tr>\n",
       "    <tr>\n",
       "      <th>11</th>\n",
       "      <td>Naga Appana &amp;lt;nappana@abc.com&amp;gt; via Email ...</td>\n",
       "      <td>Naga Appana &amp;lt;nappana@abc.com&amp;gt; via Email ...</td>\n",
       "    </tr>\n",
       "    <tr>\n",
       "      <th>12</th>\n",
       "      <td>&lt;div&gt; &lt;p class=MsoNormal\"&gt;&lt;span&gt;Hi Sam</td>\n",
       "      <td>div&gt; p class=MsoNormal\"&gt;span&gt;Hi Sam .</td>\n",
       "    </tr>\n",
       "    <tr>\n",
       "      <th>13</th>\n",
       "      <td>&lt;div&gt; &lt;p class=MsoNormal\"&gt;Thanks for the updat...</td>\n",
       "      <td>div&gt; p class=MsoNormal&gt;p&gt;/p&gt;&gt;span style=\"color...</td>\n",
       "    </tr>\n",
       "    <tr>\n",
       "      <th>14</th>\n",
       "      <td>Ticket flagged as overdue by the system.</td>\n",
       "      <td>Ticket flagged as overdue by the system .</td>\n",
       "    </tr>\n",
       "    <tr>\n",
       "      <th>15</th>\n",
       "      <td>Please do need full&lt;br /&gt;&lt;br /&gt;</td>\n",
       "      <td>please do need fullbr /&gt; . Please do need a fu...</td>\n",
       "    </tr>\n",
       "    <tr>\n",
       "      <th>16</th>\n",
       "      <td>could you please take care of the ticket.</td>\n",
       "      <td>could you please take care of the ticket?</td>\n",
       "    </tr>\n",
       "    <tr>\n",
       "      <th>17</th>\n",
       "      <td>Hi Valli&lt;br /&gt;&lt;br /&gt;We have arranged the lapto...</td>\n",
       "      <td>please collect the laptop from IT .br /&gt;Br . P...</td>\n",
       "    </tr>\n",
       "    <tr>\n",
       "      <th>18</th>\n",
       "      <td>Sent the followup request to Hazi.</td>\n",
       "      <td>Sent the followup request to Hazi .</td>\n",
       "    </tr>\n",
       "    <tr>\n",
       "      <th>19</th>\n",
       "      <td>We have already created account and details ha...</td>\n",
       "      <td>we have already created account and details ha...</td>\n",
       "    </tr>\n",
       "    <tr>\n",
       "      <th>20</th>\n",
       "      <td>Account created and details sent to user's per...</td>\n",
       "      <td>Account created and details sent to user's per...</td>\n",
       "    </tr>\n",
       "  </tbody>\n",
       "</table>\n",
       "</div>"
      ],
      "text/plain": [
       "                                           Resolution  \\\n",
       "1   Please connect the LAN cable to the red port o...   \n",
       "2                 Please come to IT desk and collect.   \n",
       "3                 Please come to IT desk and collect.   \n",
       "4   hello Raj Ganpur<br /><br />please come to It ...   \n",
       "5   hello Raj Ganpur<br /><br />we are replaced th...   \n",
       "6   Status changed from Open to Closed by Kumara S...   \n",
       "7   We have reset the password and communicated to...   \n",
       "8   Status changed from Open to Closed by Vinod Ku...   \n",
       "9   Go to URL : accountsetup.com, Enter personal d...   \n",
       "10  As you requested, we have enabled USB access o...   \n",
       "11  Naga Appana &lt;nappana@abc.com&gt; via Email ...   \n",
       "12             <div> <p class=MsoNormal\"><span>Hi Sam   \n",
       "13  <div> <p class=MsoNormal\">Thanks for the updat...   \n",
       "14           Ticket flagged as overdue by the system.   \n",
       "15                    Please do need full<br /><br />   \n",
       "16          could you please take care of the ticket.   \n",
       "17  Hi Valli<br /><br />We have arranged the lapto...   \n",
       "18                 Sent the followup request to Hazi.   \n",
       "19  We have already created account and details ha...   \n",
       "20  Account created and details sent to user's per...   \n",
       "\n",
       "                                   Resolution Summary  \n",
       "1   please connect the LAN cable to the red port o...  \n",
       "2                Please come to IT desk and collect .  \n",
       "3                Please come to IT desk and collect .  \n",
       "4      please come to It desk and collect the mouse .  \n",
       "5   kumaraswamy annepu has been replaced by a mous...  \n",
       "6   Status changed from Open to Closed by Kumara S...  \n",
       "7   we have reset the password and communicated to...  \n",
       "8   Status changed from Open to Closed by Vinod Ku...  \n",
       "9   go to URL: accountsetup.com, enter personal de...  \n",
       "10  as you requested, we have enabled USB access o...  \n",
       "11  Naga Appana &lt;nappana@abc.com&gt; via Email ...  \n",
       "12              div> p class=MsoNormal\">span>Hi Sam .  \n",
       "13  div> p class=MsoNormal>p>/p>>span style=\"color...  \n",
       "14          Ticket flagged as overdue by the system .  \n",
       "15  please do need fullbr /> . Please do need a fu...  \n",
       "16          could you please take care of the ticket?  \n",
       "17  please collect the laptop from IT .br />Br . P...  \n",
       "18                Sent the followup request to Hazi .  \n",
       "19  we have already created account and details ha...  \n",
       "20  Account created and details sent to user's per...  "
      ]
     },
     "execution_count": 20,
     "metadata": {},
     "output_type": "execute_result"
    }
   ],
   "source": [
    "# Displaying the first 20 rows of the 'Resolution' and 'Resolution Summary' columns\n",
    "# Useful for comparing the original resolution text with its summarized form\n",
    "\n",
    "df[['Resolution','Resolution Summary']][:20]"
   ]
  },
  {
   "cell_type": "markdown",
   "metadata": {},
   "source": [
    "## <a id='toc1_3_'></a>[2: Exploratory Data Analysis (EDA): ](#toc0_)"
   ]
  },
  {
   "cell_type": "markdown",
   "metadata": {},
   "source": [
    "***NewPlot*** is an interactive scatter plot using Plotly, visualizing the IT helpdesk ticket data from the DataFrame.  It plots the date each ticket was opened against the volume of tickets, represented by the size of each point, which corresponds to the resolution duration in minutes. \n",
    "\n",
    "The color of the points reflects the count of tickets for each help topic (`HelpTopicCount`). \n",
    "\n",
    "The chart is customized with hover data to show detailed information about each point and is styled for better readability and presentation."
   ]
  },
  {
   "cell_type": "code",
   "execution_count": 21,
   "metadata": {},
   "outputs": [
    {
     "data": {
      "application/vnd.plotly.v1+json": {
       "config": {
        "plotlyServerURL": "https://plot.ly"
       },
       "data": [
        {
         "hovertemplate": "Help Topic: %{text}<br>Date Opened: %{x}<br>Resolution Duration (mins): %{y}<br>Help Topic Count: %{marker.color}",
         "legendgroup": "",
         "marker": {
          "color": [
           7,
           122,
           122,
           122,
           122,
           122,
           243,
           243,
           243,
           243,
           122,
           122,
           122,
           122,
           122,
           122,
           122,
           122,
           243,
           243,
           243,
           243,
           122,
           122,
           122,
           122,
           122,
           122,
           122,
           122,
           243,
           243,
           243,
           122,
           122,
           122,
           122,
           122,
           122,
           122,
           122,
           122,
           243,
           122,
           122,
           122,
           122,
           122,
           122,
           122,
           122,
           122,
           122,
           122,
           122,
           122,
           122,
           122,
           122,
           122,
           122,
           122,
           122,
           122,
           122,
           122,
           122,
           122,
           243,
           122,
           122,
           243,
           243,
           243,
           243,
           243,
           243,
           243,
           243,
           243,
           243,
           243,
           243,
           243,
           243,
           7,
           7,
           122,
           122,
           122,
           122,
           122,
           122,
           122,
           122,
           122,
           122,
           122,
           243,
           7,
           7,
           243,
           243,
           243,
           243,
           243,
           243,
           243,
           7,
           243,
           243,
           243,
           243,
           243,
           1,
           1,
           243,
           243,
           243,
           243,
           243,
           243,
           243,
           243,
           243,
           243,
           1,
           7,
           2,
           243,
           243,
           243,
           243,
           243,
           243,
           243,
           243,
           1,
           243,
           243,
           243,
           243,
           243,
           243,
           243,
           243,
           243,
           243,
           243,
           243,
           243,
           243,
           243,
           2,
           243,
           243,
           243,
           243,
           243,
           243,
           2,
           243,
           243,
           243,
           243,
           243,
           243,
           243,
           243,
           243,
           243,
           243,
           243,
           243,
           243,
           2,
           2,
           243,
           243,
           243,
           243,
           243,
           243,
           243,
           243,
           243,
           2,
           2,
           243,
           3,
           243,
           243,
           243,
           243,
           243,
           243,
           243,
           243,
           243,
           243,
           243,
           243,
           243,
           243,
           243,
           243,
           2,
           2,
           243,
           243,
           243,
           243,
           243,
           243,
           243,
           243,
           243,
           243,
           243,
           243,
           243,
           243,
           243,
           243,
           243,
           243,
           243,
           243,
           243,
           243,
           243,
           243,
           243,
           243,
           243,
           243,
           243,
           243,
           243,
           243,
           243,
           243,
           243,
           243,
           243,
           243,
           243,
           243,
           243,
           243,
           243,
           2,
           243,
           243,
           243,
           243,
           243,
           243,
           243,
           243,
           243,
           243,
           243,
           243,
           243,
           243,
           243,
           243,
           243,
           3,
           243,
           243,
           243,
           243,
           243,
           243,
           243,
           243,
           243,
           243,
           243,
           243,
           243,
           243,
           243,
           243,
           243,
           243,
           243,
           243,
           243,
           243,
           243,
           243,
           243,
           243,
           243,
           243,
           243,
           243,
           243,
           243,
           243,
           243,
           243,
           243,
           243,
           243,
           3,
           243,
           243,
           243,
           243,
           243,
           243,
           1,
           243,
           243,
           243,
           243,
           243,
           243,
           243,
           243,
           243,
           243,
           243,
           243,
           243,
           243,
           243,
           243,
           122,
           122,
           122,
           122,
           122,
           122,
           122,
           1,
           122,
           122,
           122,
           122,
           122,
           122,
           122,
           122,
           122,
           122,
           122,
           122,
           122,
           122,
           122,
           243,
           122,
           122,
           122,
           122,
           122,
           122,
           122,
           122,
           122,
           122,
           122,
           122,
           122,
           122,
           122,
           122,
           122,
           122,
           122,
           122,
           122,
           122,
           122,
           122,
           122,
           122,
           122,
           122,
           122,
           122,
           122,
           122,
           1,
           243,
           243,
           243
          ],
          "coloraxis": "coloraxis",
          "size": [
           62,
           1507,
           1507,
           1507,
           1507,
           1507,
           21,
           21,
           5,
           44320,
           179830,
           179830,
           179830,
           179830,
           179830,
           179830,
           179830,
           156633,
           107,
           300,
           5,
           21,
           137867,
           137867,
           137867,
           156633,
           156633,
           156633,
           156633,
           156633,
           256,
           5,
           1062,
           12,
           1629,
           1629,
           1629,
           1629,
           1629,
           1629,
           1629,
           1629,
           81,
           16404,
           16404,
           16404,
           16404,
           16404,
           16404,
           16404,
           16404,
           370369,
           370369,
           370369,
           370369,
           370369,
           370369,
           370369,
           198610,
           198610,
           198610,
           198610,
           198610,
           198610,
           198610,
           198610,
           198610,
           198610,
           42710,
           4,
           4,
           42641,
           5,
           5,
           5,
           1062,
           1062,
           1062,
           1062,
           1062,
           42710,
           42710,
           42710,
           42710,
           219,
           21,
           21,
           5640,
           5640,
           5640,
           5640,
           5640,
           5640,
           5640,
           5640,
           5640,
           5640,
           5640,
           160,
           1411,
           41,
           22,
           22,
           22,
           22,
           49,
           49,
           43,
           434,
           43,
           43,
           38,
           38,
           38,
           206,
           363,
           176,
           176,
           176,
           176,
           176,
           176,
           176,
           33,
           33,
           33,
           242.38333333333333,
           21,
           24.766666666666666,
           1093,
           1093,
           1093,
           1093,
           1093,
           12,
           12,
           59,
           28702.333333333332,
           118,
           118,
           118,
           161,
           109,
           109,
           109,
           109,
           109,
           109,
           109,
           109,
           42823,
           42823,
           110,
           256,
           2,
           2,
           2,
           133,
           133,
           87650,
           153.78333333333333,
           87650,
           87650,
           87650,
           87650,
           87650,
           87650,
           87650,
           87650,
           87650,
           87650,
           87650,
           80,
           80,
           80,
           1.35,
           43.266666666666666,
           44320,
           256,
           256,
           117,
           117,
           117,
           117,
           487,
           487,
           256,
           38,
           256,
           5840.35,
           0,
           0,
           0,
           0,
           0,
           0,
           0,
           0,
           0,
           2,
           2,
           2,
           64,
           64,
           64,
           12,
           12,
           12,
           12,
           12,
           41,
           41,
           41,
           115046,
           115046,
           115046,
           115046,
           115046,
           115046,
           115046,
           115046,
           115046,
           391,
           391,
           391,
           391,
           161,
           391,
           110,
           226,
           226,
           226,
           54,
           37,
           37,
           37,
           66,
           66,
           66,
           66,
           60580,
           60580,
           60580,
           60580,
           60580,
           60580,
           60580,
           60580,
           60580,
           60580,
           60580,
           12,
           110,
           32,
           32,
           32,
           32,
           302,
           302,
           302,
           302,
           227,
           227,
           227,
           14,
           14,
           14,
           14,
           1558,
           49225.46666666667,
           180,
           180,
           180,
           180,
           53,
           53,
           53,
           42967,
           42967,
           42967,
           42967,
           1,
           1,
           1,
           1,
           28,
           28,
           28,
           1,
           1,
           1,
           1705,
           1705,
           1705,
           1705,
           1705,
           1705,
           1705,
           1705,
           1705,
           8,
           8,
           8,
           44789,
           44789,
           44789,
           44789,
           44789,
           49225.46666666667,
           44760,
           44760,
           44760,
           44760,
           338,
           338,
           984.2833333333333,
           44585,
           44585,
           44585,
           174,
           174,
           174,
           174,
           174,
           0,
           0,
           0,
           0,
           161,
           899,
           899,
           899,
           286342,
           286342,
           286342,
           286342,
           286342,
           286342,
           286342,
           20.516666666666666,
           377344,
           377344,
           377344,
           377344,
           377344,
           377344,
           22591,
           22591,
           22591,
           22591,
           175555,
           175555,
           175555,
           175555,
           175555,
           44320,
           175555,
           0,
           0,
           0,
           0,
           0,
           0,
           0,
           0,
           0,
           0,
           0,
           0,
           0,
           0,
           0,
           0,
           0,
           0,
           0,
           0,
           0,
           0,
           0,
           0,
           0,
           0,
           0,
           0,
           57674,
           57674,
           57674,
           828.1666666666666,
           44320,
           300,
           161
          ],
          "sizemode": "area",
          "sizeref": 943.36,
          "symbol": "circle"
         },
         "mode": "markers",
         "name": "",
         "orientation": "h",
         "showlegend": false,
         "text": [
          "Network & Wireless",
          "Accessories",
          "Accessories",
          "Accessories",
          "Accessories",
          "Accessories",
          "Access Requests",
          "Access Requests",
          "Access Requests",
          "Access Requests",
          "Accessories",
          "Accessories",
          "Accessories",
          "Accessories",
          "Accessories",
          "Accessories",
          "Accessories",
          "Accessories",
          "Access Requests",
          "Access Requests",
          "Access Requests",
          "Access Requests",
          "Accessories",
          "Accessories",
          "Accessories",
          "Accessories",
          "Accessories",
          "Accessories",
          "Accessories",
          "Accessories",
          "Access Requests",
          "Access Requests",
          "Access Requests",
          "Accessories",
          "Accessories",
          "Accessories",
          "Accessories",
          "Accessories",
          "Accessories",
          "Accessories",
          "Accessories",
          "Accessories",
          "Access Requests",
          "Accessories",
          "Accessories",
          "Accessories",
          "Accessories",
          "Accessories",
          "Accessories",
          "Accessories",
          "Accessories",
          "Accessories",
          "Accessories",
          "Accessories",
          "Accessories",
          "Accessories",
          "Accessories",
          "Accessories",
          "Accessories",
          "Accessories",
          "Accessories",
          "Accessories",
          "Accessories",
          "Accessories",
          "Accessories",
          "Accessories",
          "Accessories",
          "Accessories",
          "Access Requests",
          "Accessories",
          "Accessories",
          "Access Requests",
          "Access Requests",
          "Access Requests",
          "Access Requests",
          "Access Requests",
          "Access Requests",
          "Access Requests",
          "Access Requests",
          "Access Requests",
          "Access Requests",
          "Access Requests",
          "Access Requests",
          "Access Requests",
          "Access Requests",
          "Network & Wireless",
          "Network & Wireless",
          "Accessories",
          "Accessories",
          "Accessories",
          "Accessories",
          "Accessories",
          "Accessories",
          "Accessories",
          "Accessories",
          "Accessories",
          "Accessories",
          "Accessories",
          "Access Requests",
          "Network & Wireless",
          "Network & Wireless",
          "Access Requests",
          "Access Requests",
          "Access Requests",
          "Access Requests",
          "Access Requests",
          "Access Requests",
          "Access Requests",
          "Network & Wireless",
          "Access Requests",
          "Access Requests",
          "Access Requests",
          "Access Requests",
          "Access Requests",
          "VPN access",
          "Jira Requests",
          "Access Requests",
          "Access Requests",
          "Access Requests",
          "Access Requests",
          "Access Requests",
          "Access Requests",
          "Access Requests",
          "Access Requests",
          "Access Requests",
          "Access Requests",
          "Data Center Services",
          "Network & Wireless",
          "Data Center Services /Report VM issue",
          "Access Requests",
          "Access Requests",
          "Access Requests",
          "Access Requests",
          "Access Requests",
          "Access Requests",
          "Access Requests",
          "Access Requests",
          "Data Center Services /VM Request",
          "Access Requests",
          "Access Requests",
          "Access Requests",
          "Access Requests",
          "Access Requests",
          "Access Requests",
          "Access Requests",
          "Access Requests",
          "Access Requests",
          "Access Requests",
          "Access Requests",
          "Access Requests",
          "Access Requests",
          "Access Requests",
          "Access Requests",
          "Software Request",
          "Access Requests",
          "Access Requests",
          "Access Requests",
          "Access Requests",
          "Access Requests",
          "Access Requests",
          "Data Center Services /Report VM issue",
          "Access Requests",
          "Access Requests",
          "Access Requests",
          "Access Requests",
          "Access Requests",
          "Access Requests",
          "Access Requests",
          "Access Requests",
          "Access Requests",
          "Access Requests",
          "Access Requests",
          "Access Requests",
          "Access Requests",
          "Access Requests",
          "Email Services",
          "Email Services",
          "Access Requests",
          "Access Requests",
          "Access Requests",
          "Access Requests",
          "Access Requests",
          "Access Requests",
          "Access Requests",
          "Access Requests",
          "Access Requests",
          "Software Request",
          "Hardware",
          "Access Requests",
          "Hardware Issue",
          "Access Requests",
          "Access Requests",
          "Access Requests",
          "Access Requests",
          "Access Requests",
          "Access Requests",
          "Access Requests",
          "Access Requests",
          "Access Requests",
          "Access Requests",
          "Access Requests",
          "Access Requests",
          "Access Requests",
          "Access Requests",
          "Access Requests",
          "Access Requests",
          "Hardware",
          "Network",
          "Access Requests",
          "Access Requests",
          "Access Requests",
          "Access Requests",
          "Access Requests",
          "Access Requests",
          "Access Requests",
          "Access Requests",
          "Access Requests",
          "Access Requests",
          "Access Requests",
          "Access Requests",
          "Access Requests",
          "Access Requests",
          "Access Requests",
          "Access Requests",
          "Access Requests",
          "Access Requests",
          "Access Requests",
          "Access Requests",
          "Access Requests",
          "Access Requests",
          "Access Requests",
          "Access Requests",
          "Access Requests",
          "Access Requests",
          "Access Requests",
          "Access Requests",
          "Access Requests",
          "Access Requests",
          "Access Requests",
          "Access Requests",
          "Access Requests",
          "Access Requests",
          "Access Requests",
          "Access Requests",
          "Access Requests",
          "Access Requests",
          "Access Requests",
          "Access Requests",
          "Access Requests",
          "Access Requests",
          "Access Requests",
          "Network",
          "Access Requests",
          "Access Requests",
          "Access Requests",
          "Access Requests",
          "Access Requests",
          "Access Requests",
          "Access Requests",
          "Access Requests",
          "Access Requests",
          "Access Requests",
          "Access Requests",
          "Access Requests",
          "Access Requests",
          "Access Requests",
          "Access Requests",
          "Access Requests",
          "Access Requests",
          "Hardware Issue",
          "Access Requests",
          "Access Requests",
          "Access Requests",
          "Access Requests",
          "Access Requests",
          "Access Requests",
          "Access Requests",
          "Access Requests",
          "Access Requests",
          "Access Requests",
          "Access Requests",
          "Access Requests",
          "Access Requests",
          "Access Requests",
          "Access Requests",
          "Access Requests",
          "Access Requests",
          "Access Requests",
          "Access Requests",
          "Access Requests",
          "Access Requests",
          "Access Requests",
          "Access Requests",
          "Access Requests",
          "Access Requests",
          "Access Requests",
          "Access Requests",
          "Access Requests",
          "Access Requests",
          "Access Requests",
          "Access Requests",
          "Access Requests",
          "Access Requests",
          "Access Requests",
          "Access Requests",
          "Access Requests",
          "Access Requests",
          "Access Requests",
          "Hardware Issue",
          "Access Requests",
          "Access Requests",
          "Access Requests",
          "Access Requests",
          "Access Requests",
          "Access Requests",
          "Newhire Accounts",
          "Access Requests",
          "Access Requests",
          "Access Requests",
          "Access Requests",
          "Access Requests",
          "Access Requests",
          "Access Requests",
          "Access Requests",
          "Access Requests",
          "Access Requests",
          "Access Requests",
          "Access Requests",
          "Access Requests",
          "Access Requests",
          "Access Requests",
          "Access Requests",
          "Accessories",
          "Accessories",
          "Accessories",
          "Accessories",
          "Accessories",
          "Accessories",
          "Accessories",
          "Password Reset",
          "Accessories",
          "Accessories",
          "Accessories",
          "Accessories",
          "Accessories",
          "Accessories",
          "Accessories",
          "Accessories",
          "Accessories",
          "Accessories",
          "Accessories",
          "Accessories",
          "Accessories",
          "Accessories",
          "Accessories",
          "Access Requests",
          "Accessories",
          "Accessories",
          "Accessories",
          "Accessories",
          "Accessories",
          "Accessories",
          "Accessories",
          "Accessories",
          "Accessories",
          "Accessories",
          "Accessories",
          "Accessories",
          "Accessories",
          "Accessories",
          "Accessories",
          "Accessories",
          "Accessories",
          "Accessories",
          "Accessories",
          "Accessories",
          "Accessories",
          "Accessories",
          "Accessories",
          "Accessories",
          "Accessories",
          "Accessories",
          "Accessories",
          "Accessories",
          "Accessories",
          "Accessories",
          "Accessories",
          "Accessories",
          "Software Installation & Configuration",
          "Access Requests",
          "Access Requests",
          "Access Requests"
         ],
         "type": "scatter",
         "x": [
          "2015-12-17T12:00:00",
          "2017-12-14T12:06:00",
          "2017-12-14T12:06:00",
          "2017-12-14T12:06:00",
          "2017-12-14T12:06:00",
          "2017-12-14T12:06:00",
          "2016-01-14T12:55:00",
          "2016-01-14T12:55:00",
          "2016-01-14T11:17:00",
          "2015-10-12T17:46:00",
          "2017-08-12T17:48:00",
          "2017-08-12T17:48:00",
          "2017-08-12T17:48:00",
          "2017-08-12T17:48:00",
          "2017-08-12T17:48:00",
          "2017-08-12T17:48:00",
          "2017-08-12T17:48:00",
          "2017-08-11T18:41:00",
          "2015-12-17T12:12:00",
          "2015-12-17T12:12:00",
          "2016-01-14T11:17:00",
          "2016-01-14T12:55:00",
          "2017-08-11T16:27:00",
          "2017-08-11T16:27:00",
          "2017-08-11T16:27:00",
          "2017-08-11T18:41:00",
          "2017-08-11T18:41:00",
          "2017-08-11T18:41:00",
          "2017-08-11T18:41:00",
          "2017-08-11T18:41:00",
          "2016-01-19T13:14:00",
          "2016-01-14T11:17:00",
          "2016-01-19T17:23:00",
          "2017-12-20T21:42:00",
          "2017-12-19T11:16:00",
          "2017-12-19T11:16:00",
          "2017-12-19T11:16:00",
          "2017-12-19T11:16:00",
          "2017-12-19T11:16:00",
          "2017-12-19T11:16:00",
          "2017-12-19T11:16:00",
          "2017-12-19T11:16:00",
          "2016-03-02T14:43:00",
          "2017-12-18T14:18:00",
          "2017-12-18T14:18:00",
          "2017-12-18T14:18:00",
          "2017-12-18T14:18:00",
          "2017-12-18T14:18:00",
          "2017-12-18T14:18:00",
          "2017-12-18T14:18:00",
          "2017-12-18T14:18:00",
          "2017-12-18T14:00:00",
          "2017-12-18T14:00:00",
          "2017-12-18T14:00:00",
          "2017-12-18T14:00:00",
          "2017-12-18T14:00:00",
          "2017-12-18T14:00:00",
          "2017-12-18T14:00:00",
          "2017-08-12T17:14:00",
          "2017-08-12T17:14:00",
          "2017-08-12T17:14:00",
          "2017-08-12T17:14:00",
          "2017-08-12T17:14:00",
          "2017-08-12T17:14:00",
          "2017-08-12T17:14:00",
          "2017-08-12T17:14:00",
          "2017-08-12T17:14:00",
          "2017-08-12T17:14:00",
          "2016-04-02T20:27:00",
          "2017-12-19T10:32:00",
          "2017-12-19T10:32:00",
          "2016-09-02T20:51:00",
          "2016-01-14T11:17:00",
          "2016-01-14T11:17:00",
          "2016-01-14T11:17:00",
          "2016-01-19T17:23:00",
          "2016-01-19T17:23:00",
          "2016-01-19T17:23:00",
          "2016-01-19T17:23:00",
          "2016-01-19T17:23:00",
          "2016-04-02T20:27:00",
          "2016-04-02T20:27:00",
          "2016-04-02T20:27:00",
          "2016-04-02T20:27:00",
          "2016-02-17T08:17:00",
          "2016-04-01T18:38:00",
          "2016-04-01T18:38:00",
          "2017-12-18T12:26:00",
          "2017-12-18T12:26:00",
          "2017-12-18T12:26:00",
          "2017-12-18T12:26:00",
          "2017-12-18T12:26:00",
          "2017-12-18T12:26:00",
          "2017-12-18T12:26:00",
          "2017-12-18T12:26:00",
          "2017-12-18T12:26:00",
          "2017-12-18T12:26:00",
          "2017-12-18T12:26:00",
          "2016-02-17T09:05:00",
          "2016-01-21T13:24:00",
          "2016-10-02T18:05:00",
          "2016-02-19T11:51:00",
          "2016-02-19T11:51:00",
          "2016-02-19T11:51:00",
          "2016-02-19T11:51:00",
          "2016-02-23T11:30:00",
          "2016-02-23T11:30:00",
          "2016-02-23T11:38:00",
          "2016-03-31T11:54:00",
          "2016-02-23T11:38:00",
          "2016-02-23T11:38:00",
          "2016-02-23T15:48:00",
          "2016-02-23T15:48:00",
          "2016-02-23T15:48:00",
          "2015-10-12T13:49:00",
          "2015-12-16T14:30:00",
          "2016-02-24T11:39:00",
          "2016-02-24T11:39:00",
          "2016-02-24T11:39:00",
          "2016-02-24T11:39:00",
          "2016-02-24T11:39:00",
          "2016-02-24T11:39:00",
          "2016-02-24T11:39:00",
          "2016-10-03T18:01:00",
          "2016-10-03T18:01:00",
          "2016-10-03T18:01:00",
          "2016-03-02T14:07:09",
          "2016-04-01T18:38:00",
          "2016-08-23T18:24:29",
          "2016-03-16T01:22:00",
          "2016-03-16T01:22:00",
          "2016-03-16T01:22:00",
          "2016-03-16T01:22:00",
          "2016-03-16T01:22:00",
          "2016-04-20T14:47:00",
          "2016-04-20T14:47:00",
          "2016-04-20T16:45:00",
          "2016-01-08T14:16:13",
          "2016-03-05T14:05:00",
          "2016-03-05T14:05:00",
          "2016-03-05T14:05:00",
          "2015-12-15T18:12:00",
          "2016-11-05T15:53:00",
          "2016-11-05T15:53:00",
          "2016-11-05T15:53:00",
          "2016-11-05T15:53:00",
          "2016-11-05T15:53:00",
          "2016-11-05T15:53:00",
          "2016-11-05T15:53:00",
          "2016-11-05T15:53:00",
          "2016-06-06T18:04:00",
          "2016-06-06T18:04:00",
          "2016-08-07T10:00:00",
          "2016-01-19T13:14:00",
          "2016-07-13T11:14:00",
          "2016-07-13T11:14:00",
          "2016-07-13T11:14:00",
          "2016-07-14T14:15:00",
          "2016-07-14T14:15:00",
          "2016-09-08T22:07:00",
          "2015-12-14T12:24:11",
          "2016-09-08T22:07:00",
          "2016-09-08T22:07:00",
          "2016-09-08T22:07:00",
          "2016-09-08T22:07:00",
          "2016-09-08T22:07:00",
          "2016-09-08T22:07:00",
          "2016-09-08T22:07:00",
          "2016-09-08T22:07:00",
          "2016-09-08T22:07:00",
          "2016-09-08T22:07:00",
          "2016-09-08T22:07:00",
          "2016-11-08T18:59:00",
          "2016-11-08T18:59:00",
          "2016-11-08T18:59:00",
          "2016-02-15T17:47:24",
          "2015-12-21T11:18:27",
          "2015-10-12T17:46:00",
          "2016-01-19T13:14:00",
          "2016-01-19T13:14:00",
          "2016-08-18T10:50:00",
          "2016-08-18T10:50:00",
          "2016-08-18T10:50:00",
          "2016-08-18T10:50:00",
          "2016-07-09T10:33:00",
          "2016-07-09T10:33:00",
          "2016-01-19T13:14:00",
          "2016-02-23T15:48:00",
          "2016-01-19T13:14:00",
          "2015-12-31T11:51:21",
          "2016-09-29T17:16:00",
          "2016-09-29T17:16:00",
          "2016-09-29T17:16:00",
          "2016-09-29T17:16:00",
          "2016-09-29T17:16:00",
          "2016-09-29T17:16:00",
          "2016-09-29T17:16:00",
          "2016-09-29T17:16:00",
          "2016-09-29T17:16:00",
          "2016-09-30T11:17:00",
          "2016-09-30T11:17:00",
          "2016-09-30T11:17:00",
          "2016-10-24T16:03:00",
          "2016-10-24T16:03:00",
          "2016-10-24T16:03:00",
          "2016-10-24T17:55:00",
          "2016-04-20T14:47:00",
          "2017-12-20T21:42:00",
          "2016-10-24T17:56:00",
          "2016-10-24T17:56:00",
          "2016-10-25T17:49:00",
          "2016-10-25T17:49:00",
          "2016-10-25T17:49:00",
          "2016-11-14T14:14:00",
          "2016-11-14T14:14:00",
          "2016-11-14T14:14:00",
          "2016-11-14T14:14:00",
          "2016-11-14T14:14:00",
          "2016-11-14T14:14:00",
          "2016-11-14T14:14:00",
          "2016-11-14T14:14:00",
          "2016-11-14T14:14:00",
          "2016-11-28T12:05:00",
          "2016-11-28T12:05:00",
          "2016-11-28T12:05:00",
          "2016-11-28T12:05:00",
          "2015-12-15T18:12:00",
          "2016-11-28T12:05:00",
          "2016-08-07T10:00:00",
          "2017-02-01T13:04:00",
          "2017-02-01T13:04:00",
          "2017-02-01T13:04:00",
          "2016-02-29T17:04:00",
          "2017-01-25T10:43:00",
          "2017-01-25T10:43:00",
          "2017-01-25T10:43:00",
          "2017-09-02T14:41:00",
          "2017-09-02T14:41:00",
          "2017-09-02T14:41:00",
          "2017-09-02T14:41:00",
          "2017-03-16T09:30:00",
          "2017-03-16T09:30:00",
          "2017-03-16T09:30:00",
          "2017-03-16T09:30:00",
          "2017-03-16T09:30:00",
          "2017-03-16T09:30:00",
          "2017-03-16T09:30:00",
          "2017-03-16T09:30:00",
          "2017-03-16T09:30:00",
          "2017-03-16T09:30:00",
          "2017-03-16T09:30:00",
          "2017-12-20T21:42:00",
          "2016-08-07T10:00:00",
          "2017-06-04T10:20:00",
          "2017-06-04T10:20:00",
          "2017-06-04T10:20:00",
          "2017-06-04T10:20:00",
          "2017-04-19T12:29:00",
          "2017-04-19T12:29:00",
          "2017-04-19T12:29:00",
          "2017-04-19T12:29:00",
          "2017-04-21T11:46:00",
          "2017-04-21T11:46:00",
          "2017-04-21T11:46:00",
          "2017-04-21T15:00:00",
          "2017-04-21T15:00:00",
          "2017-04-21T15:00:00",
          "2017-04-21T15:00:00",
          "2017-04-27T13:25:00",
          "2016-06-24T14:30:26",
          "2017-02-05T18:16:00",
          "2017-02-05T18:16:00",
          "2017-02-05T18:16:00",
          "2017-02-05T18:16:00",
          "2017-05-05T12:34:00",
          "2017-05-05T12:34:00",
          "2017-05-05T12:34:00",
          "2017-11-05T16:32:00",
          "2017-11-05T16:32:00",
          "2017-11-05T16:32:00",
          "2017-11-05T16:32:00",
          "2017-05-25T18:52:00",
          "2017-05-25T18:52:00",
          "2017-05-25T18:52:00",
          "2017-05-25T18:52:00",
          "2017-05-06T11:25:00",
          "2017-05-06T11:25:00",
          "2017-05-06T11:25:00",
          "2017-06-19T12:04:00",
          "2017-06-19T12:04:00",
          "2017-06-19T12:04:00",
          "2017-07-13T08:14:00",
          "2017-07-13T08:14:00",
          "2017-07-13T08:14:00",
          "2017-07-13T08:14:00",
          "2017-07-13T08:14:00",
          "2017-07-13T08:14:00",
          "2017-07-13T08:14:00",
          "2017-07-13T08:14:00",
          "2017-07-13T08:14:00",
          "2017-03-08T17:20:00",
          "2017-03-08T17:20:00",
          "2017-03-08T17:20:00",
          "2017-05-09T13:28:00",
          "2017-05-09T13:28:00",
          "2017-05-09T13:28:00",
          "2017-05-09T13:28:00",
          "2017-05-09T13:28:00",
          "2016-06-24T14:30:26",
          "2017-05-09T14:06:00",
          "2017-05-09T14:06:00",
          "2017-05-09T14:06:00",
          "2017-05-09T14:06:00",
          "2017-02-10T11:24:00",
          "2017-02-10T11:24:00",
          "2015-12-09T20:55:11",
          "2017-07-11T16:21:00",
          "2017-07-11T16:21:00",
          "2017-07-11T16:21:00",
          "2017-07-11T17:31:00",
          "2017-07-11T17:31:00",
          "2017-07-11T17:31:00",
          "2017-07-11T17:31:00",
          "2017-07-11T17:31:00",
          "2017-11-29T14:57:00",
          "2017-11-29T14:57:00",
          "2017-11-29T14:57:00",
          "2017-11-29T14:57:00",
          "2015-12-15T18:12:00",
          "2018-02-21T21:07:00",
          "2018-02-21T21:07:00",
          "2018-02-21T21:07:00",
          "2015-12-15T16:59:00",
          "2015-12-15T16:59:00",
          "2015-12-15T16:59:00",
          "2015-12-15T16:59:00",
          "2015-12-15T16:59:00",
          "2015-12-15T16:59:00",
          "2015-12-15T16:59:00",
          "2015-12-28T14:43:27",
          "2015-12-16T20:18:00",
          "2015-12-16T20:18:00",
          "2015-12-16T20:18:00",
          "2015-12-16T20:18:00",
          "2015-12-16T20:18:00",
          "2015-12-16T20:18:00",
          "2015-12-28T18:59:00",
          "2015-12-28T18:59:00",
          "2015-12-28T18:59:00",
          "2015-12-28T18:59:00",
          "2016-04-01T16:30:00",
          "2016-04-01T16:30:00",
          "2016-04-01T16:30:00",
          "2016-04-01T16:30:00",
          "2016-04-01T16:30:00",
          "2015-10-12T17:46:00",
          "2016-04-01T16:30:00",
          "2016-06-01T12:46:00",
          "2016-06-01T12:46:00",
          "2016-06-01T12:46:00",
          "2016-06-01T12:46:00",
          "2016-06-01T12:46:00",
          "2016-06-01T12:46:00",
          "2016-06-01T12:46:00",
          "2016-06-01T12:46:00",
          "2016-06-01T12:46:00",
          "2016-08-01T12:54:00",
          "2016-08-01T12:54:00",
          "2016-08-01T12:54:00",
          "2016-08-01T12:54:00",
          "2016-08-01T12:54:00",
          "2016-11-01T19:26:00",
          "2016-11-01T19:26:00",
          "2016-11-01T19:26:00",
          "2016-11-01T19:26:00",
          "2016-11-01T19:26:00",
          "2016-11-01T19:26:00",
          "2016-11-01T19:26:00",
          "2016-12-01T15:21:00",
          "2016-12-01T15:21:00",
          "2016-12-01T15:21:00",
          "2016-12-01T15:21:00",
          "2016-12-01T15:21:00",
          "2016-12-01T15:21:00",
          "2016-12-01T15:21:00",
          "2016-01-13T12:00:00",
          "2016-01-13T12:00:00",
          "2016-01-13T12:00:00",
          "2016-01-05T23:27:24",
          "2015-10-12T17:46:00",
          "2015-12-17T12:12:00",
          "2015-12-15T18:12:00"
         ],
         "xaxis": "x",
         "y": [
          1,
          2,
          3,
          4,
          5,
          6,
          7,
          8,
          9,
          10,
          11,
          12,
          13,
          14,
          15,
          16,
          17,
          18,
          19,
          20,
          21,
          22,
          23,
          24,
          25,
          27,
          28,
          29,
          30,
          31,
          33,
          34,
          35,
          40,
          41,
          42,
          43,
          44,
          45,
          46,
          47,
          48,
          49,
          50,
          51,
          52,
          53,
          54,
          55,
          56,
          57,
          58,
          59,
          60,
          61,
          62,
          63,
          64,
          65,
          66,
          67,
          68,
          69,
          70,
          71,
          72,
          73,
          74,
          75,
          76,
          77,
          78,
          79,
          80,
          81,
          82,
          83,
          84,
          85,
          86,
          87,
          88,
          89,
          90,
          91,
          92,
          93,
          94,
          95,
          96,
          97,
          98,
          99,
          100,
          101,
          102,
          103,
          104,
          105,
          106,
          107,
          108,
          109,
          110,
          111,
          112,
          113,
          114,
          115,
          116,
          117,
          118,
          119,
          120,
          121,
          122,
          123,
          124,
          125,
          126,
          127,
          128,
          129,
          130,
          131,
          132,
          133,
          134,
          135,
          136,
          137,
          138,
          139,
          140,
          141,
          142,
          143,
          144,
          145,
          146,
          147,
          148,
          149,
          150,
          151,
          152,
          153,
          154,
          155,
          156,
          157,
          158,
          159,
          160,
          161,
          162,
          163,
          164,
          165,
          166,
          167,
          168,
          169,
          170,
          171,
          172,
          173,
          174,
          175,
          176,
          177,
          178,
          179,
          180,
          181,
          182,
          183,
          184,
          185,
          186,
          187,
          188,
          189,
          190,
          191,
          192,
          193,
          194,
          195,
          196,
          197,
          198,
          199,
          200,
          201,
          202,
          203,
          204,
          205,
          206,
          207,
          208,
          209,
          210,
          211,
          212,
          213,
          214,
          215,
          216,
          217,
          218,
          219,
          220,
          221,
          222,
          223,
          224,
          225,
          226,
          227,
          228,
          229,
          230,
          231,
          232,
          233,
          234,
          235,
          236,
          237,
          238,
          239,
          240,
          241,
          242,
          243,
          244,
          245,
          246,
          247,
          248,
          249,
          250,
          251,
          252,
          253,
          254,
          255,
          256,
          257,
          258,
          259,
          260,
          261,
          262,
          263,
          264,
          265,
          266,
          267,
          268,
          269,
          270,
          271,
          272,
          273,
          274,
          275,
          276,
          277,
          278,
          279,
          280,
          281,
          282,
          283,
          284,
          285,
          286,
          287,
          288,
          289,
          290,
          291,
          292,
          293,
          294,
          295,
          296,
          297,
          298,
          299,
          300,
          301,
          302,
          303,
          304,
          305,
          306,
          307,
          308,
          309,
          310,
          311,
          312,
          313,
          314,
          315,
          316,
          317,
          318,
          319,
          320,
          321,
          322,
          323,
          324,
          325,
          326,
          327,
          328,
          329,
          330,
          331,
          332,
          333,
          334,
          335,
          336,
          337,
          338,
          339,
          340,
          341,
          342,
          343,
          344,
          345,
          346,
          347,
          348,
          349,
          350,
          351,
          352,
          353,
          354,
          355,
          356,
          357,
          358,
          359,
          360,
          361,
          362,
          363,
          364,
          365,
          366,
          367,
          368,
          369,
          370,
          371,
          372,
          373,
          374,
          375,
          376,
          377,
          378,
          379,
          380,
          381,
          382,
          383,
          384,
          385,
          386,
          387,
          388,
          389,
          390,
          391,
          392,
          393,
          394,
          395,
          396,
          397,
          398
         ],
         "yaxis": "y"
        }
       ],
       "layout": {
        "coloraxis": {
         "colorbar": {
          "title": {
           "text": "HelpTopicCount"
          }
         },
         "colorscale": [
          [
           0,
           "#0d0887"
          ],
          [
           0.1111111111111111,
           "#46039f"
          ],
          [
           0.2222222222222222,
           "#7201a8"
          ],
          [
           0.3333333333333333,
           "#9c179e"
          ],
          [
           0.4444444444444444,
           "#bd3786"
          ],
          [
           0.5555555555555556,
           "#d8576b"
          ],
          [
           0.6666666666666666,
           "#ed7953"
          ],
          [
           0.7777777777777778,
           "#fb9f3a"
          ],
          [
           0.8888888888888888,
           "#fdca26"
          ],
          [
           1,
           "#f0f921"
          ]
         ]
        },
        "height": 600,
        "legend": {
         "itemsizing": "constant",
         "tracegroupgap": 0
        },
        "template": {
         "data": {
          "bar": [
           {
            "error_x": {
             "color": "#2a3f5f"
            },
            "error_y": {
             "color": "#2a3f5f"
            },
            "marker": {
             "line": {
              "color": "white",
              "width": 0.5
             },
             "pattern": {
              "fillmode": "overlay",
              "size": 10,
              "solidity": 0.2
             }
            },
            "type": "bar"
           }
          ],
          "barpolar": [
           {
            "marker": {
             "line": {
              "color": "white",
              "width": 0.5
             },
             "pattern": {
              "fillmode": "overlay",
              "size": 10,
              "solidity": 0.2
             }
            },
            "type": "barpolar"
           }
          ],
          "carpet": [
           {
            "aaxis": {
             "endlinecolor": "#2a3f5f",
             "gridcolor": "#C8D4E3",
             "linecolor": "#C8D4E3",
             "minorgridcolor": "#C8D4E3",
             "startlinecolor": "#2a3f5f"
            },
            "baxis": {
             "endlinecolor": "#2a3f5f",
             "gridcolor": "#C8D4E3",
             "linecolor": "#C8D4E3",
             "minorgridcolor": "#C8D4E3",
             "startlinecolor": "#2a3f5f"
            },
            "type": "carpet"
           }
          ],
          "choropleth": [
           {
            "colorbar": {
             "outlinewidth": 0,
             "ticks": ""
            },
            "type": "choropleth"
           }
          ],
          "contour": [
           {
            "colorbar": {
             "outlinewidth": 0,
             "ticks": ""
            },
            "colorscale": [
             [
              0,
              "#0d0887"
             ],
             [
              0.1111111111111111,
              "#46039f"
             ],
             [
              0.2222222222222222,
              "#7201a8"
             ],
             [
              0.3333333333333333,
              "#9c179e"
             ],
             [
              0.4444444444444444,
              "#bd3786"
             ],
             [
              0.5555555555555556,
              "#d8576b"
             ],
             [
              0.6666666666666666,
              "#ed7953"
             ],
             [
              0.7777777777777778,
              "#fb9f3a"
             ],
             [
              0.8888888888888888,
              "#fdca26"
             ],
             [
              1,
              "#f0f921"
             ]
            ],
            "type": "contour"
           }
          ],
          "contourcarpet": [
           {
            "colorbar": {
             "outlinewidth": 0,
             "ticks": ""
            },
            "type": "contourcarpet"
           }
          ],
          "heatmap": [
           {
            "colorbar": {
             "outlinewidth": 0,
             "ticks": ""
            },
            "colorscale": [
             [
              0,
              "#0d0887"
             ],
             [
              0.1111111111111111,
              "#46039f"
             ],
             [
              0.2222222222222222,
              "#7201a8"
             ],
             [
              0.3333333333333333,
              "#9c179e"
             ],
             [
              0.4444444444444444,
              "#bd3786"
             ],
             [
              0.5555555555555556,
              "#d8576b"
             ],
             [
              0.6666666666666666,
              "#ed7953"
             ],
             [
              0.7777777777777778,
              "#fb9f3a"
             ],
             [
              0.8888888888888888,
              "#fdca26"
             ],
             [
              1,
              "#f0f921"
             ]
            ],
            "type": "heatmap"
           }
          ],
          "heatmapgl": [
           {
            "colorbar": {
             "outlinewidth": 0,
             "ticks": ""
            },
            "colorscale": [
             [
              0,
              "#0d0887"
             ],
             [
              0.1111111111111111,
              "#46039f"
             ],
             [
              0.2222222222222222,
              "#7201a8"
             ],
             [
              0.3333333333333333,
              "#9c179e"
             ],
             [
              0.4444444444444444,
              "#bd3786"
             ],
             [
              0.5555555555555556,
              "#d8576b"
             ],
             [
              0.6666666666666666,
              "#ed7953"
             ],
             [
              0.7777777777777778,
              "#fb9f3a"
             ],
             [
              0.8888888888888888,
              "#fdca26"
             ],
             [
              1,
              "#f0f921"
             ]
            ],
            "type": "heatmapgl"
           }
          ],
          "histogram": [
           {
            "marker": {
             "pattern": {
              "fillmode": "overlay",
              "size": 10,
              "solidity": 0.2
             }
            },
            "type": "histogram"
           }
          ],
          "histogram2d": [
           {
            "colorbar": {
             "outlinewidth": 0,
             "ticks": ""
            },
            "colorscale": [
             [
              0,
              "#0d0887"
             ],
             [
              0.1111111111111111,
              "#46039f"
             ],
             [
              0.2222222222222222,
              "#7201a8"
             ],
             [
              0.3333333333333333,
              "#9c179e"
             ],
             [
              0.4444444444444444,
              "#bd3786"
             ],
             [
              0.5555555555555556,
              "#d8576b"
             ],
             [
              0.6666666666666666,
              "#ed7953"
             ],
             [
              0.7777777777777778,
              "#fb9f3a"
             ],
             [
              0.8888888888888888,
              "#fdca26"
             ],
             [
              1,
              "#f0f921"
             ]
            ],
            "type": "histogram2d"
           }
          ],
          "histogram2dcontour": [
           {
            "colorbar": {
             "outlinewidth": 0,
             "ticks": ""
            },
            "colorscale": [
             [
              0,
              "#0d0887"
             ],
             [
              0.1111111111111111,
              "#46039f"
             ],
             [
              0.2222222222222222,
              "#7201a8"
             ],
             [
              0.3333333333333333,
              "#9c179e"
             ],
             [
              0.4444444444444444,
              "#bd3786"
             ],
             [
              0.5555555555555556,
              "#d8576b"
             ],
             [
              0.6666666666666666,
              "#ed7953"
             ],
             [
              0.7777777777777778,
              "#fb9f3a"
             ],
             [
              0.8888888888888888,
              "#fdca26"
             ],
             [
              1,
              "#f0f921"
             ]
            ],
            "type": "histogram2dcontour"
           }
          ],
          "mesh3d": [
           {
            "colorbar": {
             "outlinewidth": 0,
             "ticks": ""
            },
            "type": "mesh3d"
           }
          ],
          "parcoords": [
           {
            "line": {
             "colorbar": {
              "outlinewidth": 0,
              "ticks": ""
             }
            },
            "type": "parcoords"
           }
          ],
          "pie": [
           {
            "automargin": true,
            "type": "pie"
           }
          ],
          "scatter": [
           {
            "fillpattern": {
             "fillmode": "overlay",
             "size": 10,
             "solidity": 0.2
            },
            "type": "scatter"
           }
          ],
          "scatter3d": [
           {
            "line": {
             "colorbar": {
              "outlinewidth": 0,
              "ticks": ""
             }
            },
            "marker": {
             "colorbar": {
              "outlinewidth": 0,
              "ticks": ""
             }
            },
            "type": "scatter3d"
           }
          ],
          "scattercarpet": [
           {
            "marker": {
             "colorbar": {
              "outlinewidth": 0,
              "ticks": ""
             }
            },
            "type": "scattercarpet"
           }
          ],
          "scattergeo": [
           {
            "marker": {
             "colorbar": {
              "outlinewidth": 0,
              "ticks": ""
             }
            },
            "type": "scattergeo"
           }
          ],
          "scattergl": [
           {
            "marker": {
             "colorbar": {
              "outlinewidth": 0,
              "ticks": ""
             }
            },
            "type": "scattergl"
           }
          ],
          "scattermapbox": [
           {
            "marker": {
             "colorbar": {
              "outlinewidth": 0,
              "ticks": ""
             }
            },
            "type": "scattermapbox"
           }
          ],
          "scatterpolar": [
           {
            "marker": {
             "colorbar": {
              "outlinewidth": 0,
              "ticks": ""
             }
            },
            "type": "scatterpolar"
           }
          ],
          "scatterpolargl": [
           {
            "marker": {
             "colorbar": {
              "outlinewidth": 0,
              "ticks": ""
             }
            },
            "type": "scatterpolargl"
           }
          ],
          "scatterternary": [
           {
            "marker": {
             "colorbar": {
              "outlinewidth": 0,
              "ticks": ""
             }
            },
            "type": "scatterternary"
           }
          ],
          "surface": [
           {
            "colorbar": {
             "outlinewidth": 0,
             "ticks": ""
            },
            "colorscale": [
             [
              0,
              "#0d0887"
             ],
             [
              0.1111111111111111,
              "#46039f"
             ],
             [
              0.2222222222222222,
              "#7201a8"
             ],
             [
              0.3333333333333333,
              "#9c179e"
             ],
             [
              0.4444444444444444,
              "#bd3786"
             ],
             [
              0.5555555555555556,
              "#d8576b"
             ],
             [
              0.6666666666666666,
              "#ed7953"
             ],
             [
              0.7777777777777778,
              "#fb9f3a"
             ],
             [
              0.8888888888888888,
              "#fdca26"
             ],
             [
              1,
              "#f0f921"
             ]
            ],
            "type": "surface"
           }
          ],
          "table": [
           {
            "cells": {
             "fill": {
              "color": "#EBF0F8"
             },
             "line": {
              "color": "white"
             }
            },
            "header": {
             "fill": {
              "color": "#C8D4E3"
             },
             "line": {
              "color": "white"
             }
            },
            "type": "table"
           }
          ]
         },
         "layout": {
          "annotationdefaults": {
           "arrowcolor": "#2a3f5f",
           "arrowhead": 0,
           "arrowwidth": 1
          },
          "autotypenumbers": "strict",
          "coloraxis": {
           "colorbar": {
            "outlinewidth": 0,
            "ticks": ""
           }
          },
          "colorscale": {
           "diverging": [
            [
             0,
             "#8e0152"
            ],
            [
             0.1,
             "#c51b7d"
            ],
            [
             0.2,
             "#de77ae"
            ],
            [
             0.3,
             "#f1b6da"
            ],
            [
             0.4,
             "#fde0ef"
            ],
            [
             0.5,
             "#f7f7f7"
            ],
            [
             0.6,
             "#e6f5d0"
            ],
            [
             0.7,
             "#b8e186"
            ],
            [
             0.8,
             "#7fbc41"
            ],
            [
             0.9,
             "#4d9221"
            ],
            [
             1,
             "#276419"
            ]
           ],
           "sequential": [
            [
             0,
             "#0d0887"
            ],
            [
             0.1111111111111111,
             "#46039f"
            ],
            [
             0.2222222222222222,
             "#7201a8"
            ],
            [
             0.3333333333333333,
             "#9c179e"
            ],
            [
             0.4444444444444444,
             "#bd3786"
            ],
            [
             0.5555555555555556,
             "#d8576b"
            ],
            [
             0.6666666666666666,
             "#ed7953"
            ],
            [
             0.7777777777777778,
             "#fb9f3a"
            ],
            [
             0.8888888888888888,
             "#fdca26"
            ],
            [
             1,
             "#f0f921"
            ]
           ],
           "sequentialminus": [
            [
             0,
             "#0d0887"
            ],
            [
             0.1111111111111111,
             "#46039f"
            ],
            [
             0.2222222222222222,
             "#7201a8"
            ],
            [
             0.3333333333333333,
             "#9c179e"
            ],
            [
             0.4444444444444444,
             "#bd3786"
            ],
            [
             0.5555555555555556,
             "#d8576b"
            ],
            [
             0.6666666666666666,
             "#ed7953"
            ],
            [
             0.7777777777777778,
             "#fb9f3a"
            ],
            [
             0.8888888888888888,
             "#fdca26"
            ],
            [
             1,
             "#f0f921"
            ]
           ]
          },
          "colorway": [
           "#636efa",
           "#EF553B",
           "#00cc96",
           "#ab63fa",
           "#FFA15A",
           "#19d3f3",
           "#FF6692",
           "#B6E880",
           "#FF97FF",
           "#FECB52"
          ],
          "font": {
           "color": "#2a3f5f"
          },
          "geo": {
           "bgcolor": "white",
           "lakecolor": "white",
           "landcolor": "white",
           "showlakes": true,
           "showland": true,
           "subunitcolor": "#C8D4E3"
          },
          "hoverlabel": {
           "align": "left"
          },
          "hovermode": "closest",
          "mapbox": {
           "style": "light"
          },
          "paper_bgcolor": "white",
          "plot_bgcolor": "white",
          "polar": {
           "angularaxis": {
            "gridcolor": "#EBF0F8",
            "linecolor": "#EBF0F8",
            "ticks": ""
           },
           "bgcolor": "white",
           "radialaxis": {
            "gridcolor": "#EBF0F8",
            "linecolor": "#EBF0F8",
            "ticks": ""
           }
          },
          "scene": {
           "xaxis": {
            "backgroundcolor": "white",
            "gridcolor": "#DFE8F3",
            "gridwidth": 2,
            "linecolor": "#EBF0F8",
            "showbackground": true,
            "ticks": "",
            "zerolinecolor": "#EBF0F8"
           },
           "yaxis": {
            "backgroundcolor": "white",
            "gridcolor": "#DFE8F3",
            "gridwidth": 2,
            "linecolor": "#EBF0F8",
            "showbackground": true,
            "ticks": "",
            "zerolinecolor": "#EBF0F8"
           },
           "zaxis": {
            "backgroundcolor": "white",
            "gridcolor": "#DFE8F3",
            "gridwidth": 2,
            "linecolor": "#EBF0F8",
            "showbackground": true,
            "ticks": "",
            "zerolinecolor": "#EBF0F8"
           }
          },
          "shapedefaults": {
           "line": {
            "color": "#2a3f5f"
           }
          },
          "ternary": {
           "aaxis": {
            "gridcolor": "#DFE8F3",
            "linecolor": "#A2B1C6",
            "ticks": ""
           },
           "baxis": {
            "gridcolor": "#DFE8F3",
            "linecolor": "#A2B1C6",
            "ticks": ""
           },
           "bgcolor": "white",
           "caxis": {
            "gridcolor": "#DFE8F3",
            "linecolor": "#A2B1C6",
            "ticks": ""
           }
          },
          "title": {
           "x": 0.05
          },
          "xaxis": {
           "automargin": true,
           "gridcolor": "#EBF0F8",
           "linecolor": "#EBF0F8",
           "ticks": "",
           "title": {
            "standoff": 15
           },
           "zerolinecolor": "#EBF0F8",
           "zerolinewidth": 2
          },
          "yaxis": {
           "automargin": true,
           "gridcolor": "#EBF0F8",
           "linecolor": "#EBF0F8",
           "ticks": "",
           "title": {
            "standoff": 15
           },
           "zerolinecolor": "#EBF0F8",
           "zerolinewidth": 2
          }
         }
        },
        "title": {
         "text": "NewPlot: Ticket Volume Over Time"
        },
        "width": 1200,
        "xaxis": {
         "anchor": "y",
         "domain": [
          0,
          1
         ],
         "title": {
          "text": "Date Opened"
         }
        },
        "yaxis": {
         "anchor": "x",
         "domain": [
          0,
          1
         ],
         "title": {
          "text": "Ticket Volume"
         }
        }
       }
      }
     },
     "metadata": {},
     "output_type": "display_data"
    }
   ],
   "source": [
    "# Chart using Plotly\n",
    "\n",
    "df['HelpTopicCount'] = df.groupby('HelpTopic')['HelpTopic'].transform('count')\n",
    "\n",
    "\n",
    "# Assuming df['HelpTopicCount'] is already calculated as before\n",
    "fig = px.scatter(df, x='Date Opened', size='ResolutionDurationMins',\n",
    "                 color='HelpTopicCount', title='NewPlot: Ticket Volume Over Time')\n",
    "\n",
    "# Customize hover data to show \"HelpTopic\" and other relevant information\n",
    "fig.update_traces(hovertemplate='Help Topic: %{text}<br>Date Opened: %{x}<br>Resolution Duration (mins): %{y}<br>Help Topic Count: %{marker.color}',\n",
    "                  text=df['HelpTopic'])  # Using the 'text' attribute for hover information\n",
    "\n",
    "# Adjust the size of the chart\n",
    "fig.update_layout(width=1200, height=600, template='plotly_white') \n",
    "\n",
    "# Change y-axis label\n",
    "fig.update_yaxes(title_text='Ticket Volume')\n",
    "\n",
    "\n",
    "fig.show()\n",
    "\n",
    "\n"
   ]
  },
  {
   "cell_type": "markdown",
   "metadata": {},
   "source": [
    "***NewPlot*** above visualizes the volume of support tickets over time, with several dimensions of data represented:\n",
    "\n",
    "- The **x-axis** (\"Date Opened\"): This shows the time frame of the data, indicating when tickets were opened. It spans from January 2016 to around January 2018.\n",
    "\n",
    "- The **y-axis** (\"Ticket Volume\"): This represents the number of tickets opened on a particular date.\n",
    "\n",
    "- The **size of the points** (\"ResolutionDurationMins\"): Each point's size is proportional to the resolution time in minutes for the tickets opened on that date. Larger points indicate a longer average resolution time, suggesting more complex or time-consuming issues.\n",
    "\n",
    "- The **color of the points** (\"HelpTopicCount\"): The color intensity reflects the number of tickets associated with particular help topics. The gradient color scale, which goes from yellow to purple, indicates that points with a more intense color (closer to purple) have a higher count of related help topics, whereas lighter colors (yellow) indicate fewer help topics.\n",
    "\n",
    "From the NewPlot, several insights can be gathered:\n",
    "\n",
    "- There are dates with particularly large and intensely colored points, indicating days when many tickets were opened, and the help topics for these tickets were numerous, suggesting a possible widespread issue or incident that affected many users.\n",
    "\n",
    "- The distribution of points across the date range shows variability in ticket volume and resolution time. For example, there are periods with clusters of larger points, which could signify recurring problems or seasonal issues that take longer to resolve.\n",
    "\n",
    "\n",
    "- The color bar titled \"HelpTopicCount\" on the right side of the image provides a reference for the number of help topics associated with the tickets, with a range from 0 to over 200.\n",
    "\n",
    "Overall, this visualization can help support teams identify trends, potential problem areas, and the impact of help topics on the resolution time of tickets. It could be used to prioritize areas for improvement in customer support services."
   ]
  },
  {
   "cell_type": "markdown",
   "metadata": {},
   "source": [
    "***NewPlot2*** below  is box plot that visualizes the distribution of resolution durations for different help topics in the DataFrame. \n",
    "\n",
    "The plot is categorized by the 'HelpTopic' on the x-axis, with the 'ResolutionDurationMins' on the y-axis, showing how resolution times vary across different topics. \n",
    "\n",
    "Each help topic is color-coded for easy distinction. The chart is customized in size and style (using the 'plotly_white' template) to enhance visual clarity and presentation, providing a useful tool for analyzing patterns or outliers in resolution times across various help topics."
   ]
  },
  {
   "cell_type": "code",
   "execution_count": 22,
   "metadata": {},
   "outputs": [
    {
     "data": {
      "application/vnd.plotly.v1+json": {
       "config": {
        "plotlyServerURL": "https://plot.ly"
       },
       "data": [
        {
         "alignmentgroup": "True",
         "hovertemplate": "HelpTopic=%{x}<br>ResolutionDurationMins=%{y}<extra></extra>",
         "legendgroup": "Network & Wireless",
         "marker": {
          "color": "#636efa"
         },
         "name": "Network & Wireless",
         "notched": false,
         "offsetgroup": "Network & Wireless",
         "orientation": "v",
         "showlegend": true,
         "type": "box",
         "x": [
          "Network & Wireless",
          "Network & Wireless",
          "Network & Wireless",
          "Network & Wireless",
          "Network & Wireless",
          "Network & Wireless",
          "Network & Wireless"
         ],
         "x0": " ",
         "xaxis": "x",
         "y": [
          62,
          21,
          21,
          1411,
          41,
          434,
          21
         ],
         "y0": " ",
         "yaxis": "y"
        },
        {
         "alignmentgroup": "True",
         "hovertemplate": "HelpTopic=%{x}<br>ResolutionDurationMins=%{y}<extra></extra>",
         "legendgroup": "Accessories",
         "marker": {
          "color": "#EF553B"
         },
         "name": "Accessories",
         "notched": false,
         "offsetgroup": "Accessories",
         "orientation": "v",
         "showlegend": true,
         "type": "box",
         "x": [
          "Accessories",
          "Accessories",
          "Accessories",
          "Accessories",
          "Accessories",
          "Accessories",
          "Accessories",
          "Accessories",
          "Accessories",
          "Accessories",
          "Accessories",
          "Accessories",
          "Accessories",
          "Accessories",
          "Accessories",
          "Accessories",
          "Accessories",
          "Accessories",
          "Accessories",
          "Accessories",
          "Accessories",
          "Accessories",
          "Accessories",
          "Accessories",
          "Accessories",
          "Accessories",
          "Accessories",
          "Accessories",
          "Accessories",
          "Accessories",
          "Accessories",
          "Accessories",
          "Accessories",
          "Accessories",
          "Accessories",
          "Accessories",
          "Accessories",
          "Accessories",
          "Accessories",
          "Accessories",
          "Accessories",
          "Accessories",
          "Accessories",
          "Accessories",
          "Accessories",
          "Accessories",
          "Accessories",
          "Accessories",
          "Accessories",
          "Accessories",
          "Accessories",
          "Accessories",
          "Accessories",
          "Accessories",
          "Accessories",
          "Accessories",
          "Accessories",
          "Accessories",
          "Accessories",
          "Accessories",
          "Accessories",
          "Accessories",
          "Accessories",
          "Accessories",
          "Accessories",
          "Accessories",
          "Accessories",
          "Accessories",
          "Accessories",
          "Accessories",
          "Accessories",
          "Accessories",
          "Accessories",
          "Accessories",
          "Accessories",
          "Accessories",
          "Accessories",
          "Accessories",
          "Accessories",
          "Accessories",
          "Accessories",
          "Accessories",
          "Accessories",
          "Accessories",
          "Accessories",
          "Accessories",
          "Accessories",
          "Accessories",
          "Accessories",
          "Accessories",
          "Accessories",
          "Accessories",
          "Accessories",
          "Accessories",
          "Accessories",
          "Accessories",
          "Accessories",
          "Accessories",
          "Accessories",
          "Accessories",
          "Accessories",
          "Accessories",
          "Accessories",
          "Accessories",
          "Accessories",
          "Accessories",
          "Accessories",
          "Accessories",
          "Accessories",
          "Accessories",
          "Accessories",
          "Accessories",
          "Accessories",
          "Accessories",
          "Accessories",
          "Accessories",
          "Accessories",
          "Accessories",
          "Accessories",
          "Accessories",
          "Accessories",
          "Accessories"
         ],
         "x0": " ",
         "xaxis": "x",
         "y": [
          1507,
          1507,
          1507,
          1507,
          1507,
          179830,
          179830,
          179830,
          179830,
          179830,
          179830,
          179830,
          156633,
          137867,
          137867,
          137867,
          156633,
          156633,
          156633,
          156633,
          156633,
          12,
          1629,
          1629,
          1629,
          1629,
          1629,
          1629,
          1629,
          1629,
          16404,
          16404,
          16404,
          16404,
          16404,
          16404,
          16404,
          16404,
          370369,
          370369,
          370369,
          370369,
          370369,
          370369,
          370369,
          198610,
          198610,
          198610,
          198610,
          198610,
          198610,
          198610,
          198610,
          198610,
          198610,
          4,
          4,
          5640,
          5640,
          5640,
          5640,
          5640,
          5640,
          5640,
          5640,
          5640,
          5640,
          5640,
          286342,
          286342,
          286342,
          286342,
          286342,
          286342,
          286342,
          377344,
          377344,
          377344,
          377344,
          377344,
          377344,
          22591,
          22591,
          22591,
          22591,
          175555,
          175555,
          175555,
          175555,
          175555,
          175555,
          0,
          0,
          0,
          0,
          0,
          0,
          0,
          0,
          0,
          0,
          0,
          0,
          0,
          0,
          0,
          0,
          0,
          0,
          0,
          0,
          0,
          0,
          0,
          0,
          0,
          0,
          0,
          0,
          57674,
          57674,
          57674
         ],
         "y0": " ",
         "yaxis": "y"
        },
        {
         "alignmentgroup": "True",
         "hovertemplate": "HelpTopic=%{x}<br>ResolutionDurationMins=%{y}<extra></extra>",
         "legendgroup": "Access Requests",
         "marker": {
          "color": "#00cc96"
         },
         "name": "Access Requests",
         "notched": false,
         "offsetgroup": "Access Requests",
         "orientation": "v",
         "showlegend": true,
         "type": "box",
         "x": [
          "Access Requests",
          "Access Requests",
          "Access Requests",
          "Access Requests",
          "Access Requests",
          "Access Requests",
          "Access Requests",
          "Access Requests",
          "Access Requests",
          "Access Requests",
          "Access Requests",
          "Access Requests",
          "Access Requests",
          "Access Requests",
          "Access Requests",
          "Access Requests",
          "Access Requests",
          "Access Requests",
          "Access Requests",
          "Access Requests",
          "Access Requests",
          "Access Requests",
          "Access Requests",
          "Access Requests",
          "Access Requests",
          "Access Requests",
          "Access Requests",
          "Access Requests",
          "Access Requests",
          "Access Requests",
          "Access Requests",
          "Access Requests",
          "Access Requests",
          "Access Requests",
          "Access Requests",
          "Access Requests",
          "Access Requests",
          "Access Requests",
          "Access Requests",
          "Access Requests",
          "Access Requests",
          "Access Requests",
          "Access Requests",
          "Access Requests",
          "Access Requests",
          "Access Requests",
          "Access Requests",
          "Access Requests",
          "Access Requests",
          "Access Requests",
          "Access Requests",
          "Access Requests",
          "Access Requests",
          "Access Requests",
          "Access Requests",
          "Access Requests",
          "Access Requests",
          "Access Requests",
          "Access Requests",
          "Access Requests",
          "Access Requests",
          "Access Requests",
          "Access Requests",
          "Access Requests",
          "Access Requests",
          "Access Requests",
          "Access Requests",
          "Access Requests",
          "Access Requests",
          "Access Requests",
          "Access Requests",
          "Access Requests",
          "Access Requests",
          "Access Requests",
          "Access Requests",
          "Access Requests",
          "Access Requests",
          "Access Requests",
          "Access Requests",
          "Access Requests",
          "Access Requests",
          "Access Requests",
          "Access Requests",
          "Access Requests",
          "Access Requests",
          "Access Requests",
          "Access Requests",
          "Access Requests",
          "Access Requests",
          "Access Requests",
          "Access Requests",
          "Access Requests",
          "Access Requests",
          "Access Requests",
          "Access Requests",
          "Access Requests",
          "Access Requests",
          "Access Requests",
          "Access Requests",
          "Access Requests",
          "Access Requests",
          "Access Requests",
          "Access Requests",
          "Access Requests",
          "Access Requests",
          "Access Requests",
          "Access Requests",
          "Access Requests",
          "Access Requests",
          "Access Requests",
          "Access Requests",
          "Access Requests",
          "Access Requests",
          "Access Requests",
          "Access Requests",
          "Access Requests",
          "Access Requests",
          "Access Requests",
          "Access Requests",
          "Access Requests",
          "Access Requests",
          "Access Requests",
          "Access Requests",
          "Access Requests",
          "Access Requests",
          "Access Requests",
          "Access Requests",
          "Access Requests",
          "Access Requests",
          "Access Requests",
          "Access Requests",
          "Access Requests",
          "Access Requests",
          "Access Requests",
          "Access Requests",
          "Access Requests",
          "Access Requests",
          "Access Requests",
          "Access Requests",
          "Access Requests",
          "Access Requests",
          "Access Requests",
          "Access Requests",
          "Access Requests",
          "Access Requests",
          "Access Requests",
          "Access Requests",
          "Access Requests",
          "Access Requests",
          "Access Requests",
          "Access Requests",
          "Access Requests",
          "Access Requests",
          "Access Requests",
          "Access Requests",
          "Access Requests",
          "Access Requests",
          "Access Requests",
          "Access Requests",
          "Access Requests",
          "Access Requests",
          "Access Requests",
          "Access Requests",
          "Access Requests",
          "Access Requests",
          "Access Requests",
          "Access Requests",
          "Access Requests",
          "Access Requests",
          "Access Requests",
          "Access Requests",
          "Access Requests",
          "Access Requests",
          "Access Requests",
          "Access Requests",
          "Access Requests",
          "Access Requests",
          "Access Requests",
          "Access Requests",
          "Access Requests",
          "Access Requests",
          "Access Requests",
          "Access Requests",
          "Access Requests",
          "Access Requests",
          "Access Requests",
          "Access Requests",
          "Access Requests",
          "Access Requests",
          "Access Requests",
          "Access Requests",
          "Access Requests",
          "Access Requests",
          "Access Requests",
          "Access Requests",
          "Access Requests",
          "Access Requests",
          "Access Requests",
          "Access Requests",
          "Access Requests",
          "Access Requests",
          "Access Requests",
          "Access Requests",
          "Access Requests",
          "Access Requests",
          "Access Requests",
          "Access Requests",
          "Access Requests",
          "Access Requests",
          "Access Requests",
          "Access Requests",
          "Access Requests",
          "Access Requests",
          "Access Requests",
          "Access Requests",
          "Access Requests",
          "Access Requests",
          "Access Requests",
          "Access Requests",
          "Access Requests",
          "Access Requests",
          "Access Requests",
          "Access Requests",
          "Access Requests",
          "Access Requests",
          "Access Requests",
          "Access Requests",
          "Access Requests",
          "Access Requests",
          "Access Requests",
          "Access Requests",
          "Access Requests",
          "Access Requests",
          "Access Requests",
          "Access Requests",
          "Access Requests",
          "Access Requests",
          "Access Requests",
          "Access Requests",
          "Access Requests",
          "Access Requests",
          "Access Requests",
          "Access Requests"
         ],
         "x0": " ",
         "xaxis": "x",
         "y": [
          21,
          21,
          5,
          44320,
          107,
          300,
          5,
          21,
          256,
          5,
          1062,
          81,
          42710,
          42641,
          5,
          5,
          5,
          1062,
          1062,
          1062,
          1062,
          1062,
          42710,
          42710,
          42710,
          42710,
          219,
          160,
          22,
          22,
          22,
          22,
          49,
          49,
          43,
          43,
          43,
          38,
          38,
          38,
          176,
          176,
          176,
          176,
          176,
          176,
          176,
          33,
          33,
          33,
          1093,
          1093,
          1093,
          1093,
          1093,
          12,
          12,
          59,
          118,
          118,
          118,
          161,
          109,
          109,
          109,
          109,
          109,
          109,
          109,
          109,
          42823,
          42823,
          110,
          2,
          2,
          2,
          133,
          133,
          87650,
          87650,
          87650,
          87650,
          87650,
          87650,
          87650,
          87650,
          87650,
          87650,
          87650,
          87650,
          80,
          80,
          80,
          44320,
          256,
          256,
          117,
          117,
          117,
          117,
          487,
          487,
          256,
          0,
          0,
          0,
          0,
          0,
          0,
          0,
          0,
          0,
          2,
          2,
          2,
          64,
          64,
          64,
          12,
          12,
          12,
          41,
          41,
          41,
          115046,
          115046,
          115046,
          115046,
          115046,
          115046,
          115046,
          115046,
          115046,
          391,
          391,
          391,
          391,
          161,
          391,
          110,
          226,
          226,
          226,
          54,
          37,
          37,
          37,
          66,
          66,
          66,
          66,
          60580,
          60580,
          60580,
          60580,
          60580,
          60580,
          60580,
          60580,
          60580,
          60580,
          60580,
          110,
          32,
          32,
          32,
          32,
          302,
          302,
          302,
          302,
          227,
          227,
          227,
          14,
          14,
          14,
          14,
          1558,
          180,
          180,
          180,
          180,
          53,
          53,
          53,
          42967,
          42967,
          42967,
          42967,
          1,
          1,
          1,
          1,
          28,
          28,
          28,
          1,
          1,
          1,
          1705,
          1705,
          1705,
          1705,
          1705,
          1705,
          1705,
          1705,
          1705,
          8,
          8,
          8,
          44789,
          44789,
          44789,
          44789,
          44789,
          44760,
          44760,
          44760,
          44760,
          338,
          338,
          44585,
          44585,
          44585,
          174,
          174,
          174,
          174,
          174,
          0,
          0,
          0,
          0,
          161,
          899,
          899,
          899,
          44320,
          44320,
          300,
          161
         ],
         "y0": " ",
         "yaxis": "y"
        },
        {
         "alignmentgroup": "True",
         "hovertemplate": "HelpTopic=%{x}<br>ResolutionDurationMins=%{y}<extra></extra>",
         "legendgroup": "VPN access",
         "marker": {
          "color": "#ab63fa"
         },
         "name": "VPN access",
         "notched": false,
         "offsetgroup": "VPN access",
         "orientation": "v",
         "showlegend": true,
         "type": "box",
         "x": [
          "VPN access"
         ],
         "x0": " ",
         "xaxis": "x",
         "y": [
          206
         ],
         "y0": " ",
         "yaxis": "y"
        },
        {
         "alignmentgroup": "True",
         "hovertemplate": "HelpTopic=%{x}<br>ResolutionDurationMins=%{y}<extra></extra>",
         "legendgroup": "Jira Requests",
         "marker": {
          "color": "#FFA15A"
         },
         "name": "Jira Requests",
         "notched": false,
         "offsetgroup": "Jira Requests",
         "orientation": "v",
         "showlegend": true,
         "type": "box",
         "x": [
          "Jira Requests"
         ],
         "x0": " ",
         "xaxis": "x",
         "y": [
          363
         ],
         "y0": " ",
         "yaxis": "y"
        },
        {
         "alignmentgroup": "True",
         "hovertemplate": "HelpTopic=%{x}<br>ResolutionDurationMins=%{y}<extra></extra>",
         "legendgroup": "Data Center Services",
         "marker": {
          "color": "#19d3f3"
         },
         "name": "Data Center Services",
         "notched": false,
         "offsetgroup": "Data Center Services",
         "orientation": "v",
         "showlegend": true,
         "type": "box",
         "x": [
          "Data Center Services"
         ],
         "x0": " ",
         "xaxis": "x",
         "y": [
          242.38333333333333
         ],
         "y0": " ",
         "yaxis": "y"
        },
        {
         "alignmentgroup": "True",
         "hovertemplate": "HelpTopic=%{x}<br>ResolutionDurationMins=%{y}<extra></extra>",
         "legendgroup": "Data Center Services /Report VM issue",
         "marker": {
          "color": "#FF6692"
         },
         "name": "Data Center Services /Report VM issue",
         "notched": false,
         "offsetgroup": "Data Center Services /Report VM issue",
         "orientation": "v",
         "showlegend": true,
         "type": "box",
         "x": [
          "Data Center Services /Report VM issue",
          "Data Center Services /Report VM issue"
         ],
         "x0": " ",
         "xaxis": "x",
         "y": [
          24.766666666666666,
          153.78333333333333
         ],
         "y0": " ",
         "yaxis": "y"
        },
        {
         "alignmentgroup": "True",
         "hovertemplate": "HelpTopic=%{x}<br>ResolutionDurationMins=%{y}<extra></extra>",
         "legendgroup": "Data Center Services /VM Request",
         "marker": {
          "color": "#B6E880"
         },
         "name": "Data Center Services /VM Request",
         "notched": false,
         "offsetgroup": "Data Center Services /VM Request",
         "orientation": "v",
         "showlegend": true,
         "type": "box",
         "x": [
          "Data Center Services /VM Request"
         ],
         "x0": " ",
         "xaxis": "x",
         "y": [
          28702.333333333332
         ],
         "y0": " ",
         "yaxis": "y"
        },
        {
         "alignmentgroup": "True",
         "hovertemplate": "HelpTopic=%{x}<br>ResolutionDurationMins=%{y}<extra></extra>",
         "legendgroup": "Software Request",
         "marker": {
          "color": "#FF97FF"
         },
         "name": "Software Request",
         "notched": false,
         "offsetgroup": "Software Request",
         "orientation": "v",
         "showlegend": true,
         "type": "box",
         "x": [
          "Software Request",
          "Software Request"
         ],
         "x0": " ",
         "xaxis": "x",
         "y": [
          256,
          256
         ],
         "y0": " ",
         "yaxis": "y"
        },
        {
         "alignmentgroup": "True",
         "hovertemplate": "HelpTopic=%{x}<br>ResolutionDurationMins=%{y}<extra></extra>",
         "legendgroup": "Email Services",
         "marker": {
          "color": "#FECB52"
         },
         "name": "Email Services",
         "notched": false,
         "offsetgroup": "Email Services",
         "orientation": "v",
         "showlegend": true,
         "type": "box",
         "x": [
          "Email Services",
          "Email Services"
         ],
         "x0": " ",
         "xaxis": "x",
         "y": [
          1.35,
          43.266666666666666
         ],
         "y0": " ",
         "yaxis": "y"
        },
        {
         "alignmentgroup": "True",
         "hovertemplate": "HelpTopic=%{x}<br>ResolutionDurationMins=%{y}<extra></extra>",
         "legendgroup": "Hardware",
         "marker": {
          "color": "#636efa"
         },
         "name": "Hardware",
         "notched": false,
         "offsetgroup": "Hardware",
         "orientation": "v",
         "showlegend": true,
         "type": "box",
         "x": [
          "Hardware",
          "Hardware"
         ],
         "x0": " ",
         "xaxis": "x",
         "y": [
          38,
          12
         ],
         "y0": " ",
         "yaxis": "y"
        },
        {
         "alignmentgroup": "True",
         "hovertemplate": "HelpTopic=%{x}<br>ResolutionDurationMins=%{y}<extra></extra>",
         "legendgroup": "Hardware Issue",
         "marker": {
          "color": "#EF553B"
         },
         "name": "Hardware Issue",
         "notched": false,
         "offsetgroup": "Hardware Issue",
         "orientation": "v",
         "showlegend": true,
         "type": "box",
         "x": [
          "Hardware Issue",
          "Hardware Issue",
          "Hardware Issue"
         ],
         "x0": " ",
         "xaxis": "x",
         "y": [
          5840.35,
          49225.46666666667,
          49225.46666666667
         ],
         "y0": " ",
         "yaxis": "y"
        },
        {
         "alignmentgroup": "True",
         "hovertemplate": "HelpTopic=%{x}<br>ResolutionDurationMins=%{y}<extra></extra>",
         "legendgroup": "Network",
         "marker": {
          "color": "#00cc96"
         },
         "name": "Network",
         "notched": false,
         "offsetgroup": "Network",
         "orientation": "v",
         "showlegend": true,
         "type": "box",
         "x": [
          "Network",
          "Network"
         ],
         "x0": " ",
         "xaxis": "x",
         "y": [
          12,
          12
         ],
         "y0": " ",
         "yaxis": "y"
        },
        {
         "alignmentgroup": "True",
         "hovertemplate": "HelpTopic=%{x}<br>ResolutionDurationMins=%{y}<extra></extra>",
         "legendgroup": "Newhire Accounts",
         "marker": {
          "color": "#ab63fa"
         },
         "name": "Newhire Accounts",
         "notched": false,
         "offsetgroup": "Newhire Accounts",
         "orientation": "v",
         "showlegend": true,
         "type": "box",
         "x": [
          "Newhire Accounts"
         ],
         "x0": " ",
         "xaxis": "x",
         "y": [
          984.2833333333333
         ],
         "y0": " ",
         "yaxis": "y"
        },
        {
         "alignmentgroup": "True",
         "hovertemplate": "HelpTopic=%{x}<br>ResolutionDurationMins=%{y}<extra></extra>",
         "legendgroup": "Password Reset",
         "marker": {
          "color": "#FFA15A"
         },
         "name": "Password Reset",
         "notched": false,
         "offsetgroup": "Password Reset",
         "orientation": "v",
         "showlegend": true,
         "type": "box",
         "x": [
          "Password Reset"
         ],
         "x0": " ",
         "xaxis": "x",
         "y": [
          20.516666666666666
         ],
         "y0": " ",
         "yaxis": "y"
        },
        {
         "alignmentgroup": "True",
         "hovertemplate": "HelpTopic=%{x}<br>ResolutionDurationMins=%{y}<extra></extra>",
         "legendgroup": "Software Installation & Configuration",
         "marker": {
          "color": "#19d3f3"
         },
         "name": "Software Installation & Configuration",
         "notched": false,
         "offsetgroup": "Software Installation & Configuration",
         "orientation": "v",
         "showlegend": true,
         "type": "box",
         "x": [
          "Software Installation & Configuration"
         ],
         "x0": " ",
         "xaxis": "x",
         "y": [
          828.1666666666666
         ],
         "y0": " ",
         "yaxis": "y"
        }
       ],
       "layout": {
        "boxmode": "overlay",
        "height": 800,
        "legend": {
         "title": {
          "text": "HelpTopic"
         },
         "tracegroupgap": 0
        },
        "template": {
         "data": {
          "bar": [
           {
            "error_x": {
             "color": "#2a3f5f"
            },
            "error_y": {
             "color": "#2a3f5f"
            },
            "marker": {
             "line": {
              "color": "white",
              "width": 0.5
             },
             "pattern": {
              "fillmode": "overlay",
              "size": 10,
              "solidity": 0.2
             }
            },
            "type": "bar"
           }
          ],
          "barpolar": [
           {
            "marker": {
             "line": {
              "color": "white",
              "width": 0.5
             },
             "pattern": {
              "fillmode": "overlay",
              "size": 10,
              "solidity": 0.2
             }
            },
            "type": "barpolar"
           }
          ],
          "carpet": [
           {
            "aaxis": {
             "endlinecolor": "#2a3f5f",
             "gridcolor": "#C8D4E3",
             "linecolor": "#C8D4E3",
             "minorgridcolor": "#C8D4E3",
             "startlinecolor": "#2a3f5f"
            },
            "baxis": {
             "endlinecolor": "#2a3f5f",
             "gridcolor": "#C8D4E3",
             "linecolor": "#C8D4E3",
             "minorgridcolor": "#C8D4E3",
             "startlinecolor": "#2a3f5f"
            },
            "type": "carpet"
           }
          ],
          "choropleth": [
           {
            "colorbar": {
             "outlinewidth": 0,
             "ticks": ""
            },
            "type": "choropleth"
           }
          ],
          "contour": [
           {
            "colorbar": {
             "outlinewidth": 0,
             "ticks": ""
            },
            "colorscale": [
             [
              0,
              "#0d0887"
             ],
             [
              0.1111111111111111,
              "#46039f"
             ],
             [
              0.2222222222222222,
              "#7201a8"
             ],
             [
              0.3333333333333333,
              "#9c179e"
             ],
             [
              0.4444444444444444,
              "#bd3786"
             ],
             [
              0.5555555555555556,
              "#d8576b"
             ],
             [
              0.6666666666666666,
              "#ed7953"
             ],
             [
              0.7777777777777778,
              "#fb9f3a"
             ],
             [
              0.8888888888888888,
              "#fdca26"
             ],
             [
              1,
              "#f0f921"
             ]
            ],
            "type": "contour"
           }
          ],
          "contourcarpet": [
           {
            "colorbar": {
             "outlinewidth": 0,
             "ticks": ""
            },
            "type": "contourcarpet"
           }
          ],
          "heatmap": [
           {
            "colorbar": {
             "outlinewidth": 0,
             "ticks": ""
            },
            "colorscale": [
             [
              0,
              "#0d0887"
             ],
             [
              0.1111111111111111,
              "#46039f"
             ],
             [
              0.2222222222222222,
              "#7201a8"
             ],
             [
              0.3333333333333333,
              "#9c179e"
             ],
             [
              0.4444444444444444,
              "#bd3786"
             ],
             [
              0.5555555555555556,
              "#d8576b"
             ],
             [
              0.6666666666666666,
              "#ed7953"
             ],
             [
              0.7777777777777778,
              "#fb9f3a"
             ],
             [
              0.8888888888888888,
              "#fdca26"
             ],
             [
              1,
              "#f0f921"
             ]
            ],
            "type": "heatmap"
           }
          ],
          "heatmapgl": [
           {
            "colorbar": {
             "outlinewidth": 0,
             "ticks": ""
            },
            "colorscale": [
             [
              0,
              "#0d0887"
             ],
             [
              0.1111111111111111,
              "#46039f"
             ],
             [
              0.2222222222222222,
              "#7201a8"
             ],
             [
              0.3333333333333333,
              "#9c179e"
             ],
             [
              0.4444444444444444,
              "#bd3786"
             ],
             [
              0.5555555555555556,
              "#d8576b"
             ],
             [
              0.6666666666666666,
              "#ed7953"
             ],
             [
              0.7777777777777778,
              "#fb9f3a"
             ],
             [
              0.8888888888888888,
              "#fdca26"
             ],
             [
              1,
              "#f0f921"
             ]
            ],
            "type": "heatmapgl"
           }
          ],
          "histogram": [
           {
            "marker": {
             "pattern": {
              "fillmode": "overlay",
              "size": 10,
              "solidity": 0.2
             }
            },
            "type": "histogram"
           }
          ],
          "histogram2d": [
           {
            "colorbar": {
             "outlinewidth": 0,
             "ticks": ""
            },
            "colorscale": [
             [
              0,
              "#0d0887"
             ],
             [
              0.1111111111111111,
              "#46039f"
             ],
             [
              0.2222222222222222,
              "#7201a8"
             ],
             [
              0.3333333333333333,
              "#9c179e"
             ],
             [
              0.4444444444444444,
              "#bd3786"
             ],
             [
              0.5555555555555556,
              "#d8576b"
             ],
             [
              0.6666666666666666,
              "#ed7953"
             ],
             [
              0.7777777777777778,
              "#fb9f3a"
             ],
             [
              0.8888888888888888,
              "#fdca26"
             ],
             [
              1,
              "#f0f921"
             ]
            ],
            "type": "histogram2d"
           }
          ],
          "histogram2dcontour": [
           {
            "colorbar": {
             "outlinewidth": 0,
             "ticks": ""
            },
            "colorscale": [
             [
              0,
              "#0d0887"
             ],
             [
              0.1111111111111111,
              "#46039f"
             ],
             [
              0.2222222222222222,
              "#7201a8"
             ],
             [
              0.3333333333333333,
              "#9c179e"
             ],
             [
              0.4444444444444444,
              "#bd3786"
             ],
             [
              0.5555555555555556,
              "#d8576b"
             ],
             [
              0.6666666666666666,
              "#ed7953"
             ],
             [
              0.7777777777777778,
              "#fb9f3a"
             ],
             [
              0.8888888888888888,
              "#fdca26"
             ],
             [
              1,
              "#f0f921"
             ]
            ],
            "type": "histogram2dcontour"
           }
          ],
          "mesh3d": [
           {
            "colorbar": {
             "outlinewidth": 0,
             "ticks": ""
            },
            "type": "mesh3d"
           }
          ],
          "parcoords": [
           {
            "line": {
             "colorbar": {
              "outlinewidth": 0,
              "ticks": ""
             }
            },
            "type": "parcoords"
           }
          ],
          "pie": [
           {
            "automargin": true,
            "type": "pie"
           }
          ],
          "scatter": [
           {
            "fillpattern": {
             "fillmode": "overlay",
             "size": 10,
             "solidity": 0.2
            },
            "type": "scatter"
           }
          ],
          "scatter3d": [
           {
            "line": {
             "colorbar": {
              "outlinewidth": 0,
              "ticks": ""
             }
            },
            "marker": {
             "colorbar": {
              "outlinewidth": 0,
              "ticks": ""
             }
            },
            "type": "scatter3d"
           }
          ],
          "scattercarpet": [
           {
            "marker": {
             "colorbar": {
              "outlinewidth": 0,
              "ticks": ""
             }
            },
            "type": "scattercarpet"
           }
          ],
          "scattergeo": [
           {
            "marker": {
             "colorbar": {
              "outlinewidth": 0,
              "ticks": ""
             }
            },
            "type": "scattergeo"
           }
          ],
          "scattergl": [
           {
            "marker": {
             "colorbar": {
              "outlinewidth": 0,
              "ticks": ""
             }
            },
            "type": "scattergl"
           }
          ],
          "scattermapbox": [
           {
            "marker": {
             "colorbar": {
              "outlinewidth": 0,
              "ticks": ""
             }
            },
            "type": "scattermapbox"
           }
          ],
          "scatterpolar": [
           {
            "marker": {
             "colorbar": {
              "outlinewidth": 0,
              "ticks": ""
             }
            },
            "type": "scatterpolar"
           }
          ],
          "scatterpolargl": [
           {
            "marker": {
             "colorbar": {
              "outlinewidth": 0,
              "ticks": ""
             }
            },
            "type": "scatterpolargl"
           }
          ],
          "scatterternary": [
           {
            "marker": {
             "colorbar": {
              "outlinewidth": 0,
              "ticks": ""
             }
            },
            "type": "scatterternary"
           }
          ],
          "surface": [
           {
            "colorbar": {
             "outlinewidth": 0,
             "ticks": ""
            },
            "colorscale": [
             [
              0,
              "#0d0887"
             ],
             [
              0.1111111111111111,
              "#46039f"
             ],
             [
              0.2222222222222222,
              "#7201a8"
             ],
             [
              0.3333333333333333,
              "#9c179e"
             ],
             [
              0.4444444444444444,
              "#bd3786"
             ],
             [
              0.5555555555555556,
              "#d8576b"
             ],
             [
              0.6666666666666666,
              "#ed7953"
             ],
             [
              0.7777777777777778,
              "#fb9f3a"
             ],
             [
              0.8888888888888888,
              "#fdca26"
             ],
             [
              1,
              "#f0f921"
             ]
            ],
            "type": "surface"
           }
          ],
          "table": [
           {
            "cells": {
             "fill": {
              "color": "#EBF0F8"
             },
             "line": {
              "color": "white"
             }
            },
            "header": {
             "fill": {
              "color": "#C8D4E3"
             },
             "line": {
              "color": "white"
             }
            },
            "type": "table"
           }
          ]
         },
         "layout": {
          "annotationdefaults": {
           "arrowcolor": "#2a3f5f",
           "arrowhead": 0,
           "arrowwidth": 1
          },
          "autotypenumbers": "strict",
          "coloraxis": {
           "colorbar": {
            "outlinewidth": 0,
            "ticks": ""
           }
          },
          "colorscale": {
           "diverging": [
            [
             0,
             "#8e0152"
            ],
            [
             0.1,
             "#c51b7d"
            ],
            [
             0.2,
             "#de77ae"
            ],
            [
             0.3,
             "#f1b6da"
            ],
            [
             0.4,
             "#fde0ef"
            ],
            [
             0.5,
             "#f7f7f7"
            ],
            [
             0.6,
             "#e6f5d0"
            ],
            [
             0.7,
             "#b8e186"
            ],
            [
             0.8,
             "#7fbc41"
            ],
            [
             0.9,
             "#4d9221"
            ],
            [
             1,
             "#276419"
            ]
           ],
           "sequential": [
            [
             0,
             "#0d0887"
            ],
            [
             0.1111111111111111,
             "#46039f"
            ],
            [
             0.2222222222222222,
             "#7201a8"
            ],
            [
             0.3333333333333333,
             "#9c179e"
            ],
            [
             0.4444444444444444,
             "#bd3786"
            ],
            [
             0.5555555555555556,
             "#d8576b"
            ],
            [
             0.6666666666666666,
             "#ed7953"
            ],
            [
             0.7777777777777778,
             "#fb9f3a"
            ],
            [
             0.8888888888888888,
             "#fdca26"
            ],
            [
             1,
             "#f0f921"
            ]
           ],
           "sequentialminus": [
            [
             0,
             "#0d0887"
            ],
            [
             0.1111111111111111,
             "#46039f"
            ],
            [
             0.2222222222222222,
             "#7201a8"
            ],
            [
             0.3333333333333333,
             "#9c179e"
            ],
            [
             0.4444444444444444,
             "#bd3786"
            ],
            [
             0.5555555555555556,
             "#d8576b"
            ],
            [
             0.6666666666666666,
             "#ed7953"
            ],
            [
             0.7777777777777778,
             "#fb9f3a"
            ],
            [
             0.8888888888888888,
             "#fdca26"
            ],
            [
             1,
             "#f0f921"
            ]
           ]
          },
          "colorway": [
           "#636efa",
           "#EF553B",
           "#00cc96",
           "#ab63fa",
           "#FFA15A",
           "#19d3f3",
           "#FF6692",
           "#B6E880",
           "#FF97FF",
           "#FECB52"
          ],
          "font": {
           "color": "#2a3f5f"
          },
          "geo": {
           "bgcolor": "white",
           "lakecolor": "white",
           "landcolor": "white",
           "showlakes": true,
           "showland": true,
           "subunitcolor": "#C8D4E3"
          },
          "hoverlabel": {
           "align": "left"
          },
          "hovermode": "closest",
          "mapbox": {
           "style": "light"
          },
          "paper_bgcolor": "white",
          "plot_bgcolor": "white",
          "polar": {
           "angularaxis": {
            "gridcolor": "#EBF0F8",
            "linecolor": "#EBF0F8",
            "ticks": ""
           },
           "bgcolor": "white",
           "radialaxis": {
            "gridcolor": "#EBF0F8",
            "linecolor": "#EBF0F8",
            "ticks": ""
           }
          },
          "scene": {
           "xaxis": {
            "backgroundcolor": "white",
            "gridcolor": "#DFE8F3",
            "gridwidth": 2,
            "linecolor": "#EBF0F8",
            "showbackground": true,
            "ticks": "",
            "zerolinecolor": "#EBF0F8"
           },
           "yaxis": {
            "backgroundcolor": "white",
            "gridcolor": "#DFE8F3",
            "gridwidth": 2,
            "linecolor": "#EBF0F8",
            "showbackground": true,
            "ticks": "",
            "zerolinecolor": "#EBF0F8"
           },
           "zaxis": {
            "backgroundcolor": "white",
            "gridcolor": "#DFE8F3",
            "gridwidth": 2,
            "linecolor": "#EBF0F8",
            "showbackground": true,
            "ticks": "",
            "zerolinecolor": "#EBF0F8"
           }
          },
          "shapedefaults": {
           "line": {
            "color": "#2a3f5f"
           }
          },
          "ternary": {
           "aaxis": {
            "gridcolor": "#DFE8F3",
            "linecolor": "#A2B1C6",
            "ticks": ""
           },
           "baxis": {
            "gridcolor": "#DFE8F3",
            "linecolor": "#A2B1C6",
            "ticks": ""
           },
           "bgcolor": "white",
           "caxis": {
            "gridcolor": "#DFE8F3",
            "linecolor": "#A2B1C6",
            "ticks": ""
           }
          },
          "title": {
           "x": 0.05
          },
          "xaxis": {
           "automargin": true,
           "gridcolor": "#EBF0F8",
           "linecolor": "#EBF0F8",
           "ticks": "",
           "title": {
            "standoff": 15
           },
           "zerolinecolor": "#EBF0F8",
           "zerolinewidth": 2
          },
          "yaxis": {
           "automargin": true,
           "gridcolor": "#EBF0F8",
           "linecolor": "#EBF0F8",
           "ticks": "",
           "title": {
            "standoff": 15
           },
           "zerolinecolor": "#EBF0F8",
           "zerolinewidth": 2
          }
         }
        },
        "title": {
         "text": "NewPlot2: Resolution Duration Distribution by Help Topic"
        },
        "width": 1200,
        "xaxis": {
         "anchor": "y",
         "categoryarray": [
          "Network & Wireless",
          "Accessories",
          "Access Requests",
          "VPN access",
          "Jira Requests",
          "Data Center Services",
          "Data Center Services /Report VM issue",
          "Data Center Services /VM Request",
          "Software Request",
          "Email Services",
          "Hardware",
          "Hardware Issue",
          "Network",
          "Newhire Accounts",
          "Password Reset",
          "Software Installation & Configuration"
         ],
         "categoryorder": "array",
         "domain": [
          0,
          1
         ],
         "title": {
          "text": "HelpTopic"
         }
        },
        "yaxis": {
         "anchor": "x",
         "domain": [
          0,
          1
         ],
         "title": {
          "text": "ResolutionDurationMins"
         }
        }
       }
      }
     },
     "metadata": {},
     "output_type": "display_data"
    }
   ],
   "source": [
    "\n",
    "fig = px.box(df, x='HelpTopic', y='ResolutionDurationMins',\n",
    "             color='HelpTopic',\n",
    "             title='NewPlot2: Resolution Duration Distribution by Help Topic')\n",
    "\n",
    "# Adjust the size of the chart\n",
    "fig.update_layout(width=1200, height=800, template='plotly_white')  \n",
    "\n",
    "fig.show()\n"
   ]
  },
  {
   "cell_type": "markdown",
   "metadata": {},
   "source": [
    "***NewPlot2*** displays a box-and-whisker plot titled \"Resolution Duration Distribution by Help Topic\". It shows the distribution of resolution times for different help topics in a customer support or IT support context. The x-axis lists various help topics, and the y-axis represents the resolution duration in minutes.\n",
    "\n",
    "Each box in the plot represents the interquartile range (IQR) for resolution duration, which includes the middle 50% of data for that category. The line within the box indicates the median resolution time. The \"whiskers\" (lines that extend from the top and bottom of the box) indicate the range of the data, excluding outliers, which are shown as individual points beyond the whiskers.\n",
    "\n",
    "Key insights we can glean from the plot:\n",
    "\n",
    "- **Variance in Resolution Duration**: There's a wide range of resolution times across different help topics. Some have a very tight IQR, meaning that the resolution times are consistent, while others have a large IQR, indicating more variability.\n",
    "\n",
    "- **Outliers**: The presence of outliers, particularly in the \"Accessories\" and \"Access Requests\" categories, suggests that there are instances where resolution times are much higher than usual. These could be complex cases that require more time to resolve.\n",
    "\n",
    "- **Potential Efficiency Issues**: The \"Accessories\" category has a very high range of resolution times, including outliers, which could indicate inefficiencies or complexities in resolving these types of issues.\n",
    "\n",
    "- **Help Topic Frequency**: The plot does not provide direct information about the frequency of each help topic, but the spread and outliers could indirectly suggest which topics are more commonly problematic or complex.\n",
    "\n",
    "This visualization is useful for support team managers to identify which areas may need process improvement, additional training, or resource allocation to improve resolution times. It can also help in prioritizing the standardization of solutions for more consistently resolved topics."
   ]
  },
  {
   "cell_type": "markdown",
   "metadata": {},
   "source": [
    "***NewPLot3*** visualizes the distribution of help topics in the DataFrame, with each slice representing a different 'HelpTopic'."
   ]
  },
  {
   "cell_type": "code",
   "execution_count": 23,
   "metadata": {},
   "outputs": [
    {
     "data": {
      "application/vnd.plotly.v1+json": {
       "config": {
        "plotlyServerURL": "https://plot.ly"
       },
       "data": [
        {
         "domain": {
          "x": [
           0,
           1
          ],
          "y": [
           0,
           1
          ]
         },
         "hovertemplate": "HelpTopic=%{label}<extra></extra>",
         "labels": [
          "Network & Wireless",
          "Accessories",
          "Accessories",
          "Accessories",
          "Accessories",
          "Accessories",
          "Access Requests",
          "Access Requests",
          "Access Requests",
          "Access Requests",
          "Accessories",
          "Accessories",
          "Accessories",
          "Accessories",
          "Accessories",
          "Accessories",
          "Accessories",
          "Accessories",
          "Access Requests",
          "Access Requests",
          "Access Requests",
          "Access Requests",
          "Accessories",
          "Accessories",
          "Accessories",
          "Accessories",
          "Accessories",
          "Accessories",
          "Accessories",
          "Accessories",
          "Access Requests",
          "Access Requests",
          "Access Requests",
          "Accessories",
          "Accessories",
          "Accessories",
          "Accessories",
          "Accessories",
          "Accessories",
          "Accessories",
          "Accessories",
          "Accessories",
          "Access Requests",
          "Accessories",
          "Accessories",
          "Accessories",
          "Accessories",
          "Accessories",
          "Accessories",
          "Accessories",
          "Accessories",
          "Accessories",
          "Accessories",
          "Accessories",
          "Accessories",
          "Accessories",
          "Accessories",
          "Accessories",
          "Accessories",
          "Accessories",
          "Accessories",
          "Accessories",
          "Accessories",
          "Accessories",
          "Accessories",
          "Accessories",
          "Accessories",
          "Accessories",
          "Access Requests",
          "Accessories",
          "Accessories",
          "Access Requests",
          "Access Requests",
          "Access Requests",
          "Access Requests",
          "Access Requests",
          "Access Requests",
          "Access Requests",
          "Access Requests",
          "Access Requests",
          "Access Requests",
          "Access Requests",
          "Access Requests",
          "Access Requests",
          "Access Requests",
          "Network & Wireless",
          "Network & Wireless",
          "Accessories",
          "Accessories",
          "Accessories",
          "Accessories",
          "Accessories",
          "Accessories",
          "Accessories",
          "Accessories",
          "Accessories",
          "Accessories",
          "Accessories",
          "Access Requests",
          "Network & Wireless",
          "Network & Wireless",
          "Access Requests",
          "Access Requests",
          "Access Requests",
          "Access Requests",
          "Access Requests",
          "Access Requests",
          "Access Requests",
          "Network & Wireless",
          "Access Requests",
          "Access Requests",
          "Access Requests",
          "Access Requests",
          "Access Requests",
          "VPN access",
          "Jira Requests",
          "Access Requests",
          "Access Requests",
          "Access Requests",
          "Access Requests",
          "Access Requests",
          "Access Requests",
          "Access Requests",
          "Access Requests",
          "Access Requests",
          "Access Requests",
          "Data Center Services",
          "Network & Wireless",
          "Data Center Services /Report VM issue",
          "Access Requests",
          "Access Requests",
          "Access Requests",
          "Access Requests",
          "Access Requests",
          "Access Requests",
          "Access Requests",
          "Access Requests",
          "Data Center Services /VM Request",
          "Access Requests",
          "Access Requests",
          "Access Requests",
          "Access Requests",
          "Access Requests",
          "Access Requests",
          "Access Requests",
          "Access Requests",
          "Access Requests",
          "Access Requests",
          "Access Requests",
          "Access Requests",
          "Access Requests",
          "Access Requests",
          "Access Requests",
          "Software Request",
          "Access Requests",
          "Access Requests",
          "Access Requests",
          "Access Requests",
          "Access Requests",
          "Access Requests",
          "Data Center Services /Report VM issue",
          "Access Requests",
          "Access Requests",
          "Access Requests",
          "Access Requests",
          "Access Requests",
          "Access Requests",
          "Access Requests",
          "Access Requests",
          "Access Requests",
          "Access Requests",
          "Access Requests",
          "Access Requests",
          "Access Requests",
          "Access Requests",
          "Email Services",
          "Email Services",
          "Access Requests",
          "Access Requests",
          "Access Requests",
          "Access Requests",
          "Access Requests",
          "Access Requests",
          "Access Requests",
          "Access Requests",
          "Access Requests",
          "Software Request",
          "Hardware",
          "Access Requests",
          "Hardware Issue",
          "Access Requests",
          "Access Requests",
          "Access Requests",
          "Access Requests",
          "Access Requests",
          "Access Requests",
          "Access Requests",
          "Access Requests",
          "Access Requests",
          "Access Requests",
          "Access Requests",
          "Access Requests",
          "Access Requests",
          "Access Requests",
          "Access Requests",
          "Access Requests",
          "Hardware",
          "Network",
          "Access Requests",
          "Access Requests",
          "Access Requests",
          "Access Requests",
          "Access Requests",
          "Access Requests",
          "Access Requests",
          "Access Requests",
          "Access Requests",
          "Access Requests",
          "Access Requests",
          "Access Requests",
          "Access Requests",
          "Access Requests",
          "Access Requests",
          "Access Requests",
          "Access Requests",
          "Access Requests",
          "Access Requests",
          "Access Requests",
          "Access Requests",
          "Access Requests",
          "Access Requests",
          "Access Requests",
          "Access Requests",
          "Access Requests",
          "Access Requests",
          "Access Requests",
          "Access Requests",
          "Access Requests",
          "Access Requests",
          "Access Requests",
          "Access Requests",
          "Access Requests",
          "Access Requests",
          "Access Requests",
          "Access Requests",
          "Access Requests",
          "Access Requests",
          "Access Requests",
          "Access Requests",
          "Access Requests",
          "Access Requests",
          "Network",
          "Access Requests",
          "Access Requests",
          "Access Requests",
          "Access Requests",
          "Access Requests",
          "Access Requests",
          "Access Requests",
          "Access Requests",
          "Access Requests",
          "Access Requests",
          "Access Requests",
          "Access Requests",
          "Access Requests",
          "Access Requests",
          "Access Requests",
          "Access Requests",
          "Access Requests",
          "Hardware Issue",
          "Access Requests",
          "Access Requests",
          "Access Requests",
          "Access Requests",
          "Access Requests",
          "Access Requests",
          "Access Requests",
          "Access Requests",
          "Access Requests",
          "Access Requests",
          "Access Requests",
          "Access Requests",
          "Access Requests",
          "Access Requests",
          "Access Requests",
          "Access Requests",
          "Access Requests",
          "Access Requests",
          "Access Requests",
          "Access Requests",
          "Access Requests",
          "Access Requests",
          "Access Requests",
          "Access Requests",
          "Access Requests",
          "Access Requests",
          "Access Requests",
          "Access Requests",
          "Access Requests",
          "Access Requests",
          "Access Requests",
          "Access Requests",
          "Access Requests",
          "Access Requests",
          "Access Requests",
          "Access Requests",
          "Access Requests",
          "Access Requests",
          "Hardware Issue",
          "Access Requests",
          "Access Requests",
          "Access Requests",
          "Access Requests",
          "Access Requests",
          "Access Requests",
          "Newhire Accounts",
          "Access Requests",
          "Access Requests",
          "Access Requests",
          "Access Requests",
          "Access Requests",
          "Access Requests",
          "Access Requests",
          "Access Requests",
          "Access Requests",
          "Access Requests",
          "Access Requests",
          "Access Requests",
          "Access Requests",
          "Access Requests",
          "Access Requests",
          "Access Requests",
          "Accessories",
          "Accessories",
          "Accessories",
          "Accessories",
          "Accessories",
          "Accessories",
          "Accessories",
          "Password Reset",
          "Accessories",
          "Accessories",
          "Accessories",
          "Accessories",
          "Accessories",
          "Accessories",
          "Accessories",
          "Accessories",
          "Accessories",
          "Accessories",
          "Accessories",
          "Accessories",
          "Accessories",
          "Accessories",
          "Accessories",
          "Access Requests",
          "Accessories",
          "Accessories",
          "Accessories",
          "Accessories",
          "Accessories",
          "Accessories",
          "Accessories",
          "Accessories",
          "Accessories",
          "Accessories",
          "Accessories",
          "Accessories",
          "Accessories",
          "Accessories",
          "Accessories",
          "Accessories",
          "Accessories",
          "Accessories",
          "Accessories",
          "Accessories",
          "Accessories",
          "Accessories",
          "Accessories",
          "Accessories",
          "Accessories",
          "Accessories",
          "Accessories",
          "Accessories",
          "Accessories",
          "Accessories",
          "Accessories",
          "Accessories",
          "Software Installation & Configuration",
          "Access Requests",
          "Access Requests",
          "Access Requests"
         ],
         "legendgroup": "",
         "name": "",
         "showlegend": true,
         "type": "pie"
        }
       ],
       "layout": {
        "height": 800,
        "legend": {
         "tracegroupgap": 0
        },
        "template": {
         "data": {
          "bar": [
           {
            "error_x": {
             "color": "#2a3f5f"
            },
            "error_y": {
             "color": "#2a3f5f"
            },
            "marker": {
             "line": {
              "color": "#E5ECF6",
              "width": 0.5
             },
             "pattern": {
              "fillmode": "overlay",
              "size": 10,
              "solidity": 0.2
             }
            },
            "type": "bar"
           }
          ],
          "barpolar": [
           {
            "marker": {
             "line": {
              "color": "#E5ECF6",
              "width": 0.5
             },
             "pattern": {
              "fillmode": "overlay",
              "size": 10,
              "solidity": 0.2
             }
            },
            "type": "barpolar"
           }
          ],
          "carpet": [
           {
            "aaxis": {
             "endlinecolor": "#2a3f5f",
             "gridcolor": "white",
             "linecolor": "white",
             "minorgridcolor": "white",
             "startlinecolor": "#2a3f5f"
            },
            "baxis": {
             "endlinecolor": "#2a3f5f",
             "gridcolor": "white",
             "linecolor": "white",
             "minorgridcolor": "white",
             "startlinecolor": "#2a3f5f"
            },
            "type": "carpet"
           }
          ],
          "choropleth": [
           {
            "colorbar": {
             "outlinewidth": 0,
             "ticks": ""
            },
            "type": "choropleth"
           }
          ],
          "contour": [
           {
            "colorbar": {
             "outlinewidth": 0,
             "ticks": ""
            },
            "colorscale": [
             [
              0,
              "#0d0887"
             ],
             [
              0.1111111111111111,
              "#46039f"
             ],
             [
              0.2222222222222222,
              "#7201a8"
             ],
             [
              0.3333333333333333,
              "#9c179e"
             ],
             [
              0.4444444444444444,
              "#bd3786"
             ],
             [
              0.5555555555555556,
              "#d8576b"
             ],
             [
              0.6666666666666666,
              "#ed7953"
             ],
             [
              0.7777777777777778,
              "#fb9f3a"
             ],
             [
              0.8888888888888888,
              "#fdca26"
             ],
             [
              1,
              "#f0f921"
             ]
            ],
            "type": "contour"
           }
          ],
          "contourcarpet": [
           {
            "colorbar": {
             "outlinewidth": 0,
             "ticks": ""
            },
            "type": "contourcarpet"
           }
          ],
          "heatmap": [
           {
            "colorbar": {
             "outlinewidth": 0,
             "ticks": ""
            },
            "colorscale": [
             [
              0,
              "#0d0887"
             ],
             [
              0.1111111111111111,
              "#46039f"
             ],
             [
              0.2222222222222222,
              "#7201a8"
             ],
             [
              0.3333333333333333,
              "#9c179e"
             ],
             [
              0.4444444444444444,
              "#bd3786"
             ],
             [
              0.5555555555555556,
              "#d8576b"
             ],
             [
              0.6666666666666666,
              "#ed7953"
             ],
             [
              0.7777777777777778,
              "#fb9f3a"
             ],
             [
              0.8888888888888888,
              "#fdca26"
             ],
             [
              1,
              "#f0f921"
             ]
            ],
            "type": "heatmap"
           }
          ],
          "heatmapgl": [
           {
            "colorbar": {
             "outlinewidth": 0,
             "ticks": ""
            },
            "colorscale": [
             [
              0,
              "#0d0887"
             ],
             [
              0.1111111111111111,
              "#46039f"
             ],
             [
              0.2222222222222222,
              "#7201a8"
             ],
             [
              0.3333333333333333,
              "#9c179e"
             ],
             [
              0.4444444444444444,
              "#bd3786"
             ],
             [
              0.5555555555555556,
              "#d8576b"
             ],
             [
              0.6666666666666666,
              "#ed7953"
             ],
             [
              0.7777777777777778,
              "#fb9f3a"
             ],
             [
              0.8888888888888888,
              "#fdca26"
             ],
             [
              1,
              "#f0f921"
             ]
            ],
            "type": "heatmapgl"
           }
          ],
          "histogram": [
           {
            "marker": {
             "pattern": {
              "fillmode": "overlay",
              "size": 10,
              "solidity": 0.2
             }
            },
            "type": "histogram"
           }
          ],
          "histogram2d": [
           {
            "colorbar": {
             "outlinewidth": 0,
             "ticks": ""
            },
            "colorscale": [
             [
              0,
              "#0d0887"
             ],
             [
              0.1111111111111111,
              "#46039f"
             ],
             [
              0.2222222222222222,
              "#7201a8"
             ],
             [
              0.3333333333333333,
              "#9c179e"
             ],
             [
              0.4444444444444444,
              "#bd3786"
             ],
             [
              0.5555555555555556,
              "#d8576b"
             ],
             [
              0.6666666666666666,
              "#ed7953"
             ],
             [
              0.7777777777777778,
              "#fb9f3a"
             ],
             [
              0.8888888888888888,
              "#fdca26"
             ],
             [
              1,
              "#f0f921"
             ]
            ],
            "type": "histogram2d"
           }
          ],
          "histogram2dcontour": [
           {
            "colorbar": {
             "outlinewidth": 0,
             "ticks": ""
            },
            "colorscale": [
             [
              0,
              "#0d0887"
             ],
             [
              0.1111111111111111,
              "#46039f"
             ],
             [
              0.2222222222222222,
              "#7201a8"
             ],
             [
              0.3333333333333333,
              "#9c179e"
             ],
             [
              0.4444444444444444,
              "#bd3786"
             ],
             [
              0.5555555555555556,
              "#d8576b"
             ],
             [
              0.6666666666666666,
              "#ed7953"
             ],
             [
              0.7777777777777778,
              "#fb9f3a"
             ],
             [
              0.8888888888888888,
              "#fdca26"
             ],
             [
              1,
              "#f0f921"
             ]
            ],
            "type": "histogram2dcontour"
           }
          ],
          "mesh3d": [
           {
            "colorbar": {
             "outlinewidth": 0,
             "ticks": ""
            },
            "type": "mesh3d"
           }
          ],
          "parcoords": [
           {
            "line": {
             "colorbar": {
              "outlinewidth": 0,
              "ticks": ""
             }
            },
            "type": "parcoords"
           }
          ],
          "pie": [
           {
            "automargin": true,
            "type": "pie"
           }
          ],
          "scatter": [
           {
            "fillpattern": {
             "fillmode": "overlay",
             "size": 10,
             "solidity": 0.2
            },
            "type": "scatter"
           }
          ],
          "scatter3d": [
           {
            "line": {
             "colorbar": {
              "outlinewidth": 0,
              "ticks": ""
             }
            },
            "marker": {
             "colorbar": {
              "outlinewidth": 0,
              "ticks": ""
             }
            },
            "type": "scatter3d"
           }
          ],
          "scattercarpet": [
           {
            "marker": {
             "colorbar": {
              "outlinewidth": 0,
              "ticks": ""
             }
            },
            "type": "scattercarpet"
           }
          ],
          "scattergeo": [
           {
            "marker": {
             "colorbar": {
              "outlinewidth": 0,
              "ticks": ""
             }
            },
            "type": "scattergeo"
           }
          ],
          "scattergl": [
           {
            "marker": {
             "colorbar": {
              "outlinewidth": 0,
              "ticks": ""
             }
            },
            "type": "scattergl"
           }
          ],
          "scattermapbox": [
           {
            "marker": {
             "colorbar": {
              "outlinewidth": 0,
              "ticks": ""
             }
            },
            "type": "scattermapbox"
           }
          ],
          "scatterpolar": [
           {
            "marker": {
             "colorbar": {
              "outlinewidth": 0,
              "ticks": ""
             }
            },
            "type": "scatterpolar"
           }
          ],
          "scatterpolargl": [
           {
            "marker": {
             "colorbar": {
              "outlinewidth": 0,
              "ticks": ""
             }
            },
            "type": "scatterpolargl"
           }
          ],
          "scatterternary": [
           {
            "marker": {
             "colorbar": {
              "outlinewidth": 0,
              "ticks": ""
             }
            },
            "type": "scatterternary"
           }
          ],
          "surface": [
           {
            "colorbar": {
             "outlinewidth": 0,
             "ticks": ""
            },
            "colorscale": [
             [
              0,
              "#0d0887"
             ],
             [
              0.1111111111111111,
              "#46039f"
             ],
             [
              0.2222222222222222,
              "#7201a8"
             ],
             [
              0.3333333333333333,
              "#9c179e"
             ],
             [
              0.4444444444444444,
              "#bd3786"
             ],
             [
              0.5555555555555556,
              "#d8576b"
             ],
             [
              0.6666666666666666,
              "#ed7953"
             ],
             [
              0.7777777777777778,
              "#fb9f3a"
             ],
             [
              0.8888888888888888,
              "#fdca26"
             ],
             [
              1,
              "#f0f921"
             ]
            ],
            "type": "surface"
           }
          ],
          "table": [
           {
            "cells": {
             "fill": {
              "color": "#EBF0F8"
             },
             "line": {
              "color": "white"
             }
            },
            "header": {
             "fill": {
              "color": "#C8D4E3"
             },
             "line": {
              "color": "white"
             }
            },
            "type": "table"
           }
          ]
         },
         "layout": {
          "annotationdefaults": {
           "arrowcolor": "#2a3f5f",
           "arrowhead": 0,
           "arrowwidth": 1
          },
          "autotypenumbers": "strict",
          "coloraxis": {
           "colorbar": {
            "outlinewidth": 0,
            "ticks": ""
           }
          },
          "colorscale": {
           "diverging": [
            [
             0,
             "#8e0152"
            ],
            [
             0.1,
             "#c51b7d"
            ],
            [
             0.2,
             "#de77ae"
            ],
            [
             0.3,
             "#f1b6da"
            ],
            [
             0.4,
             "#fde0ef"
            ],
            [
             0.5,
             "#f7f7f7"
            ],
            [
             0.6,
             "#e6f5d0"
            ],
            [
             0.7,
             "#b8e186"
            ],
            [
             0.8,
             "#7fbc41"
            ],
            [
             0.9,
             "#4d9221"
            ],
            [
             1,
             "#276419"
            ]
           ],
           "sequential": [
            [
             0,
             "#0d0887"
            ],
            [
             0.1111111111111111,
             "#46039f"
            ],
            [
             0.2222222222222222,
             "#7201a8"
            ],
            [
             0.3333333333333333,
             "#9c179e"
            ],
            [
             0.4444444444444444,
             "#bd3786"
            ],
            [
             0.5555555555555556,
             "#d8576b"
            ],
            [
             0.6666666666666666,
             "#ed7953"
            ],
            [
             0.7777777777777778,
             "#fb9f3a"
            ],
            [
             0.8888888888888888,
             "#fdca26"
            ],
            [
             1,
             "#f0f921"
            ]
           ],
           "sequentialminus": [
            [
             0,
             "#0d0887"
            ],
            [
             0.1111111111111111,
             "#46039f"
            ],
            [
             0.2222222222222222,
             "#7201a8"
            ],
            [
             0.3333333333333333,
             "#9c179e"
            ],
            [
             0.4444444444444444,
             "#bd3786"
            ],
            [
             0.5555555555555556,
             "#d8576b"
            ],
            [
             0.6666666666666666,
             "#ed7953"
            ],
            [
             0.7777777777777778,
             "#fb9f3a"
            ],
            [
             0.8888888888888888,
             "#fdca26"
            ],
            [
             1,
             "#f0f921"
            ]
           ]
          },
          "colorway": [
           "#636efa",
           "#EF553B",
           "#00cc96",
           "#ab63fa",
           "#FFA15A",
           "#19d3f3",
           "#FF6692",
           "#B6E880",
           "#FF97FF",
           "#FECB52"
          ],
          "font": {
           "color": "#2a3f5f"
          },
          "geo": {
           "bgcolor": "white",
           "lakecolor": "white",
           "landcolor": "#E5ECF6",
           "showlakes": true,
           "showland": true,
           "subunitcolor": "white"
          },
          "hoverlabel": {
           "align": "left"
          },
          "hovermode": "closest",
          "mapbox": {
           "style": "light"
          },
          "paper_bgcolor": "white",
          "plot_bgcolor": "#E5ECF6",
          "polar": {
           "angularaxis": {
            "gridcolor": "white",
            "linecolor": "white",
            "ticks": ""
           },
           "bgcolor": "#E5ECF6",
           "radialaxis": {
            "gridcolor": "white",
            "linecolor": "white",
            "ticks": ""
           }
          },
          "scene": {
           "xaxis": {
            "backgroundcolor": "#E5ECF6",
            "gridcolor": "white",
            "gridwidth": 2,
            "linecolor": "white",
            "showbackground": true,
            "ticks": "",
            "zerolinecolor": "white"
           },
           "yaxis": {
            "backgroundcolor": "#E5ECF6",
            "gridcolor": "white",
            "gridwidth": 2,
            "linecolor": "white",
            "showbackground": true,
            "ticks": "",
            "zerolinecolor": "white"
           },
           "zaxis": {
            "backgroundcolor": "#E5ECF6",
            "gridcolor": "white",
            "gridwidth": 2,
            "linecolor": "white",
            "showbackground": true,
            "ticks": "",
            "zerolinecolor": "white"
           }
          },
          "shapedefaults": {
           "line": {
            "color": "#2a3f5f"
           }
          },
          "ternary": {
           "aaxis": {
            "gridcolor": "white",
            "linecolor": "white",
            "ticks": ""
           },
           "baxis": {
            "gridcolor": "white",
            "linecolor": "white",
            "ticks": ""
           },
           "bgcolor": "#E5ECF6",
           "caxis": {
            "gridcolor": "white",
            "linecolor": "white",
            "ticks": ""
           }
          },
          "title": {
           "x": 0.05
          },
          "xaxis": {
           "automargin": true,
           "gridcolor": "white",
           "linecolor": "white",
           "ticks": "",
           "title": {
            "standoff": 15
           },
           "zerolinecolor": "white",
           "zerolinewidth": 2
          },
          "yaxis": {
           "automargin": true,
           "gridcolor": "white",
           "linecolor": "white",
           "ticks": "",
           "title": {
            "standoff": 15
           },
           "zerolinecolor": "white",
           "zerolinewidth": 2
          }
         }
        },
        "title": {
         "text": "NewPlot3: Help Topic Distribution"
        },
        "width": 1000
       }
      }
     },
     "metadata": {},
     "output_type": "display_data"
    }
   ],
   "source": [
    "fig = px.pie(df, names='HelpTopic', title='NewPlot3: Help Topic Distribution')\n",
    "\n",
    "# Adjust the size of the pie chart\n",
    "fig.update_layout(width=1000, height=800)  \n",
    "\n",
    "fig.show()\n"
   ]
  },
  {
   "cell_type": "markdown",
   "metadata": {},
   "source": [
    "From ***NewPlot3***, the following insights can be observed:\n",
    "\n",
    "1. **Dominant Help Topics**: Two help topics dominate the chart, \"Access Requests\" with 62% and the \"Accessories\" with 31.1% of the total volume. These topics represent the most common issues or requests that users face or submit.\n",
    "\n",
    "2. **Minor Help Topics**: There are numerous help topics that make up a very small percentage of the total, each less than 1%. \n",
    "\n",
    "3. **Potential Focus Areas**: The support team may focus most of their resources and training on the two dominant help topics, as they make up a significant portion of the requests.\n",
    "\n",
    "4. **Variety of Issues**: The diversity in help topics, despite some having a very small percentage, suggests that the support team must be prepared to handle a wide range of issues.\n",
    "\n",
    "5. **Resource Allocation**: Given the significant difference in distribution, the support team could allocate their resources proportionally, dedicating more time and personnel to the most common help topics.\n",
    "\n",
    "6. **Efficiency Improvement**: There may be an opportunity to improve the efficiency of handling the less frequent help topics since their combined volume is quite small. This could involve creating a knowledge base or automating certain responses.\n",
    "\n",
    "7. **Service Improvement**: The organization could look into the reasons why the two most dominant help topics are so prevalent and whether there are underlying product or service issues that need to be addressed.\n",
    "\n",
    "8. **Customer Experience**: Understanding the distribution of help topics can help in improving the customer experience by ensuring that the most common issues are resolved quickly and efficiently.\n",
    "\n",
    "This type of visualization is particularly helpful for identifying where to focus improvement efforts, training, and possibly automation of support processes."
   ]
  },
  {
   "cell_type": "markdown",
   "metadata": {},
   "source": [
    "***NewPLot4*** visualizes the distribution of ticket resolutions by day of the week in the DataFrame. "
   ]
  },
  {
   "cell_type": "code",
   "execution_count": 24,
   "metadata": {},
   "outputs": [
    {
     "data": {
      "application/vnd.plotly.v1+json": {
       "config": {
        "plotlyServerURL": "https://plot.ly"
       },
       "data": [
        {
         "alignmentgroup": "True",
         "hovertemplate": "HelpTopic=Accessories<br>DayOfWeekOpened=%{x}<br>count=%{y}<extra></extra>",
         "legendgroup": "Accessories",
         "marker": {
          "color": "#636efa",
          "pattern": {
           "shape": ""
          }
         },
         "name": "Accessories",
         "offsetgroup": "Accessories",
         "orientation": "v",
         "showlegend": true,
         "textposition": "auto",
         "type": "bar",
         "x": [
          "Monday",
          "Monday",
          "Monday",
          "Monday",
          "Monday",
          "Monday",
          "Monday",
          "Monday",
          "Monday",
          "Monday",
          "Monday",
          "Monday",
          "Monday",
          "Monday",
          "Monday",
          "Monday",
          "Monday",
          "Monday",
          "Monday",
          "Monday",
          "Monday",
          "Monday",
          "Monday",
          "Monday",
          "Monday",
          "Monday",
          "Monday",
          "Monday",
          "Monday",
          "Monday",
          "Monday",
          "Monday",
          "Monday",
          "Monday",
          "Monday",
          "Tuesday",
          "Tuesday",
          "Tuesday",
          "Tuesday",
          "Tuesday",
          "Tuesday",
          "Tuesday",
          "Tuesday",
          "Tuesday",
          "Tuesday",
          "Tuesday",
          "Tuesday",
          "Tuesday",
          "Tuesday",
          "Tuesday",
          "Tuesday",
          "Tuesday",
          "Tuesday",
          "Tuesday",
          "Tuesday",
          "Tuesday",
          "Tuesday",
          "Tuesday",
          "Tuesday",
          "Wednesday",
          "Wednesday",
          "Wednesday",
          "Wednesday",
          "Wednesday",
          "Wednesday",
          "Wednesday",
          "Wednesday",
          "Wednesday",
          "Wednesday",
          "Wednesday",
          "Wednesday",
          "Wednesday",
          "Wednesday",
          "Wednesday",
          "Wednesday",
          "Wednesday",
          "Wednesday",
          "Wednesday",
          "Thursday",
          "Thursday",
          "Thursday",
          "Thursday",
          "Thursday",
          "Thursday",
          "Thursday",
          "Thursday",
          "Thursday",
          "Thursday",
          "Thursday",
          "Thursday",
          "Friday",
          "Friday",
          "Friday",
          "Friday",
          "Friday",
          "Friday",
          "Friday",
          "Friday",
          "Friday",
          "Friday",
          "Friday",
          "Friday",
          "Friday",
          "Friday",
          "Friday",
          "Saturday",
          "Saturday",
          "Saturday",
          "Saturday",
          "Saturday",
          "Saturday",
          "Saturday",
          "Saturday",
          "Saturday",
          "Saturday",
          "Saturday",
          "Saturday",
          "Saturday",
          "Saturday",
          "Saturday",
          "Saturday",
          "Saturday"
         ],
         "xaxis": "x",
         "y": [
          1,
          1,
          1,
          1,
          1,
          1,
          1,
          1,
          1,
          1,
          1,
          1,
          1,
          1,
          1,
          1,
          1,
          1,
          1,
          1,
          1,
          1,
          1,
          1,
          1,
          1,
          1,
          1,
          1,
          1,
          1,
          1,
          1,
          1,
          1,
          1,
          1,
          1,
          1,
          1,
          1,
          1,
          1,
          1,
          1,
          1,
          1,
          1,
          1,
          1,
          1,
          1,
          1,
          1,
          1,
          1,
          1,
          1,
          1,
          1,
          1,
          1,
          1,
          1,
          1,
          1,
          1,
          1,
          1,
          1,
          1,
          1,
          1,
          1,
          1,
          1,
          1,
          1,
          1,
          1,
          1,
          1,
          1,
          1,
          1,
          1,
          1,
          1,
          1,
          1,
          1,
          1,
          1,
          1,
          1,
          1,
          1,
          1,
          1,
          1,
          1,
          1,
          1,
          1,
          1,
          1,
          1,
          1,
          1,
          1,
          1,
          1,
          1,
          1,
          1,
          1,
          1,
          1,
          1,
          1,
          1,
          1
         ],
         "yaxis": "y"
        },
        {
         "alignmentgroup": "True",
         "hovertemplate": "HelpTopic=Access Requests<br>DayOfWeekOpened=%{x}<br>count=%{y}<extra></extra>",
         "legendgroup": "Access Requests",
         "marker": {
          "color": "#EF553B",
          "pattern": {
           "shape": ""
          }
         },
         "name": "Access Requests",
         "offsetgroup": "Access Requests",
         "orientation": "v",
         "showlegend": true,
         "textposition": "auto",
         "type": "bar",
         "x": [
          "Monday",
          "Monday",
          "Monday",
          "Monday",
          "Monday",
          "Monday",
          "Monday",
          "Monday",
          "Monday",
          "Monday",
          "Monday",
          "Monday",
          "Monday",
          "Monday",
          "Monday",
          "Monday",
          "Monday",
          "Monday",
          "Monday",
          "Monday",
          "Monday",
          "Monday",
          "Monday",
          "Monday",
          "Monday",
          "Monday",
          "Monday",
          "Monday",
          "Monday",
          "Monday",
          "Monday",
          "Monday",
          "Monday",
          "Tuesday",
          "Tuesday",
          "Tuesday",
          "Tuesday",
          "Tuesday",
          "Tuesday",
          "Tuesday",
          "Tuesday",
          "Tuesday",
          "Tuesday",
          "Tuesday",
          "Tuesday",
          "Tuesday",
          "Tuesday",
          "Tuesday",
          "Tuesday",
          "Tuesday",
          "Tuesday",
          "Tuesday",
          "Tuesday",
          "Tuesday",
          "Tuesday",
          "Tuesday",
          "Tuesday",
          "Tuesday",
          "Tuesday",
          "Tuesday",
          "Tuesday",
          "Tuesday",
          "Tuesday",
          "Tuesday",
          "Tuesday",
          "Tuesday",
          "Tuesday",
          "Tuesday",
          "Tuesday",
          "Tuesday",
          "Tuesday",
          "Tuesday",
          "Tuesday",
          "Tuesday",
          "Tuesday",
          "Tuesday",
          "Tuesday",
          "Tuesday",
          "Wednesday",
          "Wednesday",
          "Wednesday",
          "Wednesday",
          "Wednesday",
          "Wednesday",
          "Wednesday",
          "Wednesday",
          "Wednesday",
          "Wednesday",
          "Wednesday",
          "Wednesday",
          "Wednesday",
          "Wednesday",
          "Wednesday",
          "Wednesday",
          "Wednesday",
          "Wednesday",
          "Wednesday",
          "Wednesday",
          "Wednesday",
          "Wednesday",
          "Wednesday",
          "Wednesday",
          "Wednesday",
          "Wednesday",
          "Wednesday",
          "Wednesday",
          "Wednesday",
          "Wednesday",
          "Wednesday",
          "Wednesday",
          "Wednesday",
          "Wednesday",
          "Wednesday",
          "Wednesday",
          "Wednesday",
          "Wednesday",
          "Wednesday",
          "Wednesday",
          "Wednesday",
          "Thursday",
          "Thursday",
          "Thursday",
          "Thursday",
          "Thursday",
          "Thursday",
          "Thursday",
          "Thursday",
          "Thursday",
          "Thursday",
          "Thursday",
          "Thursday",
          "Thursday",
          "Thursday",
          "Thursday",
          "Thursday",
          "Thursday",
          "Thursday",
          "Thursday",
          "Thursday",
          "Thursday",
          "Thursday",
          "Thursday",
          "Thursday",
          "Thursday",
          "Thursday",
          "Thursday",
          "Thursday",
          "Thursday",
          "Thursday",
          "Thursday",
          "Thursday",
          "Thursday",
          "Thursday",
          "Thursday",
          "Thursday",
          "Thursday",
          "Thursday",
          "Thursday",
          "Thursday",
          "Thursday",
          "Thursday",
          "Thursday",
          "Thursday",
          "Thursday",
          "Thursday",
          "Thursday",
          "Thursday",
          "Thursday",
          "Thursday",
          "Thursday",
          "Thursday",
          "Thursday",
          "Thursday",
          "Thursday",
          "Thursday",
          "Thursday",
          "Thursday",
          "Thursday",
          "Thursday",
          "Thursday",
          "Thursday",
          "Thursday",
          "Thursday",
          "Friday",
          "Friday",
          "Friday",
          "Friday",
          "Friday",
          "Friday",
          "Friday",
          "Friday",
          "Friday",
          "Friday",
          "Friday",
          "Friday",
          "Friday",
          "Friday",
          "Friday",
          "Friday",
          "Friday",
          "Friday",
          "Friday",
          "Friday",
          "Saturday",
          "Saturday",
          "Saturday",
          "Saturday",
          "Saturday",
          "Saturday",
          "Saturday",
          "Saturday",
          "Saturday",
          "Saturday",
          "Saturday",
          "Saturday",
          "Saturday",
          "Saturday",
          "Saturday",
          "Saturday",
          "Saturday",
          "Saturday",
          "Saturday",
          "Saturday",
          "Saturday",
          "Saturday",
          "Saturday",
          "Saturday",
          "Saturday",
          "Sunday",
          "Sunday",
          "Sunday",
          "Sunday",
          "Sunday",
          "Sunday",
          "Sunday",
          "Sunday",
          "Sunday",
          "Sunday",
          "Sunday",
          "Sunday",
          "Sunday",
          "Sunday",
          "Sunday"
         ],
         "xaxis": "x",
         "y": [
          1,
          1,
          1,
          1,
          1,
          1,
          1,
          1,
          1,
          1,
          1,
          1,
          1,
          1,
          1,
          1,
          1,
          1,
          1,
          1,
          1,
          1,
          1,
          1,
          1,
          1,
          1,
          1,
          1,
          1,
          1,
          1,
          1,
          1,
          1,
          1,
          1,
          1,
          1,
          1,
          1,
          1,
          1,
          1,
          1,
          1,
          1,
          1,
          1,
          1,
          1,
          1,
          1,
          1,
          1,
          1,
          1,
          1,
          1,
          1,
          1,
          1,
          1,
          1,
          1,
          1,
          1,
          1,
          1,
          1,
          1,
          1,
          1,
          1,
          1,
          1,
          1,
          1,
          1,
          1,
          1,
          1,
          1,
          1,
          1,
          1,
          1,
          1,
          1,
          1,
          1,
          1,
          1,
          1,
          1,
          1,
          1,
          1,
          1,
          1,
          1,
          1,
          1,
          1,
          1,
          1,
          1,
          1,
          1,
          1,
          1,
          1,
          1,
          1,
          1,
          1,
          1,
          1,
          1,
          1,
          1,
          1,
          1,
          1,
          1,
          1,
          1,
          1,
          1,
          1,
          1,
          1,
          1,
          1,
          1,
          1,
          1,
          1,
          1,
          1,
          1,
          1,
          1,
          1,
          1,
          1,
          1,
          1,
          1,
          1,
          1,
          1,
          1,
          1,
          1,
          1,
          1,
          1,
          1,
          1,
          1,
          1,
          1,
          1,
          1,
          1,
          1,
          1,
          1,
          1,
          1,
          1,
          1,
          1,
          1,
          1,
          1,
          1,
          1,
          1,
          1,
          1,
          1,
          1,
          1,
          1,
          1,
          1,
          1,
          1,
          1,
          1,
          1,
          1,
          1,
          1,
          1,
          1,
          1,
          1,
          1,
          1,
          1,
          1,
          1,
          1,
          1,
          1,
          1,
          1,
          1,
          1,
          1,
          1,
          1,
          1,
          1,
          1,
          1,
          1,
          1,
          1,
          1,
          1,
          1,
          1,
          1,
          1,
          1,
          1,
          1,
          1,
          1,
          1,
          1,
          1,
          1,
          1,
          1,
          1,
          1,
          1,
          1
         ],
         "yaxis": "y"
        },
        {
         "alignmentgroup": "True",
         "hovertemplate": "HelpTopic=Email Services<br>DayOfWeekOpened=%{x}<br>count=%{y}<extra></extra>",
         "legendgroup": "Email Services",
         "marker": {
          "color": "#00cc96",
          "pattern": {
           "shape": ""
          }
         },
         "name": "Email Services",
         "offsetgroup": "Email Services",
         "orientation": "v",
         "showlegend": true,
         "textposition": "auto",
         "type": "bar",
         "x": [
          "Monday",
          "Monday"
         ],
         "xaxis": "x",
         "y": [
          1,
          1
         ],
         "yaxis": "y"
        },
        {
         "alignmentgroup": "True",
         "hovertemplate": "HelpTopic=Password Reset<br>DayOfWeekOpened=%{x}<br>count=%{y}<extra></extra>",
         "legendgroup": "Password Reset",
         "marker": {
          "color": "#ab63fa",
          "pattern": {
           "shape": ""
          }
         },
         "name": "Password Reset",
         "offsetgroup": "Password Reset",
         "orientation": "v",
         "showlegend": true,
         "textposition": "auto",
         "type": "bar",
         "x": [
          "Monday"
         ],
         "xaxis": "x",
         "y": [
          1
         ],
         "yaxis": "y"
        },
        {
         "alignmentgroup": "True",
         "hovertemplate": "HelpTopic=VPN access<br>DayOfWeekOpened=%{x}<br>count=%{y}<extra></extra>",
         "legendgroup": "VPN access",
         "marker": {
          "color": "#FFA15A",
          "pattern": {
           "shape": ""
          }
         },
         "name": "VPN access",
         "offsetgroup": "VPN access",
         "orientation": "v",
         "showlegend": true,
         "textposition": "auto",
         "type": "bar",
         "x": [
          "Monday"
         ],
         "xaxis": "x",
         "y": [
          1
         ],
         "yaxis": "y"
        },
        {
         "alignmentgroup": "True",
         "hovertemplate": "HelpTopic=Data Center Services /Report VM issue<br>DayOfWeekOpened=%{x}<br>count=%{y}<extra></extra>",
         "legendgroup": "Data Center Services /Report VM issue",
         "marker": {
          "color": "#19d3f3",
          "pattern": {
           "shape": ""
          }
         },
         "name": "Data Center Services /Report VM issue",
         "offsetgroup": "Data Center Services /Report VM issue",
         "orientation": "v",
         "showlegend": true,
         "textposition": "auto",
         "type": "bar",
         "x": [
          "Monday",
          "Tuesday"
         ],
         "xaxis": "x",
         "y": [
          1,
          1
         ],
         "yaxis": "y"
        },
        {
         "alignmentgroup": "True",
         "hovertemplate": "HelpTopic=Software Request<br>DayOfWeekOpened=%{x}<br>count=%{y}<extra></extra>",
         "legendgroup": "Software Request",
         "marker": {
          "color": "#FF6692",
          "pattern": {
           "shape": ""
          }
         },
         "name": "Software Request",
         "offsetgroup": "Software Request",
         "orientation": "v",
         "showlegend": true,
         "textposition": "auto",
         "type": "bar",
         "x": [
          "Tuesday",
          "Tuesday"
         ],
         "xaxis": "x",
         "y": [
          1,
          1
         ],
         "yaxis": "y"
        },
        {
         "alignmentgroup": "True",
         "hovertemplate": "HelpTopic=Hardware<br>DayOfWeekOpened=%{x}<br>count=%{y}<extra></extra>",
         "legendgroup": "Hardware",
         "marker": {
          "color": "#B6E880",
          "pattern": {
           "shape": ""
          }
         },
         "name": "Hardware",
         "offsetgroup": "Hardware",
         "orientation": "v",
         "showlegend": true,
         "textposition": "auto",
         "type": "bar",
         "x": [
          "Tuesday",
          "Wednesday"
         ],
         "xaxis": "x",
         "y": [
          1,
          1
         ],
         "yaxis": "y"
        },
        {
         "alignmentgroup": "True",
         "hovertemplate": "HelpTopic=Software Installation & Configuration<br>DayOfWeekOpened=%{x}<br>count=%{y}<extra></extra>",
         "legendgroup": "Software Installation & Configuration",
         "marker": {
          "color": "#FF97FF",
          "pattern": {
           "shape": ""
          }
         },
         "name": "Software Installation & Configuration",
         "offsetgroup": "Software Installation & Configuration",
         "orientation": "v",
         "showlegend": true,
         "textposition": "auto",
         "type": "bar",
         "x": [
          "Tuesday"
         ],
         "xaxis": "x",
         "y": [
          1
         ],
         "yaxis": "y"
        },
        {
         "alignmentgroup": "True",
         "hovertemplate": "HelpTopic=Network<br>DayOfWeekOpened=%{x}<br>count=%{y}<extra></extra>",
         "legendgroup": "Network",
         "marker": {
          "color": "#FECB52",
          "pattern": {
           "shape": ""
          }
         },
         "name": "Network",
         "offsetgroup": "Network",
         "orientation": "v",
         "showlegend": true,
         "textposition": "auto",
         "type": "bar",
         "x": [
          "Wednesday",
          "Wednesday"
         ],
         "xaxis": "x",
         "y": [
          1,
          1
         ],
         "yaxis": "y"
        },
        {
         "alignmentgroup": "True",
         "hovertemplate": "HelpTopic=Jira Requests<br>DayOfWeekOpened=%{x}<br>count=%{y}<extra></extra>",
         "legendgroup": "Jira Requests",
         "marker": {
          "color": "#636efa",
          "pattern": {
           "shape": ""
          }
         },
         "name": "Jira Requests",
         "offsetgroup": "Jira Requests",
         "orientation": "v",
         "showlegend": true,
         "textposition": "auto",
         "type": "bar",
         "x": [
          "Wednesday"
         ],
         "xaxis": "x",
         "y": [
          1
         ],
         "yaxis": "y"
        },
        {
         "alignmentgroup": "True",
         "hovertemplate": "HelpTopic=Newhire Accounts<br>DayOfWeekOpened=%{x}<br>count=%{y}<extra></extra>",
         "legendgroup": "Newhire Accounts",
         "marker": {
          "color": "#EF553B",
          "pattern": {
           "shape": ""
          }
         },
         "name": "Newhire Accounts",
         "offsetgroup": "Newhire Accounts",
         "orientation": "v",
         "showlegend": true,
         "textposition": "auto",
         "type": "bar",
         "x": [
          "Wednesday"
         ],
         "xaxis": "x",
         "y": [
          1
         ],
         "yaxis": "y"
        },
        {
         "alignmentgroup": "True",
         "hovertemplate": "HelpTopic=Data Center Services<br>DayOfWeekOpened=%{x}<br>count=%{y}<extra></extra>",
         "legendgroup": "Data Center Services",
         "marker": {
          "color": "#00cc96",
          "pattern": {
           "shape": ""
          }
         },
         "name": "Data Center Services",
         "offsetgroup": "Data Center Services",
         "orientation": "v",
         "showlegend": true,
         "textposition": "auto",
         "type": "bar",
         "x": [
          "Wednesday"
         ],
         "xaxis": "x",
         "y": [
          1
         ],
         "yaxis": "y"
        },
        {
         "alignmentgroup": "True",
         "hovertemplate": "HelpTopic=Network & Wireless<br>DayOfWeekOpened=%{x}<br>count=%{y}<extra></extra>",
         "legendgroup": "Network & Wireless",
         "marker": {
          "color": "#ab63fa",
          "pattern": {
           "shape": ""
          }
         },
         "name": "Network & Wireless",
         "offsetgroup": "Network & Wireless",
         "orientation": "v",
         "showlegend": true,
         "textposition": "auto",
         "type": "bar",
         "x": [
          "Thursday",
          "Thursday",
          "Thursday",
          "Friday",
          "Friday",
          "Friday",
          "Sunday"
         ],
         "xaxis": "x",
         "y": [
          1,
          1,
          1,
          1,
          1,
          1,
          1
         ],
         "yaxis": "y"
        },
        {
         "alignmentgroup": "True",
         "hovertemplate": "HelpTopic=Hardware Issue<br>DayOfWeekOpened=%{x}<br>count=%{y}<extra></extra>",
         "legendgroup": "Hardware Issue",
         "marker": {
          "color": "#FFA15A",
          "pattern": {
           "shape": ""
          }
         },
         "name": "Hardware Issue",
         "offsetgroup": "Hardware Issue",
         "orientation": "v",
         "showlegend": true,
         "textposition": "auto",
         "type": "bar",
         "x": [
          "Thursday",
          "Friday",
          "Friday"
         ],
         "xaxis": "x",
         "y": [
          1,
          1,
          1
         ],
         "yaxis": "y"
        },
        {
         "alignmentgroup": "True",
         "hovertemplate": "HelpTopic=Data Center Services /VM Request<br>DayOfWeekOpened=%{x}<br>count=%{y}<extra></extra>",
         "legendgroup": "Data Center Services /VM Request",
         "marker": {
          "color": "#19d3f3",
          "pattern": {
           "shape": ""
          }
         },
         "name": "Data Center Services /VM Request",
         "offsetgroup": "Data Center Services /VM Request",
         "orientation": "v",
         "showlegend": true,
         "textposition": "auto",
         "type": "bar",
         "x": [
          "Friday"
         ],
         "xaxis": "x",
         "y": [
          1
         ],
         "yaxis": "y"
        }
       ],
       "layout": {
        "barmode": "relative",
        "height": 800,
        "legend": {
         "title": {
          "text": "HelpTopic"
         },
         "tracegroupgap": 0
        },
        "template": {
         "data": {
          "bar": [
           {
            "error_x": {
             "color": "#2a3f5f"
            },
            "error_y": {
             "color": "#2a3f5f"
            },
            "marker": {
             "line": {
              "color": "white",
              "width": 0.5
             },
             "pattern": {
              "fillmode": "overlay",
              "size": 10,
              "solidity": 0.2
             }
            },
            "type": "bar"
           }
          ],
          "barpolar": [
           {
            "marker": {
             "line": {
              "color": "white",
              "width": 0.5
             },
             "pattern": {
              "fillmode": "overlay",
              "size": 10,
              "solidity": 0.2
             }
            },
            "type": "barpolar"
           }
          ],
          "carpet": [
           {
            "aaxis": {
             "endlinecolor": "#2a3f5f",
             "gridcolor": "#C8D4E3",
             "linecolor": "#C8D4E3",
             "minorgridcolor": "#C8D4E3",
             "startlinecolor": "#2a3f5f"
            },
            "baxis": {
             "endlinecolor": "#2a3f5f",
             "gridcolor": "#C8D4E3",
             "linecolor": "#C8D4E3",
             "minorgridcolor": "#C8D4E3",
             "startlinecolor": "#2a3f5f"
            },
            "type": "carpet"
           }
          ],
          "choropleth": [
           {
            "colorbar": {
             "outlinewidth": 0,
             "ticks": ""
            },
            "type": "choropleth"
           }
          ],
          "contour": [
           {
            "colorbar": {
             "outlinewidth": 0,
             "ticks": ""
            },
            "colorscale": [
             [
              0,
              "#0d0887"
             ],
             [
              0.1111111111111111,
              "#46039f"
             ],
             [
              0.2222222222222222,
              "#7201a8"
             ],
             [
              0.3333333333333333,
              "#9c179e"
             ],
             [
              0.4444444444444444,
              "#bd3786"
             ],
             [
              0.5555555555555556,
              "#d8576b"
             ],
             [
              0.6666666666666666,
              "#ed7953"
             ],
             [
              0.7777777777777778,
              "#fb9f3a"
             ],
             [
              0.8888888888888888,
              "#fdca26"
             ],
             [
              1,
              "#f0f921"
             ]
            ],
            "type": "contour"
           }
          ],
          "contourcarpet": [
           {
            "colorbar": {
             "outlinewidth": 0,
             "ticks": ""
            },
            "type": "contourcarpet"
           }
          ],
          "heatmap": [
           {
            "colorbar": {
             "outlinewidth": 0,
             "ticks": ""
            },
            "colorscale": [
             [
              0,
              "#0d0887"
             ],
             [
              0.1111111111111111,
              "#46039f"
             ],
             [
              0.2222222222222222,
              "#7201a8"
             ],
             [
              0.3333333333333333,
              "#9c179e"
             ],
             [
              0.4444444444444444,
              "#bd3786"
             ],
             [
              0.5555555555555556,
              "#d8576b"
             ],
             [
              0.6666666666666666,
              "#ed7953"
             ],
             [
              0.7777777777777778,
              "#fb9f3a"
             ],
             [
              0.8888888888888888,
              "#fdca26"
             ],
             [
              1,
              "#f0f921"
             ]
            ],
            "type": "heatmap"
           }
          ],
          "heatmapgl": [
           {
            "colorbar": {
             "outlinewidth": 0,
             "ticks": ""
            },
            "colorscale": [
             [
              0,
              "#0d0887"
             ],
             [
              0.1111111111111111,
              "#46039f"
             ],
             [
              0.2222222222222222,
              "#7201a8"
             ],
             [
              0.3333333333333333,
              "#9c179e"
             ],
             [
              0.4444444444444444,
              "#bd3786"
             ],
             [
              0.5555555555555556,
              "#d8576b"
             ],
             [
              0.6666666666666666,
              "#ed7953"
             ],
             [
              0.7777777777777778,
              "#fb9f3a"
             ],
             [
              0.8888888888888888,
              "#fdca26"
             ],
             [
              1,
              "#f0f921"
             ]
            ],
            "type": "heatmapgl"
           }
          ],
          "histogram": [
           {
            "marker": {
             "pattern": {
              "fillmode": "overlay",
              "size": 10,
              "solidity": 0.2
             }
            },
            "type": "histogram"
           }
          ],
          "histogram2d": [
           {
            "colorbar": {
             "outlinewidth": 0,
             "ticks": ""
            },
            "colorscale": [
             [
              0,
              "#0d0887"
             ],
             [
              0.1111111111111111,
              "#46039f"
             ],
             [
              0.2222222222222222,
              "#7201a8"
             ],
             [
              0.3333333333333333,
              "#9c179e"
             ],
             [
              0.4444444444444444,
              "#bd3786"
             ],
             [
              0.5555555555555556,
              "#d8576b"
             ],
             [
              0.6666666666666666,
              "#ed7953"
             ],
             [
              0.7777777777777778,
              "#fb9f3a"
             ],
             [
              0.8888888888888888,
              "#fdca26"
             ],
             [
              1,
              "#f0f921"
             ]
            ],
            "type": "histogram2d"
           }
          ],
          "histogram2dcontour": [
           {
            "colorbar": {
             "outlinewidth": 0,
             "ticks": ""
            },
            "colorscale": [
             [
              0,
              "#0d0887"
             ],
             [
              0.1111111111111111,
              "#46039f"
             ],
             [
              0.2222222222222222,
              "#7201a8"
             ],
             [
              0.3333333333333333,
              "#9c179e"
             ],
             [
              0.4444444444444444,
              "#bd3786"
             ],
             [
              0.5555555555555556,
              "#d8576b"
             ],
             [
              0.6666666666666666,
              "#ed7953"
             ],
             [
              0.7777777777777778,
              "#fb9f3a"
             ],
             [
              0.8888888888888888,
              "#fdca26"
             ],
             [
              1,
              "#f0f921"
             ]
            ],
            "type": "histogram2dcontour"
           }
          ],
          "mesh3d": [
           {
            "colorbar": {
             "outlinewidth": 0,
             "ticks": ""
            },
            "type": "mesh3d"
           }
          ],
          "parcoords": [
           {
            "line": {
             "colorbar": {
              "outlinewidth": 0,
              "ticks": ""
             }
            },
            "type": "parcoords"
           }
          ],
          "pie": [
           {
            "automargin": true,
            "type": "pie"
           }
          ],
          "scatter": [
           {
            "fillpattern": {
             "fillmode": "overlay",
             "size": 10,
             "solidity": 0.2
            },
            "type": "scatter"
           }
          ],
          "scatter3d": [
           {
            "line": {
             "colorbar": {
              "outlinewidth": 0,
              "ticks": ""
             }
            },
            "marker": {
             "colorbar": {
              "outlinewidth": 0,
              "ticks": ""
             }
            },
            "type": "scatter3d"
           }
          ],
          "scattercarpet": [
           {
            "marker": {
             "colorbar": {
              "outlinewidth": 0,
              "ticks": ""
             }
            },
            "type": "scattercarpet"
           }
          ],
          "scattergeo": [
           {
            "marker": {
             "colorbar": {
              "outlinewidth": 0,
              "ticks": ""
             }
            },
            "type": "scattergeo"
           }
          ],
          "scattergl": [
           {
            "marker": {
             "colorbar": {
              "outlinewidth": 0,
              "ticks": ""
             }
            },
            "type": "scattergl"
           }
          ],
          "scattermapbox": [
           {
            "marker": {
             "colorbar": {
              "outlinewidth": 0,
              "ticks": ""
             }
            },
            "type": "scattermapbox"
           }
          ],
          "scatterpolar": [
           {
            "marker": {
             "colorbar": {
              "outlinewidth": 0,
              "ticks": ""
             }
            },
            "type": "scatterpolar"
           }
          ],
          "scatterpolargl": [
           {
            "marker": {
             "colorbar": {
              "outlinewidth": 0,
              "ticks": ""
             }
            },
            "type": "scatterpolargl"
           }
          ],
          "scatterternary": [
           {
            "marker": {
             "colorbar": {
              "outlinewidth": 0,
              "ticks": ""
             }
            },
            "type": "scatterternary"
           }
          ],
          "surface": [
           {
            "colorbar": {
             "outlinewidth": 0,
             "ticks": ""
            },
            "colorscale": [
             [
              0,
              "#0d0887"
             ],
             [
              0.1111111111111111,
              "#46039f"
             ],
             [
              0.2222222222222222,
              "#7201a8"
             ],
             [
              0.3333333333333333,
              "#9c179e"
             ],
             [
              0.4444444444444444,
              "#bd3786"
             ],
             [
              0.5555555555555556,
              "#d8576b"
             ],
             [
              0.6666666666666666,
              "#ed7953"
             ],
             [
              0.7777777777777778,
              "#fb9f3a"
             ],
             [
              0.8888888888888888,
              "#fdca26"
             ],
             [
              1,
              "#f0f921"
             ]
            ],
            "type": "surface"
           }
          ],
          "table": [
           {
            "cells": {
             "fill": {
              "color": "#EBF0F8"
             },
             "line": {
              "color": "white"
             }
            },
            "header": {
             "fill": {
              "color": "#C8D4E3"
             },
             "line": {
              "color": "white"
             }
            },
            "type": "table"
           }
          ]
         },
         "layout": {
          "annotationdefaults": {
           "arrowcolor": "#2a3f5f",
           "arrowhead": 0,
           "arrowwidth": 1
          },
          "autotypenumbers": "strict",
          "coloraxis": {
           "colorbar": {
            "outlinewidth": 0,
            "ticks": ""
           }
          },
          "colorscale": {
           "diverging": [
            [
             0,
             "#8e0152"
            ],
            [
             0.1,
             "#c51b7d"
            ],
            [
             0.2,
             "#de77ae"
            ],
            [
             0.3,
             "#f1b6da"
            ],
            [
             0.4,
             "#fde0ef"
            ],
            [
             0.5,
             "#f7f7f7"
            ],
            [
             0.6,
             "#e6f5d0"
            ],
            [
             0.7,
             "#b8e186"
            ],
            [
             0.8,
             "#7fbc41"
            ],
            [
             0.9,
             "#4d9221"
            ],
            [
             1,
             "#276419"
            ]
           ],
           "sequential": [
            [
             0,
             "#0d0887"
            ],
            [
             0.1111111111111111,
             "#46039f"
            ],
            [
             0.2222222222222222,
             "#7201a8"
            ],
            [
             0.3333333333333333,
             "#9c179e"
            ],
            [
             0.4444444444444444,
             "#bd3786"
            ],
            [
             0.5555555555555556,
             "#d8576b"
            ],
            [
             0.6666666666666666,
             "#ed7953"
            ],
            [
             0.7777777777777778,
             "#fb9f3a"
            ],
            [
             0.8888888888888888,
             "#fdca26"
            ],
            [
             1,
             "#f0f921"
            ]
           ],
           "sequentialminus": [
            [
             0,
             "#0d0887"
            ],
            [
             0.1111111111111111,
             "#46039f"
            ],
            [
             0.2222222222222222,
             "#7201a8"
            ],
            [
             0.3333333333333333,
             "#9c179e"
            ],
            [
             0.4444444444444444,
             "#bd3786"
            ],
            [
             0.5555555555555556,
             "#d8576b"
            ],
            [
             0.6666666666666666,
             "#ed7953"
            ],
            [
             0.7777777777777778,
             "#fb9f3a"
            ],
            [
             0.8888888888888888,
             "#fdca26"
            ],
            [
             1,
             "#f0f921"
            ]
           ]
          },
          "colorway": [
           "#636efa",
           "#EF553B",
           "#00cc96",
           "#ab63fa",
           "#FFA15A",
           "#19d3f3",
           "#FF6692",
           "#B6E880",
           "#FF97FF",
           "#FECB52"
          ],
          "font": {
           "color": "#2a3f5f"
          },
          "geo": {
           "bgcolor": "white",
           "lakecolor": "white",
           "landcolor": "white",
           "showlakes": true,
           "showland": true,
           "subunitcolor": "#C8D4E3"
          },
          "hoverlabel": {
           "align": "left"
          },
          "hovermode": "closest",
          "mapbox": {
           "style": "light"
          },
          "paper_bgcolor": "white",
          "plot_bgcolor": "white",
          "polar": {
           "angularaxis": {
            "gridcolor": "#EBF0F8",
            "linecolor": "#EBF0F8",
            "ticks": ""
           },
           "bgcolor": "white",
           "radialaxis": {
            "gridcolor": "#EBF0F8",
            "linecolor": "#EBF0F8",
            "ticks": ""
           }
          },
          "scene": {
           "xaxis": {
            "backgroundcolor": "white",
            "gridcolor": "#DFE8F3",
            "gridwidth": 2,
            "linecolor": "#EBF0F8",
            "showbackground": true,
            "ticks": "",
            "zerolinecolor": "#EBF0F8"
           },
           "yaxis": {
            "backgroundcolor": "white",
            "gridcolor": "#DFE8F3",
            "gridwidth": 2,
            "linecolor": "#EBF0F8",
            "showbackground": true,
            "ticks": "",
            "zerolinecolor": "#EBF0F8"
           },
           "zaxis": {
            "backgroundcolor": "white",
            "gridcolor": "#DFE8F3",
            "gridwidth": 2,
            "linecolor": "#EBF0F8",
            "showbackground": true,
            "ticks": "",
            "zerolinecolor": "#EBF0F8"
           }
          },
          "shapedefaults": {
           "line": {
            "color": "#2a3f5f"
           }
          },
          "ternary": {
           "aaxis": {
            "gridcolor": "#DFE8F3",
            "linecolor": "#A2B1C6",
            "ticks": ""
           },
           "baxis": {
            "gridcolor": "#DFE8F3",
            "linecolor": "#A2B1C6",
            "ticks": ""
           },
           "bgcolor": "white",
           "caxis": {
            "gridcolor": "#DFE8F3",
            "linecolor": "#A2B1C6",
            "ticks": ""
           }
          },
          "title": {
           "x": 0.05
          },
          "xaxis": {
           "automargin": true,
           "gridcolor": "#EBF0F8",
           "linecolor": "#EBF0F8",
           "ticks": "",
           "title": {
            "standoff": 15
           },
           "zerolinecolor": "#EBF0F8",
           "zerolinewidth": 2
          },
          "yaxis": {
           "automargin": true,
           "gridcolor": "#EBF0F8",
           "linecolor": "#EBF0F8",
           "ticks": "",
           "title": {
            "standoff": 15
           },
           "zerolinecolor": "#EBF0F8",
           "zerolinewidth": 2
          }
         }
        },
        "title": {
         "font": {
          "color": "dark blue",
          "family": "Verdana, sans-serif",
          "size": 20
         },
         "text": "Ticket Resolution by Day of the Week"
        },
        "width": 1200,
        "xaxis": {
         "anchor": "y",
         "domain": [
          0,
          1
         ],
         "title": {
          "text": "DayOfWeekOpened"
         }
        },
        "yaxis": {
         "anchor": "x",
         "domain": [
          0,
          1
         ],
         "title": {
          "text": "count"
         }
        }
       }
      }
     },
     "metadata": {},
     "output_type": "display_data"
    }
   ],
   "source": [
    "# map each day to a numeric value to sort the DataFrame, ensuring the days are displayed in chronological order. \n",
    "day_order = {\n",
    "    'Monday': 1, \n",
    "    'Tuesday': 2, \n",
    "    'Wednesday': 3, \n",
    "    'Thursday': 4, \n",
    "    'Friday': 5, \n",
    "    'Saturday': 6, \n",
    "    'Sunday': 7\n",
    "}\n",
    "\n",
    "# Map the 'DayOfWeekOpened' to a new column with numeric values\n",
    "df['DayOfWeekNum'] = df['DayOfWeekOpened'].map(day_order)\n",
    "\n",
    "#sort the DataFrame based on this new column.\n",
    "df = df.sort_values('DayOfWeekNum')\n",
    "\n",
    "fig = px.bar(df, x='DayOfWeekOpened', title='NewPlot4: Ticket Resolution by Day of the Week', color='HelpTopic')\n",
    "\n",
    "# Adjust the size of the chart\n",
    "fig.update_layout(width=1200, height=800, template='plotly_white',\n",
    "                  title_text='Ticket Resolution by Day of the Week',\n",
    "                   title_font=dict(size=20, color='dark blue', family='Verdana, sans-serif') ) \n",
    "\n",
    "\n",
    "# Show the plot\n",
    "fig.show()\n"
   ]
  },
  {
   "cell_type": "markdown",
   "metadata": {},
   "source": [
    "***NewPlot4*** is a stacked bar chart which displays the count of tickets resolved on each day of the week, broken down by help topic.\n",
    "\n",
    "Here are some insights we can glean from this visualization:\n",
    "\n",
    "1. **Volume by Day**: Ticket resolution volume varies by day of the week, with the highest on Monday and Tuesday, a slight decrease on Wednesday, and the lowest numbers on Friday and Sunday. The weekend days, Saturday and Sunday, show very few resolved tickets, which could indicate limited support availability or lower ticket volumes on weekends.\n",
    "\n",
    "2. **Ticket Distribution**: The help topics \"Access Requests\" and \"Accessories\" seem to be the most common issues resolved across all weekdays.\n",
    "\n",
    "3. **Weekday Focus**: The support team resolves the majority of tickets during the weekdays, with a clear drop-off during the weekend. This could indicate a standard Monday-Friday work week for the support team or could reflect when users are most active and likely to report issues.\n",
    "\n",
    "4. **Support Staffing**: Staffing levels and support team efficiency might need to be adjusted to handle the higher volume of ticket resolutions early in the week.\n",
    "\n",
    "5. **Help Topic Prioritization**: The chart could inform management about which help topics are the most resource-intensive on each day, allowing for better planning and resource allocation.\n",
    "\n",
    "Overall, this chart helps in understanding the workflow of ticket resolutions and could guide decisions about staffing, training, and prioritization of support issues."
   ]
  },
  {
   "cell_type": "markdown",
   "metadata": {},
   "source": [
    "***NewPlot5*** visualizing the sources of tickets in the DataFrame. "
   ]
  },
  {
   "cell_type": "code",
   "execution_count": 25,
   "metadata": {},
   "outputs": [
    {
     "data": {
      "application/vnd.plotly.v1+json": {
       "config": {
        "plotlyServerURL": "https://plot.ly"
       },
       "data": [
        {
         "alignmentgroup": "True",
         "hovertemplate": "Source=%{x}<br>count=%{y}<extra></extra>",
         "legendgroup": "Email",
         "marker": {
          "color": "#636efa",
          "pattern": {
           "shape": ""
          }
         },
         "name": "Email",
         "offsetgroup": "Email",
         "orientation": "v",
         "showlegend": true,
         "textposition": "auto",
         "type": "bar",
         "x": [
          "Email",
          "Email",
          "Email",
          "Email",
          "Email",
          "Email",
          "Email",
          "Email",
          "Email",
          "Email",
          "Email",
          "Email",
          "Email",
          "Email",
          "Email",
          "Email",
          "Email",
          "Email",
          "Email",
          "Email",
          "Email",
          "Email",
          "Email",
          "Email",
          "Email",
          "Email",
          "Email",
          "Email",
          "Email",
          "Email",
          "Email",
          "Email",
          "Email",
          "Email",
          "Email",
          "Email",
          "Email",
          "Email",
          "Email",
          "Email",
          "Email",
          "Email",
          "Email",
          "Email",
          "Email",
          "Email",
          "Email",
          "Email",
          "Email",
          "Email",
          "Email",
          "Email",
          "Email",
          "Email",
          "Email",
          "Email",
          "Email",
          "Email",
          "Email",
          "Email",
          "Email",
          "Email",
          "Email",
          "Email",
          "Email",
          "Email",
          "Email",
          "Email",
          "Email",
          "Email",
          "Email",
          "Email",
          "Email",
          "Email",
          "Email",
          "Email",
          "Email",
          "Email",
          "Email",
          "Email",
          "Email",
          "Email",
          "Email",
          "Email",
          "Email",
          "Email",
          "Email",
          "Email",
          "Email",
          "Email",
          "Email",
          "Email",
          "Email",
          "Email",
          "Email",
          "Email",
          "Email",
          "Email",
          "Email",
          "Email",
          "Email",
          "Email",
          "Email",
          "Email",
          "Email",
          "Email",
          "Email",
          "Email",
          "Email",
          "Email",
          "Email",
          "Email",
          "Email",
          "Email",
          "Email",
          "Email",
          "Email",
          "Email",
          "Email",
          "Email",
          "Email",
          "Email",
          "Email",
          "Email",
          "Email",
          "Email",
          "Email",
          "Email",
          "Email",
          "Email",
          "Email",
          "Email",
          "Email",
          "Email",
          "Email",
          "Email",
          "Email",
          "Email",
          "Email",
          "Email",
          "Email",
          "Email",
          "Email",
          "Email",
          "Email",
          "Email",
          "Email",
          "Email",
          "Email",
          "Email",
          "Email",
          "Email",
          "Email",
          "Email",
          "Email",
          "Email",
          "Email",
          "Email",
          "Email",
          "Email",
          "Email",
          "Email",
          "Email",
          "Email",
          "Email",
          "Email",
          "Email",
          "Email",
          "Email",
          "Email",
          "Email",
          "Email",
          "Email",
          "Email",
          "Email",
          "Email",
          "Email",
          "Email",
          "Email",
          "Email",
          "Email",
          "Email",
          "Email",
          "Email",
          "Email",
          "Email",
          "Email",
          "Email",
          "Email",
          "Email",
          "Email",
          "Email",
          "Email",
          "Email",
          "Email",
          "Email",
          "Email",
          "Email",
          "Email",
          "Email",
          "Email",
          "Email",
          "Email",
          "Email",
          "Email",
          "Email",
          "Email",
          "Email",
          "Email",
          "Email",
          "Email",
          "Email",
          "Email",
          "Email",
          "Email",
          "Email",
          "Email",
          "Email",
          "Email",
          "Email",
          "Email",
          "Email",
          "Email",
          "Email",
          "Email",
          "Email",
          "Email",
          "Email",
          "Email",
          "Email",
          "Email",
          "Email",
          "Email",
          "Email",
          "Email",
          "Email",
          "Email",
          "Email",
          "Email",
          "Email",
          "Email",
          "Email",
          "Email",
          "Email",
          "Email",
          "Email",
          "Email",
          "Email",
          "Email",
          "Email",
          "Email",
          "Email",
          "Email",
          "Email",
          "Email",
          "Email",
          "Email",
          "Email",
          "Email",
          "Email",
          "Email",
          "Email",
          "Email",
          "Email",
          "Email",
          "Email",
          "Email",
          "Email",
          "Email",
          "Email",
          "Email",
          "Email",
          "Email",
          "Email",
          "Email",
          "Email",
          "Email",
          "Email",
          "Email",
          "Email",
          "Email",
          "Email",
          "Email",
          "Email",
          "Email",
          "Email",
          "Email",
          "Email",
          "Email",
          "Email",
          "Email",
          "Email",
          "Email",
          "Email",
          "Email",
          "Email",
          "Email",
          "Email",
          "Email",
          "Email",
          "Email",
          "Email",
          "Email",
          "Email",
          "Email",
          "Email",
          "Email",
          "Email",
          "Email",
          "Email",
          "Email",
          "Email",
          "Email",
          "Email",
          "Email",
          "Email",
          "Email",
          "Email",
          "Email",
          "Email",
          "Email",
          "Email",
          "Email",
          "Email",
          "Email",
          "Email",
          "Email",
          "Email",
          "Email",
          "Email",
          "Email",
          "Email",
          "Email",
          "Email",
          "Email",
          "Email",
          "Email",
          "Email",
          "Email",
          "Email",
          "Email",
          "Email",
          "Email",
          "Email",
          "Email",
          "Email"
         ],
         "xaxis": "x",
         "y": [
          1,
          1,
          1,
          1,
          1,
          1,
          1,
          1,
          1,
          1,
          1,
          1,
          1,
          1,
          1,
          1,
          1,
          1,
          1,
          1,
          1,
          1,
          1,
          1,
          1,
          1,
          1,
          1,
          1,
          1,
          1,
          1,
          1,
          1,
          1,
          1,
          1,
          1,
          1,
          1,
          1,
          1,
          1,
          1,
          1,
          1,
          1,
          1,
          1,
          1,
          1,
          1,
          1,
          1,
          1,
          1,
          1,
          1,
          1,
          1,
          1,
          1,
          1,
          1,
          1,
          1,
          1,
          1,
          1,
          1,
          1,
          1,
          1,
          1,
          1,
          1,
          1,
          1,
          1,
          1,
          1,
          1,
          1,
          1,
          1,
          1,
          1,
          1,
          1,
          1,
          1,
          1,
          1,
          1,
          1,
          1,
          1,
          1,
          1,
          1,
          1,
          1,
          1,
          1,
          1,
          1,
          1,
          1,
          1,
          1,
          1,
          1,
          1,
          1,
          1,
          1,
          1,
          1,
          1,
          1,
          1,
          1,
          1,
          1,
          1,
          1,
          1,
          1,
          1,
          1,
          1,
          1,
          1,
          1,
          1,
          1,
          1,
          1,
          1,
          1,
          1,
          1,
          1,
          1,
          1,
          1,
          1,
          1,
          1,
          1,
          1,
          1,
          1,
          1,
          1,
          1,
          1,
          1,
          1,
          1,
          1,
          1,
          1,
          1,
          1,
          1,
          1,
          1,
          1,
          1,
          1,
          1,
          1,
          1,
          1,
          1,
          1,
          1,
          1,
          1,
          1,
          1,
          1,
          1,
          1,
          1,
          1,
          1,
          1,
          1,
          1,
          1,
          1,
          1,
          1,
          1,
          1,
          1,
          1,
          1,
          1,
          1,
          1,
          1,
          1,
          1,
          1,
          1,
          1,
          1,
          1,
          1,
          1,
          1,
          1,
          1,
          1,
          1,
          1,
          1,
          1,
          1,
          1,
          1,
          1,
          1,
          1,
          1,
          1,
          1,
          1,
          1,
          1,
          1,
          1,
          1,
          1,
          1,
          1,
          1,
          1,
          1,
          1,
          1,
          1,
          1,
          1,
          1,
          1,
          1,
          1,
          1,
          1,
          1,
          1,
          1,
          1,
          1,
          1,
          1,
          1,
          1,
          1,
          1,
          1,
          1,
          1,
          1,
          1,
          1,
          1,
          1,
          1,
          1,
          1,
          1,
          1,
          1,
          1,
          1,
          1,
          1,
          1,
          1,
          1,
          1,
          1,
          1,
          1,
          1,
          1,
          1,
          1,
          1,
          1,
          1,
          1,
          1,
          1,
          1,
          1,
          1,
          1,
          1,
          1,
          1,
          1,
          1,
          1,
          1,
          1,
          1,
          1,
          1,
          1,
          1,
          1,
          1,
          1,
          1,
          1,
          1,
          1,
          1,
          1,
          1,
          1,
          1,
          1,
          1,
          1,
          1,
          1,
          1,
          1,
          1,
          1,
          1,
          1,
          1,
          1,
          1,
          1,
          1,
          1,
          1
         ],
         "yaxis": "y"
        },
        {
         "alignmentgroup": "True",
         "hovertemplate": "Source=%{x}<br>count=%{y}<extra></extra>",
         "legendgroup": "Web",
         "marker": {
          "color": "#EF553B",
          "pattern": {
           "shape": ""
          }
         },
         "name": "Web",
         "offsetgroup": "Web",
         "orientation": "v",
         "showlegend": true,
         "textposition": "auto",
         "type": "bar",
         "x": [
          "Web",
          "Web",
          "Web",
          "Web",
          "Web",
          "Web",
          "Web",
          "Web",
          "Web",
          "Web",
          "Web",
          "Web",
          "Web",
          "Web",
          "Web",
          "Web",
          "Web",
          "Web",
          "Web",
          "Web",
          "Web",
          "Web",
          "Web",
          "Web",
          "Web",
          "Web",
          "Web",
          "Web",
          "Web",
          "Web",
          "Web",
          "Web",
          "Web",
          "Web",
          "Web",
          "Web",
          "Web",
          "Web",
          "Web"
         ],
         "xaxis": "x",
         "y": [
          1,
          1,
          1,
          1,
          1,
          1,
          1,
          1,
          1,
          1,
          1,
          1,
          1,
          1,
          1,
          1,
          1,
          1,
          1,
          1,
          1,
          1,
          1,
          1,
          1,
          1,
          1,
          1,
          1,
          1,
          1,
          1,
          1,
          1,
          1,
          1,
          1,
          1,
          1
         ],
         "yaxis": "y"
        },
        {
         "alignmentgroup": "True",
         "hovertemplate": "Source=%{x}<br>count=%{y}<extra></extra>",
         "legendgroup": "Other",
         "marker": {
          "color": "#00cc96",
          "pattern": {
           "shape": ""
          }
         },
         "name": "Other",
         "offsetgroup": "Other",
         "orientation": "v",
         "showlegend": true,
         "textposition": "auto",
         "type": "bar",
         "x": [
          "Other",
          "Other",
          "Other",
          "Other",
          "Other",
          "Other",
          "Other"
         ],
         "xaxis": "x",
         "y": [
          1,
          1,
          1,
          1,
          1,
          1,
          1
         ],
         "yaxis": "y"
        }
       ],
       "layout": {
        "barmode": "relative",
        "height": 600,
        "legend": {
         "title": {
          "text": "Source"
         },
         "tracegroupgap": 0
        },
        "template": {
         "data": {
          "bar": [
           {
            "error_x": {
             "color": "#2a3f5f"
            },
            "error_y": {
             "color": "#2a3f5f"
            },
            "marker": {
             "line": {
              "color": "white",
              "width": 0.5
             },
             "pattern": {
              "fillmode": "overlay",
              "size": 10,
              "solidity": 0.2
             }
            },
            "type": "bar"
           }
          ],
          "barpolar": [
           {
            "marker": {
             "line": {
              "color": "white",
              "width": 0.5
             },
             "pattern": {
              "fillmode": "overlay",
              "size": 10,
              "solidity": 0.2
             }
            },
            "type": "barpolar"
           }
          ],
          "carpet": [
           {
            "aaxis": {
             "endlinecolor": "#2a3f5f",
             "gridcolor": "#C8D4E3",
             "linecolor": "#C8D4E3",
             "minorgridcolor": "#C8D4E3",
             "startlinecolor": "#2a3f5f"
            },
            "baxis": {
             "endlinecolor": "#2a3f5f",
             "gridcolor": "#C8D4E3",
             "linecolor": "#C8D4E3",
             "minorgridcolor": "#C8D4E3",
             "startlinecolor": "#2a3f5f"
            },
            "type": "carpet"
           }
          ],
          "choropleth": [
           {
            "colorbar": {
             "outlinewidth": 0,
             "ticks": ""
            },
            "type": "choropleth"
           }
          ],
          "contour": [
           {
            "colorbar": {
             "outlinewidth": 0,
             "ticks": ""
            },
            "colorscale": [
             [
              0,
              "#0d0887"
             ],
             [
              0.1111111111111111,
              "#46039f"
             ],
             [
              0.2222222222222222,
              "#7201a8"
             ],
             [
              0.3333333333333333,
              "#9c179e"
             ],
             [
              0.4444444444444444,
              "#bd3786"
             ],
             [
              0.5555555555555556,
              "#d8576b"
             ],
             [
              0.6666666666666666,
              "#ed7953"
             ],
             [
              0.7777777777777778,
              "#fb9f3a"
             ],
             [
              0.8888888888888888,
              "#fdca26"
             ],
             [
              1,
              "#f0f921"
             ]
            ],
            "type": "contour"
           }
          ],
          "contourcarpet": [
           {
            "colorbar": {
             "outlinewidth": 0,
             "ticks": ""
            },
            "type": "contourcarpet"
           }
          ],
          "heatmap": [
           {
            "colorbar": {
             "outlinewidth": 0,
             "ticks": ""
            },
            "colorscale": [
             [
              0,
              "#0d0887"
             ],
             [
              0.1111111111111111,
              "#46039f"
             ],
             [
              0.2222222222222222,
              "#7201a8"
             ],
             [
              0.3333333333333333,
              "#9c179e"
             ],
             [
              0.4444444444444444,
              "#bd3786"
             ],
             [
              0.5555555555555556,
              "#d8576b"
             ],
             [
              0.6666666666666666,
              "#ed7953"
             ],
             [
              0.7777777777777778,
              "#fb9f3a"
             ],
             [
              0.8888888888888888,
              "#fdca26"
             ],
             [
              1,
              "#f0f921"
             ]
            ],
            "type": "heatmap"
           }
          ],
          "heatmapgl": [
           {
            "colorbar": {
             "outlinewidth": 0,
             "ticks": ""
            },
            "colorscale": [
             [
              0,
              "#0d0887"
             ],
             [
              0.1111111111111111,
              "#46039f"
             ],
             [
              0.2222222222222222,
              "#7201a8"
             ],
             [
              0.3333333333333333,
              "#9c179e"
             ],
             [
              0.4444444444444444,
              "#bd3786"
             ],
             [
              0.5555555555555556,
              "#d8576b"
             ],
             [
              0.6666666666666666,
              "#ed7953"
             ],
             [
              0.7777777777777778,
              "#fb9f3a"
             ],
             [
              0.8888888888888888,
              "#fdca26"
             ],
             [
              1,
              "#f0f921"
             ]
            ],
            "type": "heatmapgl"
           }
          ],
          "histogram": [
           {
            "marker": {
             "pattern": {
              "fillmode": "overlay",
              "size": 10,
              "solidity": 0.2
             }
            },
            "type": "histogram"
           }
          ],
          "histogram2d": [
           {
            "colorbar": {
             "outlinewidth": 0,
             "ticks": ""
            },
            "colorscale": [
             [
              0,
              "#0d0887"
             ],
             [
              0.1111111111111111,
              "#46039f"
             ],
             [
              0.2222222222222222,
              "#7201a8"
             ],
             [
              0.3333333333333333,
              "#9c179e"
             ],
             [
              0.4444444444444444,
              "#bd3786"
             ],
             [
              0.5555555555555556,
              "#d8576b"
             ],
             [
              0.6666666666666666,
              "#ed7953"
             ],
             [
              0.7777777777777778,
              "#fb9f3a"
             ],
             [
              0.8888888888888888,
              "#fdca26"
             ],
             [
              1,
              "#f0f921"
             ]
            ],
            "type": "histogram2d"
           }
          ],
          "histogram2dcontour": [
           {
            "colorbar": {
             "outlinewidth": 0,
             "ticks": ""
            },
            "colorscale": [
             [
              0,
              "#0d0887"
             ],
             [
              0.1111111111111111,
              "#46039f"
             ],
             [
              0.2222222222222222,
              "#7201a8"
             ],
             [
              0.3333333333333333,
              "#9c179e"
             ],
             [
              0.4444444444444444,
              "#bd3786"
             ],
             [
              0.5555555555555556,
              "#d8576b"
             ],
             [
              0.6666666666666666,
              "#ed7953"
             ],
             [
              0.7777777777777778,
              "#fb9f3a"
             ],
             [
              0.8888888888888888,
              "#fdca26"
             ],
             [
              1,
              "#f0f921"
             ]
            ],
            "type": "histogram2dcontour"
           }
          ],
          "mesh3d": [
           {
            "colorbar": {
             "outlinewidth": 0,
             "ticks": ""
            },
            "type": "mesh3d"
           }
          ],
          "parcoords": [
           {
            "line": {
             "colorbar": {
              "outlinewidth": 0,
              "ticks": ""
             }
            },
            "type": "parcoords"
           }
          ],
          "pie": [
           {
            "automargin": true,
            "type": "pie"
           }
          ],
          "scatter": [
           {
            "fillpattern": {
             "fillmode": "overlay",
             "size": 10,
             "solidity": 0.2
            },
            "type": "scatter"
           }
          ],
          "scatter3d": [
           {
            "line": {
             "colorbar": {
              "outlinewidth": 0,
              "ticks": ""
             }
            },
            "marker": {
             "colorbar": {
              "outlinewidth": 0,
              "ticks": ""
             }
            },
            "type": "scatter3d"
           }
          ],
          "scattercarpet": [
           {
            "marker": {
             "colorbar": {
              "outlinewidth": 0,
              "ticks": ""
             }
            },
            "type": "scattercarpet"
           }
          ],
          "scattergeo": [
           {
            "marker": {
             "colorbar": {
              "outlinewidth": 0,
              "ticks": ""
             }
            },
            "type": "scattergeo"
           }
          ],
          "scattergl": [
           {
            "marker": {
             "colorbar": {
              "outlinewidth": 0,
              "ticks": ""
             }
            },
            "type": "scattergl"
           }
          ],
          "scattermapbox": [
           {
            "marker": {
             "colorbar": {
              "outlinewidth": 0,
              "ticks": ""
             }
            },
            "type": "scattermapbox"
           }
          ],
          "scatterpolar": [
           {
            "marker": {
             "colorbar": {
              "outlinewidth": 0,
              "ticks": ""
             }
            },
            "type": "scatterpolar"
           }
          ],
          "scatterpolargl": [
           {
            "marker": {
             "colorbar": {
              "outlinewidth": 0,
              "ticks": ""
             }
            },
            "type": "scatterpolargl"
           }
          ],
          "scatterternary": [
           {
            "marker": {
             "colorbar": {
              "outlinewidth": 0,
              "ticks": ""
             }
            },
            "type": "scatterternary"
           }
          ],
          "surface": [
           {
            "colorbar": {
             "outlinewidth": 0,
             "ticks": ""
            },
            "colorscale": [
             [
              0,
              "#0d0887"
             ],
             [
              0.1111111111111111,
              "#46039f"
             ],
             [
              0.2222222222222222,
              "#7201a8"
             ],
             [
              0.3333333333333333,
              "#9c179e"
             ],
             [
              0.4444444444444444,
              "#bd3786"
             ],
             [
              0.5555555555555556,
              "#d8576b"
             ],
             [
              0.6666666666666666,
              "#ed7953"
             ],
             [
              0.7777777777777778,
              "#fb9f3a"
             ],
             [
              0.8888888888888888,
              "#fdca26"
             ],
             [
              1,
              "#f0f921"
             ]
            ],
            "type": "surface"
           }
          ],
          "table": [
           {
            "cells": {
             "fill": {
              "color": "#EBF0F8"
             },
             "line": {
              "color": "white"
             }
            },
            "header": {
             "fill": {
              "color": "#C8D4E3"
             },
             "line": {
              "color": "white"
             }
            },
            "type": "table"
           }
          ]
         },
         "layout": {
          "annotationdefaults": {
           "arrowcolor": "#2a3f5f",
           "arrowhead": 0,
           "arrowwidth": 1
          },
          "autotypenumbers": "strict",
          "coloraxis": {
           "colorbar": {
            "outlinewidth": 0,
            "ticks": ""
           }
          },
          "colorscale": {
           "diverging": [
            [
             0,
             "#8e0152"
            ],
            [
             0.1,
             "#c51b7d"
            ],
            [
             0.2,
             "#de77ae"
            ],
            [
             0.3,
             "#f1b6da"
            ],
            [
             0.4,
             "#fde0ef"
            ],
            [
             0.5,
             "#f7f7f7"
            ],
            [
             0.6,
             "#e6f5d0"
            ],
            [
             0.7,
             "#b8e186"
            ],
            [
             0.8,
             "#7fbc41"
            ],
            [
             0.9,
             "#4d9221"
            ],
            [
             1,
             "#276419"
            ]
           ],
           "sequential": [
            [
             0,
             "#0d0887"
            ],
            [
             0.1111111111111111,
             "#46039f"
            ],
            [
             0.2222222222222222,
             "#7201a8"
            ],
            [
             0.3333333333333333,
             "#9c179e"
            ],
            [
             0.4444444444444444,
             "#bd3786"
            ],
            [
             0.5555555555555556,
             "#d8576b"
            ],
            [
             0.6666666666666666,
             "#ed7953"
            ],
            [
             0.7777777777777778,
             "#fb9f3a"
            ],
            [
             0.8888888888888888,
             "#fdca26"
            ],
            [
             1,
             "#f0f921"
            ]
           ],
           "sequentialminus": [
            [
             0,
             "#0d0887"
            ],
            [
             0.1111111111111111,
             "#46039f"
            ],
            [
             0.2222222222222222,
             "#7201a8"
            ],
            [
             0.3333333333333333,
             "#9c179e"
            ],
            [
             0.4444444444444444,
             "#bd3786"
            ],
            [
             0.5555555555555556,
             "#d8576b"
            ],
            [
             0.6666666666666666,
             "#ed7953"
            ],
            [
             0.7777777777777778,
             "#fb9f3a"
            ],
            [
             0.8888888888888888,
             "#fdca26"
            ],
            [
             1,
             "#f0f921"
            ]
           ]
          },
          "colorway": [
           "#636efa",
           "#EF553B",
           "#00cc96",
           "#ab63fa",
           "#FFA15A",
           "#19d3f3",
           "#FF6692",
           "#B6E880",
           "#FF97FF",
           "#FECB52"
          ],
          "font": {
           "color": "#2a3f5f"
          },
          "geo": {
           "bgcolor": "white",
           "lakecolor": "white",
           "landcolor": "white",
           "showlakes": true,
           "showland": true,
           "subunitcolor": "#C8D4E3"
          },
          "hoverlabel": {
           "align": "left"
          },
          "hovermode": "closest",
          "mapbox": {
           "style": "light"
          },
          "paper_bgcolor": "white",
          "plot_bgcolor": "white",
          "polar": {
           "angularaxis": {
            "gridcolor": "#EBF0F8",
            "linecolor": "#EBF0F8",
            "ticks": ""
           },
           "bgcolor": "white",
           "radialaxis": {
            "gridcolor": "#EBF0F8",
            "linecolor": "#EBF0F8",
            "ticks": ""
           }
          },
          "scene": {
           "xaxis": {
            "backgroundcolor": "white",
            "gridcolor": "#DFE8F3",
            "gridwidth": 2,
            "linecolor": "#EBF0F8",
            "showbackground": true,
            "ticks": "",
            "zerolinecolor": "#EBF0F8"
           },
           "yaxis": {
            "backgroundcolor": "white",
            "gridcolor": "#DFE8F3",
            "gridwidth": 2,
            "linecolor": "#EBF0F8",
            "showbackground": true,
            "ticks": "",
            "zerolinecolor": "#EBF0F8"
           },
           "zaxis": {
            "backgroundcolor": "white",
            "gridcolor": "#DFE8F3",
            "gridwidth": 2,
            "linecolor": "#EBF0F8",
            "showbackground": true,
            "ticks": "",
            "zerolinecolor": "#EBF0F8"
           }
          },
          "shapedefaults": {
           "line": {
            "color": "#2a3f5f"
           }
          },
          "ternary": {
           "aaxis": {
            "gridcolor": "#DFE8F3",
            "linecolor": "#A2B1C6",
            "ticks": ""
           },
           "baxis": {
            "gridcolor": "#DFE8F3",
            "linecolor": "#A2B1C6",
            "ticks": ""
           },
           "bgcolor": "white",
           "caxis": {
            "gridcolor": "#DFE8F3",
            "linecolor": "#A2B1C6",
            "ticks": ""
           }
          },
          "title": {
           "x": 0.05
          },
          "xaxis": {
           "automargin": true,
           "gridcolor": "#EBF0F8",
           "linecolor": "#EBF0F8",
           "ticks": "",
           "title": {
            "standoff": 15
           },
           "zerolinecolor": "#EBF0F8",
           "zerolinewidth": 2
          },
          "yaxis": {
           "automargin": true,
           "gridcolor": "#EBF0F8",
           "linecolor": "#EBF0F8",
           "ticks": "",
           "title": {
            "standoff": 15
           },
           "zerolinecolor": "#EBF0F8",
           "zerolinewidth": 2
          }
         }
        },
        "title": {
         "font": {
          "color": "dark blue",
          "family": "Verdana, sans-serif",
          "size": 20
         },
         "text": "Source of Tickets"
        },
        "width": 800,
        "xaxis": {
         "anchor": "y",
         "categoryarray": [
          "Email",
          "Web",
          "Other"
         ],
         "categoryorder": "array",
         "domain": [
          0,
          1
         ],
         "title": {
          "text": "Source"
         }
        },
        "yaxis": {
         "anchor": "x",
         "domain": [
          0,
          1
         ],
         "title": {
          "text": "count"
         }
        }
       }
      }
     },
     "metadata": {},
     "output_type": "display_data"
    }
   ],
   "source": [
    "fig = px.bar(df, x='Source', title='NewPlot5: Source of Tickets', color=\"Source\")\n",
    "\n",
    "# Adjust the size of the chart\n",
    "fig.update_layout(width=800, height=600, template='plotly_white',\n",
    "                  title_text='Source of Tickets',\n",
    "                   title_font=dict(size=20, color='dark blue', family='Verdana, sans-serif') ) \n",
    "fig.show()\n"
   ]
  },
  {
   "cell_type": "markdown",
   "metadata": {},
   "source": [
    "Key insights from this ***NewPlot5***:\n",
    "\n",
    "1. **Email as Primary Source**: The majority of tickets come from Email. This suggests that customers or users predominantly prefer to use email for support requests or issues.\n",
    "\n",
    "2. **Web Submissions**: There is a small but significant number of tickets submitted via the Web. This indicates that while not as popular as email, the web platform still plays a role in ticket submissions.\n",
    "\n",
    "3. **Other Sources**: The 'Other' category has the smallest count. These could be tickets generated through phone calls, in-person requests, social media, or any other channel not classified as Email or Web.\n",
    "\n",
    "4. **Channel Efficiency**: The support team may need to consider the efficiency and effectiveness of the email support channel since it's the most used source.\n",
    "\n",
    "5. **Support Channel Promotion**: There might be an opportunity to promote the web submission form more effectively if it is a more efficient channel for the support team.\n",
    "\n",
    "6. **Resource Allocation**: Resource allocation for the support team may be heavily skewed towards managing email tickets, with less emphasis on web and other sources.\n",
    "\n",
    "This visualization helps in understanding customer behavior regarding how they choose to report issues and can guide decisions on resource allocation, channel support, and potential areas to streamline the support process."
   ]
  },
  {
   "cell_type": "markdown",
   "metadata": {},
   "source": [
    "***NewPlot6*** analyzes the distribution of ticket opening times throughout the day in the DataFrame. "
   ]
  },
  {
   "cell_type": "code",
   "execution_count": 26,
   "metadata": {},
   "outputs": [
    {
     "data": {
      "application/vnd.plotly.v1+json": {
       "config": {
        "plotlyServerURL": "https://plot.ly"
       },
       "data": [
        {
         "alignmentgroup": "True",
         "bingroup": "x",
         "hovertemplate": "HelpTopic=Accessories<br>TimeOfDayOpened=%{x}<br>count=%{y}<extra></extra>",
         "legendgroup": "Accessories",
         "marker": {
          "color": "#636efa",
          "pattern": {
           "shape": ""
          }
         },
         "name": "Accessories",
         "offsetgroup": "Accessories",
         "orientation": "v",
         "showlegend": true,
         "type": "histogram",
         "x": [
          14,
          14,
          14,
          14,
          14,
          14,
          14,
          14,
          14,
          14,
          14,
          14,
          14,
          14,
          14,
          18,
          18,
          18,
          18,
          12,
          12,
          12,
          12,
          12,
          12,
          12,
          12,
          12,
          12,
          12,
          12,
          12,
          12,
          12,
          12,
          16,
          11,
          11,
          11,
          11,
          11,
          11,
          11,
          10,
          19,
          19,
          19,
          19,
          19,
          19,
          19,
          10,
          11,
          16,
          16,
          16,
          16,
          16,
          16,
          20,
          20,
          20,
          20,
          20,
          20,
          12,
          12,
          12,
          12,
          21,
          12,
          12,
          12,
          12,
          12,
          12,
          12,
          12,
          15,
          15,
          15,
          15,
          15,
          15,
          15,
          12,
          12,
          12,
          12,
          12,
          18,
          18,
          18,
          18,
          16,
          18,
          16,
          16,
          16,
          16,
          16,
          16,
          16,
          18,
          16,
          17,
          17,
          17,
          17,
          17,
          17,
          17,
          17,
          17,
          17,
          17,
          17,
          17,
          17,
          17,
          17,
          17
         ],
         "xaxis": "x",
         "yaxis": "y"
        },
        {
         "alignmentgroup": "True",
         "bingroup": "x",
         "hovertemplate": "HelpTopic=Access Requests<br>TimeOfDayOpened=%{x}<br>count=%{y}<extra></extra>",
         "legendgroup": "Access Requests",
         "marker": {
          "color": "#EF553B",
          "pattern": {
           "shape": ""
          }
         },
         "name": "Access Requests",
         "offsetgroup": "Access Requests",
         "orientation": "v",
         "showlegend": true,
         "type": "histogram",
         "x": [
          16,
          14,
          14,
          14,
          18,
          17,
          17,
          12,
          12,
          12,
          17,
          17,
          14,
          14,
          14,
          18,
          18,
          18,
          12,
          12,
          17,
          17,
          16,
          16,
          17,
          17,
          18,
          14,
          14,
          12,
          12,
          12,
          14,
          15,
          11,
          11,
          13,
          15,
          15,
          18,
          13,
          14,
          14,
          13,
          13,
          14,
          14,
          16,
          16,
          16,
          17,
          17,
          17,
          18,
          17,
          17,
          18,
          18,
          18,
          13,
          13,
          11,
          11,
          17,
          11,
          17,
          18,
          13,
          17,
          18,
          17,
          13,
          17,
          17,
          13,
          17,
          17,
          17,
          10,
          10,
          10,
          13,
          13,
          17,
          17,
          17,
          12,
          12,
          12,
          12,
          13,
          11,
          11,
          11,
          11,
          11,
          21,
          21,
          21,
          9,
          8,
          14,
          11,
          11,
          14,
          16,
          1,
          1,
          14,
          14,
          14,
          1,
          1,
          14,
          11,
          11,
          11,
          14,
          1,
          9,
          9,
          9,
          9,
          9,
          18,
          8,
          8,
          8,
          13,
          8,
          8,
          8,
          8,
          8,
          9,
          9,
          18,
          18,
          18,
          8,
          9,
          9,
          22,
          22,
          22,
          22,
          22,
          22,
          22,
          22,
          22,
          22,
          22,
          22,
          10,
          10,
          10,
          10,
          14,
          17,
          14,
          12,
          12,
          11,
          12,
          12,
          11,
          12,
          11,
          11,
          11,
          11,
          9,
          17,
          17,
          17,
          17,
          17,
          17,
          12,
          17,
          9,
          17,
          11,
          11,
          11,
          11,
          11,
          11,
          20,
          11,
          11,
          12,
          11,
          12,
          15,
          15,
          15,
          11,
          11,
          11,
          15,
          12,
          14,
          14,
          14,
          14,
          11,
          20,
          11,
          11,
          10,
          10,
          15,
          15,
          15,
          15,
          15,
          15,
          15,
          15,
          14,
          14,
          20,
          20,
          20,
          20,
          14,
          16,
          10,
          16,
          16,
          16,
          18,
          18,
          18,
          10,
          10,
          10,
          10,
          10,
          18,
          10
         ],
         "xaxis": "x",
         "yaxis": "y"
        },
        {
         "alignmentgroup": "True",
         "bingroup": "x",
         "hovertemplate": "HelpTopic=Email Services<br>TimeOfDayOpened=%{x}<br>count=%{y}<extra></extra>",
         "legendgroup": "Email Services",
         "marker": {
          "color": "#00cc96",
          "pattern": {
           "shape": ""
          }
         },
         "name": "Email Services",
         "offsetgroup": "Email Services",
         "orientation": "v",
         "showlegend": true,
         "type": "histogram",
         "x": [
          11,
          17
         ],
         "xaxis": "x",
         "yaxis": "y"
        },
        {
         "alignmentgroup": "True",
         "bingroup": "x",
         "hovertemplate": "HelpTopic=Password Reset<br>TimeOfDayOpened=%{x}<br>count=%{y}<extra></extra>",
         "legendgroup": "Password Reset",
         "marker": {
          "color": "#ab63fa",
          "pattern": {
           "shape": ""
          }
         },
         "name": "Password Reset",
         "offsetgroup": "Password Reset",
         "orientation": "v",
         "showlegend": true,
         "type": "histogram",
         "x": [
          14
         ],
         "xaxis": "x",
         "yaxis": "y"
        },
        {
         "alignmentgroup": "True",
         "bingroup": "x",
         "hovertemplate": "HelpTopic=VPN access<br>TimeOfDayOpened=%{x}<br>count=%{y}<extra></extra>",
         "legendgroup": "VPN access",
         "marker": {
          "color": "#FFA15A",
          "pattern": {
           "shape": ""
          }
         },
         "name": "VPN access",
         "offsetgroup": "VPN access",
         "orientation": "v",
         "showlegend": true,
         "type": "histogram",
         "x": [
          13
         ],
         "xaxis": "x",
         "yaxis": "y"
        },
        {
         "alignmentgroup": "True",
         "bingroup": "x",
         "hovertemplate": "HelpTopic=Data Center Services /Report VM issue<br>TimeOfDayOpened=%{x}<br>count=%{y}<extra></extra>",
         "legendgroup": "Data Center Services /Report VM issue",
         "marker": {
          "color": "#19d3f3",
          "pattern": {
           "shape": ""
          }
         },
         "name": "Data Center Services /Report VM issue",
         "offsetgroup": "Data Center Services /Report VM issue",
         "orientation": "v",
         "showlegend": true,
         "type": "histogram",
         "x": [
          12,
          18
         ],
         "xaxis": "x",
         "yaxis": "y"
        },
        {
         "alignmentgroup": "True",
         "bingroup": "x",
         "hovertemplate": "HelpTopic=Software Request<br>TimeOfDayOpened=%{x}<br>count=%{y}<extra></extra>",
         "legendgroup": "Software Request",
         "marker": {
          "color": "#FF6692",
          "pattern": {
           "shape": ""
          }
         },
         "name": "Software Request",
         "offsetgroup": "Software Request",
         "orientation": "v",
         "showlegend": true,
         "type": "histogram",
         "x": [
          13,
          13
         ],
         "xaxis": "x",
         "yaxis": "y"
        },
        {
         "alignmentgroup": "True",
         "bingroup": "x",
         "hovertemplate": "HelpTopic=Hardware<br>TimeOfDayOpened=%{x}<br>count=%{y}<extra></extra>",
         "legendgroup": "Hardware",
         "marker": {
          "color": "#B6E880",
          "pattern": {
           "shape": ""
          }
         },
         "name": "Hardware",
         "offsetgroup": "Hardware",
         "orientation": "v",
         "showlegend": true,
         "type": "histogram",
         "x": [
          15,
          14
         ],
         "xaxis": "x",
         "yaxis": "y"
        },
        {
         "alignmentgroup": "True",
         "bingroup": "x",
         "hovertemplate": "HelpTopic=Software Installation & Configuration<br>TimeOfDayOpened=%{x}<br>count=%{y}<extra></extra>",
         "legendgroup": "Software Installation & Configuration",
         "marker": {
          "color": "#FF97FF",
          "pattern": {
           "shape": ""
          }
         },
         "name": "Software Installation & Configuration",
         "offsetgroup": "Software Installation & Configuration",
         "orientation": "v",
         "showlegend": true,
         "type": "histogram",
         "x": [
          23
         ],
         "xaxis": "x",
         "yaxis": "y"
        },
        {
         "alignmentgroup": "True",
         "bingroup": "x",
         "hovertemplate": "HelpTopic=Network<br>TimeOfDayOpened=%{x}<br>count=%{y}<extra></extra>",
         "legendgroup": "Network",
         "marker": {
          "color": "#FECB52",
          "pattern": {
           "shape": ""
          }
         },
         "name": "Network",
         "offsetgroup": "Network",
         "orientation": "v",
         "showlegend": true,
         "type": "histogram",
         "x": [
          21,
          21
         ],
         "xaxis": "x",
         "yaxis": "y"
        },
        {
         "alignmentgroup": "True",
         "bingroup": "x",
         "hovertemplate": "HelpTopic=Jira Requests<br>TimeOfDayOpened=%{x}<br>count=%{y}<extra></extra>",
         "legendgroup": "Jira Requests",
         "marker": {
          "color": "#636efa",
          "pattern": {
           "shape": ""
          }
         },
         "name": "Jira Requests",
         "offsetgroup": "Jira Requests",
         "orientation": "v",
         "showlegend": true,
         "type": "histogram",
         "x": [
          14
         ],
         "xaxis": "x",
         "yaxis": "y"
        },
        {
         "alignmentgroup": "True",
         "bingroup": "x",
         "hovertemplate": "HelpTopic=Newhire Accounts<br>TimeOfDayOpened=%{x}<br>count=%{y}<extra></extra>",
         "legendgroup": "Newhire Accounts",
         "marker": {
          "color": "#EF553B",
          "pattern": {
           "shape": ""
          }
         },
         "name": "Newhire Accounts",
         "offsetgroup": "Newhire Accounts",
         "orientation": "v",
         "showlegend": true,
         "type": "histogram",
         "x": [
          20
         ],
         "xaxis": "x",
         "yaxis": "y"
        },
        {
         "alignmentgroup": "True",
         "bingroup": "x",
         "hovertemplate": "HelpTopic=Data Center Services<br>TimeOfDayOpened=%{x}<br>count=%{y}<extra></extra>",
         "legendgroup": "Data Center Services",
         "marker": {
          "color": "#00cc96",
          "pattern": {
           "shape": ""
          }
         },
         "name": "Data Center Services",
         "offsetgroup": "Data Center Services",
         "orientation": "v",
         "showlegend": true,
         "type": "histogram",
         "x": [
          14
         ],
         "xaxis": "x",
         "yaxis": "y"
        },
        {
         "alignmentgroup": "True",
         "bingroup": "x",
         "hovertemplate": "HelpTopic=Network & Wireless<br>TimeOfDayOpened=%{x}<br>count=%{y}<extra></extra>",
         "legendgroup": "Network & Wireless",
         "marker": {
          "color": "#ab63fa",
          "pattern": {
           "shape": ""
          }
         },
         "name": "Network & Wireless",
         "offsetgroup": "Network & Wireless",
         "orientation": "v",
         "showlegend": true,
         "type": "histogram",
         "x": [
          12,
          11,
          13,
          18,
          18,
          18,
          18
         ],
         "xaxis": "x",
         "yaxis": "y"
        },
        {
         "alignmentgroup": "True",
         "bingroup": "x",
         "hovertemplate": "HelpTopic=Hardware Issue<br>TimeOfDayOpened=%{x}<br>count=%{y}<extra></extra>",
         "legendgroup": "Hardware Issue",
         "marker": {
          "color": "#FFA15A",
          "pattern": {
           "shape": ""
          }
         },
         "name": "Hardware Issue",
         "offsetgroup": "Hardware Issue",
         "orientation": "v",
         "showlegend": true,
         "type": "histogram",
         "x": [
          11,
          14,
          14
         ],
         "xaxis": "x",
         "yaxis": "y"
        },
        {
         "alignmentgroup": "True",
         "bingroup": "x",
         "hovertemplate": "HelpTopic=Data Center Services /VM Request<br>TimeOfDayOpened=%{x}<br>count=%{y}<extra></extra>",
         "legendgroup": "Data Center Services /VM Request",
         "marker": {
          "color": "#19d3f3",
          "pattern": {
           "shape": ""
          }
         },
         "name": "Data Center Services /VM Request",
         "offsetgroup": "Data Center Services /VM Request",
         "orientation": "v",
         "showlegend": true,
         "type": "histogram",
         "x": [
          14
         ],
         "xaxis": "x",
         "yaxis": "y"
        }
       ],
       "layout": {
        "barmode": "relative",
        "height": 800,
        "legend": {
         "title": {
          "text": "HelpTopic"
         },
         "tracegroupgap": 0
        },
        "template": {
         "data": {
          "bar": [
           {
            "error_x": {
             "color": "#2a3f5f"
            },
            "error_y": {
             "color": "#2a3f5f"
            },
            "marker": {
             "line": {
              "color": "white",
              "width": 0.5
             },
             "pattern": {
              "fillmode": "overlay",
              "size": 10,
              "solidity": 0.2
             }
            },
            "type": "bar"
           }
          ],
          "barpolar": [
           {
            "marker": {
             "line": {
              "color": "white",
              "width": 0.5
             },
             "pattern": {
              "fillmode": "overlay",
              "size": 10,
              "solidity": 0.2
             }
            },
            "type": "barpolar"
           }
          ],
          "carpet": [
           {
            "aaxis": {
             "endlinecolor": "#2a3f5f",
             "gridcolor": "#C8D4E3",
             "linecolor": "#C8D4E3",
             "minorgridcolor": "#C8D4E3",
             "startlinecolor": "#2a3f5f"
            },
            "baxis": {
             "endlinecolor": "#2a3f5f",
             "gridcolor": "#C8D4E3",
             "linecolor": "#C8D4E3",
             "minorgridcolor": "#C8D4E3",
             "startlinecolor": "#2a3f5f"
            },
            "type": "carpet"
           }
          ],
          "choropleth": [
           {
            "colorbar": {
             "outlinewidth": 0,
             "ticks": ""
            },
            "type": "choropleth"
           }
          ],
          "contour": [
           {
            "colorbar": {
             "outlinewidth": 0,
             "ticks": ""
            },
            "colorscale": [
             [
              0,
              "#0d0887"
             ],
             [
              0.1111111111111111,
              "#46039f"
             ],
             [
              0.2222222222222222,
              "#7201a8"
             ],
             [
              0.3333333333333333,
              "#9c179e"
             ],
             [
              0.4444444444444444,
              "#bd3786"
             ],
             [
              0.5555555555555556,
              "#d8576b"
             ],
             [
              0.6666666666666666,
              "#ed7953"
             ],
             [
              0.7777777777777778,
              "#fb9f3a"
             ],
             [
              0.8888888888888888,
              "#fdca26"
             ],
             [
              1,
              "#f0f921"
             ]
            ],
            "type": "contour"
           }
          ],
          "contourcarpet": [
           {
            "colorbar": {
             "outlinewidth": 0,
             "ticks": ""
            },
            "type": "contourcarpet"
           }
          ],
          "heatmap": [
           {
            "colorbar": {
             "outlinewidth": 0,
             "ticks": ""
            },
            "colorscale": [
             [
              0,
              "#0d0887"
             ],
             [
              0.1111111111111111,
              "#46039f"
             ],
             [
              0.2222222222222222,
              "#7201a8"
             ],
             [
              0.3333333333333333,
              "#9c179e"
             ],
             [
              0.4444444444444444,
              "#bd3786"
             ],
             [
              0.5555555555555556,
              "#d8576b"
             ],
             [
              0.6666666666666666,
              "#ed7953"
             ],
             [
              0.7777777777777778,
              "#fb9f3a"
             ],
             [
              0.8888888888888888,
              "#fdca26"
             ],
             [
              1,
              "#f0f921"
             ]
            ],
            "type": "heatmap"
           }
          ],
          "heatmapgl": [
           {
            "colorbar": {
             "outlinewidth": 0,
             "ticks": ""
            },
            "colorscale": [
             [
              0,
              "#0d0887"
             ],
             [
              0.1111111111111111,
              "#46039f"
             ],
             [
              0.2222222222222222,
              "#7201a8"
             ],
             [
              0.3333333333333333,
              "#9c179e"
             ],
             [
              0.4444444444444444,
              "#bd3786"
             ],
             [
              0.5555555555555556,
              "#d8576b"
             ],
             [
              0.6666666666666666,
              "#ed7953"
             ],
             [
              0.7777777777777778,
              "#fb9f3a"
             ],
             [
              0.8888888888888888,
              "#fdca26"
             ],
             [
              1,
              "#f0f921"
             ]
            ],
            "type": "heatmapgl"
           }
          ],
          "histogram": [
           {
            "marker": {
             "pattern": {
              "fillmode": "overlay",
              "size": 10,
              "solidity": 0.2
             }
            },
            "type": "histogram"
           }
          ],
          "histogram2d": [
           {
            "colorbar": {
             "outlinewidth": 0,
             "ticks": ""
            },
            "colorscale": [
             [
              0,
              "#0d0887"
             ],
             [
              0.1111111111111111,
              "#46039f"
             ],
             [
              0.2222222222222222,
              "#7201a8"
             ],
             [
              0.3333333333333333,
              "#9c179e"
             ],
             [
              0.4444444444444444,
              "#bd3786"
             ],
             [
              0.5555555555555556,
              "#d8576b"
             ],
             [
              0.6666666666666666,
              "#ed7953"
             ],
             [
              0.7777777777777778,
              "#fb9f3a"
             ],
             [
              0.8888888888888888,
              "#fdca26"
             ],
             [
              1,
              "#f0f921"
             ]
            ],
            "type": "histogram2d"
           }
          ],
          "histogram2dcontour": [
           {
            "colorbar": {
             "outlinewidth": 0,
             "ticks": ""
            },
            "colorscale": [
             [
              0,
              "#0d0887"
             ],
             [
              0.1111111111111111,
              "#46039f"
             ],
             [
              0.2222222222222222,
              "#7201a8"
             ],
             [
              0.3333333333333333,
              "#9c179e"
             ],
             [
              0.4444444444444444,
              "#bd3786"
             ],
             [
              0.5555555555555556,
              "#d8576b"
             ],
             [
              0.6666666666666666,
              "#ed7953"
             ],
             [
              0.7777777777777778,
              "#fb9f3a"
             ],
             [
              0.8888888888888888,
              "#fdca26"
             ],
             [
              1,
              "#f0f921"
             ]
            ],
            "type": "histogram2dcontour"
           }
          ],
          "mesh3d": [
           {
            "colorbar": {
             "outlinewidth": 0,
             "ticks": ""
            },
            "type": "mesh3d"
           }
          ],
          "parcoords": [
           {
            "line": {
             "colorbar": {
              "outlinewidth": 0,
              "ticks": ""
             }
            },
            "type": "parcoords"
           }
          ],
          "pie": [
           {
            "automargin": true,
            "type": "pie"
           }
          ],
          "scatter": [
           {
            "fillpattern": {
             "fillmode": "overlay",
             "size": 10,
             "solidity": 0.2
            },
            "type": "scatter"
           }
          ],
          "scatter3d": [
           {
            "line": {
             "colorbar": {
              "outlinewidth": 0,
              "ticks": ""
             }
            },
            "marker": {
             "colorbar": {
              "outlinewidth": 0,
              "ticks": ""
             }
            },
            "type": "scatter3d"
           }
          ],
          "scattercarpet": [
           {
            "marker": {
             "colorbar": {
              "outlinewidth": 0,
              "ticks": ""
             }
            },
            "type": "scattercarpet"
           }
          ],
          "scattergeo": [
           {
            "marker": {
             "colorbar": {
              "outlinewidth": 0,
              "ticks": ""
             }
            },
            "type": "scattergeo"
           }
          ],
          "scattergl": [
           {
            "marker": {
             "colorbar": {
              "outlinewidth": 0,
              "ticks": ""
             }
            },
            "type": "scattergl"
           }
          ],
          "scattermapbox": [
           {
            "marker": {
             "colorbar": {
              "outlinewidth": 0,
              "ticks": ""
             }
            },
            "type": "scattermapbox"
           }
          ],
          "scatterpolar": [
           {
            "marker": {
             "colorbar": {
              "outlinewidth": 0,
              "ticks": ""
             }
            },
            "type": "scatterpolar"
           }
          ],
          "scatterpolargl": [
           {
            "marker": {
             "colorbar": {
              "outlinewidth": 0,
              "ticks": ""
             }
            },
            "type": "scatterpolargl"
           }
          ],
          "scatterternary": [
           {
            "marker": {
             "colorbar": {
              "outlinewidth": 0,
              "ticks": ""
             }
            },
            "type": "scatterternary"
           }
          ],
          "surface": [
           {
            "colorbar": {
             "outlinewidth": 0,
             "ticks": ""
            },
            "colorscale": [
             [
              0,
              "#0d0887"
             ],
             [
              0.1111111111111111,
              "#46039f"
             ],
             [
              0.2222222222222222,
              "#7201a8"
             ],
             [
              0.3333333333333333,
              "#9c179e"
             ],
             [
              0.4444444444444444,
              "#bd3786"
             ],
             [
              0.5555555555555556,
              "#d8576b"
             ],
             [
              0.6666666666666666,
              "#ed7953"
             ],
             [
              0.7777777777777778,
              "#fb9f3a"
             ],
             [
              0.8888888888888888,
              "#fdca26"
             ],
             [
              1,
              "#f0f921"
             ]
            ],
            "type": "surface"
           }
          ],
          "table": [
           {
            "cells": {
             "fill": {
              "color": "#EBF0F8"
             },
             "line": {
              "color": "white"
             }
            },
            "header": {
             "fill": {
              "color": "#C8D4E3"
             },
             "line": {
              "color": "white"
             }
            },
            "type": "table"
           }
          ]
         },
         "layout": {
          "annotationdefaults": {
           "arrowcolor": "#2a3f5f",
           "arrowhead": 0,
           "arrowwidth": 1
          },
          "autotypenumbers": "strict",
          "coloraxis": {
           "colorbar": {
            "outlinewidth": 0,
            "ticks": ""
           }
          },
          "colorscale": {
           "diverging": [
            [
             0,
             "#8e0152"
            ],
            [
             0.1,
             "#c51b7d"
            ],
            [
             0.2,
             "#de77ae"
            ],
            [
             0.3,
             "#f1b6da"
            ],
            [
             0.4,
             "#fde0ef"
            ],
            [
             0.5,
             "#f7f7f7"
            ],
            [
             0.6,
             "#e6f5d0"
            ],
            [
             0.7,
             "#b8e186"
            ],
            [
             0.8,
             "#7fbc41"
            ],
            [
             0.9,
             "#4d9221"
            ],
            [
             1,
             "#276419"
            ]
           ],
           "sequential": [
            [
             0,
             "#0d0887"
            ],
            [
             0.1111111111111111,
             "#46039f"
            ],
            [
             0.2222222222222222,
             "#7201a8"
            ],
            [
             0.3333333333333333,
             "#9c179e"
            ],
            [
             0.4444444444444444,
             "#bd3786"
            ],
            [
             0.5555555555555556,
             "#d8576b"
            ],
            [
             0.6666666666666666,
             "#ed7953"
            ],
            [
             0.7777777777777778,
             "#fb9f3a"
            ],
            [
             0.8888888888888888,
             "#fdca26"
            ],
            [
             1,
             "#f0f921"
            ]
           ],
           "sequentialminus": [
            [
             0,
             "#0d0887"
            ],
            [
             0.1111111111111111,
             "#46039f"
            ],
            [
             0.2222222222222222,
             "#7201a8"
            ],
            [
             0.3333333333333333,
             "#9c179e"
            ],
            [
             0.4444444444444444,
             "#bd3786"
            ],
            [
             0.5555555555555556,
             "#d8576b"
            ],
            [
             0.6666666666666666,
             "#ed7953"
            ],
            [
             0.7777777777777778,
             "#fb9f3a"
            ],
            [
             0.8888888888888888,
             "#fdca26"
            ],
            [
             1,
             "#f0f921"
            ]
           ]
          },
          "colorway": [
           "#636efa",
           "#EF553B",
           "#00cc96",
           "#ab63fa",
           "#FFA15A",
           "#19d3f3",
           "#FF6692",
           "#B6E880",
           "#FF97FF",
           "#FECB52"
          ],
          "font": {
           "color": "#2a3f5f"
          },
          "geo": {
           "bgcolor": "white",
           "lakecolor": "white",
           "landcolor": "white",
           "showlakes": true,
           "showland": true,
           "subunitcolor": "#C8D4E3"
          },
          "hoverlabel": {
           "align": "left"
          },
          "hovermode": "closest",
          "mapbox": {
           "style": "light"
          },
          "paper_bgcolor": "white",
          "plot_bgcolor": "white",
          "polar": {
           "angularaxis": {
            "gridcolor": "#EBF0F8",
            "linecolor": "#EBF0F8",
            "ticks": ""
           },
           "bgcolor": "white",
           "radialaxis": {
            "gridcolor": "#EBF0F8",
            "linecolor": "#EBF0F8",
            "ticks": ""
           }
          },
          "scene": {
           "xaxis": {
            "backgroundcolor": "white",
            "gridcolor": "#DFE8F3",
            "gridwidth": 2,
            "linecolor": "#EBF0F8",
            "showbackground": true,
            "ticks": "",
            "zerolinecolor": "#EBF0F8"
           },
           "yaxis": {
            "backgroundcolor": "white",
            "gridcolor": "#DFE8F3",
            "gridwidth": 2,
            "linecolor": "#EBF0F8",
            "showbackground": true,
            "ticks": "",
            "zerolinecolor": "#EBF0F8"
           },
           "zaxis": {
            "backgroundcolor": "white",
            "gridcolor": "#DFE8F3",
            "gridwidth": 2,
            "linecolor": "#EBF0F8",
            "showbackground": true,
            "ticks": "",
            "zerolinecolor": "#EBF0F8"
           }
          },
          "shapedefaults": {
           "line": {
            "color": "#2a3f5f"
           }
          },
          "ternary": {
           "aaxis": {
            "gridcolor": "#DFE8F3",
            "linecolor": "#A2B1C6",
            "ticks": ""
           },
           "baxis": {
            "gridcolor": "#DFE8F3",
            "linecolor": "#A2B1C6",
            "ticks": ""
           },
           "bgcolor": "white",
           "caxis": {
            "gridcolor": "#DFE8F3",
            "linecolor": "#A2B1C6",
            "ticks": ""
           }
          },
          "title": {
           "x": 0.05
          },
          "xaxis": {
           "automargin": true,
           "gridcolor": "#EBF0F8",
           "linecolor": "#EBF0F8",
           "ticks": "",
           "title": {
            "standoff": 15
           },
           "zerolinecolor": "#EBF0F8",
           "zerolinewidth": 2
          },
          "yaxis": {
           "automargin": true,
           "gridcolor": "#EBF0F8",
           "linecolor": "#EBF0F8",
           "ticks": "",
           "title": {
            "standoff": 15
           },
           "zerolinecolor": "#EBF0F8",
           "zerolinewidth": 2
          }
         }
        },
        "title": {
         "font": {
          "color": "dark blue",
          "family": "Verdana, sans-serif",
          "size": 20
         },
         "text": "Ticket Opening Time of Day Analysis"
        },
        "width": 1400,
        "xaxis": {
         "anchor": "y",
         "domain": [
          0,
          1
         ],
         "title": {
          "text": "TimeOfDayOpened"
         }
        },
        "yaxis": {
         "anchor": "x",
         "domain": [
          0,
          1
         ],
         "title": {
          "text": "count"
         }
        }
       }
      }
     },
     "metadata": {},
     "output_type": "display_data"
    }
   ],
   "source": [
    "fig = px.histogram(df, x='TimeOfDayOpened', title='NewPlot6: Ticket Opening Time of Day Analysis', color=\"HelpTopic\")\n",
    "\n",
    "# Adjust the size of the chart\n",
    "fig.update_layout(width=1400, height=800, template='plotly_white',\n",
    "                  title_text='Ticket Opening Time of Day Analysis',\n",
    "                   title_font=dict(size=20, color='dark blue', family='Verdana, sans-serif') ) \n",
    "fig.show()\n"
   ]
  },
  {
   "cell_type": "markdown",
   "metadata": {},
   "source": [
    "Key insights from this ***NewPlot6***:\n",
    "\n",
    "1. **Peak Times**: There are clear peak times for ticket openings, with the highest peaks around 10, 14, and 16 hours, suggesting these are the busiest times of the day for ticket submissions.\n",
    "\n",
    "2. **Morning Activity**: There is a significant amount of activity in the morning, starting at around 10 hours (around 10AM), which could correspond with the beginning of a standard workday.\n",
    "\n",
    "3. **Afternoon Decrease**: After the peak at 10 hours, there's a noticeable decrease in ticket openings which then increases again in the early to mid-afternoon.\n",
    "\n",
    "4. **Evening Drop-off**: Ticket openings drop off significantly after 17 hours, indicating that fewer tickets are being opened during the evening.\n",
    "\n",
    "5. **Support Staffing**: The support team staffing levels may need to be higher during the identified peak times to handle the increased volume of tickets.\n",
    "\n",
    "7. **Automated Responses**: Off-peak hours with lower ticket volumes might benefit from automated responses or self-service resources to assist customers when the support team is less available.\n",
    "\n",
    "8. **Time-Sensitive Issues**: Certain issues may be more time-sensitive and are reported immediately during work hours, as shown by the spikes in ticket submissions at specific times.\n",
    "\n",
    "This visualization helps us understand the demand for support services throughout a typical day and can guide resource planning, such as staffing and providing timely support to customers."
   ]
  },
  {
   "cell_type": "markdown",
   "metadata": {},
   "source": [
    "### <a id='toc1_3_1_'></a>[ Outliers ](#toc0_)"
   ]
  },
  {
   "cell_type": "markdown",
   "metadata": {},
   "source": [
    "We have some ***outliers*** in target column due to some long overdue open tickets.  \n",
    "\n",
    "We will use statistical metrics like the interquartile range (IQR) to define an outlier as any point that lies 1.5 * IQR above the third quartile or below the first quartile.  We then remove those outliers identified.  \n",
    "\n",
    "We calculate the Interquartile Range (IQR) for the 'ResolutionDurationMins' column in the DataFrame to identify outliers. We compute the 25th (Q1) and 75th (Q3) percentiles, then find the IQR by subtracting Q1 from Q3.  Doing this provides key statistics for understanding the spread and potential outliers in the resolution duration data.\n",
    "\n",
    "We then finally employ box plots to visualize our data before and after removal of outliers."
   ]
  },
  {
   "cell_type": "code",
   "execution_count": 27,
   "metadata": {},
   "outputs": [
    {
     "name": "stdout",
     "output_type": "stream",
     "text": [
      "Q1 (25th percentile): 32.75\n",
      "Q3 (75th percentile): 44628.75\n",
      "IQR: 44596.0\n"
     ]
    }
   ],
   "source": [
    "# Calculate IQR\n",
    "\n",
    "Q1 = df['ResolutionDurationMins'].quantile(0.25)\n",
    "Q3 = df['ResolutionDurationMins'].quantile(0.75)\n",
    "IQR = Q3 - Q1\n",
    "\n",
    "print(\"Q1 (25th percentile):\", Q1)\n",
    "print(\"Q3 (75th percentile):\", Q3)\n",
    "print(\"IQR:\", IQR)\n"
   ]
  },
  {
   "cell_type": "markdown",
   "metadata": {},
   "source": [
    "Below we ***calculate the lower and upper bounds for outliers*** in the 'ResolutionDurationMins' data. "
   ]
  },
  {
   "cell_type": "code",
   "execution_count": 28,
   "metadata": {},
   "outputs": [
    {
     "name": "stdout",
     "output_type": "stream",
     "text": [
      "Lower Bound for Outliers: -66861.25\n",
      "Upper Bound for Outliers: 111522.75\n"
     ]
    }
   ],
   "source": [
    "## Calculate lower and upper bounds for outliers\n",
    "\n",
    "lower_bound = Q1 - 1.5 * IQR\n",
    "upper_bound = Q3 + 1.5 * IQR\n",
    "\n",
    "print(\"Lower Bound for Outliers:\", lower_bound)\n",
    "print(\"Upper Bound for Outliers:\", upper_bound)\n"
   ]
  },
  {
   "cell_type": "code",
   "execution_count": 29,
   "metadata": {},
   "outputs": [],
   "source": [
    "# Print list the outliers\n",
    "\n",
    "outliers = df[(df['ResolutionDurationMins'] < lower_bound) | (df['ResolutionDurationMins'] > upper_bound)]\n",
    "#print(\"Outliers:\\n\", outliers)\n"
   ]
  },
  {
   "cell_type": "markdown",
   "metadata": {},
   "source": [
    "***Filter Outliers***\n",
    "\n",
    "We filter out outliers from the DataFrame based on the previously calculated lower and upper bounds for 'ResolutionDurationMins'. We then create a new DataFrame `df_filtered` containing only the rows within these bounds."
   ]
  },
  {
   "cell_type": "code",
   "execution_count": 30,
   "metadata": {},
   "outputs": [
    {
     "name": "stdout",
     "output_type": "stream",
     "text": [
      "Original DataFrame shape: (392, 23)\n",
      "Filtered DataFrame shape: (331, 23)\n"
     ]
    }
   ],
   "source": [
    "# Filter out outliers\n",
    "df_filtered = df[(df['ResolutionDurationMins'] >= lower_bound) & (df['ResolutionDurationMins'] <= upper_bound)]\n",
    "\n",
    "# we want to verify the results to ensure that the outliers have been successfully removed. \n",
    "print(\"Original DataFrame shape:\", df.shape)\n",
    "print(\"Filtered DataFrame shape:\", df_filtered.shape)\n"
   ]
  },
  {
   "cell_type": "markdown",
   "metadata": {},
   "source": [
    "Below, we create a subplot with two side-by-side box plots using Plotly, comparing the 'ResolutionDurationMins' column in the DataFrame `df` before and after filtering out outliers. \n",
    "\n",
    "The first plot visualizes the original, unfiltered data, and the second shows the data post-outlier removal. \n",
    "\n",
    "This visual comparison helps in assessing the impact of the outlier removal process on the distribution of the 'ResolutionDurationMins' values."
   ]
  },
  {
   "cell_type": "code",
   "execution_count": 31,
   "metadata": {},
   "outputs": [
    {
     "data": {
      "application/vnd.plotly.v1+json": {
       "config": {
        "plotlyServerURL": "https://plot.ly"
       },
       "data": [
        {
         "name": "Before",
         "type": "box",
         "xaxis": "x",
         "y": [
          370369,
          370369,
          370369,
          370369,
          64,
          370369,
          16404,
          16404,
          16404,
          16404,
          16404,
          16404,
          16404,
          16404,
          115046,
          43.266666666666666,
          370369,
          370369,
          115046,
          115046,
          33,
          20.516666666666666,
          12,
          12,
          1,
          1,
          1,
          1.35,
          44320,
          22591,
          22591,
          22591,
          22591,
          44320,
          115046,
          115046,
          115046,
          33,
          206,
          5640,
          5640,
          5640,
          42823,
          42823,
          391,
          5640,
          5640,
          391,
          54,
          12,
          64,
          64,
          153.78333333333333,
          44320,
          44320,
          5640,
          33,
          0,
          5640,
          5640,
          5640,
          115046,
          5640,
          115046,
          0,
          5640,
          391,
          391,
          391,
          0,
          0,
          0,
          115046,
          38,
          43,
          43,
          256,
          38,
          38,
          161,
          256,
          44789,
          44760,
          44760,
          44789,
          44789,
          256,
          44760,
          44760,
          44585,
          44585,
          44585,
          174,
          174,
          174,
          161,
          174,
          174,
          80,
          80,
          80,
          256,
          256,
          24.766666666666666,
          38,
          43,
          286342,
          49,
          41,
          1629,
          49,
          1629,
          1629,
          1629,
          1629,
          1629,
          1629,
          4,
          1062,
          0,
          0,
          0,
          0,
          0,
          0,
          0,
          161,
          828.1666666666666,
          256,
          4,
          1629,
          41,
          161,
          286342,
          286342,
          286342,
          286342,
          41,
          286342,
          44789,
          1062,
          1062,
          44789,
          1062,
          1062,
          286342,
          1062,
          37,
          37,
          37,
          226,
          226,
          8,
          8,
          12,
          8,
          12,
          302,
          302,
          302,
          302,
          226,
          12,
          176,
          2,
          176,
          176,
          363,
          2,
          899,
          899,
          899,
          160,
          219,
          377344,
          377344,
          377344,
          377344,
          377344,
          377344,
          0,
          0,
          0,
          0,
          81,
          12,
          0,
          0,
          0,
          0,
          0,
          57674,
          57674,
          57674,
          176,
          176,
          0,
          59,
          1093,
          1093,
          12,
          12,
          0,
          984.2833333333333,
          1093,
          1093,
          0,
          176,
          176,
          2,
          0,
          242.38333333333333,
          1093,
          0,
          60580,
          0,
          0,
          0,
          0,
          60580,
          60580,
          60580,
          60580,
          0,
          0,
          1,
          1705,
          1705,
          1705,
          1558,
          1705,
          1705,
          1705,
          1705,
          1705,
          60580,
          60580,
          1,
          1,
          1,
          1705,
          60580,
          62,
          60580,
          87650,
          87650,
          87650,
          87650,
          87650,
          87650,
          87650,
          87650,
          87650,
          87650,
          87650,
          87650,
          117,
          117,
          117,
          117,
          5840.35,
          133,
          0,
          133,
          434,
          1507,
          1507,
          1507,
          1507,
          1507,
          21,
          21,
          5,
          107,
          300,
          5,
          21,
          5,
          5,
          5,
          5,
          1411,
          60580,
          0,
          0,
          0,
          0,
          0,
          0,
          300,
          0,
          60580,
          0,
          156633,
          156633,
          156633,
          22,
          156633,
          137867,
          28702.333333333332,
          21,
          227,
          156633,
          227,
          22,
          22,
          137867,
          21,
          21,
          2,
          42641,
          175555,
          175555,
          175555,
          175555,
          22,
          175555,
          175555,
          156633,
          2,
          53,
          137867,
          2,
          49225.46666666667,
          53,
          14,
          14,
          49225.46666666667,
          14,
          227,
          338,
          338,
          14,
          53,
          66,
          198610,
          66,
          66,
          66,
          179830,
          179830,
          198610,
          198610,
          179830,
          198610,
          179830,
          179830,
          179830,
          179830,
          198610,
          28,
          42710,
          198610,
          28,
          28,
          487,
          487,
          109,
          109,
          198610,
          109,
          109,
          109,
          109,
          109,
          109,
          118,
          118,
          198610,
          198610,
          198610,
          42710,
          42710,
          42710,
          42710,
          118,
          42967,
          110,
          42967,
          42967,
          42967,
          180,
          180,
          180,
          110,
          110,
          32,
          32,
          41,
          32,
          180,
          32
         ],
         "yaxis": "y"
        },
        {
         "name": "After",
         "type": "box",
         "xaxis": "x2",
         "y": [
          64,
          16404,
          16404,
          16404,
          16404,
          16404,
          16404,
          16404,
          16404,
          43.266666666666666,
          33,
          20.516666666666666,
          12,
          12,
          1,
          1,
          1,
          1.35,
          44320,
          22591,
          22591,
          22591,
          22591,
          44320,
          33,
          206,
          5640,
          5640,
          5640,
          42823,
          42823,
          391,
          5640,
          5640,
          391,
          54,
          12,
          64,
          64,
          153.78333333333333,
          44320,
          44320,
          5640,
          33,
          0,
          5640,
          5640,
          5640,
          5640,
          0,
          5640,
          391,
          391,
          391,
          0,
          0,
          0,
          38,
          43,
          43,
          256,
          38,
          38,
          161,
          256,
          44789,
          44760,
          44760,
          44789,
          44789,
          256,
          44760,
          44760,
          44585,
          44585,
          44585,
          174,
          174,
          174,
          161,
          174,
          174,
          80,
          80,
          80,
          256,
          256,
          24.766666666666666,
          38,
          43,
          49,
          41,
          1629,
          49,
          1629,
          1629,
          1629,
          1629,
          1629,
          1629,
          4,
          1062,
          0,
          0,
          0,
          0,
          0,
          0,
          0,
          161,
          828.1666666666666,
          256,
          4,
          1629,
          41,
          161,
          41,
          44789,
          1062,
          1062,
          44789,
          1062,
          1062,
          1062,
          37,
          37,
          37,
          226,
          226,
          8,
          8,
          12,
          8,
          12,
          302,
          302,
          302,
          302,
          226,
          12,
          176,
          2,
          176,
          176,
          363,
          2,
          899,
          899,
          899,
          160,
          219,
          0,
          0,
          0,
          0,
          81,
          12,
          0,
          0,
          0,
          0,
          0,
          57674,
          57674,
          57674,
          176,
          176,
          0,
          59,
          1093,
          1093,
          12,
          12,
          0,
          984.2833333333333,
          1093,
          1093,
          0,
          176,
          176,
          2,
          0,
          242.38333333333333,
          1093,
          0,
          60580,
          0,
          0,
          0,
          0,
          60580,
          60580,
          60580,
          60580,
          0,
          0,
          1,
          1705,
          1705,
          1705,
          1558,
          1705,
          1705,
          1705,
          1705,
          1705,
          60580,
          60580,
          1,
          1,
          1,
          1705,
          60580,
          62,
          60580,
          87650,
          87650,
          87650,
          87650,
          87650,
          87650,
          87650,
          87650,
          87650,
          87650,
          87650,
          87650,
          117,
          117,
          117,
          117,
          5840.35,
          133,
          0,
          133,
          434,
          1507,
          1507,
          1507,
          1507,
          1507,
          21,
          21,
          5,
          107,
          300,
          5,
          21,
          5,
          5,
          5,
          5,
          1411,
          60580,
          0,
          0,
          0,
          0,
          0,
          0,
          300,
          0,
          60580,
          0,
          22,
          28702.333333333332,
          21,
          227,
          227,
          22,
          22,
          21,
          21,
          2,
          42641,
          22,
          2,
          53,
          2,
          49225.46666666667,
          53,
          14,
          14,
          49225.46666666667,
          14,
          227,
          338,
          338,
          14,
          53,
          66,
          66,
          66,
          66,
          28,
          42710,
          28,
          28,
          487,
          487,
          109,
          109,
          109,
          109,
          109,
          109,
          109,
          109,
          118,
          118,
          42710,
          42710,
          42710,
          42710,
          118,
          42967,
          110,
          42967,
          42967,
          42967,
          180,
          180,
          180,
          110,
          110,
          32,
          32,
          41,
          32,
          180,
          32
         ],
         "yaxis": "y2"
        }
       ],
       "layout": {
        "annotations": [
         {
          "font": {
           "size": 16
          },
          "showarrow": false,
          "text": "Before Removing Outliers",
          "x": 0.225,
          "xanchor": "center",
          "xref": "paper",
          "y": 1,
          "yanchor": "bottom",
          "yref": "paper"
         },
         {
          "font": {
           "size": 16
          },
          "showarrow": false,
          "text": "After Removing Outliers",
          "x": 0.775,
          "xanchor": "center",
          "xref": "paper",
          "y": 1,
          "yanchor": "bottom",
          "yref": "paper"
         }
        ],
        "height": 600,
        "template": {
         "data": {
          "bar": [
           {
            "error_x": {
             "color": "#2a3f5f"
            },
            "error_y": {
             "color": "#2a3f5f"
            },
            "marker": {
             "line": {
              "color": "#E5ECF6",
              "width": 0.5
             },
             "pattern": {
              "fillmode": "overlay",
              "size": 10,
              "solidity": 0.2
             }
            },
            "type": "bar"
           }
          ],
          "barpolar": [
           {
            "marker": {
             "line": {
              "color": "#E5ECF6",
              "width": 0.5
             },
             "pattern": {
              "fillmode": "overlay",
              "size": 10,
              "solidity": 0.2
             }
            },
            "type": "barpolar"
           }
          ],
          "carpet": [
           {
            "aaxis": {
             "endlinecolor": "#2a3f5f",
             "gridcolor": "white",
             "linecolor": "white",
             "minorgridcolor": "white",
             "startlinecolor": "#2a3f5f"
            },
            "baxis": {
             "endlinecolor": "#2a3f5f",
             "gridcolor": "white",
             "linecolor": "white",
             "minorgridcolor": "white",
             "startlinecolor": "#2a3f5f"
            },
            "type": "carpet"
           }
          ],
          "choropleth": [
           {
            "colorbar": {
             "outlinewidth": 0,
             "ticks": ""
            },
            "type": "choropleth"
           }
          ],
          "contour": [
           {
            "colorbar": {
             "outlinewidth": 0,
             "ticks": ""
            },
            "colorscale": [
             [
              0,
              "#0d0887"
             ],
             [
              0.1111111111111111,
              "#46039f"
             ],
             [
              0.2222222222222222,
              "#7201a8"
             ],
             [
              0.3333333333333333,
              "#9c179e"
             ],
             [
              0.4444444444444444,
              "#bd3786"
             ],
             [
              0.5555555555555556,
              "#d8576b"
             ],
             [
              0.6666666666666666,
              "#ed7953"
             ],
             [
              0.7777777777777778,
              "#fb9f3a"
             ],
             [
              0.8888888888888888,
              "#fdca26"
             ],
             [
              1,
              "#f0f921"
             ]
            ],
            "type": "contour"
           }
          ],
          "contourcarpet": [
           {
            "colorbar": {
             "outlinewidth": 0,
             "ticks": ""
            },
            "type": "contourcarpet"
           }
          ],
          "heatmap": [
           {
            "colorbar": {
             "outlinewidth": 0,
             "ticks": ""
            },
            "colorscale": [
             [
              0,
              "#0d0887"
             ],
             [
              0.1111111111111111,
              "#46039f"
             ],
             [
              0.2222222222222222,
              "#7201a8"
             ],
             [
              0.3333333333333333,
              "#9c179e"
             ],
             [
              0.4444444444444444,
              "#bd3786"
             ],
             [
              0.5555555555555556,
              "#d8576b"
             ],
             [
              0.6666666666666666,
              "#ed7953"
             ],
             [
              0.7777777777777778,
              "#fb9f3a"
             ],
             [
              0.8888888888888888,
              "#fdca26"
             ],
             [
              1,
              "#f0f921"
             ]
            ],
            "type": "heatmap"
           }
          ],
          "heatmapgl": [
           {
            "colorbar": {
             "outlinewidth": 0,
             "ticks": ""
            },
            "colorscale": [
             [
              0,
              "#0d0887"
             ],
             [
              0.1111111111111111,
              "#46039f"
             ],
             [
              0.2222222222222222,
              "#7201a8"
             ],
             [
              0.3333333333333333,
              "#9c179e"
             ],
             [
              0.4444444444444444,
              "#bd3786"
             ],
             [
              0.5555555555555556,
              "#d8576b"
             ],
             [
              0.6666666666666666,
              "#ed7953"
             ],
             [
              0.7777777777777778,
              "#fb9f3a"
             ],
             [
              0.8888888888888888,
              "#fdca26"
             ],
             [
              1,
              "#f0f921"
             ]
            ],
            "type": "heatmapgl"
           }
          ],
          "histogram": [
           {
            "marker": {
             "pattern": {
              "fillmode": "overlay",
              "size": 10,
              "solidity": 0.2
             }
            },
            "type": "histogram"
           }
          ],
          "histogram2d": [
           {
            "colorbar": {
             "outlinewidth": 0,
             "ticks": ""
            },
            "colorscale": [
             [
              0,
              "#0d0887"
             ],
             [
              0.1111111111111111,
              "#46039f"
             ],
             [
              0.2222222222222222,
              "#7201a8"
             ],
             [
              0.3333333333333333,
              "#9c179e"
             ],
             [
              0.4444444444444444,
              "#bd3786"
             ],
             [
              0.5555555555555556,
              "#d8576b"
             ],
             [
              0.6666666666666666,
              "#ed7953"
             ],
             [
              0.7777777777777778,
              "#fb9f3a"
             ],
             [
              0.8888888888888888,
              "#fdca26"
             ],
             [
              1,
              "#f0f921"
             ]
            ],
            "type": "histogram2d"
           }
          ],
          "histogram2dcontour": [
           {
            "colorbar": {
             "outlinewidth": 0,
             "ticks": ""
            },
            "colorscale": [
             [
              0,
              "#0d0887"
             ],
             [
              0.1111111111111111,
              "#46039f"
             ],
             [
              0.2222222222222222,
              "#7201a8"
             ],
             [
              0.3333333333333333,
              "#9c179e"
             ],
             [
              0.4444444444444444,
              "#bd3786"
             ],
             [
              0.5555555555555556,
              "#d8576b"
             ],
             [
              0.6666666666666666,
              "#ed7953"
             ],
             [
              0.7777777777777778,
              "#fb9f3a"
             ],
             [
              0.8888888888888888,
              "#fdca26"
             ],
             [
              1,
              "#f0f921"
             ]
            ],
            "type": "histogram2dcontour"
           }
          ],
          "mesh3d": [
           {
            "colorbar": {
             "outlinewidth": 0,
             "ticks": ""
            },
            "type": "mesh3d"
           }
          ],
          "parcoords": [
           {
            "line": {
             "colorbar": {
              "outlinewidth": 0,
              "ticks": ""
             }
            },
            "type": "parcoords"
           }
          ],
          "pie": [
           {
            "automargin": true,
            "type": "pie"
           }
          ],
          "scatter": [
           {
            "fillpattern": {
             "fillmode": "overlay",
             "size": 10,
             "solidity": 0.2
            },
            "type": "scatter"
           }
          ],
          "scatter3d": [
           {
            "line": {
             "colorbar": {
              "outlinewidth": 0,
              "ticks": ""
             }
            },
            "marker": {
             "colorbar": {
              "outlinewidth": 0,
              "ticks": ""
             }
            },
            "type": "scatter3d"
           }
          ],
          "scattercarpet": [
           {
            "marker": {
             "colorbar": {
              "outlinewidth": 0,
              "ticks": ""
             }
            },
            "type": "scattercarpet"
           }
          ],
          "scattergeo": [
           {
            "marker": {
             "colorbar": {
              "outlinewidth": 0,
              "ticks": ""
             }
            },
            "type": "scattergeo"
           }
          ],
          "scattergl": [
           {
            "marker": {
             "colorbar": {
              "outlinewidth": 0,
              "ticks": ""
             }
            },
            "type": "scattergl"
           }
          ],
          "scattermapbox": [
           {
            "marker": {
             "colorbar": {
              "outlinewidth": 0,
              "ticks": ""
             }
            },
            "type": "scattermapbox"
           }
          ],
          "scatterpolar": [
           {
            "marker": {
             "colorbar": {
              "outlinewidth": 0,
              "ticks": ""
             }
            },
            "type": "scatterpolar"
           }
          ],
          "scatterpolargl": [
           {
            "marker": {
             "colorbar": {
              "outlinewidth": 0,
              "ticks": ""
             }
            },
            "type": "scatterpolargl"
           }
          ],
          "scatterternary": [
           {
            "marker": {
             "colorbar": {
              "outlinewidth": 0,
              "ticks": ""
             }
            },
            "type": "scatterternary"
           }
          ],
          "surface": [
           {
            "colorbar": {
             "outlinewidth": 0,
             "ticks": ""
            },
            "colorscale": [
             [
              0,
              "#0d0887"
             ],
             [
              0.1111111111111111,
              "#46039f"
             ],
             [
              0.2222222222222222,
              "#7201a8"
             ],
             [
              0.3333333333333333,
              "#9c179e"
             ],
             [
              0.4444444444444444,
              "#bd3786"
             ],
             [
              0.5555555555555556,
              "#d8576b"
             ],
             [
              0.6666666666666666,
              "#ed7953"
             ],
             [
              0.7777777777777778,
              "#fb9f3a"
             ],
             [
              0.8888888888888888,
              "#fdca26"
             ],
             [
              1,
              "#f0f921"
             ]
            ],
            "type": "surface"
           }
          ],
          "table": [
           {
            "cells": {
             "fill": {
              "color": "#EBF0F8"
             },
             "line": {
              "color": "white"
             }
            },
            "header": {
             "fill": {
              "color": "#C8D4E3"
             },
             "line": {
              "color": "white"
             }
            },
            "type": "table"
           }
          ]
         },
         "layout": {
          "annotationdefaults": {
           "arrowcolor": "#2a3f5f",
           "arrowhead": 0,
           "arrowwidth": 1
          },
          "autotypenumbers": "strict",
          "coloraxis": {
           "colorbar": {
            "outlinewidth": 0,
            "ticks": ""
           }
          },
          "colorscale": {
           "diverging": [
            [
             0,
             "#8e0152"
            ],
            [
             0.1,
             "#c51b7d"
            ],
            [
             0.2,
             "#de77ae"
            ],
            [
             0.3,
             "#f1b6da"
            ],
            [
             0.4,
             "#fde0ef"
            ],
            [
             0.5,
             "#f7f7f7"
            ],
            [
             0.6,
             "#e6f5d0"
            ],
            [
             0.7,
             "#b8e186"
            ],
            [
             0.8,
             "#7fbc41"
            ],
            [
             0.9,
             "#4d9221"
            ],
            [
             1,
             "#276419"
            ]
           ],
           "sequential": [
            [
             0,
             "#0d0887"
            ],
            [
             0.1111111111111111,
             "#46039f"
            ],
            [
             0.2222222222222222,
             "#7201a8"
            ],
            [
             0.3333333333333333,
             "#9c179e"
            ],
            [
             0.4444444444444444,
             "#bd3786"
            ],
            [
             0.5555555555555556,
             "#d8576b"
            ],
            [
             0.6666666666666666,
             "#ed7953"
            ],
            [
             0.7777777777777778,
             "#fb9f3a"
            ],
            [
             0.8888888888888888,
             "#fdca26"
            ],
            [
             1,
             "#f0f921"
            ]
           ],
           "sequentialminus": [
            [
             0,
             "#0d0887"
            ],
            [
             0.1111111111111111,
             "#46039f"
            ],
            [
             0.2222222222222222,
             "#7201a8"
            ],
            [
             0.3333333333333333,
             "#9c179e"
            ],
            [
             0.4444444444444444,
             "#bd3786"
            ],
            [
             0.5555555555555556,
             "#d8576b"
            ],
            [
             0.6666666666666666,
             "#ed7953"
            ],
            [
             0.7777777777777778,
             "#fb9f3a"
            ],
            [
             0.8888888888888888,
             "#fdca26"
            ],
            [
             1,
             "#f0f921"
            ]
           ]
          },
          "colorway": [
           "#636efa",
           "#EF553B",
           "#00cc96",
           "#ab63fa",
           "#FFA15A",
           "#19d3f3",
           "#FF6692",
           "#B6E880",
           "#FF97FF",
           "#FECB52"
          ],
          "font": {
           "color": "#2a3f5f"
          },
          "geo": {
           "bgcolor": "white",
           "lakecolor": "white",
           "landcolor": "#E5ECF6",
           "showlakes": true,
           "showland": true,
           "subunitcolor": "white"
          },
          "hoverlabel": {
           "align": "left"
          },
          "hovermode": "closest",
          "mapbox": {
           "style": "light"
          },
          "paper_bgcolor": "white",
          "plot_bgcolor": "#E5ECF6",
          "polar": {
           "angularaxis": {
            "gridcolor": "white",
            "linecolor": "white",
            "ticks": ""
           },
           "bgcolor": "#E5ECF6",
           "radialaxis": {
            "gridcolor": "white",
            "linecolor": "white",
            "ticks": ""
           }
          },
          "scene": {
           "xaxis": {
            "backgroundcolor": "#E5ECF6",
            "gridcolor": "white",
            "gridwidth": 2,
            "linecolor": "white",
            "showbackground": true,
            "ticks": "",
            "zerolinecolor": "white"
           },
           "yaxis": {
            "backgroundcolor": "#E5ECF6",
            "gridcolor": "white",
            "gridwidth": 2,
            "linecolor": "white",
            "showbackground": true,
            "ticks": "",
            "zerolinecolor": "white"
           },
           "zaxis": {
            "backgroundcolor": "#E5ECF6",
            "gridcolor": "white",
            "gridwidth": 2,
            "linecolor": "white",
            "showbackground": true,
            "ticks": "",
            "zerolinecolor": "white"
           }
          },
          "shapedefaults": {
           "line": {
            "color": "#2a3f5f"
           }
          },
          "ternary": {
           "aaxis": {
            "gridcolor": "white",
            "linecolor": "white",
            "ticks": ""
           },
           "baxis": {
            "gridcolor": "white",
            "linecolor": "white",
            "ticks": ""
           },
           "bgcolor": "#E5ECF6",
           "caxis": {
            "gridcolor": "white",
            "linecolor": "white",
            "ticks": ""
           }
          },
          "title": {
           "x": 0.05
          },
          "xaxis": {
           "automargin": true,
           "gridcolor": "white",
           "linecolor": "white",
           "ticks": "",
           "title": {
            "standoff": 15
           },
           "zerolinecolor": "white",
           "zerolinewidth": 2
          },
          "yaxis": {
           "automargin": true,
           "gridcolor": "white",
           "linecolor": "white",
           "ticks": "",
           "title": {
            "standoff": 15
           },
           "zerolinecolor": "white",
           "zerolinewidth": 2
          }
         }
        },
        "title": {
         "text": "Resolution Duration Mins: Before and After Removing Outliers"
        },
        "width": 800,
        "xaxis": {
         "anchor": "y",
         "domain": [
          0,
          0.45
         ]
        },
        "xaxis2": {
         "anchor": "y2",
         "domain": [
          0.55,
          1
         ]
        },
        "yaxis": {
         "anchor": "x",
         "domain": [
          0,
          1
         ]
        },
        "yaxis2": {
         "anchor": "x2",
         "domain": [
          0,
          1
         ]
        }
       }
      }
     },
     "metadata": {},
     "output_type": "display_data"
    }
   ],
   "source": [
    "# Create a subplot with 1 row and 2 columns\n",
    "fig = make_subplots(rows=1, cols=2, subplot_titles=('Before Removing Outliers', 'After Removing Outliers'))\n",
    "\n",
    "# Box plot for the unfiltered DataFrame\n",
    "fig.add_trace(go.Box(y=df['ResolutionDurationMins'], name='Before'), row=1, col=1)\n",
    "\n",
    "# Box plot for the filtered DataFrame\n",
    "fig.add_trace(go.Box(y=df_filtered['ResolutionDurationMins'], name='After'), row=1, col=2)\n",
    "\n",
    "# Update layout\n",
    "fig.update_layout(height=600, width=800, title_text='Resolution Duration Mins: Before and After Removing Outliers')\n",
    "fig.show()\n"
   ]
  },
  {
   "cell_type": "code",
   "execution_count": 32,
   "metadata": {},
   "outputs": [],
   "source": [
    "# Save the DataFrame to a CSV file\n",
    "df_filtered.to_csv('df_filtered.csv', index=False)\n",
    "\n"
   ]
  },
  {
   "cell_type": "markdown",
   "metadata": {},
   "source": [
    "## <a id='toc1_4_'></a>[3: Feature Selection: ](#toc0_)"
   ]
  },
  {
   "cell_type": "markdown",
   "metadata": {},
   "source": [
    "For our analysis of ticket resolution times, the key column of interest is **'ResolutionDurationMins'**. This column indicates the time taken to resolve a ticket in minutes, which aligns perfectly with our objective of predicting ticket resolution times.\n",
    "\n",
    "1. **Direct Correlation**: 'ResolutionDurationMins' is a direct measure of ticket resolution time, making it the ideal target for forecasts concerning future ticket resolution durations.\n",
    "\n",
    "2. **Suitable for Regression Analysis**: As a numerical variable, it's ideal for regression techniques in machine learning, enabling the prediction of a continuous outcome.\n",
    "\n",
    "3. **Operational Significance**: Predicting ticket resolution times can enhance helpdesk efficiency, resource allocation, and customer satisfaction by providing insights into operational dynamics.\n",
    "\n",
    "The chosen independent variables will shed light on patterns in ticket resolution times, possibly indicating the complexity or nature of issues impacting resolution duration.\n",
    "\n",
    "Utilizing 'ResolutionDurationMins' as our target variable, we aim to predict the resolution duration of future tickets using the features available from the other columns in the dataset.\n",
    "\n"
   ]
  },
  {
   "cell_type": "code",
   "execution_count": 3,
   "metadata": {},
   "outputs": [
    {
     "ename": "NameError",
     "evalue": "name 'df_filtered' is not defined",
     "output_type": "error",
     "traceback": [
      "\u001b[0;31m---------------------------------------------------------------------------\u001b[0m",
      "\u001b[0;31mNameError\u001b[0m                                 Traceback (most recent call last)",
      "Cell \u001b[0;32mIn[3], line 6\u001b[0m\n\u001b[1;32m      2\u001b[0m columns_to_keep \u001b[38;5;241m=\u001b[39m [\u001b[38;5;124m'\u001b[39m\u001b[38;5;124mSource\u001b[39m\u001b[38;5;124m'\u001b[39m, \u001b[38;5;124m'\u001b[39m\u001b[38;5;124mHelpTopic\u001b[39m\u001b[38;5;124m'\u001b[39m, \u001b[38;5;124m'\u001b[39m\u001b[38;5;124mKYC\u001b[39m\u001b[38;5;124m'\u001b[39m, \u001b[38;5;124m'\u001b[39m\u001b[38;5;124mResolutionDurationMins\u001b[39m\u001b[38;5;124m'\u001b[39m, \n\u001b[1;32m      3\u001b[0m                    \u001b[38;5;124m'\u001b[39m\u001b[38;5;124mTimeOfDayOpened\u001b[39m\u001b[38;5;124m'\u001b[39m, \u001b[38;5;124m'\u001b[39m\u001b[38;5;124mSentiment\u001b[39m\u001b[38;5;124m'\u001b[39m,\u001b[38;5;124m'\u001b[39m\u001b[38;5;124mDayOfWeekNum\u001b[39m\u001b[38;5;124m'\u001b[39m]\n\u001b[1;32m      5\u001b[0m \u001b[38;5;66;03m# Reduce the DataFrame to these columns\u001b[39;00m\n\u001b[0;32m----> 6\u001b[0m df_reduced \u001b[38;5;241m=\u001b[39m \u001b[43mdf_filtered\u001b[49m[columns_to_keep]\n\u001b[1;32m      8\u001b[0m \u001b[38;5;66;03m# Reset index of the reduced DataFrame\u001b[39;00m\n\u001b[1;32m      9\u001b[0m df_reduced\u001b[38;5;241m.\u001b[39mreset_index(drop\u001b[38;5;241m=\u001b[39m\u001b[38;5;28;01mTrue\u001b[39;00m, inplace\u001b[38;5;241m=\u001b[39m\u001b[38;5;28;01mTrue\u001b[39;00m)\n",
      "\u001b[0;31mNameError\u001b[0m: name 'df_filtered' is not defined"
     ]
    }
   ],
   "source": [
    "# Selecting relevant columns for the analysis\n",
    "columns_to_keep = ['Source', 'HelpTopic', 'KYC', 'ResolutionDurationMins', \n",
    "                   'TimeOfDayOpened', 'Sentiment','DayOfWeekNum']\n",
    "\n",
    "# Reduce the DataFrame to these columns\n",
    "df_reduced = df_filtered[columns_to_keep]\n",
    "\n",
    "# Reset index of the reduced DataFrame\n",
    "df_reduced.reset_index(drop=True, inplace=True)\n"
   ]
  },
  {
   "cell_type": "code",
   "execution_count": 1,
   "metadata": {},
   "outputs": [
    {
     "ename": "NameError",
     "evalue": "name 'df_reduced' is not defined",
     "output_type": "error",
     "traceback": [
      "\u001b[0;31m---------------------------------------------------------------------------\u001b[0m",
      "\u001b[0;31mNameError\u001b[0m                                 Traceback (most recent call last)",
      "Cell \u001b[0;32mIn[1], line 2\u001b[0m\n\u001b[1;32m      1\u001b[0m \u001b[38;5;66;03m# Save the DataFrame to a CSV file\u001b[39;00m\n\u001b[0;32m----> 2\u001b[0m \u001b[43mdf_reduced\u001b[49m\u001b[38;5;241m.\u001b[39mto_csv(\u001b[38;5;124m'\u001b[39m\u001b[38;5;124mdf_reduced.csv\u001b[39m\u001b[38;5;124m'\u001b[39m, index\u001b[38;5;241m=\u001b[39m\u001b[38;5;28;01mFalse\u001b[39;00m)\n",
      "\u001b[0;31mNameError\u001b[0m: name 'df_reduced' is not defined"
     ]
    }
   ],
   "source": [
    "# Save the DataFrame to a CSV file\n",
    "df_reduced.to_csv('df_reduced.csv', index=False)"
   ]
  },
  {
   "cell_type": "code",
   "execution_count": 4,
   "metadata": {},
   "outputs": [],
   "source": [
    "#load df\n",
    "df_reduced = pd.read_csv(\"df_reduced.csv\")"
   ]
  },
  {
   "cell_type": "code",
   "execution_count": 36,
   "metadata": {},
   "outputs": [
    {
     "data": {
      "text/html": [
       "<div>\n",
       "<style scoped>\n",
       "    .dataframe tbody tr th:only-of-type {\n",
       "        vertical-align: middle;\n",
       "    }\n",
       "\n",
       "    .dataframe tbody tr th {\n",
       "        vertical-align: top;\n",
       "    }\n",
       "\n",
       "    .dataframe thead th {\n",
       "        text-align: right;\n",
       "    }\n",
       "</style>\n",
       "<table border=\"1\" class=\"dataframe\">\n",
       "  <thead>\n",
       "    <tr style=\"text-align: right;\">\n",
       "      <th></th>\n",
       "      <th>Source</th>\n",
       "      <th>HelpTopic</th>\n",
       "      <th>KYC</th>\n",
       "      <th>ResolutionDurationMins</th>\n",
       "      <th>TimeOfDayOpened</th>\n",
       "      <th>Sentiment</th>\n",
       "      <th>DayOfWeekNum</th>\n",
       "    </tr>\n",
       "  </thead>\n",
       "  <tbody>\n",
       "    <tr>\n",
       "      <th>0</th>\n",
       "      <td>Email</td>\n",
       "      <td>Access Requests</td>\n",
       "      <td>N</td>\n",
       "      <td>64.0</td>\n",
       "      <td>16.0</td>\n",
       "      <td>NEGATIVE</td>\n",
       "      <td>1</td>\n",
       "    </tr>\n",
       "    <tr>\n",
       "      <th>1</th>\n",
       "      <td>Email</td>\n",
       "      <td>Accessories</td>\n",
       "      <td>N</td>\n",
       "      <td>16404.0</td>\n",
       "      <td>14.0</td>\n",
       "      <td>NaN</td>\n",
       "      <td>1</td>\n",
       "    </tr>\n",
       "    <tr>\n",
       "      <th>2</th>\n",
       "      <td>Email</td>\n",
       "      <td>Accessories</td>\n",
       "      <td>N</td>\n",
       "      <td>16404.0</td>\n",
       "      <td>14.0</td>\n",
       "      <td>POSITIVE</td>\n",
       "      <td>1</td>\n",
       "    </tr>\n",
       "    <tr>\n",
       "      <th>3</th>\n",
       "      <td>Email</td>\n",
       "      <td>Accessories</td>\n",
       "      <td>N</td>\n",
       "      <td>16404.0</td>\n",
       "      <td>14.0</td>\n",
       "      <td>NEGATIVE</td>\n",
       "      <td>1</td>\n",
       "    </tr>\n",
       "    <tr>\n",
       "      <th>4</th>\n",
       "      <td>Email</td>\n",
       "      <td>Accessories</td>\n",
       "      <td>N</td>\n",
       "      <td>16404.0</td>\n",
       "      <td>14.0</td>\n",
       "      <td>NaN</td>\n",
       "      <td>1</td>\n",
       "    </tr>\n",
       "  </tbody>\n",
       "</table>\n",
       "</div>"
      ],
      "text/plain": [
       "  Source        HelpTopic KYC  ResolutionDurationMins  TimeOfDayOpened  \\\n",
       "0  Email  Access Requests   N                    64.0             16.0   \n",
       "1  Email      Accessories   N                 16404.0             14.0   \n",
       "2  Email      Accessories   N                 16404.0             14.0   \n",
       "3  Email      Accessories   N                 16404.0             14.0   \n",
       "4  Email      Accessories   N                 16404.0             14.0   \n",
       "\n",
       "  Sentiment  DayOfWeekNum  \n",
       "0  NEGATIVE             1  \n",
       "1       NaN             1  \n",
       "2  POSITIVE             1  \n",
       "3  NEGATIVE             1  \n",
       "4       NaN             1  "
      ]
     },
     "execution_count": 36,
     "metadata": {},
     "output_type": "execute_result"
    }
   ],
   "source": [
    "df_reduced.head()"
   ]
  },
  {
   "cell_type": "code",
   "execution_count": 5,
   "metadata": {},
   "outputs": [
    {
     "data": {
      "text/plain": [
       "Source                     0\n",
       "HelpTopic                  0\n",
       "KYC                        0\n",
       "ResolutionDurationMins     0\n",
       "TimeOfDayOpened            0\n",
       "Sentiment                 98\n",
       "DayOfWeekNum               0\n",
       "dtype: int64"
      ]
     },
     "execution_count": 5,
     "metadata": {},
     "output_type": "execute_result"
    }
   ],
   "source": [
    "df_reduced.isnull().sum()"
   ]
  },
  {
   "cell_type": "code",
   "execution_count": 6,
   "metadata": {},
   "outputs": [
    {
     "data": {
      "text/html": [
       "<div>\n",
       "<style scoped>\n",
       "    .dataframe tbody tr th:only-of-type {\n",
       "        vertical-align: middle;\n",
       "    }\n",
       "\n",
       "    .dataframe tbody tr th {\n",
       "        vertical-align: top;\n",
       "    }\n",
       "\n",
       "    .dataframe thead th {\n",
       "        text-align: right;\n",
       "    }\n",
       "</style>\n",
       "<table border=\"1\" class=\"dataframe\">\n",
       "  <thead>\n",
       "    <tr style=\"text-align: right;\">\n",
       "      <th></th>\n",
       "      <th>Source</th>\n",
       "      <th>HelpTopic</th>\n",
       "      <th>KYC</th>\n",
       "      <th>ResolutionDurationMins</th>\n",
       "      <th>TimeOfDayOpened</th>\n",
       "      <th>Sentiment</th>\n",
       "      <th>DayOfWeekNum</th>\n",
       "    </tr>\n",
       "  </thead>\n",
       "  <tbody>\n",
       "    <tr>\n",
       "      <th>0</th>\n",
       "      <td>Email</td>\n",
       "      <td>Access Requests</td>\n",
       "      <td>N</td>\n",
       "      <td>64.0</td>\n",
       "      <td>16.0</td>\n",
       "      <td>NEGATIVE</td>\n",
       "      <td>1</td>\n",
       "    </tr>\n",
       "    <tr>\n",
       "      <th>1</th>\n",
       "      <td>Email</td>\n",
       "      <td>Accessories</td>\n",
       "      <td>N</td>\n",
       "      <td>16404.0</td>\n",
       "      <td>14.0</td>\n",
       "      <td>NEUTRAL</td>\n",
       "      <td>1</td>\n",
       "    </tr>\n",
       "    <tr>\n",
       "      <th>2</th>\n",
       "      <td>Email</td>\n",
       "      <td>Accessories</td>\n",
       "      <td>N</td>\n",
       "      <td>16404.0</td>\n",
       "      <td>14.0</td>\n",
       "      <td>POSITIVE</td>\n",
       "      <td>1</td>\n",
       "    </tr>\n",
       "    <tr>\n",
       "      <th>3</th>\n",
       "      <td>Email</td>\n",
       "      <td>Accessories</td>\n",
       "      <td>N</td>\n",
       "      <td>16404.0</td>\n",
       "      <td>14.0</td>\n",
       "      <td>NEGATIVE</td>\n",
       "      <td>1</td>\n",
       "    </tr>\n",
       "    <tr>\n",
       "      <th>4</th>\n",
       "      <td>Email</td>\n",
       "      <td>Accessories</td>\n",
       "      <td>N</td>\n",
       "      <td>16404.0</td>\n",
       "      <td>14.0</td>\n",
       "      <td>NEUTRAL</td>\n",
       "      <td>1</td>\n",
       "    </tr>\n",
       "  </tbody>\n",
       "</table>\n",
       "</div>"
      ],
      "text/plain": [
       "  Source        HelpTopic KYC  ResolutionDurationMins  TimeOfDayOpened  \\\n",
       "0  Email  Access Requests   N                    64.0             16.0   \n",
       "1  Email      Accessories   N                 16404.0             14.0   \n",
       "2  Email      Accessories   N                 16404.0             14.0   \n",
       "3  Email      Accessories   N                 16404.0             14.0   \n",
       "4  Email      Accessories   N                 16404.0             14.0   \n",
       "\n",
       "  Sentiment  DayOfWeekNum  \n",
       "0  NEGATIVE             1  \n",
       "1   NEUTRAL             1  \n",
       "2  POSITIVE             1  \n",
       "3  NEGATIVE             1  \n",
       "4   NEUTRAL             1  "
      ]
     },
     "execution_count": 6,
     "metadata": {},
     "output_type": "execute_result"
    }
   ],
   "source": [
    "# Replace None values in the 'Sentiment' column with \"NEUTRAL\"\n",
    "df_reduced['Sentiment'] = df_reduced['Sentiment'].fillna(\"NEUTRAL\")\n",
    "df_reduced.head()"
   ]
  },
  {
   "cell_type": "markdown",
   "metadata": {},
   "source": [
    "Handling categorical columns in our dataset\n",
    "\n",
    "This code applies ***label encoding*** to transform categorical columns in the DataFrame `df_reduced` into numerical format, which is essential for machine learning algorithms that require numerical input. The `LabelEncoder` from scikit-learn is used to encode each value in the specified categorical columns ('Source', 'HelpTopic', 'KYC', 'Sentiment') into a unique integer. \n",
    "\n"
   ]
  },
  {
   "cell_type": "code",
   "execution_count": 7,
   "metadata": {},
   "outputs": [],
   "source": [
    "# encode my categorical columns\n",
    "\n",
    "# Initialize a dictionary to hold LabelEncoders\n",
    "label_encoders = {}\n",
    "\n",
    "le = LabelEncoder()\n",
    "\n",
    "# # Encode the specified columns\n",
    "for column in ['Source', 'HelpTopic', 'KYC', 'Sentiment']:\n",
    "    df_reduced[column] = le.fit_transform(df_reduced[column])\n",
    "    label_encoders[column] = le\n",
    "\n",
    "# Save the encoders to a file\n",
    "with open('label_encoders.pkl', 'wb') as file:\n",
    "    pickle.dump(label_encoders, file)"
   ]
  },
  {
   "cell_type": "code",
   "execution_count": 41,
   "metadata": {},
   "outputs": [],
   "source": [
    "# Save the encoded DataFrame to a CSV file\n",
    "df_reduced.to_csv('df_reduced_encoded.csv', index=False)"
   ]
  },
  {
   "cell_type": "markdown",
   "metadata": {},
   "source": [
    "***Correlation Matrix Analysis*** - This involves examining the correlation between the target variable and other features. \n",
    "\n",
    "High correlation (both positive and negative) can indicate important predictors.  \n",
    "\n",
    "Below we calculate the correlation matrix for the DataFrame `df_reduced`. \n",
    "\n",
    "The heatmap displays the strength and direction of relationships between pairs of variables in the dataset.\n",
    "\n"
   ]
  },
  {
   "cell_type": "code",
   "execution_count": 9,
   "metadata": {},
   "outputs": [
    {
     "data": {
      "image/png": "[encoded data removed]",
      "text/plain": [
       "<Figure size 700x500 with 2 Axes>"
      ]
     },
     "metadata": {},
     "output_type": "display_data"
    }
   ],
   "source": [
    "# Calculate correlation matrix\n",
    "corr_matrix = df_reduced.corr()\n",
    "\n",
    "# Plot heatmap of the correlation matrix\n",
    "plt.figure(figsize=(7, 5))\n",
    "sns.heatmap(corr_matrix, annot=True, cmap='coolwarm')\n",
    "plt.show()\n"
   ]
  },
  {
   "cell_type": "markdown",
   "metadata": {},
   "source": [
    "Below, we split the dataset into training and test sets, using the `train_test_split` function to divide the dataset, with 80% allocated for training and 20% for testing, ensuring a randomized split with the specified `random_state`.\n"
   ]
  },
  {
   "cell_type": "code",
   "execution_count": 10,
   "metadata": {},
   "outputs": [],
   "source": [
    "# Split the Data into Training and Test Sets:\n",
    "\n",
    "X = df_reduced.drop('ResolutionDurationMins', axis=1) # Features\n",
    "y = df_reduced['ResolutionDurationMins'] # Target variable\n",
    "\n",
    "# Dividing the dataset into training and test sets (80% train, 20% test)\n",
    "X_train, X_test, y_train, y_test = train_test_split(X, y, test_size=0.2, random_state=42)\n"
   ]
  },
  {
   "cell_type": "markdown",
   "metadata": {},
   "source": [
    "Below we apply feature scaling to specific columns in the training and test sets using the MinMaxScaler. "
   ]
  },
  {
   "cell_type": "code",
   "execution_count": 11,
   "metadata": {},
   "outputs": [],
   "source": [
    "#Apply scaling only to the training set and then use the same scaler object to transform the test set.\n",
    "\n",
    "scaler = MinMaxScaler()\n",
    "\n",
    "# Columns to scale\n",
    "cols_to_scale = ['Source', 'HelpTopic', 'KYC','TimeOfDayOpened', 'Sentiment','DayOfWeekNum']\n",
    "\n",
    "# Scale these columns in the training set\n",
    "X_train[cols_to_scale] = scaler.fit_transform(X_train[cols_to_scale])\n",
    "\n",
    "# Scale the same columns in the test set\n",
    "X_test[cols_to_scale] = scaler.transform(X_test[cols_to_scale])\n",
    "\n",
    "# Save the scaler to a file\n",
    "with open('scaler.pkl', 'wb') as file:\n",
    "    pickle.dump(scaler, file)"
   ]
  },
  {
   "cell_type": "markdown",
   "metadata": {},
   "source": [
    "## <a id='toc1_5_'></a>[4: Model Development: ](#toc0_)"
   ]
  },
  {
   "cell_type": "markdown",
   "metadata": {},
   "source": [
    "Below we initialize three different machine learning models—Linear Regression, Random Forest Regressor, and Gradient Boosting Regressor—and fit each of them to the training data. "
   ]
  },
  {
   "cell_type": "code",
   "execution_count": 12,
   "metadata": {},
   "outputs": [
    {
     "data": {
      "text/html": [
       "<style>#sk-container-id-1 {color: black;}#sk-container-id-1 pre{padding: 0;}#sk-container-id-1 div.sk-toggleable {background-color: white;}#sk-container-id-1 label.sk-toggleable__label {cursor: pointer;display: block;width: 100%;margin-bottom: 0;padding: 0.3em;box-sizing: border-box;text-align: center;}#sk-container-id-1 label.sk-toggleable__label-arrow:before {content: \"▸\";float: left;margin-right: 0.25em;color: #696969;}#sk-container-id-1 label.sk-toggleable__label-arrow:hover:before {color: black;}#sk-container-id-1 div.sk-estimator:hover label.sk-toggleable__label-arrow:before {color: black;}#sk-container-id-1 div.sk-toggleable__content {max-height: 0;max-width: 0;overflow: hidden;text-align: left;background-color: #f0f8ff;}#sk-container-id-1 div.sk-toggleable__content pre {margin: 0.2em;color: black;border-radius: 0.25em;background-color: #f0f8ff;}#sk-container-id-1 input.sk-toggleable__control:checked~div.sk-toggleable__content {max-height: 200px;max-width: 100%;overflow: auto;}#sk-container-id-1 input.sk-toggleable__control:checked~label.sk-toggleable__label-arrow:before {content: \"▾\";}#sk-container-id-1 div.sk-estimator input.sk-toggleable__control:checked~label.sk-toggleable__label {background-color: #d4ebff;}#sk-container-id-1 div.sk-label input.sk-toggleable__control:checked~label.sk-toggleable__label {background-color: #d4ebff;}#sk-container-id-1 input.sk-hidden--visually {border: 0;clip: rect(1px 1px 1px 1px);clip: rect(1px, 1px, 1px, 1px);height: 1px;margin: -1px;overflow: hidden;padding: 0;position: absolute;width: 1px;}#sk-container-id-1 div.sk-estimator {font-family: monospace;background-color: #f0f8ff;border: 1px dotted black;border-radius: 0.25em;box-sizing: border-box;margin-bottom: 0.5em;}#sk-container-id-1 div.sk-estimator:hover {background-color: #d4ebff;}#sk-container-id-1 div.sk-parallel-item::after {content: \"\";width: 100%;border-bottom: 1px solid gray;flex-grow: 1;}#sk-container-id-1 div.sk-label:hover label.sk-toggleable__label {background-color: #d4ebff;}#sk-container-id-1 div.sk-serial::before {content: \"\";position: absolute;border-left: 1px solid gray;box-sizing: border-box;top: 0;bottom: 0;left: 50%;z-index: 0;}#sk-container-id-1 div.sk-serial {display: flex;flex-direction: column;align-items: center;background-color: white;padding-right: 0.2em;padding-left: 0.2em;position: relative;}#sk-container-id-1 div.sk-item {position: relative;z-index: 1;}#sk-container-id-1 div.sk-parallel {display: flex;align-items: stretch;justify-content: center;background-color: white;position: relative;}#sk-container-id-1 div.sk-item::before, #sk-container-id-1 div.sk-parallel-item::before {content: \"\";position: absolute;border-left: 1px solid gray;box-sizing: border-box;top: 0;bottom: 0;left: 50%;z-index: -1;}#sk-container-id-1 div.sk-parallel-item {display: flex;flex-direction: column;z-index: 1;position: relative;background-color: white;}#sk-container-id-1 div.sk-parallel-item:first-child::after {align-self: flex-end;width: 50%;}#sk-container-id-1 div.sk-parallel-item:last-child::after {align-self: flex-start;width: 50%;}#sk-container-id-1 div.sk-parallel-item:only-child::after {width: 0;}#sk-container-id-1 div.sk-dashed-wrapped {border: 1px dashed gray;margin: 0 0.4em 0.5em 0.4em;box-sizing: border-box;padding-bottom: 0.4em;background-color: white;}#sk-container-id-1 div.sk-label label {font-family: monospace;font-weight: bold;display: inline-block;line-height: 1.2em;}#sk-container-id-1 div.sk-label-container {text-align: center;}#sk-container-id-1 div.sk-container {/* jupyter's `normalize.less` sets `[hidden] { display: none; }` but bootstrap.min.css set `[hidden] { display: none !important; }` so we also need the `!important` here to be able to override the default hidden behavior on the sphinx rendered scikit-learn.org. See: https://github.com/scikit-learn/scikit-learn/issues/21755 */display: inline-block !important;position: relative;}#sk-container-id-1 div.sk-text-repr-fallback {display: none;}</style><div id=\"sk-container-id-1\" class=\"sk-top-container\"><div class=\"sk-text-repr-fallback\"><pre>GradientBoostingRegressor(random_state=42)</pre><b>In a Jupyter environment, please rerun this cell to show the HTML representation or trust the notebook. <br />On GitHub, the HTML representation is unable to render, please try loading this page with nbviewer.org.</b></div><div class=\"sk-container\" hidden><div class=\"sk-item\"><div class=\"sk-estimator sk-toggleable\"><input class=\"sk-toggleable__control sk-hidden--visually\" id=\"sk-estimator-id-1\" type=\"checkbox\" checked><label for=\"sk-estimator-id-1\" class=\"sk-toggleable__label sk-toggleable__label-arrow\">GradientBoostingRegressor</label><div class=\"sk-toggleable__content\"><pre>GradientBoostingRegressor(random_state=42)</pre></div></div></div></div></div>"
      ],
      "text/plain": [
       "GradientBoostingRegressor(random_state=42)"
      ]
     },
     "execution_count": 12,
     "metadata": {},
     "output_type": "execute_result"
    }
   ],
   "source": [
    "# Initialize the three models\n",
    "lr_model = LinearRegression()\n",
    "rf_model = RandomForestRegressor(random_state=42)\n",
    "gb_model = GradientBoostingRegressor(random_state=42)\n",
    "\n",
    "# Fit the models to the training data\n",
    "lr_model.fit(X_train, y_train)\n",
    "rf_model.fit(X_train, y_train)\n",
    "gb_model.fit(X_train, y_train)\n"
   ]
  },
  {
   "cell_type": "markdown",
   "metadata": {},
   "source": [
    "We then define a function to calculate the Root Mean Squared Error (RMSE) for evaluating our machine learning models, and then use it to assess the performance of the Linear Regression, Random Forest Regressor, and Gradient Boosting Regressor models. \n",
    "\n",
    "By comparing the RMSE values, which measure the average prediction error in the same units as the target variable, it provides an insight into the accuracy of each model on our test dataset (X_test and y_test)."
   ]
  },
  {
   "cell_type": "code",
   "execution_count": 13,
   "metadata": {},
   "outputs": [
    {
     "name": "stdout",
     "output_type": "stream",
     "text": [
      "Linear Regression RMSE: 15176.628640529792\n",
      "Random Forest RMSE: 12639.641665214453\n",
      "Gradient Boosting RMSE: 9588.479739780636\n"
     ]
    }
   ],
   "source": [
    "# Function to calculate RMSE\n",
    "def calculate_rmse(model, X_test, y_test):\n",
    "    predictions = model.predict(X_test)\n",
    "    mse = mean_squared_error(y_test, predictions)\n",
    "    rmse = np.sqrt(mse)\n",
    "    return rmse\n",
    "\n",
    "# Evaluate each model\n",
    "lr_rmse = calculate_rmse(lr_model, X_test, y_test)\n",
    "rf_rmse = calculate_rmse(rf_model, X_test, y_test)\n",
    "gb_rmse = calculate_rmse(gb_model, X_test, y_test)\n",
    "\n",
    "print(f\"Linear Regression RMSE: {lr_rmse}\")\n",
    "print(f\"Random Forest RMSE: {rf_rmse}\")\n",
    "print(f\"Gradient Boosting RMSE: {gb_rmse}\")\n"
   ]
  },
  {
   "cell_type": "markdown",
   "metadata": {},
   "source": [
    "Based on the RMSE (Root Mean Squared Error) values for each model, it appears that the **Gradient Boosting** model has the best performance among the three, with the **lowest RMSE**. \n",
    "\n",
    "Lower RMSE values indicate better model performance, as they represent smaller differences between the predicted and actual values."
   ]
  },
  {
   "cell_type": "code",
   "execution_count": 14,
   "metadata": {},
   "outputs": [
    {
     "name": "stdout",
     "output_type": "stream",
     "text": [
      "Gradient Boosting Cross-Validation RMSE: 19939.6590168426\n"
     ]
    }
   ],
   "source": [
    "# Since gb_model (Gradient Boosting) performed the best\n",
    "scores = cross_val_score(gb_model, X, y, cv=5, scoring='neg_mean_squared_error')\n",
    "gb_cv_rmse = np.sqrt(-scores.mean())\n",
    "\n",
    "print(f\"Gradient Boosting Cross-Validation RMSE: {gb_cv_rmse}\")\n"
   ]
  },
  {
   "cell_type": "markdown",
   "metadata": {},
   "source": [
    "## <a id='toc1_6_'></a>[5: Hyperparameter Tuning:](#toc0_)"
   ]
  },
  {
   "cell_type": "markdown",
   "metadata": {},
   "source": [
    "Hyperparameter tuning can significantly improve the performance of a Gradient Boosting model. We then use Grid Search CV for this purpose. \n",
    "\n",
    "This code defines a parameter grid to explore different combinations of hyperparameters like 'n_estimators', 'learning_rate', 'max_depth', and others. GridSearchCV then systematically tests these combinations over a 5-fold cross-validation, optimizing for the lowest negative mean squared error. \n",
    "\n",
    "Finally, it identifies and outputs the best hyperparameter set and the corresponding best model based on the training data (X_train and y_train), which can be used for making more accurate predictions."
   ]
  },
  {
   "cell_type": "code",
   "execution_count": 15,
   "metadata": {},
   "outputs": [
    {
     "name": "stdout",
     "output_type": "stream",
     "text": [
      "Fitting 5 folds for each of 108 candidates, totalling 540 fits\n"
     ]
    },
    {
     "name": "stdout",
     "output_type": "stream",
     "text": [
      "[CV] END learning_rate=0.01, max_depth=3, min_samples_leaf=1, min_samples_split=2, n_estimators=100; total time=   0.1s\n",
      "[CV] END learning_rate=0.01, max_depth=3, min_samples_leaf=1, min_samples_split=2, n_estimators=100; total time=   0.1s\n",
      "[CV] END learning_rate=0.01, max_depth=3, min_samples_leaf=1, min_samples_split=2, n_estimators=100; total time=   0.1s\n",
      "[CV] END learning_rate=0.01, max_depth=3, min_samples_leaf=1, min_samples_split=2, n_estimators=100; total time=   0.1s\n",
      "[CV] END learning_rate=0.01, max_depth=3, min_samples_leaf=1, min_samples_split=2, n_estimators=100; total time=   0.1s\n",
      "[CV] END learning_rate=0.01, max_depth=3, min_samples_leaf=1, min_samples_split=2, n_estimators=200; total time=   0.2s\n",
      "[CV] END learning_rate=0.01, max_depth=3, min_samples_leaf=1, min_samples_split=2, n_estimators=200; total time=   0.2s\n",
      "[CV] END learning_rate=0.01, max_depth=3, min_samples_leaf=1, min_samples_split=2, n_estimators=200; total time=   0.2s\n",
      "[CV] END learning_rate=0.01, max_depth=3, min_samples_leaf=1, min_samples_split=4, n_estimators=100; total time=   0.1s\n",
      "[CV] END learning_rate=0.01, max_depth=3, min_samples_leaf=1, min_samples_split=4, n_estimators=100; total time=   0.1s\n",
      "[CV] END learning_rate=0.01, max_depth=3, min_samples_leaf=1, min_samples_split=2, n_estimators=200; total time=   0.2s\n",
      "[CV] END learning_rate=0.01, max_depth=3, min_samples_leaf=1, min_samples_split=2, n_estimators=200; total time=   0.2s\n",
      "[CV] END learning_rate=0.01, max_depth=3, min_samples_leaf=1, min_samples_split=4, n_estimators=100; total time=   0.1s\n",
      "[CV] END learning_rate=0.01, max_depth=3, min_samples_leaf=1, min_samples_split=4, n_estimators=100; total time=   0.1s\n",
      "[CV] END learning_rate=0.01, max_depth=3, min_samples_leaf=1, min_samples_split=4, n_estimators=100; total time=   0.1s\n",
      "[CV] END learning_rate=0.01, max_depth=3, min_samples_leaf=1, min_samples_split=2, n_estimators=300; total time=   0.3s\n",
      "[CV] END learning_rate=0.01, max_depth=3, min_samples_leaf=1, min_samples_split=2, n_estimators=300; total time=   0.3s\n",
      "[CV] END learning_rate=0.01, max_depth=3, min_samples_leaf=1, min_samples_split=2, n_estimators=300; total time=   0.3s\n",
      "[CV] END learning_rate=0.01, max_depth=3, min_samples_leaf=1, min_samples_split=2, n_estimators=300; total time=   0.3s\n",
      "[CV] END learning_rate=0.01, max_depth=3, min_samples_leaf=1, min_samples_split=2, n_estimators=300; total time=   0.3s\n",
      "[CV] END learning_rate=0.01, max_depth=3, min_samples_leaf=1, min_samples_split=4, n_estimators=200; total time=   0.2s\n",
      "[CV] END learning_rate=0.01, max_depth=3, min_samples_leaf=1, min_samples_split=4, n_estimators=200; total time=   0.2s\n",
      "[CV] END learning_rate=0.01, max_depth=3, min_samples_leaf=1, min_samples_split=4, n_estimators=200; total time=   0.2s\n",
      "[CV] END learning_rate=0.01, max_depth=3, min_samples_leaf=1, min_samples_split=4, n_estimators=200; total time=   0.2s\n",
      "[CV] END learning_rate=0.01, max_depth=3, min_samples_leaf=2, min_samples_split=2, n_estimators=100; total time=   0.1s\n",
      "[CV] END learning_rate=0.01, max_depth=3, min_samples_leaf=1, min_samples_split=4, n_estimators=200; total time=   0.2s\n",
      "[CV] END learning_rate=0.01, max_depth=3, min_samples_leaf=2, min_samples_split=2, n_estimators=100; total time=   0.1s\n",
      "[CV] END learning_rate=0.01, max_depth=3, min_samples_leaf=2, min_samples_split=2, n_estimators=100; total time=   0.1s\n",
      "[CV] END learning_rate=0.01, max_depth=3, min_samples_leaf=2, min_samples_split=2, n_estimators=100; total time=   0.1s\n",
      "[CV] END learning_rate=0.01, max_depth=3, min_samples_leaf=2, min_samples_split=2, n_estimators=100; total time=   0.1s\n",
      "[CV] END learning_rate=0.01, max_depth=3, min_samples_leaf=1, min_samples_split=4, n_estimators=300; total time=   0.2s\n",
      "[CV] END learning_rate=0.01, max_depth=3, min_samples_leaf=1, min_samples_split=4, n_estimators=300; total time=   0.3s\n",
      "[CV] END learning_rate=0.01, max_depth=3, min_samples_leaf=1, min_samples_split=4, n_estimators=300; total time=   0.2s\n",
      "[CV] END learning_rate=0.01, max_depth=3, min_samples_leaf=1, min_samples_split=4, n_estimators=300; total time=   0.2s\n",
      "[CV] END learning_rate=0.01, max_depth=3, min_samples_leaf=2, min_samples_split=2, n_estimators=200; total time=   0.2s\n",
      "[CV] END learning_rate=0.01, max_depth=3, min_samples_leaf=1, min_samples_split=4, n_estimators=300; total time=   0.3s\n",
      "[CV] END learning_rate=0.01, max_depth=3, min_samples_leaf=2, min_samples_split=2, n_estimators=200; total time=   0.2s\n",
      "[CV] END learning_rate=0.01, max_depth=3, min_samples_leaf=2, min_samples_split=2, n_estimators=200; total time=   0.2s\n",
      "[CV] END learning_rate=0.01, max_depth=3, min_samples_leaf=2, min_samples_split=2, n_estimators=200; total time=   0.2s\n",
      "[CV] END learning_rate=0.01, max_depth=3, min_samples_leaf=2, min_samples_split=2, n_estimators=200; total time=   0.2s\n",
      "[CV] END learning_rate=0.01, max_depth=3, min_samples_leaf=2, min_samples_split=4, n_estimators=100; total time=   0.1s\n",
      "[CV] END learning_rate=0.01, max_depth=3, min_samples_leaf=2, min_samples_split=4, n_estimators=100; total time=   0.1s\n",
      "[CV] END learning_rate=0.01, max_depth=3, min_samples_leaf=2, min_samples_split=4, n_estimators=100; total time=   0.1s\n",
      "[CV] END learning_rate=0.01, max_depth=3, min_samples_leaf=2, min_samples_split=4, n_estimators=100; total time=   0.1s\n",
      "[CV] END learning_rate=0.01, max_depth=3, min_samples_leaf=2, min_samples_split=4, n_estimators=100; total time=   0.1s\n",
      "[CV] END learning_rate=0.01, max_depth=3, min_samples_leaf=2, min_samples_split=2, n_estimators=300; total time=   0.2s\n",
      "[CV] END learning_rate=0.01, max_depth=3, min_samples_leaf=2, min_samples_split=2, n_estimators=300; total time=   0.2s\n",
      "[CV] END learning_rate=0.01, max_depth=3, min_samples_leaf=2, min_samples_split=2, n_estimators=300; total time=   0.2s\n",
      "[CV] END learning_rate=0.01, max_depth=3, min_samples_leaf=2, min_samples_split=2, n_estimators=300; total time=   0.2s\n",
      "[CV] END learning_rate=0.01, max_depth=3, min_samples_leaf=2, min_samples_split=4, n_estimators=200; total time=   0.2s\n",
      "[CV] END learning_rate=0.01, max_depth=3, min_samples_leaf=2, min_samples_split=4, n_estimators=200; total time=   0.2s\n",
      "[CV] END learning_rate=0.01, max_depth=3, min_samples_leaf=2, min_samples_split=2, n_estimators=300; total time=   0.2s\n",
      "[CV] END learning_rate=0.01, max_depth=3, min_samples_leaf=2, min_samples_split=4, n_estimators=200; total time=   0.2s\n",
      "[CV] END learning_rate=0.01, max_depth=3, min_samples_leaf=2, min_samples_split=4, n_estimators=200; total time=   0.2s\n",
      "[CV] END learning_rate=0.01, max_depth=3, min_samples_leaf=2, min_samples_split=4, n_estimators=200; total time=   0.2s\n",
      "[CV] END learning_rate=0.01, max_depth=4, min_samples_leaf=1, min_samples_split=2, n_estimators=100; total time=   0.1s\n",
      "[CV] END learning_rate=0.01, max_depth=4, min_samples_leaf=1, min_samples_split=2, n_estimators=100; total time=   0.1s\n",
      "[CV] END learning_rate=0.01, max_depth=4, min_samples_leaf=1, min_samples_split=2, n_estimators=100; total time=   0.1s\n",
      "[CV] END learning_rate=0.01, max_depth=4, min_samples_leaf=1, min_samples_split=2, n_estimators=100; total time=   0.1s\n",
      "[CV] END learning_rate=0.01, max_depth=3, min_samples_leaf=2, min_samples_split=4, n_estimators=300; total time=   0.2s\n",
      "[CV] END learning_rate=0.01, max_depth=4, min_samples_leaf=1, min_samples_split=2, n_estimators=100; total time=   0.1s\n",
      "[CV] END learning_rate=0.01, max_depth=3, min_samples_leaf=2, min_samples_split=4, n_estimators=300; total time=   0.3s\n",
      "[CV] END learning_rate=0.01, max_depth=3, min_samples_leaf=2, min_samples_split=4, n_estimators=300; total time=   0.2s\n",
      "[CV] END learning_rate=0.01, max_depth=3, min_samples_leaf=2, min_samples_split=4, n_estimators=300; total time=   0.2s\n",
      "[CV] END learning_rate=0.01, max_depth=3, min_samples_leaf=2, min_samples_split=4, n_estimators=300; total time=   0.2s\n",
      "[CV] END learning_rate=0.01, max_depth=4, min_samples_leaf=1, min_samples_split=2, n_estimators=200; total time=   0.2s\n",
      "[CV] END learning_rate=0.01, max_depth=4, min_samples_leaf=1, min_samples_split=2, n_estimators=200; total time=   0.2s\n",
      "[CV] END learning_rate=0.01, max_depth=4, min_samples_leaf=1, min_samples_split=2, n_estimators=200; total time=   0.2s\n",
      "[CV] END learning_rate=0.01, max_depth=4, min_samples_leaf=1, min_samples_split=2, n_estimators=200; total time=   0.2s\n",
      "[CV] END learning_rate=0.01, max_depth=4, min_samples_leaf=1, min_samples_split=2, n_estimators=200; total time=   0.2s\n",
      "[CV] END learning_rate=0.01, max_depth=4, min_samples_leaf=1, min_samples_split=4, n_estimators=100; total time=   0.1s\n",
      "[CV] END learning_rate=0.01, max_depth=4, min_samples_leaf=1, min_samples_split=4, n_estimators=100; total time=   0.1s\n",
      "[CV] END learning_rate=0.01, max_depth=4, min_samples_leaf=1, min_samples_split=4, n_estimators=100; total time=   0.1s\n",
      "[CV] END learning_rate=0.01, max_depth=4, min_samples_leaf=1, min_samples_split=4, n_estimators=100; total time=   0.1s\n",
      "[CV] END learning_rate=0.01, max_depth=4, min_samples_leaf=1, min_samples_split=4, n_estimators=100; total time=   0.1s\n",
      "[CV] END learning_rate=0.01, max_depth=4, min_samples_leaf=1, min_samples_split=2, n_estimators=300; total time=   0.2s\n",
      "[CV] END learning_rate=0.01, max_depth=4, min_samples_leaf=1, min_samples_split=2, n_estimators=300; total time=   0.3s\n",
      "[CV] END learning_rate=0.01, max_depth=4, min_samples_leaf=1, min_samples_split=2, n_estimators=300; total time=   0.2s\n",
      "[CV] END learning_rate=0.01, max_depth=4, min_samples_leaf=1, min_samples_split=2, n_estimators=300; total time=   0.3s\n",
      "[CV] END learning_rate=0.01, max_depth=4, min_samples_leaf=1, min_samples_split=2, n_estimators=300; total time=   0.3s\n",
      "[CV] END learning_rate=0.01, max_depth=4, min_samples_leaf=1, min_samples_split=4, n_estimators=200; total time=   0.2s\n",
      "[CV] END learning_rate=0.01, max_depth=4, min_samples_leaf=1, min_samples_split=4, n_estimators=200; total time=   0.2s\n",
      "[CV] END learning_rate=0.01, max_depth=4, min_samples_leaf=1, min_samples_split=4, n_estimators=200; total time=   0.2s\n",
      "[CV] END learning_rate=0.01, max_depth=4, min_samples_leaf=1, min_samples_split=4, n_estimators=200; total time=   0.2s\n",
      "[CV] END learning_rate=0.01, max_depth=4, min_samples_leaf=2, min_samples_split=2, n_estimators=100; total time=   0.1s\n",
      "[CV] END learning_rate=0.01, max_depth=4, min_samples_leaf=1, min_samples_split=4, n_estimators=200; total time=   0.2s\n",
      "[CV] END learning_rate=0.01, max_depth=4, min_samples_leaf=2, min_samples_split=2, n_estimators=100; total time=   0.1s\n",
      "[CV] END learning_rate=0.01, max_depth=4, min_samples_leaf=2, min_samples_split=2, n_estimators=100; total time=   0.1s\n",
      "[CV] END learning_rate=0.01, max_depth=4, min_samples_leaf=2, min_samples_split=2, n_estimators=100; total time=   0.1s\n",
      "[CV] END learning_rate=0.01, max_depth=4, min_samples_leaf=2, min_samples_split=2, n_estimators=100; total time=   0.1s\n",
      "[CV] END learning_rate=0.01, max_depth=4, min_samples_leaf=1, min_samples_split=4, n_estimators=300; total time=   0.3s\n",
      "[CV] END learning_rate=0.01, max_depth=4, min_samples_leaf=1, min_samples_split=4, n_estimators=300; total time=   0.3s\n",
      "[CV] END learning_rate=0.01, max_depth=4, min_samples_leaf=1, min_samples_split=4, n_estimators=300; total time=   0.3s\n",
      "[CV] END learning_rate=0.01, max_depth=4, min_samples_leaf=1, min_samples_split=4, n_estimators=300; total time=   0.2s\n",
      "[CV] END learning_rate=0.01, max_depth=4, min_samples_leaf=1, min_samples_split=4, n_estimators=300; total time=   0.3s\n",
      "[CV] END learning_rate=0.01, max_depth=4, min_samples_leaf=2, min_samples_split=2, n_estimators=200; total time=   0.2s\n",
      "[CV] END learning_rate=0.01, max_depth=4, min_samples_leaf=2, min_samples_split=2, n_estimators=200; total time=   0.2s\n",
      "[CV] END learning_rate=0.01, max_depth=4, min_samples_leaf=2, min_samples_split=2, n_estimators=200; total time=   0.2s\n",
      "[CV] END learning_rate=0.01, max_depth=4, min_samples_leaf=2, min_samples_split=2, n_estimators=200; total time=   0.2s\n",
      "[CV] END learning_rate=0.01, max_depth=4, min_samples_leaf=2, min_samples_split=2, n_estimators=200; total time=   0.2s\n",
      "[CV] END learning_rate=0.01, max_depth=4, min_samples_leaf=2, min_samples_split=4, n_estimators=100; total time=   0.1s\n",
      "[CV] END learning_rate=0.01, max_depth=4, min_samples_leaf=2, min_samples_split=4, n_estimators=100; total time=   0.1s\n",
      "[CV] END learning_rate=0.01, max_depth=4, min_samples_leaf=2, min_samples_split=4, n_estimators=100; total time=   0.1s\n",
      "[CV] END learning_rate=0.01, max_depth=4, min_samples_leaf=2, min_samples_split=4, n_estimators=100; total time=   0.1s\n",
      "[CV] END learning_rate=0.01, max_depth=4, min_samples_leaf=2, min_samples_split=4, n_estimators=100; total time=   0.1s\n",
      "[CV] END learning_rate=0.01, max_depth=4, min_samples_leaf=2, min_samples_split=2, n_estimators=300; total time=   0.3s\n",
      "[CV] END learning_rate=0.01, max_depth=4, min_samples_leaf=2, min_samples_split=2, n_estimators=300; total time=   0.3s\n",
      "[CV] END learning_rate=0.01, max_depth=4, min_samples_leaf=2, min_samples_split=2, n_estimators=300; total time=   0.3s\n",
      "[CV] END learning_rate=0.01, max_depth=4, min_samples_leaf=2, min_samples_split=2, n_estimators=300; total time=   0.2s\n",
      "[CV] END learning_rate=0.01, max_depth=4, min_samples_leaf=2, min_samples_split=4, n_estimators=200; total time=   0.2s\n",
      "[CV] END learning_rate=0.01, max_depth=4, min_samples_leaf=2, min_samples_split=2, n_estimators=300; total time=   0.3s\n",
      "[CV] END learning_rate=0.01, max_depth=4, min_samples_leaf=2, min_samples_split=4, n_estimators=200; total time=   0.2s\n",
      "[CV] END learning_rate=0.01, max_depth=4, min_samples_leaf=2, min_samples_split=4, n_estimators=200; total time=   0.2s\n",
      "[CV] END learning_rate=0.01, max_depth=4, min_samples_leaf=2, min_samples_split=4, n_estimators=200; total time=   0.2s\n",
      "[CV] END learning_rate=0.01, max_depth=4, min_samples_leaf=2, min_samples_split=4, n_estimators=200; total time=   0.2s\n",
      "[CV] END learning_rate=0.01, max_depth=5, min_samples_leaf=1, min_samples_split=2, n_estimators=100; total time=   0.1s\n",
      "[CV] END learning_rate=0.01, max_depth=5, min_samples_leaf=1, min_samples_split=2, n_estimators=100; total time=   0.1s\n",
      "[CV] END learning_rate=0.01, max_depth=5, min_samples_leaf=1, min_samples_split=2, n_estimators=100; total time=   0.1s\n",
      "[CV] END learning_rate=0.01, max_depth=5, min_samples_leaf=1, min_samples_split=2, n_estimators=100; total time=   0.1s\n",
      "[CV] END learning_rate=0.01, max_depth=5, min_samples_leaf=1, min_samples_split=2, n_estimators=100; total time=   0.1s\n",
      "[CV] END learning_rate=0.01, max_depth=4, min_samples_leaf=2, min_samples_split=4, n_estimators=300; total time=   0.3s\n",
      "[CV] END learning_rate=0.01, max_depth=4, min_samples_leaf=2, min_samples_split=4, n_estimators=300; total time=   0.3s\n",
      "[CV] END learning_rate=0.01, max_depth=4, min_samples_leaf=2, min_samples_split=4, n_estimators=300; total time=   0.3s\n",
      "[CV] END learning_rate=0.01, max_depth=4, min_samples_leaf=2, min_samples_split=4, n_estimators=300; total time=   0.3s\n",
      "[CV] END learning_rate=0.01, max_depth=5, min_samples_leaf=1, min_samples_split=2, n_estimators=200; total time=   0.2s\n",
      "[CV] END learning_rate=0.01, max_depth=5, min_samples_leaf=1, min_samples_split=2, n_estimators=200; total time=   0.2s\n",
      "[CV] END learning_rate=0.01, max_depth=4, min_samples_leaf=2, min_samples_split=4, n_estimators=300; total time=   0.3s\n",
      "[CV] END learning_rate=0.01, max_depth=5, min_samples_leaf=1, min_samples_split=2, n_estimators=200; total time=   0.2s\n",
      "[CV] END learning_rate=0.01, max_depth=5, min_samples_leaf=1, min_samples_split=2, n_estimators=200; total time=   0.2s\n",
      "[CV] END learning_rate=0.01, max_depth=5, min_samples_leaf=1, min_samples_split=4, n_estimators=100; total time=   0.1s\n",
      "[CV] END learning_rate=0.01, max_depth=5, min_samples_leaf=1, min_samples_split=2, n_estimators=200; total time=   0.2s\n",
      "[CV] END learning_rate=0.01, max_depth=5, min_samples_leaf=1, min_samples_split=4, n_estimators=100; total time=   0.1s\n",
      "[CV] END learning_rate=0.01, max_depth=5, min_samples_leaf=1, min_samples_split=4, n_estimators=100; total time=   0.1s\n",
      "[CV] END learning_rate=0.01, max_depth=5, min_samples_leaf=1, min_samples_split=4, n_estimators=100; total time=   0.1s\n",
      "[CV] END learning_rate=0.01, max_depth=5, min_samples_leaf=1, min_samples_split=4, n_estimators=100; total time=   0.1s\n",
      "[CV] END learning_rate=0.01, max_depth=5, min_samples_leaf=1, min_samples_split=2, n_estimators=300; total time=   0.3s\n",
      "[CV] END learning_rate=0.01, max_depth=5, min_samples_leaf=1, min_samples_split=2, n_estimators=300; total time=   0.3s\n",
      "[CV] END learning_rate=0.01, max_depth=5, min_samples_leaf=1, min_samples_split=2, n_estimators=300; total time=   0.3s\n",
      "[CV] END learning_rate=0.01, max_depth=5, min_samples_leaf=1, min_samples_split=2, n_estimators=300; total time=   0.3s\n",
      "[CV] END learning_rate=0.01, max_depth=5, min_samples_leaf=1, min_samples_split=2, n_estimators=300; total time=   0.3s\n",
      "[CV] END learning_rate=0.01, max_depth=5, min_samples_leaf=1, min_samples_split=4, n_estimators=200; total time=   0.2s\n",
      "[CV] END learning_rate=0.01, max_depth=5, min_samples_leaf=1, min_samples_split=4, n_estimators=200; total time=   0.2s\n",
      "[CV] END learning_rate=0.01, max_depth=5, min_samples_leaf=1, min_samples_split=4, n_estimators=200; total time=   0.2s\n",
      "[CV] END learning_rate=0.01, max_depth=5, min_samples_leaf=1, min_samples_split=4, n_estimators=200; total time=   0.2s\n",
      "[CV] END learning_rate=0.01, max_depth=5, min_samples_leaf=1, min_samples_split=4, n_estimators=200; total time=   0.2s\n",
      "[CV] END learning_rate=0.01, max_depth=5, min_samples_leaf=2, min_samples_split=2, n_estimators=100; total time=   0.1s\n",
      "[CV] END learning_rate=0.01, max_depth=5, min_samples_leaf=2, min_samples_split=2, n_estimators=100; total time=   0.1s\n",
      "[CV] END learning_rate=0.01, max_depth=5, min_samples_leaf=2, min_samples_split=2, n_estimators=100; total time=   0.1s\n",
      "[CV] END learning_rate=0.01, max_depth=5, min_samples_leaf=2, min_samples_split=2, n_estimators=100; total time=   0.1s\n",
      "[CV] END learning_rate=0.01, max_depth=5, min_samples_leaf=2, min_samples_split=2, n_estimators=100; total time=   0.1s\n",
      "[CV] END learning_rate=0.01, max_depth=5, min_samples_leaf=1, min_samples_split=4, n_estimators=300; total time=   0.3s\n",
      "[CV] END learning_rate=0.01, max_depth=5, min_samples_leaf=1, min_samples_split=4, n_estimators=300; total time=   0.3s\n",
      "[CV] END learning_rate=0.01, max_depth=5, min_samples_leaf=1, min_samples_split=4, n_estimators=300; total time=   0.3s\n",
      "[CV] END learning_rate=0.01, max_depth=5, min_samples_leaf=2, min_samples_split=2, n_estimators=200; total time=   0.2s\n",
      "[CV] END learning_rate=0.01, max_depth=5, min_samples_leaf=1, min_samples_split=4, n_estimators=300; total time=   0.3s\n",
      "[CV] END learning_rate=0.01, max_depth=5, min_samples_leaf=1, min_samples_split=4, n_estimators=300; total time=   0.3s\n",
      "[CV] END learning_rate=0.01, max_depth=5, min_samples_leaf=2, min_samples_split=2, n_estimators=200; total time=   0.2s\n",
      "[CV] END learning_rate=0.01, max_depth=5, min_samples_leaf=2, min_samples_split=2, n_estimators=200; total time=   0.2s\n",
      "[CV] END learning_rate=0.01, max_depth=5, min_samples_leaf=2, min_samples_split=2, n_estimators=200; total time=   0.2s\n",
      "[CV] END learning_rate=0.01, max_depth=5, min_samples_leaf=2, min_samples_split=2, n_estimators=200; total time=   0.2s\n",
      "[CV] END learning_rate=0.01, max_depth=5, min_samples_leaf=2, min_samples_split=4, n_estimators=100; total time=   0.1s\n",
      "[CV] END learning_rate=0.01, max_depth=5, min_samples_leaf=2, min_samples_split=4, n_estimators=100; total time=   0.1s\n",
      "[CV] END learning_rate=0.01, max_depth=5, min_samples_leaf=2, min_samples_split=4, n_estimators=100; total time=   0.1s\n",
      "[CV] END learning_rate=0.01, max_depth=5, min_samples_leaf=2, min_samples_split=4, n_estimators=100; total time=   0.1s\n",
      "[CV] END learning_rate=0.01, max_depth=5, min_samples_leaf=2, min_samples_split=4, n_estimators=100; total time=   0.1s\n",
      "[CV] END learning_rate=0.01, max_depth=5, min_samples_leaf=2, min_samples_split=2, n_estimators=300; total time=   0.3s\n",
      "[CV] END learning_rate=0.01, max_depth=5, min_samples_leaf=2, min_samples_split=2, n_estimators=300; total time=   0.3s\n",
      "[CV] END learning_rate=0.01, max_depth=5, min_samples_leaf=2, min_samples_split=2, n_estimators=300; total time=   0.3s\n",
      "[CV] END learning_rate=0.01, max_depth=5, min_samples_leaf=2, min_samples_split=2, n_estimators=300; total time=   0.3s\n",
      "[CV] END learning_rate=0.01, max_depth=5, min_samples_leaf=2, min_samples_split=4, n_estimators=200; total time=   0.2s\n",
      "[CV] END learning_rate=0.01, max_depth=5, min_samples_leaf=2, min_samples_split=4, n_estimators=200; total time=   0.2s\n",
      "[CV] END learning_rate=0.01, max_depth=5, min_samples_leaf=2, min_samples_split=2, n_estimators=300; total time=   0.3s\n",
      "[CV] END learning_rate=0.01, max_depth=5, min_samples_leaf=2, min_samples_split=4, n_estimators=200; total time=   0.2s\n",
      "[CV] END learning_rate=0.01, max_depth=5, min_samples_leaf=2, min_samples_split=4, n_estimators=200; total time=   0.2s\n",
      "[CV] END learning_rate=0.01, max_depth=5, min_samples_leaf=2, min_samples_split=4, n_estimators=200; total time=   0.2s\n",
      "[CV] END learning_rate=0.1, max_depth=3, min_samples_leaf=1, min_samples_split=2, n_estimators=100; total time=   0.1s\n",
      "[CV] END learning_rate=0.1, max_depth=3, min_samples_leaf=1, min_samples_split=2, n_estimators=100; total time=   0.1s\n",
      "[CV] END learning_rate=0.1, max_depth=3, min_samples_leaf=1, min_samples_split=2, n_estimators=100; total time=   0.1s\n",
      "[CV] END learning_rate=0.1, max_depth=3, min_samples_leaf=1, min_samples_split=2, n_estimators=100; total time=   0.1s\n",
      "[CV] END learning_rate=0.1, max_depth=3, min_samples_leaf=1, min_samples_split=2, n_estimators=100; total time=   0.1s\n",
      "[CV] END learning_rate=0.01, max_depth=5, min_samples_leaf=2, min_samples_split=4, n_estimators=300; total time=   0.3s\n",
      "[CV] END learning_rate=0.01, max_depth=5, min_samples_leaf=2, min_samples_split=4, n_estimators=300; total time=   0.3s\n",
      "[CV] END learning_rate=0.01, max_depth=5, min_samples_leaf=2, min_samples_split=4, n_estimators=300; total time=   0.3s\n",
      "[CV] END learning_rate=0.01, max_depth=5, min_samples_leaf=2, min_samples_split=4, n_estimators=300; total time=   0.3s\n",
      "[CV] END learning_rate=0.1, max_depth=3, min_samples_leaf=1, min_samples_split=2, n_estimators=200; total time=   0.2s\n",
      "[CV] END learning_rate=0.01, max_depth=5, min_samples_leaf=2, min_samples_split=4, n_estimators=300; total time=   0.3s\n",
      "[CV] END learning_rate=0.1, max_depth=3, min_samples_leaf=1, min_samples_split=2, n_estimators=200; total time=   0.2s\n",
      "[CV] END learning_rate=0.1, max_depth=3, min_samples_leaf=1, min_samples_split=2, n_estimators=200; total time=   0.2s\n",
      "[CV] END learning_rate=0.1, max_depth=3, min_samples_leaf=1, min_samples_split=2, n_estimators=200; total time=   0.2s\n",
      "[CV] END learning_rate=0.1, max_depth=3, min_samples_leaf=1, min_samples_split=2, n_estimators=200; total time=   0.2s\n",
      "[CV] END learning_rate=0.1, max_depth=3, min_samples_leaf=1, min_samples_split=4, n_estimators=100; total time=   0.1s\n",
      "[CV] END learning_rate=0.1, max_depth=3, min_samples_leaf=1, min_samples_split=4, n_estimators=100; total time=   0.1s\n",
      "[CV] END learning_rate=0.1, max_depth=3, min_samples_leaf=1, min_samples_split=4, n_estimators=100; total time=   0.1s\n",
      "[CV] END learning_rate=0.1, max_depth=3, min_samples_leaf=1, min_samples_split=4, n_estimators=100; total time=   0.1s\n",
      "[CV] END learning_rate=0.1, max_depth=3, min_samples_leaf=1, min_samples_split=4, n_estimators=100; total time=   0.1s\n",
      "[CV] END learning_rate=0.1, max_depth=3, min_samples_leaf=1, min_samples_split=2, n_estimators=300; total time=   0.3s\n",
      "[CV] END learning_rate=0.1, max_depth=3, min_samples_leaf=1, min_samples_split=2, n_estimators=300; total time=   0.3s\n",
      "[CV] END learning_rate=0.1, max_depth=3, min_samples_leaf=1, min_samples_split=2, n_estimators=300; total time=   0.3s\n",
      "[CV] END learning_rate=0.1, max_depth=3, min_samples_leaf=1, min_samples_split=2, n_estimators=300; total time=   0.3s\n",
      "[CV] END learning_rate=0.1, max_depth=3, min_samples_leaf=1, min_samples_split=4, n_estimators=200; total time=   0.2s\n",
      "[CV] END learning_rate=0.1, max_depth=3, min_samples_leaf=1, min_samples_split=2, n_estimators=300; total time=   0.3s\n",
      "[CV] END learning_rate=0.1, max_depth=3, min_samples_leaf=1, min_samples_split=4, n_estimators=200; total time=   0.2s\n",
      "[CV] END learning_rate=0.1, max_depth=3, min_samples_leaf=1, min_samples_split=4, n_estimators=200; total time=   0.2s\n",
      "[CV] END learning_rate=0.1, max_depth=3, min_samples_leaf=1, min_samples_split=4, n_estimators=200; total time=   0.2s\n",
      "[CV] END learning_rate=0.1, max_depth=3, min_samples_leaf=1, min_samples_split=4, n_estimators=200; total time=   0.2s\n",
      "[CV] END learning_rate=0.1, max_depth=3, min_samples_leaf=2, min_samples_split=2, n_estimators=100; total time=   0.1s\n",
      "[CV] END learning_rate=0.1, max_depth=3, min_samples_leaf=2, min_samples_split=2, n_estimators=100; total time=   0.1s\n",
      "[CV] END learning_rate=0.1, max_depth=3, min_samples_leaf=2, min_samples_split=2, n_estimators=100; total time=   0.1s\n",
      "[CV] END learning_rate=0.1, max_depth=3, min_samples_leaf=2, min_samples_split=2, n_estimators=100; total time=   0.1s\n",
      "[CV] END learning_rate=0.1, max_depth=3, min_samples_leaf=2, min_samples_split=2, n_estimators=100; total time=   0.1s\n",
      "[CV] END learning_rate=0.1, max_depth=3, min_samples_leaf=1, min_samples_split=4, n_estimators=300; total time=   0.3s\n",
      "[CV] END learning_rate=0.1, max_depth=3, min_samples_leaf=1, min_samples_split=4, n_estimators=300; total time=   0.3s\n",
      "[CV] END learning_rate=0.1, max_depth=3, min_samples_leaf=1, min_samples_split=4, n_estimators=300; total time=   0.3s\n",
      "[CV] END learning_rate=0.1, max_depth=3, min_samples_leaf=1, min_samples_split=4, n_estimators=300; total time=   0.3s\n",
      "[CV] END learning_rate=0.1, max_depth=3, min_samples_leaf=2, min_samples_split=2, n_estimators=200; total time=   0.2s\n",
      "[CV] END learning_rate=0.1, max_depth=3, min_samples_leaf=1, min_samples_split=4, n_estimators=300; total time=   0.3s\n",
      "[CV] END learning_rate=0.1, max_depth=3, min_samples_leaf=2, min_samples_split=2, n_estimators=200; total time=   0.2s\n",
      "[CV] END learning_rate=0.1, max_depth=3, min_samples_leaf=2, min_samples_split=2, n_estimators=200; total time=   0.2s\n",
      "[CV] END learning_rate=0.1, max_depth=3, min_samples_leaf=2, min_samples_split=2, n_estimators=200; total time=   0.2s\n",
      "[CV] END learning_rate=0.1, max_depth=3, min_samples_leaf=2, min_samples_split=2, n_estimators=200; total time=   0.2s\n",
      "[CV] END learning_rate=0.1, max_depth=3, min_samples_leaf=2, min_samples_split=4, n_estimators=100; total time=   0.1s\n",
      "[CV] END learning_rate=0.1, max_depth=3, min_samples_leaf=2, min_samples_split=4, n_estimators=100; total time=   0.1s\n",
      "[CV] END learning_rate=0.1, max_depth=3, min_samples_leaf=2, min_samples_split=4, n_estimators=100; total time=   0.1s\n",
      "[CV] END learning_rate=0.1, max_depth=3, min_samples_leaf=2, min_samples_split=4, n_estimators=100; total time=   0.1s\n",
      "[CV] END learning_rate=0.1, max_depth=3, min_samples_leaf=2, min_samples_split=4, n_estimators=100; total time=   0.1s\n",
      "[CV] END learning_rate=0.1, max_depth=3, min_samples_leaf=2, min_samples_split=2, n_estimators=300; total time=   0.2s\n",
      "[CV] END learning_rate=0.1, max_depth=3, min_samples_leaf=2, min_samples_split=2, n_estimators=300; total time=   0.3s\n",
      "[CV] END learning_rate=0.1, max_depth=3, min_samples_leaf=2, min_samples_split=2, n_estimators=300; total time=   0.2s\n",
      "[CV] END learning_rate=0.1, max_depth=3, min_samples_leaf=2, min_samples_split=2, n_estimators=300; total time=   0.3s\n",
      "[CV] END learning_rate=0.1, max_depth=3, min_samples_leaf=2, min_samples_split=2, n_estimators=300; total time=   0.3s\n",
      "[CV] END learning_rate=0.1, max_depth=3, min_samples_leaf=2, min_samples_split=4, n_estimators=200; total time=   0.2s\n",
      "[CV] END learning_rate=0.1, max_depth=3, min_samples_leaf=2, min_samples_split=4, n_estimators=200; total time=   0.2s\n",
      "[CV] END learning_rate=0.1, max_depth=3, min_samples_leaf=2, min_samples_split=4, n_estimators=200; total time=   0.2s\n",
      "[CV] END learning_rate=0.1, max_depth=3, min_samples_leaf=2, min_samples_split=4, n_estimators=200; total time=   0.2s\n",
      "[CV] END learning_rate=0.1, max_depth=3, min_samples_leaf=2, min_samples_split=4, n_estimators=200; total time=   0.2s\n",
      "[CV] END learning_rate=0.1, max_depth=4, min_samples_leaf=1, min_samples_split=2, n_estimators=100; total time=   0.1s\n",
      "[CV] END learning_rate=0.1, max_depth=4, min_samples_leaf=1, min_samples_split=2, n_estimators=100; total time=   0.1s\n",
      "[CV] END learning_rate=0.1, max_depth=4, min_samples_leaf=1, min_samples_split=2, n_estimators=100; total time=   0.1s\n",
      "[CV] END learning_rate=0.1, max_depth=4, min_samples_leaf=1, min_samples_split=2, n_estimators=100; total time=   0.1s\n",
      "[CV] END learning_rate=0.1, max_depth=4, min_samples_leaf=1, min_samples_split=2, n_estimators=100; total time=   0.1s\n",
      "[CV] END learning_rate=0.1, max_depth=3, min_samples_leaf=2, min_samples_split=4, n_estimators=300; total time=   0.3s\n",
      "[CV] END learning_rate=0.1, max_depth=3, min_samples_leaf=2, min_samples_split=4, n_estimators=300; total time=   0.3s\n",
      "[CV] END learning_rate=0.1, max_depth=3, min_samples_leaf=2, min_samples_split=4, n_estimators=300; total time=   0.3s\n",
      "[CV] END learning_rate=0.1, max_depth=3, min_samples_leaf=2, min_samples_split=4, n_estimators=300; total time=   0.2s\n",
      "[CV] END learning_rate=0.1, max_depth=3, min_samples_leaf=2, min_samples_split=4, n_estimators=300; total time=   0.3s\n",
      "[CV] END learning_rate=0.1, max_depth=4, min_samples_leaf=1, min_samples_split=2, n_estimators=200; total time=   0.2s\n",
      "[CV] END learning_rate=0.1, max_depth=4, min_samples_leaf=1, min_samples_split=2, n_estimators=200; total time=   0.2s\n",
      "[CV] END learning_rate=0.1, max_depth=4, min_samples_leaf=1, min_samples_split=2, n_estimators=200; total time=   0.2s\n",
      "[CV] END learning_rate=0.1, max_depth=4, min_samples_leaf=1, min_samples_split=2, n_estimators=200; total time=   0.2s\n",
      "[CV] END learning_rate=0.1, max_depth=4, min_samples_leaf=1, min_samples_split=2, n_estimators=200; total time=   0.2s\n",
      "[CV] END learning_rate=0.1, max_depth=4, min_samples_leaf=1, min_samples_split=4, n_estimators=100; total time=   0.1s\n",
      "[CV] END learning_rate=0.1, max_depth=4, min_samples_leaf=1, min_samples_split=4, n_estimators=100; total time=   0.1s\n",
      "[CV] END learning_rate=0.1, max_depth=4, min_samples_leaf=1, min_samples_split=4, n_estimators=100; total time=   0.1s\n",
      "[CV] END learning_rate=0.1, max_depth=4, min_samples_leaf=1, min_samples_split=4, n_estimators=100; total time=   0.1s\n",
      "[CV] END learning_rate=0.1, max_depth=4, min_samples_leaf=1, min_samples_split=4, n_estimators=100; total time=   0.1s\n",
      "[CV] END learning_rate=0.1, max_depth=4, min_samples_leaf=1, min_samples_split=2, n_estimators=300; total time=   0.3s\n",
      "[CV] END learning_rate=0.1, max_depth=4, min_samples_leaf=1, min_samples_split=2, n_estimators=300; total time=   0.3s\n",
      "[CV] END learning_rate=0.1, max_depth=4, min_samples_leaf=1, min_samples_split=2, n_estimators=300; total time=   0.3s\n",
      "[CV] END learning_rate=0.1, max_depth=4, min_samples_leaf=1, min_samples_split=2, n_estimators=300; total time=   0.3s\n",
      "[CV] END learning_rate=0.1, max_depth=4, min_samples_leaf=1, min_samples_split=2, n_estimators=300; total time=   0.3s\n",
      "[CV] END learning_rate=0.1, max_depth=4, min_samples_leaf=1, min_samples_split=4, n_estimators=200; total time=   0.2s\n",
      "[CV] END learning_rate=0.1, max_depth=4, min_samples_leaf=1, min_samples_split=4, n_estimators=200; total time=   0.2s\n",
      "[CV] END learning_rate=0.1, max_depth=4, min_samples_leaf=1, min_samples_split=4, n_estimators=200; total time=   0.2s\n",
      "[CV] END learning_rate=0.1, max_depth=4, min_samples_leaf=1, min_samples_split=4, n_estimators=200; total time=   0.2s\n",
      "[CV] END learning_rate=0.1, max_depth=4, min_samples_leaf=1, min_samples_split=4, n_estimators=200; total time=   0.2s\n",
      "[CV] END learning_rate=0.1, max_depth=4, min_samples_leaf=2, min_samples_split=2, n_estimators=100; total time=   0.1s\n",
      "[CV] END learning_rate=0.1, max_depth=4, min_samples_leaf=2, min_samples_split=2, n_estimators=100; total time=   0.1s\n",
      "[CV] END learning_rate=0.1, max_depth=4, min_samples_leaf=2, min_samples_split=2, n_estimators=100; total time=   0.1s\n",
      "[CV] END learning_rate=0.1, max_depth=4, min_samples_leaf=2, min_samples_split=2, n_estimators=100; total time=   0.1s\n",
      "[CV] END learning_rate=0.1, max_depth=4, min_samples_leaf=2, min_samples_split=2, n_estimators=100; total time=   0.1s\n",
      "[CV] END learning_rate=0.1, max_depth=4, min_samples_leaf=1, min_samples_split=4, n_estimators=300; total time=   0.3s\n",
      "[CV] END learning_rate=0.1, max_depth=4, min_samples_leaf=1, min_samples_split=4, n_estimators=300; total time=   0.3s\n",
      "[CV] END learning_rate=0.1, max_depth=4, min_samples_leaf=1, min_samples_split=4, n_estimators=300; total time=   0.3s\n",
      "[CV] END learning_rate=0.1, max_depth=4, min_samples_leaf=1, min_samples_split=4, n_estimators=300; total time=   0.3s\n",
      "[CV] END learning_rate=0.1, max_depth=4, min_samples_leaf=1, min_samples_split=4, n_estimators=300; total time=   0.3s\n",
      "[CV] END learning_rate=0.1, max_depth=4, min_samples_leaf=2, min_samples_split=2, n_estimators=200; total time=   0.2s\n",
      "[CV] END learning_rate=0.1, max_depth=4, min_samples_leaf=2, min_samples_split=2, n_estimators=200; total time=   0.2s\n",
      "[CV] END learning_rate=0.1, max_depth=4, min_samples_leaf=2, min_samples_split=2, n_estimators=200; total time=   0.2s\n",
      "[CV] END learning_rate=0.1, max_depth=4, min_samples_leaf=2, min_samples_split=2, n_estimators=200; total time=   0.2s\n",
      "[CV] END learning_rate=0.1, max_depth=4, min_samples_leaf=2, min_samples_split=2, n_estimators=200; total time=   0.2s\n",
      "[CV] END learning_rate=0.1, max_depth=4, min_samples_leaf=2, min_samples_split=4, n_estimators=100; total time=   0.1s\n",
      "[CV] END learning_rate=0.1, max_depth=4, min_samples_leaf=2, min_samples_split=4, n_estimators=100; total time=   0.1s\n",
      "[CV] END learning_rate=0.1, max_depth=4, min_samples_leaf=2, min_samples_split=4, n_estimators=100; total time=   0.1s\n",
      "[CV] END learning_rate=0.1, max_depth=4, min_samples_leaf=2, min_samples_split=4, n_estimators=100; total time=   0.1s\n",
      "[CV] END learning_rate=0.1, max_depth=4, min_samples_leaf=2, min_samples_split=4, n_estimators=100; total time=   0.1s\n",
      "[CV] END learning_rate=0.1, max_depth=4, min_samples_leaf=2, min_samples_split=2, n_estimators=300; total time=   0.3s\n",
      "[CV] END learning_rate=0.1, max_depth=4, min_samples_leaf=2, min_samples_split=2, n_estimators=300; total time=   0.3s\n",
      "[CV] END learning_rate=0.1, max_depth=4, min_samples_leaf=2, min_samples_split=2, n_estimators=300; total time=   0.3s\n",
      "[CV] END learning_rate=0.1, max_depth=4, min_samples_leaf=2, min_samples_split=2, n_estimators=300; total time=   0.3s\n",
      "[CV] END learning_rate=0.1, max_depth=4, min_samples_leaf=2, min_samples_split=2, n_estimators=300; total time=   0.3s\n",
      "[CV] END learning_rate=0.1, max_depth=4, min_samples_leaf=2, min_samples_split=4, n_estimators=200; total time=   0.2s\n",
      "[CV] END learning_rate=0.1, max_depth=4, min_samples_leaf=2, min_samples_split=4, n_estimators=200; total time=   0.2s\n",
      "[CV] END learning_rate=0.1, max_depth=4, min_samples_leaf=2, min_samples_split=4, n_estimators=200; total time=   0.2s\n",
      "[CV] END learning_rate=0.1, max_depth=4, min_samples_leaf=2, min_samples_split=4, n_estimators=200; total time=   0.2s\n",
      "[CV] END learning_rate=0.1, max_depth=4, min_samples_leaf=2, min_samples_split=4, n_estimators=200; total time=   0.2s\n",
      "[CV] END learning_rate=0.1, max_depth=5, min_samples_leaf=1, min_samples_split=2, n_estimators=100; total time=   0.1s\n",
      "[CV] END learning_rate=0.1, max_depth=5, min_samples_leaf=1, min_samples_split=2, n_estimators=100; total time=   0.1s\n",
      "[CV] END learning_rate=0.1, max_depth=5, min_samples_leaf=1, min_samples_split=2, n_estimators=100; total time=   0.1s\n",
      "[CV] END learning_rate=0.1, max_depth=5, min_samples_leaf=1, min_samples_split=2, n_estimators=100; total time=   0.1s\n",
      "[CV] END learning_rate=0.1, max_depth=5, min_samples_leaf=1, min_samples_split=2, n_estimators=100; total time=   0.1s\n",
      "[CV] END learning_rate=0.1, max_depth=4, min_samples_leaf=2, min_samples_split=4, n_estimators=300; total time=   0.3s\n",
      "[CV] END learning_rate=0.1, max_depth=4, min_samples_leaf=2, min_samples_split=4, n_estimators=300; total time=   0.3s\n",
      "[CV] END learning_rate=0.1, max_depth=4, min_samples_leaf=2, min_samples_split=4, n_estimators=300; total time=   0.3s\n",
      "[CV] END learning_rate=0.1, max_depth=4, min_samples_leaf=2, min_samples_split=4, n_estimators=300; total time=   0.3s\n",
      "[CV] END learning_rate=0.1, max_depth=4, min_samples_leaf=2, min_samples_split=4, n_estimators=300; total time=   0.3s\n",
      "[CV] END learning_rate=0.1, max_depth=5, min_samples_leaf=1, min_samples_split=2, n_estimators=200; total time=   0.2s\n",
      "[CV] END learning_rate=0.1, max_depth=5, min_samples_leaf=1, min_samples_split=2, n_estimators=200; total time=   0.2s\n",
      "[CV] END learning_rate=0.1, max_depth=5, min_samples_leaf=1, min_samples_split=2, n_estimators=200; total time=   0.2s\n",
      "[CV] END learning_rate=0.1, max_depth=5, min_samples_leaf=1, min_samples_split=2, n_estimators=200; total time=   0.2s\n",
      "[CV] END learning_rate=0.1, max_depth=5, min_samples_leaf=1, min_samples_split=2, n_estimators=200; total time=   0.2s\n",
      "[CV] END learning_rate=0.1, max_depth=5, min_samples_leaf=1, min_samples_split=4, n_estimators=100; total time=   0.1s\n",
      "[CV] END learning_rate=0.1, max_depth=5, min_samples_leaf=1, min_samples_split=4, n_estimators=100; total time=   0.1s\n",
      "[CV] END learning_rate=0.1, max_depth=5, min_samples_leaf=1, min_samples_split=4, n_estimators=100; total time=   0.1s\n",
      "[CV] END learning_rate=0.1, max_depth=5, min_samples_leaf=1, min_samples_split=4, n_estimators=100; total time=   0.1s\n",
      "[CV] END learning_rate=0.1, max_depth=5, min_samples_leaf=1, min_samples_split=4, n_estimators=100; total time=   0.1s\n",
      "[CV] END learning_rate=0.1, max_depth=5, min_samples_leaf=1, min_samples_split=2, n_estimators=300; total time=   0.3s\n",
      "[CV] END learning_rate=0.1, max_depth=5, min_samples_leaf=1, min_samples_split=2, n_estimators=300; total time=   0.3s\n",
      "[CV] END learning_rate=0.1, max_depth=5, min_samples_leaf=1, min_samples_split=2, n_estimators=300; total time=   0.3s\n",
      "[CV] END learning_rate=0.1, max_depth=5, min_samples_leaf=1, min_samples_split=2, n_estimators=300; total time=   0.3s\n",
      "[CV] END learning_rate=0.1, max_depth=5, min_samples_leaf=1, min_samples_split=2, n_estimators=300; total time=   0.3s\n",
      "[CV] END learning_rate=0.1, max_depth=5, min_samples_leaf=1, min_samples_split=4, n_estimators=200; total time=   0.2s\n",
      "[CV] END learning_rate=0.1, max_depth=5, min_samples_leaf=1, min_samples_split=4, n_estimators=200; total time=   0.2s\n",
      "[CV] END learning_rate=0.1, max_depth=5, min_samples_leaf=1, min_samples_split=4, n_estimators=200; total time=   0.2s\n",
      "[CV] END learning_rate=0.1, max_depth=5, min_samples_leaf=1, min_samples_split=4, n_estimators=200; total time=   0.2s\n",
      "[CV] END learning_rate=0.1, max_depth=5, min_samples_leaf=1, min_samples_split=4, n_estimators=200; total time=   0.2s\n",
      "[CV] END learning_rate=0.1, max_depth=5, min_samples_leaf=2, min_samples_split=2, n_estimators=100; total time=   0.1s\n",
      "[CV] END learning_rate=0.1, max_depth=5, min_samples_leaf=2, min_samples_split=2, n_estimators=100; total time=   0.1s\n",
      "[CV] END learning_rate=0.1, max_depth=5, min_samples_leaf=2, min_samples_split=2, n_estimators=100; total time=   0.1s\n",
      "[CV] END learning_rate=0.1, max_depth=5, min_samples_leaf=2, min_samples_split=2, n_estimators=100; total time=   0.1s\n",
      "[CV] END learning_rate=0.1, max_depth=5, min_samples_leaf=2, min_samples_split=2, n_estimators=100; total time=   0.1s\n",
      "[CV] END learning_rate=0.1, max_depth=5, min_samples_leaf=1, min_samples_split=4, n_estimators=300; total time=   0.3s\n",
      "[CV] END learning_rate=0.1, max_depth=5, min_samples_leaf=1, min_samples_split=4, n_estimators=300; total time=   0.3s\n",
      "[CV] END learning_rate=0.1, max_depth=5, min_samples_leaf=1, min_samples_split=4, n_estimators=300; total time=   0.3s\n",
      "[CV] END learning_rate=0.1, max_depth=5, min_samples_leaf=1, min_samples_split=4, n_estimators=300; total time=   0.3s\n",
      "[CV] END learning_rate=0.1, max_depth=5, min_samples_leaf=1, min_samples_split=4, n_estimators=300; total time=   0.3s\n",
      "[CV] END learning_rate=0.1, max_depth=5, min_samples_leaf=2, min_samples_split=2, n_estimators=200; total time=   0.2s\n",
      "[CV] END learning_rate=0.1, max_depth=5, min_samples_leaf=2, min_samples_split=2, n_estimators=200; total time=   0.2s\n",
      "[CV] END learning_rate=0.1, max_depth=5, min_samples_leaf=2, min_samples_split=2, n_estimators=200; total time=   0.2s\n",
      "[CV] END learning_rate=0.1, max_depth=5, min_samples_leaf=2, min_samples_split=2, n_estimators=200; total time=   0.2s\n",
      "[CV] END learning_rate=0.1, max_depth=5, min_samples_leaf=2, min_samples_split=2, n_estimators=200; total time=   0.2s\n",
      "[CV] END learning_rate=0.1, max_depth=5, min_samples_leaf=2, min_samples_split=4, n_estimators=100; total time=   0.1s\n",
      "[CV] END learning_rate=0.1, max_depth=5, min_samples_leaf=2, min_samples_split=4, n_estimators=100; total time=   0.1s\n",
      "[CV] END learning_rate=0.1, max_depth=5, min_samples_leaf=2, min_samples_split=4, n_estimators=100; total time=   0.1s\n",
      "[CV] END learning_rate=0.1, max_depth=5, min_samples_leaf=2, min_samples_split=4, n_estimators=100; total time=   0.1s\n",
      "[CV] END learning_rate=0.1, max_depth=5, min_samples_leaf=2, min_samples_split=4, n_estimators=100; total time=   0.1s\n",
      "[CV] END learning_rate=0.1, max_depth=5, min_samples_leaf=2, min_samples_split=2, n_estimators=300; total time=   0.3s\n",
      "[CV] END learning_rate=0.1, max_depth=5, min_samples_leaf=2, min_samples_split=2, n_estimators=300; total time=   0.3s\n",
      "[CV] END learning_rate=0.1, max_depth=5, min_samples_leaf=2, min_samples_split=2, n_estimators=300; total time=   0.3s\n",
      "[CV] END learning_rate=0.1, max_depth=5, min_samples_leaf=2, min_samples_split=2, n_estimators=300; total time=   0.3s\n",
      "[CV] END learning_rate=0.1, max_depth=5, min_samples_leaf=2, min_samples_split=4, n_estimators=200; total time=   0.2s\n",
      "[CV] END learning_rate=0.1, max_depth=5, min_samples_leaf=2, min_samples_split=2, n_estimators=300; total time=   0.3s\n",
      "[CV] END learning_rate=0.1, max_depth=5, min_samples_leaf=2, min_samples_split=4, n_estimators=200; total time=   0.2s\n",
      "[CV] END learning_rate=0.1, max_depth=5, min_samples_leaf=2, min_samples_split=4, n_estimators=200; total time=   0.2s\n",
      "[CV] END learning_rate=0.1, max_depth=5, min_samples_leaf=2, min_samples_split=4, n_estimators=200; total time=   0.2s\n",
      "[CV] END learning_rate=0.1, max_depth=5, min_samples_leaf=2, min_samples_split=4, n_estimators=200; total time=   0.2s\n",
      "[CV] END learning_rate=0.2, max_depth=3, min_samples_leaf=1, min_samples_split=2, n_estimators=100; total time=   0.1s\n",
      "[CV] END learning_rate=0.2, max_depth=3, min_samples_leaf=1, min_samples_split=2, n_estimators=100; total time=   0.1s\n",
      "[CV] END learning_rate=0.2, max_depth=3, min_samples_leaf=1, min_samples_split=2, n_estimators=100; total time=   0.1s\n",
      "[CV] END learning_rate=0.2, max_depth=3, min_samples_leaf=1, min_samples_split=2, n_estimators=100; total time=   0.1s\n",
      "[CV] END learning_rate=0.2, max_depth=3, min_samples_leaf=1, min_samples_split=2, n_estimators=100; total time=   0.1s\n",
      "[CV] END learning_rate=0.1, max_depth=5, min_samples_leaf=2, min_samples_split=4, n_estimators=300; total time=   0.3s\n",
      "[CV] END learning_rate=0.1, max_depth=5, min_samples_leaf=2, min_samples_split=4, n_estimators=300; total time=   0.3s\n",
      "[CV] END learning_rate=0.1, max_depth=5, min_samples_leaf=2, min_samples_split=4, n_estimators=300; total time=   0.3s\n",
      "[CV] END learning_rate=0.1, max_depth=5, min_samples_leaf=2, min_samples_split=4, n_estimators=300; total time=   0.3s\n",
      "[CV] END learning_rate=0.1, max_depth=5, min_samples_leaf=2, min_samples_split=4, n_estimators=300; total time=   0.3s\n",
      "[CV] END learning_rate=0.2, max_depth=3, min_samples_leaf=1, min_samples_split=2, n_estimators=200; total time=   0.2s\n",
      "[CV] END learning_rate=0.2, max_depth=3, min_samples_leaf=1, min_samples_split=2, n_estimators=200; total time=   0.2s\n",
      "[CV] END learning_rate=0.2, max_depth=3, min_samples_leaf=1, min_samples_split=2, n_estimators=200; total time=   0.2s\n",
      "[CV] END learning_rate=0.2, max_depth=3, min_samples_leaf=1, min_samples_split=2, n_estimators=200; total time=   0.2s\n",
      "[CV] END learning_rate=0.2, max_depth=3, min_samples_leaf=1, min_samples_split=2, n_estimators=200; total time=   0.2s\n",
      "[CV] END learning_rate=0.2, max_depth=3, min_samples_leaf=1, min_samples_split=4, n_estimators=100; total time=   0.1s\n",
      "[CV] END learning_rate=0.2, max_depth=3, min_samples_leaf=1, min_samples_split=4, n_estimators=100; total time=   0.1s\n",
      "[CV] END learning_rate=0.2, max_depth=3, min_samples_leaf=1, min_samples_split=4, n_estimators=100; total time=   0.1s\n",
      "[CV] END learning_rate=0.2, max_depth=3, min_samples_leaf=1, min_samples_split=4, n_estimators=100; total time=   0.1s\n",
      "[CV] END learning_rate=0.2, max_depth=3, min_samples_leaf=1, min_samples_split=4, n_estimators=100; total time=   0.1s\n",
      "[CV] END learning_rate=0.2, max_depth=3, min_samples_leaf=1, min_samples_split=2, n_estimators=300; total time=   0.3s\n",
      "[CV] END learning_rate=0.2, max_depth=3, min_samples_leaf=1, min_samples_split=2, n_estimators=300; total time=   0.3s\n",
      "[CV] END learning_rate=0.2, max_depth=3, min_samples_leaf=1, min_samples_split=2, n_estimators=300; total time=   0.3s\n",
      "[CV] END learning_rate=0.2, max_depth=3, min_samples_leaf=1, min_samples_split=2, n_estimators=300; total time=   0.3s\n",
      "[CV] END learning_rate=0.2, max_depth=3, min_samples_leaf=1, min_samples_split=4, n_estimators=200; total time=   0.2s\n",
      "[CV] END learning_rate=0.2, max_depth=3, min_samples_leaf=1, min_samples_split=4, n_estimators=200; total time=   0.2s\n",
      "[CV] END learning_rate=0.2, max_depth=3, min_samples_leaf=1, min_samples_split=2, n_estimators=300; total time=   0.3s\n",
      "[CV] END learning_rate=0.2, max_depth=3, min_samples_leaf=1, min_samples_split=4, n_estimators=200; total time=   0.2s\n",
      "[CV] END learning_rate=0.2, max_depth=3, min_samples_leaf=1, min_samples_split=4, n_estimators=200; total time=   0.2s\n",
      "[CV] END learning_rate=0.2, max_depth=3, min_samples_leaf=1, min_samples_split=4, n_estimators=200; total time=   0.2s\n",
      "[CV] END learning_rate=0.2, max_depth=3, min_samples_leaf=2, min_samples_split=2, n_estimators=100; total time=   0.1s\n",
      "[CV] END learning_rate=0.2, max_depth=3, min_samples_leaf=2, min_samples_split=2, n_estimators=100; total time=   0.1s\n",
      "[CV] END learning_rate=0.2, max_depth=3, min_samples_leaf=2, min_samples_split=2, n_estimators=100; total time=   0.1s\n",
      "[CV] END learning_rate=0.2, max_depth=3, min_samples_leaf=2, min_samples_split=2, n_estimators=100; total time=   0.1s\n",
      "[CV] END learning_rate=0.2, max_depth=3, min_samples_leaf=2, min_samples_split=2, n_estimators=100; total time=   0.1s\n",
      "[CV] END learning_rate=0.2, max_depth=3, min_samples_leaf=1, min_samples_split=4, n_estimators=300; total time=   0.3s\n",
      "[CV] END learning_rate=0.2, max_depth=3, min_samples_leaf=1, min_samples_split=4, n_estimators=300; total time=   0.3s\n",
      "[CV] END learning_rate=0.2, max_depth=3, min_samples_leaf=1, min_samples_split=4, n_estimators=300; total time=   0.3s\n",
      "[CV] END learning_rate=0.2, max_depth=3, min_samples_leaf=1, min_samples_split=4, n_estimators=300; total time=   0.3s\n",
      "[CV] END learning_rate=0.2, max_depth=3, min_samples_leaf=2, min_samples_split=2, n_estimators=200; total time=   0.2s\n",
      "[CV] END learning_rate=0.2, max_depth=3, min_samples_leaf=1, min_samples_split=4, n_estimators=300; total time=   0.3s\n",
      "[CV] END learning_rate=0.2, max_depth=3, min_samples_leaf=2, min_samples_split=2, n_estimators=200; total time=   0.2s\n",
      "[CV] END learning_rate=0.2, max_depth=3, min_samples_leaf=2, min_samples_split=2, n_estimators=200; total time=   0.2s\n",
      "[CV] END learning_rate=0.2, max_depth=3, min_samples_leaf=2, min_samples_split=2, n_estimators=200; total time=   0.2s\n",
      "[CV] END learning_rate=0.2, max_depth=3, min_samples_leaf=2, min_samples_split=2, n_estimators=200; total time=   0.2s\n",
      "[CV] END learning_rate=0.2, max_depth=3, min_samples_leaf=2, min_samples_split=4, n_estimators=100; total time=   0.1s\n",
      "[CV] END learning_rate=0.2, max_depth=3, min_samples_leaf=2, min_samples_split=4, n_estimators=100; total time=   0.1s\n",
      "[CV] END learning_rate=0.2, max_depth=3, min_samples_leaf=2, min_samples_split=4, n_estimators=100; total time=   0.1s\n",
      "[CV] END learning_rate=0.2, max_depth=3, min_samples_leaf=2, min_samples_split=4, n_estimators=100; total time=   0.1s\n",
      "[CV] END learning_rate=0.2, max_depth=3, min_samples_leaf=2, min_samples_split=4, n_estimators=100; total time=   0.1s\n",
      "[CV] END learning_rate=0.2, max_depth=3, min_samples_leaf=2, min_samples_split=2, n_estimators=300; total time=   0.3s\n",
      "[CV] END learning_rate=0.2, max_depth=3, min_samples_leaf=2, min_samples_split=2, n_estimators=300; total time=   0.3s\n",
      "[CV] END learning_rate=0.2, max_depth=3, min_samples_leaf=2, min_samples_split=2, n_estimators=300; total time=   0.3s\n",
      "[CV] END learning_rate=0.2, max_depth=3, min_samples_leaf=2, min_samples_split=2, n_estimators=300; total time=   0.3s\n",
      "[CV] END learning_rate=0.2, max_depth=3, min_samples_leaf=2, min_samples_split=2, n_estimators=300; total time=   0.3s\n",
      "[CV] END learning_rate=0.2, max_depth=3, min_samples_leaf=2, min_samples_split=4, n_estimators=200; total time=   0.2s\n",
      "[CV] END learning_rate=0.2, max_depth=3, min_samples_leaf=2, min_samples_split=4, n_estimators=200; total time=   0.2s\n",
      "[CV] END learning_rate=0.2, max_depth=3, min_samples_leaf=2, min_samples_split=4, n_estimators=200; total time=   0.2s\n",
      "[CV] END learning_rate=0.2, max_depth=3, min_samples_leaf=2, min_samples_split=4, n_estimators=200; total time=   0.2s\n",
      "[CV] END learning_rate=0.2, max_depth=3, min_samples_leaf=2, min_samples_split=4, n_estimators=200; total time=   0.2s\n",
      "[CV] END learning_rate=0.2, max_depth=4, min_samples_leaf=1, min_samples_split=2, n_estimators=100; total time=   0.1s\n",
      "[CV] END learning_rate=0.2, max_depth=4, min_samples_leaf=1, min_samples_split=2, n_estimators=100; total time=   0.1s\n",
      "[CV] END learning_rate=0.2, max_depth=4, min_samples_leaf=1, min_samples_split=2, n_estimators=100; total time=   0.1s\n",
      "[CV] END learning_rate=0.2, max_depth=4, min_samples_leaf=1, min_samples_split=2, n_estimators=100; total time=   0.1s\n",
      "[CV] END learning_rate=0.2, max_depth=4, min_samples_leaf=1, min_samples_split=2, n_estimators=100; total time=   0.1s\n",
      "[CV] END learning_rate=0.2, max_depth=3, min_samples_leaf=2, min_samples_split=4, n_estimators=300; total time=   0.3s\n",
      "[CV] END learning_rate=0.2, max_depth=3, min_samples_leaf=2, min_samples_split=4, n_estimators=300; total time=   0.3s\n",
      "[CV] END learning_rate=0.2, max_depth=3, min_samples_leaf=2, min_samples_split=4, n_estimators=300; total time=   0.3s\n",
      "[CV] END learning_rate=0.2, max_depth=3, min_samples_leaf=2, min_samples_split=4, n_estimators=300; total time=   0.3s\n",
      "[CV] END learning_rate=0.2, max_depth=3, min_samples_leaf=2, min_samples_split=4, n_estimators=300; total time=   0.3s\n",
      "[CV] END learning_rate=0.2, max_depth=4, min_samples_leaf=1, min_samples_split=2, n_estimators=200; total time=   0.2s\n",
      "[CV] END learning_rate=0.2, max_depth=4, min_samples_leaf=1, min_samples_split=2, n_estimators=200; total time=   0.2s\n",
      "[CV] END learning_rate=0.2, max_depth=4, min_samples_leaf=1, min_samples_split=2, n_estimators=200; total time=   0.2s\n",
      "[CV] END learning_rate=0.2, max_depth=4, min_samples_leaf=1, min_samples_split=2, n_estimators=200; total time=   0.2s\n",
      "[CV] END learning_rate=0.2, max_depth=4, min_samples_leaf=1, min_samples_split=2, n_estimators=200; total time=   0.2s\n",
      "[CV] END learning_rate=0.2, max_depth=4, min_samples_leaf=1, min_samples_split=4, n_estimators=100; total time=   0.1s\n",
      "[CV] END learning_rate=0.2, max_depth=4, min_samples_leaf=1, min_samples_split=4, n_estimators=100; total time=   0.1s\n",
      "[CV] END learning_rate=0.2, max_depth=4, min_samples_leaf=1, min_samples_split=4, n_estimators=100; total time=   0.1s\n",
      "[CV] END learning_rate=0.2, max_depth=4, min_samples_leaf=1, min_samples_split=4, n_estimators=100; total time=   0.1s\n",
      "[CV] END learning_rate=0.2, max_depth=4, min_samples_leaf=1, min_samples_split=4, n_estimators=100; total time=   0.1s\n",
      "[CV] END learning_rate=0.2, max_depth=4, min_samples_leaf=1, min_samples_split=2, n_estimators=300; total time=   0.3s\n",
      "[CV] END learning_rate=0.2, max_depth=4, min_samples_leaf=1, min_samples_split=2, n_estimators=300; total time=   0.3s\n",
      "[CV] END learning_rate=0.2, max_depth=4, min_samples_leaf=1, min_samples_split=2, n_estimators=300; total time=   0.3s\n",
      "[CV] END learning_rate=0.2, max_depth=4, min_samples_leaf=1, min_samples_split=2, n_estimators=300; total time=   0.3s\n",
      "[CV] END learning_rate=0.2, max_depth=4, min_samples_leaf=1, min_samples_split=2, n_estimators=300; total time=   0.3s\n",
      "[CV] END learning_rate=0.2, max_depth=4, min_samples_leaf=1, min_samples_split=4, n_estimators=200; total time=   0.2s\n",
      "[CV] END learning_rate=0.2, max_depth=4, min_samples_leaf=1, min_samples_split=4, n_estimators=200; total time=   0.2s\n",
      "[CV] END learning_rate=0.2, max_depth=4, min_samples_leaf=1, min_samples_split=4, n_estimators=200; total time=   0.2s\n",
      "[CV] END learning_rate=0.2, max_depth=4, min_samples_leaf=1, min_samples_split=4, n_estimators=200; total time=   0.2s\n",
      "[CV] END learning_rate=0.2, max_depth=4, min_samples_leaf=2, min_samples_split=2, n_estimators=100; total time=   0.1s\n",
      "[CV] END learning_rate=0.2, max_depth=4, min_samples_leaf=1, min_samples_split=4, n_estimators=200; total time=   0.2s\n",
      "[CV] END learning_rate=0.2, max_depth=4, min_samples_leaf=2, min_samples_split=2, n_estimators=100; total time=   0.1s\n",
      "[CV] END learning_rate=0.2, max_depth=4, min_samples_leaf=2, min_samples_split=2, n_estimators=100; total time=   0.1s\n",
      "[CV] END learning_rate=0.2, max_depth=4, min_samples_leaf=2, min_samples_split=2, n_estimators=100; total time=   0.1s\n",
      "[CV] END learning_rate=0.2, max_depth=4, min_samples_leaf=2, min_samples_split=2, n_estimators=100; total time=   0.1s\n",
      "[CV] END learning_rate=0.2, max_depth=4, min_samples_leaf=1, min_samples_split=4, n_estimators=300; total time=   0.3s\n",
      "[CV] END learning_rate=0.2, max_depth=4, min_samples_leaf=1, min_samples_split=4, n_estimators=300; total time=   0.3s\n",
      "[CV] END learning_rate=0.2, max_depth=4, min_samples_leaf=1, min_samples_split=4, n_estimators=300; total time=   0.3s\n",
      "[CV] END learning_rate=0.2, max_depth=4, min_samples_leaf=1, min_samples_split=4, n_estimators=300; total time=   0.3s\n",
      "[CV] END learning_rate=0.2, max_depth=4, min_samples_leaf=1, min_samples_split=4, n_estimators=300; total time=   0.3s\n",
      "[CV] END learning_rate=0.2, max_depth=4, min_samples_leaf=2, min_samples_split=2, n_estimators=200; total time=   0.2s\n",
      "[CV] END learning_rate=0.2, max_depth=4, min_samples_leaf=2, min_samples_split=2, n_estimators=200; total time=   0.2s\n",
      "[CV] END learning_rate=0.2, max_depth=4, min_samples_leaf=2, min_samples_split=2, n_estimators=200; total time=   0.2s\n",
      "[CV] END learning_rate=0.2, max_depth=4, min_samples_leaf=2, min_samples_split=2, n_estimators=200; total time=   0.2s\n",
      "[CV] END learning_rate=0.2, max_depth=4, min_samples_leaf=2, min_samples_split=2, n_estimators=200; total time=   0.2s\n",
      "[CV] END learning_rate=0.2, max_depth=4, min_samples_leaf=2, min_samples_split=4, n_estimators=100; total time=   0.1s\n",
      "[CV] END learning_rate=0.2, max_depth=4, min_samples_leaf=2, min_samples_split=4, n_estimators=100; total time=   0.1s\n",
      "[CV] END learning_rate=0.2, max_depth=4, min_samples_leaf=2, min_samples_split=4, n_estimators=100; total time=   0.1s\n",
      "[CV] END learning_rate=0.2, max_depth=4, min_samples_leaf=2, min_samples_split=4, n_estimators=100; total time=   0.1s\n",
      "[CV] END learning_rate=0.2, max_depth=4, min_samples_leaf=2, min_samples_split=4, n_estimators=100; total time=   0.1s\n",
      "[CV] END learning_rate=0.2, max_depth=4, min_samples_leaf=2, min_samples_split=2, n_estimators=300; total time=   0.3s\n",
      "[CV] END learning_rate=0.2, max_depth=4, min_samples_leaf=2, min_samples_split=2, n_estimators=300; total time=   0.3s\n",
      "[CV] END learning_rate=0.2, max_depth=4, min_samples_leaf=2, min_samples_split=2, n_estimators=300; total time=   0.3s\n",
      "[CV] END learning_rate=0.2, max_depth=4, min_samples_leaf=2, min_samples_split=4, n_estimators=200; total time=   0.2s\n",
      "[CV] END learning_rate=0.2, max_depth=4, min_samples_leaf=2, min_samples_split=4, n_estimators=200; total time=   0.2s\n",
      "[CV] END learning_rate=0.2, max_depth=4, min_samples_leaf=2, min_samples_split=2, n_estimators=300; total time=   0.3s\n",
      "[CV] END learning_rate=0.2, max_depth=4, min_samples_leaf=2, min_samples_split=2, n_estimators=300; total time=   0.3s\n",
      "[CV] END learning_rate=0.2, max_depth=4, min_samples_leaf=2, min_samples_split=4, n_estimators=200; total time=   0.2s\n",
      "[CV] END learning_rate=0.2, max_depth=4, min_samples_leaf=2, min_samples_split=4, n_estimators=200; total time=   0.2s\n",
      "[CV] END learning_rate=0.2, max_depth=4, min_samples_leaf=2, min_samples_split=4, n_estimators=200; total time=   0.2s\n",
      "[CV] END learning_rate=0.2, max_depth=5, min_samples_leaf=1, min_samples_split=2, n_estimators=100; total time=   0.1s\n",
      "[CV] END learning_rate=0.2, max_depth=5, min_samples_leaf=1, min_samples_split=2, n_estimators=100; total time=   0.1s\n",
      "[CV] END learning_rate=0.2, max_depth=5, min_samples_leaf=1, min_samples_split=2, n_estimators=100; total time=   0.1s\n",
      "[CV] END learning_rate=0.2, max_depth=5, min_samples_leaf=1, min_samples_split=2, n_estimators=100; total time=   0.1s\n",
      "[CV] END learning_rate=0.2, max_depth=5, min_samples_leaf=1, min_samples_split=2, n_estimators=100; total time=   0.1s\n",
      "[CV] END learning_rate=0.2, max_depth=4, min_samples_leaf=2, min_samples_split=4, n_estimators=300; total time=   0.3s\n",
      "[CV] END learning_rate=0.2, max_depth=4, min_samples_leaf=2, min_samples_split=4, n_estimators=300; total time=   0.3s\n",
      "[CV] END learning_rate=0.2, max_depth=4, min_samples_leaf=2, min_samples_split=4, n_estimators=300; total time=   0.3s\n",
      "[CV] END learning_rate=0.2, max_depth=4, min_samples_leaf=2, min_samples_split=4, n_estimators=300; total time=   0.3s\n",
      "[CV] END learning_rate=0.2, max_depth=4, min_samples_leaf=2, min_samples_split=4, n_estimators=300; total time=   0.3s\n",
      "[CV] END learning_rate=0.2, max_depth=5, min_samples_leaf=1, min_samples_split=2, n_estimators=200; total time=   0.2s\n",
      "[CV] END learning_rate=0.2, max_depth=5, min_samples_leaf=1, min_samples_split=2, n_estimators=200; total time=   0.2s\n",
      "[CV] END learning_rate=0.2, max_depth=5, min_samples_leaf=1, min_samples_split=2, n_estimators=200; total time=   0.2s\n",
      "[CV] END learning_rate=0.2, max_depth=5, min_samples_leaf=1, min_samples_split=2, n_estimators=200; total time=   0.2s\n",
      "[CV] END learning_rate=0.2, max_depth=5, min_samples_leaf=1, min_samples_split=2, n_estimators=200; total time=   0.2s\n",
      "[CV] END learning_rate=0.2, max_depth=5, min_samples_leaf=1, min_samples_split=4, n_estimators=100; total time=   0.1s\n",
      "[CV] END learning_rate=0.2, max_depth=5, min_samples_leaf=1, min_samples_split=4, n_estimators=100; total time=   0.1s\n",
      "[CV] END learning_rate=0.2, max_depth=5, min_samples_leaf=1, min_samples_split=4, n_estimators=100; total time=   0.1s\n",
      "[CV] END learning_rate=0.2, max_depth=5, min_samples_leaf=1, min_samples_split=4, n_estimators=100; total time=   0.1s\n",
      "[CV] END learning_rate=0.2, max_depth=5, min_samples_leaf=1, min_samples_split=4, n_estimators=100; total time=   0.1s\n",
      "[CV] END learning_rate=0.2, max_depth=5, min_samples_leaf=1, min_samples_split=2, n_estimators=300; total time=   0.3s\n",
      "[CV] END learning_rate=0.2, max_depth=5, min_samples_leaf=1, min_samples_split=2, n_estimators=300; total time=   0.3s\n",
      "[CV] END learning_rate=0.2, max_depth=5, min_samples_leaf=1, min_samples_split=2, n_estimators=300; total time=   0.3s\n",
      "[CV] END learning_rate=0.2, max_depth=5, min_samples_leaf=1, min_samples_split=2, n_estimators=300; total time=   0.3s\n",
      "[CV] END learning_rate=0.2, max_depth=5, min_samples_leaf=1, min_samples_split=2, n_estimators=300; total time=   0.3s\n",
      "[CV] END learning_rate=0.2, max_depth=5, min_samples_leaf=1, min_samples_split=4, n_estimators=200; total time=   0.2s\n",
      "[CV] END learning_rate=0.2, max_depth=5, min_samples_leaf=1, min_samples_split=4, n_estimators=200; total time=   0.2s\n",
      "[CV] END learning_rate=0.2, max_depth=5, min_samples_leaf=1, min_samples_split=4, n_estimators=200; total time=   0.2s\n",
      "[CV] END learning_rate=0.2, max_depth=5, min_samples_leaf=1, min_samples_split=4, n_estimators=200; total time=   0.2s\n",
      "[CV] END learning_rate=0.2, max_depth=5, min_samples_leaf=1, min_samples_split=4, n_estimators=200; total time=   0.2s\n",
      "[CV] END learning_rate=0.2, max_depth=5, min_samples_leaf=2, min_samples_split=2, n_estimators=100; total time=   0.1s\n",
      "[CV] END learning_rate=0.2, max_depth=5, min_samples_leaf=2, min_samples_split=2, n_estimators=100; total time=   0.1s\n",
      "[CV] END learning_rate=0.2, max_depth=5, min_samples_leaf=2, min_samples_split=2, n_estimators=100; total time=   0.1s\n",
      "[CV] END learning_rate=0.2, max_depth=5, min_samples_leaf=2, min_samples_split=2, n_estimators=100; total time=   0.1s\n",
      "[CV] END learning_rate=0.2, max_depth=5, min_samples_leaf=2, min_samples_split=2, n_estimators=100; total time=   0.1s\n",
      "[CV] END learning_rate=0.2, max_depth=5, min_samples_leaf=1, min_samples_split=4, n_estimators=300; total time=   0.3s\n",
      "[CV] END learning_rate=0.2, max_depth=5, min_samples_leaf=1, min_samples_split=4, n_estimators=300; total time=   0.3s\n",
      "[CV] END learning_rate=0.2, max_depth=5, min_samples_leaf=1, min_samples_split=4, n_estimators=300; total time=   0.3s\n",
      "[CV] END learning_rate=0.2, max_depth=5, min_samples_leaf=1, min_samples_split=4, n_estimators=300; total time=   0.3s\n",
      "[CV] END learning_rate=0.2, max_depth=5, min_samples_leaf=2, min_samples_split=2, n_estimators=200; total time=   0.2s\n",
      "[CV] END learning_rate=0.2, max_depth=5, min_samples_leaf=2, min_samples_split=2, n_estimators=200; total time=   0.2s\n",
      "[CV] END learning_rate=0.2, max_depth=5, min_samples_leaf=1, min_samples_split=4, n_estimators=300; total time=   0.3s\n",
      "[CV] END learning_rate=0.2, max_depth=5, min_samples_leaf=2, min_samples_split=2, n_estimators=200; total time=   0.2s\n",
      "[CV] END learning_rate=0.2, max_depth=5, min_samples_leaf=2, min_samples_split=2, n_estimators=200; total time=   0.2s\n",
      "[CV] END learning_rate=0.2, max_depth=5, min_samples_leaf=2, min_samples_split=2, n_estimators=200; total time=   0.2s\n",
      "[CV] END learning_rate=0.2, max_depth=5, min_samples_leaf=2, min_samples_split=4, n_estimators=100; total time=   0.1s\n",
      "[CV] END learning_rate=0.2, max_depth=5, min_samples_leaf=2, min_samples_split=4, n_estimators=100; total time=   0.1s\n",
      "[CV] END learning_rate=0.2, max_depth=5, min_samples_leaf=2, min_samples_split=4, n_estimators=100; total time=   0.1s\n",
      "[CV] END learning_rate=0.2, max_depth=5, min_samples_leaf=2, min_samples_split=4, n_estimators=100; total time=   0.1s\n",
      "[CV] END learning_rate=0.2, max_depth=5, min_samples_leaf=2, min_samples_split=4, n_estimators=100; total time=   0.1s\n",
      "[CV] END learning_rate=0.2, max_depth=5, min_samples_leaf=2, min_samples_split=2, n_estimators=300; total time=   0.3s\n",
      "[CV] END learning_rate=0.2, max_depth=5, min_samples_leaf=2, min_samples_split=2, n_estimators=300; total time=   0.3s\n",
      "[CV] END learning_rate=0.2, max_depth=5, min_samples_leaf=2, min_samples_split=2, n_estimators=300; total time=   0.3s\n",
      "[CV] END learning_rate=0.2, max_depth=5, min_samples_leaf=2, min_samples_split=2, n_estimators=300; total time=   0.3s\n",
      "[CV] END learning_rate=0.2, max_depth=5, min_samples_leaf=2, min_samples_split=4, n_estimators=200; total time=   0.2s\n",
      "[CV] END learning_rate=0.2, max_depth=5, min_samples_leaf=2, min_samples_split=2, n_estimators=300; total time=   0.3s\n",
      "[CV] END learning_rate=0.2, max_depth=5, min_samples_leaf=2, min_samples_split=4, n_estimators=200; total time=   0.2s\n",
      "[CV] END learning_rate=0.2, max_depth=5, min_samples_leaf=2, min_samples_split=4, n_estimators=200; total time=   0.2s\n",
      "[CV] END learning_rate=0.2, max_depth=5, min_samples_leaf=2, min_samples_split=4, n_estimators=200; total time=   0.2s\n",
      "[CV] END learning_rate=0.2, max_depth=5, min_samples_leaf=2, min_samples_split=4, n_estimators=200; total time=   0.2s\n",
      "[CV] END learning_rate=0.2, max_depth=5, min_samples_leaf=2, min_samples_split=4, n_estimators=300; total time=   0.2s\n",
      "[CV] END learning_rate=0.2, max_depth=5, min_samples_leaf=2, min_samples_split=4, n_estimators=300; total time=   0.2s\n",
      "[CV] END learning_rate=0.2, max_depth=5, min_samples_leaf=2, min_samples_split=4, n_estimators=300; total time=   0.2s\n",
      "[CV] END learning_rate=0.2, max_depth=5, min_samples_leaf=2, min_samples_split=4, n_estimators=300; total time=   0.2s\n",
      "[CV] END learning_rate=0.2, max_depth=5, min_samples_leaf=2, min_samples_split=4, n_estimators=300; total time=   0.2s\n",
      "Best parameters found:  {'learning_rate': 0.1, 'max_depth': 4, 'min_samples_leaf': 1, 'min_samples_split': 4, 'n_estimators': 200}\n"
     ]
    }
   ],
   "source": [
    "# Define the parameter grid\n",
    "param_grid = {\n",
    "    'n_estimators': [100, 200, 300],\n",
    "    'learning_rate': [0.01, 0.1, 0.2],\n",
    "    'max_depth': [3, 4, 5],\n",
    "    'min_samples_split': [2, 4],\n",
    "    'min_samples_leaf': [1, 2]\n",
    "}\n",
    "\n",
    "# Initialize the Gradient Boosting regressor\n",
    "gb_regressor = GradientBoostingRegressor(random_state=42)\n",
    "\n",
    "# Create the GridSearchCV object\n",
    "grid_search = GridSearchCV(estimator=gb_regressor, param_grid=param_grid, \n",
    "                           cv=5, n_jobs=-1, scoring='neg_mean_squared_error', verbose=2)\n",
    "\n",
    "# Fit the grid search to the data\n",
    "grid_search.fit(X_train, y_train)\n",
    "\n",
    "# Print the best parameters\n",
    "print(\"Best parameters found: \", grid_search.best_params_)\n",
    "\n",
    "# Get the best model\n",
    "best_gb_model = grid_search.best_estimator_\n"
   ]
  },
  {
   "cell_type": "code",
   "execution_count": 16,
   "metadata": {},
   "outputs": [
    {
     "name": "stdout",
     "output_type": "stream",
     "text": [
      "RMSE of the best model: 8983.531458194006\n"
     ]
    }
   ],
   "source": [
    "# Evaluate the best model (using the test set)\n",
    "best_gb_rmse = calculate_rmse(best_gb_model, X_test, y_test)\n",
    "print(f\"RMSE of the best model: {best_gb_rmse}\")\n"
   ]
  },
  {
   "cell_type": "markdown",
   "metadata": {},
   "source": [
    "RMSE of the best model: 7607.568259669978"
   ]
  },
  {
   "cell_type": "code",
   "execution_count": 17,
   "metadata": {},
   "outputs": [
    {
     "name": "stdout",
     "output_type": "stream",
     "text": [
      "Best parameters found:  {'learning_rate': 0.1, 'max_depth': 4, 'min_samples_leaf': 1, 'min_samples_split': 4, 'n_estimators': 200}\n"
     ]
    }
   ],
   "source": [
    "# Print the best parameters\n",
    "print(\"Best parameters found: \", grid_search.best_params_)"
   ]
  },
  {
   "cell_type": "markdown",
   "metadata": {},
   "source": [
    "Best parameters found:  {'learning_rate': 0.1, 'max_depth': 3, 'min_samples_leaf': 1, 'min_samples_split': 4, 'n_estimators': 300}"
   ]
  },
  {
   "cell_type": "markdown",
   "metadata": {},
   "source": [
    "## <a id='toc1_7_'></a>[6: Model Evaluation and Validation: ](#toc0_)"
   ]
  },
  {
   "cell_type": "markdown",
   "metadata": {},
   "source": [
    "Below, we then set up the final Gradient Boosting Regressor model for our predictions by initializing it with the optimal parameters found through grid search. We then train the model on the entire training dataset (X_train and y_train), ensuring that the model is fine-tuned with the best possible settings for making accurate future predictions."
   ]
  },
  {
   "cell_type": "code",
   "execution_count": 18,
   "metadata": {},
   "outputs": [
    {
     "data": {
      "text/html": [
       "<style>#sk-container-id-2 {color: black;}#sk-container-id-2 pre{padding: 0;}#sk-container-id-2 div.sk-toggleable {background-color: white;}#sk-container-id-2 label.sk-toggleable__label {cursor: pointer;display: block;width: 100%;margin-bottom: 0;padding: 0.3em;box-sizing: border-box;text-align: center;}#sk-container-id-2 label.sk-toggleable__label-arrow:before {content: \"▸\";float: left;margin-right: 0.25em;color: #696969;}#sk-container-id-2 label.sk-toggleable__label-arrow:hover:before {color: black;}#sk-container-id-2 div.sk-estimator:hover label.sk-toggleable__label-arrow:before {color: black;}#sk-container-id-2 div.sk-toggleable__content {max-height: 0;max-width: 0;overflow: hidden;text-align: left;background-color: #f0f8ff;}#sk-container-id-2 div.sk-toggleable__content pre {margin: 0.2em;color: black;border-radius: 0.25em;background-color: #f0f8ff;}#sk-container-id-2 input.sk-toggleable__control:checked~div.sk-toggleable__content {max-height: 200px;max-width: 100%;overflow: auto;}#sk-container-id-2 input.sk-toggleable__control:checked~label.sk-toggleable__label-arrow:before {content: \"▾\";}#sk-container-id-2 div.sk-estimator input.sk-toggleable__control:checked~label.sk-toggleable__label {background-color: #d4ebff;}#sk-container-id-2 div.sk-label input.sk-toggleable__control:checked~label.sk-toggleable__label {background-color: #d4ebff;}#sk-container-id-2 input.sk-hidden--visually {border: 0;clip: rect(1px 1px 1px 1px);clip: rect(1px, 1px, 1px, 1px);height: 1px;margin: -1px;overflow: hidden;padding: 0;position: absolute;width: 1px;}#sk-container-id-2 div.sk-estimator {font-family: monospace;background-color: #f0f8ff;border: 1px dotted black;border-radius: 0.25em;box-sizing: border-box;margin-bottom: 0.5em;}#sk-container-id-2 div.sk-estimator:hover {background-color: #d4ebff;}#sk-container-id-2 div.sk-parallel-item::after {content: \"\";width: 100%;border-bottom: 1px solid gray;flex-grow: 1;}#sk-container-id-2 div.sk-label:hover label.sk-toggleable__label {background-color: #d4ebff;}#sk-container-id-2 div.sk-serial::before {content: \"\";position: absolute;border-left: 1px solid gray;box-sizing: border-box;top: 0;bottom: 0;left: 50%;z-index: 0;}#sk-container-id-2 div.sk-serial {display: flex;flex-direction: column;align-items: center;background-color: white;padding-right: 0.2em;padding-left: 0.2em;position: relative;}#sk-container-id-2 div.sk-item {position: relative;z-index: 1;}#sk-container-id-2 div.sk-parallel {display: flex;align-items: stretch;justify-content: center;background-color: white;position: relative;}#sk-container-id-2 div.sk-item::before, #sk-container-id-2 div.sk-parallel-item::before {content: \"\";position: absolute;border-left: 1px solid gray;box-sizing: border-box;top: 0;bottom: 0;left: 50%;z-index: -1;}#sk-container-id-2 div.sk-parallel-item {display: flex;flex-direction: column;z-index: 1;position: relative;background-color: white;}#sk-container-id-2 div.sk-parallel-item:first-child::after {align-self: flex-end;width: 50%;}#sk-container-id-2 div.sk-parallel-item:last-child::after {align-self: flex-start;width: 50%;}#sk-container-id-2 div.sk-parallel-item:only-child::after {width: 0;}#sk-container-id-2 div.sk-dashed-wrapped {border: 1px dashed gray;margin: 0 0.4em 0.5em 0.4em;box-sizing: border-box;padding-bottom: 0.4em;background-color: white;}#sk-container-id-2 div.sk-label label {font-family: monospace;font-weight: bold;display: inline-block;line-height: 1.2em;}#sk-container-id-2 div.sk-label-container {text-align: center;}#sk-container-id-2 div.sk-container {/* jupyter's `normalize.less` sets `[hidden] { display: none; }` but bootstrap.min.css set `[hidden] { display: none !important; }` so we also need the `!important` here to be able to override the default hidden behavior on the sphinx rendered scikit-learn.org. See: https://github.com/scikit-learn/scikit-learn/issues/21755 */display: inline-block !important;position: relative;}#sk-container-id-2 div.sk-text-repr-fallback {display: none;}</style><div id=\"sk-container-id-2\" class=\"sk-top-container\"><div class=\"sk-text-repr-fallback\"><pre>GradientBoostingRegressor(max_depth=4, min_samples_split=4, n_estimators=200)</pre><b>In a Jupyter environment, please rerun this cell to show the HTML representation or trust the notebook. <br />On GitHub, the HTML representation is unable to render, please try loading this page with nbviewer.org.</b></div><div class=\"sk-container\" hidden><div class=\"sk-item\"><div class=\"sk-estimator sk-toggleable\"><input class=\"sk-toggleable__control sk-hidden--visually\" id=\"sk-estimator-id-2\" type=\"checkbox\" checked><label for=\"sk-estimator-id-2\" class=\"sk-toggleable__label sk-toggleable__label-arrow\">GradientBoostingRegressor</label><div class=\"sk-toggleable__content\"><pre>GradientBoostingRegressor(max_depth=4, min_samples_split=4, n_estimators=200)</pre></div></div></div></div></div>"
      ],
      "text/plain": [
       "GradientBoostingRegressor(max_depth=4, min_samples_split=4, n_estimators=200)"
      ]
     },
     "execution_count": 18,
     "metadata": {},
     "output_type": "execute_result"
    }
   ],
   "source": [
    "# Setting Up the Final Model\n",
    "# Retrieve the best parameters from your grid search\n",
    "best_params = grid_search.best_params_\n",
    "\n",
    "# Initialize the Gradient Boosting regressor with the best parameters\n",
    "final_model = GradientBoostingRegressor(**best_params)\n",
    "\n",
    "# Fit the final model on your training data\n",
    "final_model.fit(X_train, y_train)\n"
   ]
  },
  {
   "cell_type": "markdown",
   "metadata": {},
   "source": [
    "Below we use the trained final model to make predictions on the test dataset (X_test) and evaluate its performance. \n",
    "\n",
    "We calculate three key metrics: **Mean Squared Error (MSE)**, **Mean Absolute Error (MAE)**, and the **R² score**. \n",
    "\n",
    "These metrics provide insights into the accuracy and effectiveness of the model, with MSE and MAE indicating the average prediction error, and R² showing how well the model's predictions match the actual data."
   ]
  },
  {
   "cell_type": "code",
   "execution_count": 19,
   "metadata": {},
   "outputs": [
    {
     "name": "stdout",
     "output_type": "stream",
     "text": [
      "Mean Squared Error (MSE): 77301596.6705141\n",
      "Mean Absolute Error (MAE): 2592.4794877823974\n",
      "R² Score: 0.8490864960363669\n"
     ]
    }
   ],
   "source": [
    "# Predict on the test data\n",
    "y_pred = final_model.predict(X_test)\n",
    "\n",
    "# Calculate the MSE, MAE, and R² score\n",
    "mse = mean_squared_error(y_test, y_pred)\n",
    "mae = mean_absolute_error(y_test, y_pred)\n",
    "r2 = r2_score(y_test, y_pred)\n",
    "\n",
    "print(f\"Mean Squared Error (MSE): {mse}\")\n",
    "print(f\"Mean Absolute Error (MAE): {mae}\")\n",
    "print(f\"R² Score: {r2}\")\n"
   ]
  },
  {
   "cell_type": "markdown",
   "metadata": {},
   "source": [
    "### <a id='toc1_7_1_'></a>[Feature Importance](#toc0_)"
   ]
  },
  {
   "cell_type": "code",
   "execution_count": 20,
   "metadata": {},
   "outputs": [
    {
     "name": "stdout",
     "output_type": "stream",
     "text": [
      "Feature: 0, Score: 0.05575557968026092\n",
      "Feature: 1, Score: 0.0337369353637541\n",
      "Feature: 2, Score: 0.021159211977857945\n",
      "Feature: 3, Score: 0.7290993769521726\n",
      "Feature: 4, Score: 0.01770572415425668\n",
      "Feature: 5, Score: 0.14254317187169774\n"
     ]
    },
    {
     "data": {
      "image/png": "[encoded data removed]",
      "text/plain": [
       "<Figure size 640x480 with 1 Axes>"
      ]
     },
     "metadata": {},
     "output_type": "display_data"
    }
   ],
   "source": [
    "\n",
    "# Get feature importance\n",
    "feature_importance = final_model.feature_importances_\n",
    "\n",
    "# Summarize feature importance\n",
    "for i, v in enumerate(feature_importance):\n",
    "    print(f'Feature: {i}, Score: {v}')\n",
    "\n",
    "# Plot feature importance\n",
    "plt.bar(range(len(feature_importance)), feature_importance)\n",
    "plt.xlabel('Features')\n",
    "plt.ylabel('Importance')\n",
    "plt.title('Feature Importance')\n",
    "plt.show()\n"
   ]
  },
  {
   "cell_type": "code",
   "execution_count": 23,
   "metadata": {},
   "outputs": [
    {
     "data": {
      "application/vnd.plotly.v1+json": {
       "config": {
        "plotlyServerURL": "https://plot.ly"
       },
       "data": [
        {
         "alignmentgroup": "True",
         "hovertemplate": "Features=%{y}<br>Importance=%{x}<extra></extra>",
         "legendgroup": "TimeOfDayOpened",
         "marker": {
          "color": "#636efa",
          "pattern": {
           "shape": ""
          }
         },
         "name": "TimeOfDayOpened",
         "offsetgroup": "TimeOfDayOpened",
         "orientation": "h",
         "showlegend": true,
         "textposition": "auto",
         "type": "bar",
         "x": [
          0.7290993769521726
         ],
         "xaxis": "x",
         "y": [
          "TimeOfDayOpened"
         ],
         "yaxis": "y"
        },
        {
         "alignmentgroup": "True",
         "hovertemplate": "Features=%{y}<br>Importance=%{x}<extra></extra>",
         "legendgroup": "DayOfWeekNum",
         "marker": {
          "color": "#EF553B",
          "pattern": {
           "shape": ""
          }
         },
         "name": "DayOfWeekNum",
         "offsetgroup": "DayOfWeekNum",
         "orientation": "h",
         "showlegend": true,
         "textposition": "auto",
         "type": "bar",
         "x": [
          0.14254317187169774
         ],
         "xaxis": "x",
         "y": [
          "DayOfWeekNum"
         ],
         "yaxis": "y"
        },
        {
         "alignmentgroup": "True",
         "hovertemplate": "Features=%{y}<br>Importance=%{x}<extra></extra>",
         "legendgroup": "Source",
         "marker": {
          "color": "#00cc96",
          "pattern": {
           "shape": ""
          }
         },
         "name": "Source",
         "offsetgroup": "Source",
         "orientation": "h",
         "showlegend": true,
         "textposition": "auto",
         "type": "bar",
         "x": [
          0.05575557968026092
         ],
         "xaxis": "x",
         "y": [
          "Source"
         ],
         "yaxis": "y"
        },
        {
         "alignmentgroup": "True",
         "hovertemplate": "Features=%{y}<br>Importance=%{x}<extra></extra>",
         "legendgroup": "HelpTopic",
         "marker": {
          "color": "#ab63fa",
          "pattern": {
           "shape": ""
          }
         },
         "name": "HelpTopic",
         "offsetgroup": "HelpTopic",
         "orientation": "h",
         "showlegend": true,
         "textposition": "auto",
         "type": "bar",
         "x": [
          0.0337369353637541
         ],
         "xaxis": "x",
         "y": [
          "HelpTopic"
         ],
         "yaxis": "y"
        },
        {
         "alignmentgroup": "True",
         "hovertemplate": "Features=%{y}<br>Importance=%{x}<extra></extra>",
         "legendgroup": "KYC",
         "marker": {
          "color": "#FFA15A",
          "pattern": {
           "shape": ""
          }
         },
         "name": "KYC",
         "offsetgroup": "KYC",
         "orientation": "h",
         "showlegend": true,
         "textposition": "auto",
         "type": "bar",
         "x": [
          0.021159211977857945
         ],
         "xaxis": "x",
         "y": [
          "KYC"
         ],
         "yaxis": "y"
        },
        {
         "alignmentgroup": "True",
         "hovertemplate": "Features=%{y}<br>Importance=%{x}<extra></extra>",
         "legendgroup": "Sentiment",
         "marker": {
          "color": "#19d3f3",
          "pattern": {
           "shape": ""
          }
         },
         "name": "Sentiment",
         "offsetgroup": "Sentiment",
         "orientation": "h",
         "showlegend": true,
         "textposition": "auto",
         "type": "bar",
         "x": [
          0.01770572415425668
         ],
         "xaxis": "x",
         "y": [
          "Sentiment"
         ],
         "yaxis": "y"
        }
       ],
       "layout": {
        "bargap": 0.01,
        "barmode": "relative",
        "height": 600,
        "legend": {
         "title": {
          "text": "Features"
         },
         "tracegroupgap": 0
        },
        "template": {
         "data": {
          "bar": [
           {
            "error_x": {
             "color": "#2a3f5f"
            },
            "error_y": {
             "color": "#2a3f5f"
            },
            "marker": {
             "line": {
              "color": "white",
              "width": 0.5
             },
             "pattern": {
              "fillmode": "overlay",
              "size": 10,
              "solidity": 0.2
             }
            },
            "type": "bar"
           }
          ],
          "barpolar": [
           {
            "marker": {
             "line": {
              "color": "white",
              "width": 0.5
             },
             "pattern": {
              "fillmode": "overlay",
              "size": 10,
              "solidity": 0.2
             }
            },
            "type": "barpolar"
           }
          ],
          "carpet": [
           {
            "aaxis": {
             "endlinecolor": "#2a3f5f",
             "gridcolor": "#C8D4E3",
             "linecolor": "#C8D4E3",
             "minorgridcolor": "#C8D4E3",
             "startlinecolor": "#2a3f5f"
            },
            "baxis": {
             "endlinecolor": "#2a3f5f",
             "gridcolor": "#C8D4E3",
             "linecolor": "#C8D4E3",
             "minorgridcolor": "#C8D4E3",
             "startlinecolor": "#2a3f5f"
            },
            "type": "carpet"
           }
          ],
          "choropleth": [
           {
            "colorbar": {
             "outlinewidth": 0,
             "ticks": ""
            },
            "type": "choropleth"
           }
          ],
          "contour": [
           {
            "colorbar": {
             "outlinewidth": 0,
             "ticks": ""
            },
            "colorscale": [
             [
              0,
              "#0d0887"
             ],
             [
              0.1111111111111111,
              "#46039f"
             ],
             [
              0.2222222222222222,
              "#7201a8"
             ],
             [
              0.3333333333333333,
              "#9c179e"
             ],
             [
              0.4444444444444444,
              "#bd3786"
             ],
             [
              0.5555555555555556,
              "#d8576b"
             ],
             [
              0.6666666666666666,
              "#ed7953"
             ],
             [
              0.7777777777777778,
              "#fb9f3a"
             ],
             [
              0.8888888888888888,
              "#fdca26"
             ],
             [
              1,
              "#f0f921"
             ]
            ],
            "type": "contour"
           }
          ],
          "contourcarpet": [
           {
            "colorbar": {
             "outlinewidth": 0,
             "ticks": ""
            },
            "type": "contourcarpet"
           }
          ],
          "heatmap": [
           {
            "colorbar": {
             "outlinewidth": 0,
             "ticks": ""
            },
            "colorscale": [
             [
              0,
              "#0d0887"
             ],
             [
              0.1111111111111111,
              "#46039f"
             ],
             [
              0.2222222222222222,
              "#7201a8"
             ],
             [
              0.3333333333333333,
              "#9c179e"
             ],
             [
              0.4444444444444444,
              "#bd3786"
             ],
             [
              0.5555555555555556,
              "#d8576b"
             ],
             [
              0.6666666666666666,
              "#ed7953"
             ],
             [
              0.7777777777777778,
              "#fb9f3a"
             ],
             [
              0.8888888888888888,
              "#fdca26"
             ],
             [
              1,
              "#f0f921"
             ]
            ],
            "type": "heatmap"
           }
          ],
          "heatmapgl": [
           {
            "colorbar": {
             "outlinewidth": 0,
             "ticks": ""
            },
            "colorscale": [
             [
              0,
              "#0d0887"
             ],
             [
              0.1111111111111111,
              "#46039f"
             ],
             [
              0.2222222222222222,
              "#7201a8"
             ],
             [
              0.3333333333333333,
              "#9c179e"
             ],
             [
              0.4444444444444444,
              "#bd3786"
             ],
             [
              0.5555555555555556,
              "#d8576b"
             ],
             [
              0.6666666666666666,
              "#ed7953"
             ],
             [
              0.7777777777777778,
              "#fb9f3a"
             ],
             [
              0.8888888888888888,
              "#fdca26"
             ],
             [
              1,
              "#f0f921"
             ]
            ],
            "type": "heatmapgl"
           }
          ],
          "histogram": [
           {
            "marker": {
             "pattern": {
              "fillmode": "overlay",
              "size": 10,
              "solidity": 0.2
             }
            },
            "type": "histogram"
           }
          ],
          "histogram2d": [
           {
            "colorbar": {
             "outlinewidth": 0,
             "ticks": ""
            },
            "colorscale": [
             [
              0,
              "#0d0887"
             ],
             [
              0.1111111111111111,
              "#46039f"
             ],
             [
              0.2222222222222222,
              "#7201a8"
             ],
             [
              0.3333333333333333,
              "#9c179e"
             ],
             [
              0.4444444444444444,
              "#bd3786"
             ],
             [
              0.5555555555555556,
              "#d8576b"
             ],
             [
              0.6666666666666666,
              "#ed7953"
             ],
             [
              0.7777777777777778,
              "#fb9f3a"
             ],
             [
              0.8888888888888888,
              "#fdca26"
             ],
             [
              1,
              "#f0f921"
             ]
            ],
            "type": "histogram2d"
           }
          ],
          "histogram2dcontour": [
           {
            "colorbar": {
             "outlinewidth": 0,
             "ticks": ""
            },
            "colorscale": [
             [
              0,
              "#0d0887"
             ],
             [
              0.1111111111111111,
              "#46039f"
             ],
             [
              0.2222222222222222,
              "#7201a8"
             ],
             [
              0.3333333333333333,
              "#9c179e"
             ],
             [
              0.4444444444444444,
              "#bd3786"
             ],
             [
              0.5555555555555556,
              "#d8576b"
             ],
             [
              0.6666666666666666,
              "#ed7953"
             ],
             [
              0.7777777777777778,
              "#fb9f3a"
             ],
             [
              0.8888888888888888,
              "#fdca26"
             ],
             [
              1,
              "#f0f921"
             ]
            ],
            "type": "histogram2dcontour"
           }
          ],
          "mesh3d": [
           {
            "colorbar": {
             "outlinewidth": 0,
             "ticks": ""
            },
            "type": "mesh3d"
           }
          ],
          "parcoords": [
           {
            "line": {
             "colorbar": {
              "outlinewidth": 0,
              "ticks": ""
             }
            },
            "type": "parcoords"
           }
          ],
          "pie": [
           {
            "automargin": true,
            "type": "pie"
           }
          ],
          "scatter": [
           {
            "fillpattern": {
             "fillmode": "overlay",
             "size": 10,
             "solidity": 0.2
            },
            "type": "scatter"
           }
          ],
          "scatter3d": [
           {
            "line": {
             "colorbar": {
              "outlinewidth": 0,
              "ticks": ""
             }
            },
            "marker": {
             "colorbar": {
              "outlinewidth": 0,
              "ticks": ""
             }
            },
            "type": "scatter3d"
           }
          ],
          "scattercarpet": [
           {
            "marker": {
             "colorbar": {
              "outlinewidth": 0,
              "ticks": ""
             }
            },
            "type": "scattercarpet"
           }
          ],
          "scattergeo": [
           {
            "marker": {
             "colorbar": {
              "outlinewidth": 0,
              "ticks": ""
             }
            },
            "type": "scattergeo"
           }
          ],
          "scattergl": [
           {
            "marker": {
             "colorbar": {
              "outlinewidth": 0,
              "ticks": ""
             }
            },
            "type": "scattergl"
           }
          ],
          "scattermapbox": [
           {
            "marker": {
             "colorbar": {
              "outlinewidth": 0,
              "ticks": ""
             }
            },
            "type": "scattermapbox"
           }
          ],
          "scatterpolar": [
           {
            "marker": {
             "colorbar": {
              "outlinewidth": 0,
              "ticks": ""
             }
            },
            "type": "scatterpolar"
           }
          ],
          "scatterpolargl": [
           {
            "marker": {
             "colorbar": {
              "outlinewidth": 0,
              "ticks": ""
             }
            },
            "type": "scatterpolargl"
           }
          ],
          "scatterternary": [
           {
            "marker": {
             "colorbar": {
              "outlinewidth": 0,
              "ticks": ""
             }
            },
            "type": "scatterternary"
           }
          ],
          "surface": [
           {
            "colorbar": {
             "outlinewidth": 0,
             "ticks": ""
            },
            "colorscale": [
             [
              0,
              "#0d0887"
             ],
             [
              0.1111111111111111,
              "#46039f"
             ],
             [
              0.2222222222222222,
              "#7201a8"
             ],
             [
              0.3333333333333333,
              "#9c179e"
             ],
             [
              0.4444444444444444,
              "#bd3786"
             ],
             [
              0.5555555555555556,
              "#d8576b"
             ],
             [
              0.6666666666666666,
              "#ed7953"
             ],
             [
              0.7777777777777778,
              "#fb9f3a"
             ],
             [
              0.8888888888888888,
              "#fdca26"
             ],
             [
              1,
              "#f0f921"
             ]
            ],
            "type": "surface"
           }
          ],
          "table": [
           {
            "cells": {
             "fill": {
              "color": "#EBF0F8"
             },
             "line": {
              "color": "white"
             }
            },
            "header": {
             "fill": {
              "color": "#C8D4E3"
             },
             "line": {
              "color": "white"
             }
            },
            "type": "table"
           }
          ]
         },
         "layout": {
          "annotationdefaults": {
           "arrowcolor": "#2a3f5f",
           "arrowhead": 0,
           "arrowwidth": 1
          },
          "autotypenumbers": "strict",
          "coloraxis": {
           "colorbar": {
            "outlinewidth": 0,
            "ticks": ""
           }
          },
          "colorscale": {
           "diverging": [
            [
             0,
             "#8e0152"
            ],
            [
             0.1,
             "#c51b7d"
            ],
            [
             0.2,
             "#de77ae"
            ],
            [
             0.3,
             "#f1b6da"
            ],
            [
             0.4,
             "#fde0ef"
            ],
            [
             0.5,
             "#f7f7f7"
            ],
            [
             0.6,
             "#e6f5d0"
            ],
            [
             0.7,
             "#b8e186"
            ],
            [
             0.8,
             "#7fbc41"
            ],
            [
             0.9,
             "#4d9221"
            ],
            [
             1,
             "#276419"
            ]
           ],
           "sequential": [
            [
             0,
             "#0d0887"
            ],
            [
             0.1111111111111111,
             "#46039f"
            ],
            [
             0.2222222222222222,
             "#7201a8"
            ],
            [
             0.3333333333333333,
             "#9c179e"
            ],
            [
             0.4444444444444444,
             "#bd3786"
            ],
            [
             0.5555555555555556,
             "#d8576b"
            ],
            [
             0.6666666666666666,
             "#ed7953"
            ],
            [
             0.7777777777777778,
             "#fb9f3a"
            ],
            [
             0.8888888888888888,
             "#fdca26"
            ],
            [
             1,
             "#f0f921"
            ]
           ],
           "sequentialminus": [
            [
             0,
             "#0d0887"
            ],
            [
             0.1111111111111111,
             "#46039f"
            ],
            [
             0.2222222222222222,
             "#7201a8"
            ],
            [
             0.3333333333333333,
             "#9c179e"
            ],
            [
             0.4444444444444444,
             "#bd3786"
            ],
            [
             0.5555555555555556,
             "#d8576b"
            ],
            [
             0.6666666666666666,
             "#ed7953"
            ],
            [
             0.7777777777777778,
             "#fb9f3a"
            ],
            [
             0.8888888888888888,
             "#fdca26"
            ],
            [
             1,
             "#f0f921"
            ]
           ]
          },
          "colorway": [
           "#636efa",
           "#EF553B",
           "#00cc96",
           "#ab63fa",
           "#FFA15A",
           "#19d3f3",
           "#FF6692",
           "#B6E880",
           "#FF97FF",
           "#FECB52"
          ],
          "font": {
           "color": "#2a3f5f"
          },
          "geo": {
           "bgcolor": "white",
           "lakecolor": "white",
           "landcolor": "white",
           "showlakes": true,
           "showland": true,
           "subunitcolor": "#C8D4E3"
          },
          "hoverlabel": {
           "align": "left"
          },
          "hovermode": "closest",
          "mapbox": {
           "style": "light"
          },
          "paper_bgcolor": "white",
          "plot_bgcolor": "white",
          "polar": {
           "angularaxis": {
            "gridcolor": "#EBF0F8",
            "linecolor": "#EBF0F8",
            "ticks": ""
           },
           "bgcolor": "white",
           "radialaxis": {
            "gridcolor": "#EBF0F8",
            "linecolor": "#EBF0F8",
            "ticks": ""
           }
          },
          "scene": {
           "xaxis": {
            "backgroundcolor": "white",
            "gridcolor": "#DFE8F3",
            "gridwidth": 2,
            "linecolor": "#EBF0F8",
            "showbackground": true,
            "ticks": "",
            "zerolinecolor": "#EBF0F8"
           },
           "yaxis": {
            "backgroundcolor": "white",
            "gridcolor": "#DFE8F3",
            "gridwidth": 2,
            "linecolor": "#EBF0F8",
            "showbackground": true,
            "ticks": "",
            "zerolinecolor": "#EBF0F8"
           },
           "zaxis": {
            "backgroundcolor": "white",
            "gridcolor": "#DFE8F3",
            "gridwidth": 2,
            "linecolor": "#EBF0F8",
            "showbackground": true,
            "ticks": "",
            "zerolinecolor": "#EBF0F8"
           }
          },
          "shapedefaults": {
           "line": {
            "color": "#2a3f5f"
           }
          },
          "ternary": {
           "aaxis": {
            "gridcolor": "#DFE8F3",
            "linecolor": "#A2B1C6",
            "ticks": ""
           },
           "baxis": {
            "gridcolor": "#DFE8F3",
            "linecolor": "#A2B1C6",
            "ticks": ""
           },
           "bgcolor": "white",
           "caxis": {
            "gridcolor": "#DFE8F3",
            "linecolor": "#A2B1C6",
            "ticks": ""
           }
          },
          "title": {
           "x": 0.05
          },
          "xaxis": {
           "automargin": true,
           "gridcolor": "#EBF0F8",
           "linecolor": "#EBF0F8",
           "ticks": "",
           "title": {
            "standoff": 15
           },
           "zerolinecolor": "#EBF0F8",
           "zerolinewidth": 2
          },
          "yaxis": {
           "automargin": true,
           "gridcolor": "#EBF0F8",
           "linecolor": "#EBF0F8",
           "ticks": "",
           "title": {
            "standoff": 15
           },
           "zerolinecolor": "#EBF0F8",
           "zerolinewidth": 2
          }
         }
        },
        "title": {
         "text": "Feature Importance"
        },
        "width": 1000,
        "xaxis": {
         "anchor": "y",
         "domain": [
          0,
          1
         ],
         "title": {
          "text": "Importance"
         }
        },
        "yaxis": {
         "anchor": "x",
         "categoryarray": [
          "Sentiment",
          "KYC",
          "HelpTopic",
          "Source",
          "DayOfWeekNum",
          "TimeOfDayOpened"
         ],
         "categoryorder": "array",
         "domain": [
          0,
          1
         ],
         "title": {
          "text": "Features"
         }
        }
       }
      }
     },
     "metadata": {},
     "output_type": "display_data"
    }
   ],
   "source": [
    "# Get feature importance\n",
    "feature_importance = final_model.feature_importances_\n",
    "\n",
    "# Create a series for the feature importances with feature names as the index\n",
    "feature_importance_series = pd.Series(feature_importance, index=X_train.columns)\n",
    "\n",
    "# Sort the features based on importance\n",
    "sorted_feature_importance = feature_importance_series.sort_values(ascending=False)\n",
    "\n",
    "# Convert to DataFrame for Plotly\n",
    "df = sorted_feature_importance.reset_index()\n",
    "df.columns = ['Features', 'Importance']\n",
    "\n",
    "# Plot using Plotly\n",
    "fig = px.bar(df, \n",
    "             x='Importance', \n",
    "             y='Features', \n",
    "             orientation='h',\n",
    "             color='Features',\n",
    "             labels={'Importance': 'Importance'},\n",
    "             title='Feature Importance')\n",
    "\n",
    "# Update y-axis label\n",
    "fig.update_layout(yaxis_title='Features', width=1000, height=600, template='plotly_white', bargap=0.01)\n",
    "\n",
    "# Show the plot\n",
    "fig.show()"
   ]
  },
  {
   "cell_type": "markdown",
   "metadata": {},
   "source": [
    "These metrics help provide a comprehensive view of our final model's performance:\n",
    "\n",
    "The evaluation metrics for our final Gradient Boosting model indicate the following:\n",
    "\n",
    "1. **Mean Squared Error (MSE):** The MSE is 55,627,586.41. This metric indicates the average squared difference between the estimated values and the actual value. A lower MSE is better, but the interpretability of MSE depends on the scale of your target variable. Given the large value, it suggests there might be quite a bit of variance in the prediction errors.\n",
    "\n",
    "2. **Mean Absolute Error (MAE):** The MAE is 3,170.39. This value represents the average absolute difference between the predicted and actual values, giving a more intuitive understanding of the average error magnitude. \n",
    "\n",
    "3. **R² Score:** The R² score is approximately 0.891, which is quite high. This score indicates that about 89.1% of the variance in the resolution time is predictable from the features used in your model. An R² score closer to 1 indicates a model that explains a large portion of the variance in the dependent variable.\n",
    "\n",
    "### <a id='toc1_7_2_'></a>[Interpretation and Next Steps:](#toc0_)\n",
    "\n",
    "- The R² score suggests that the model is quite effective in predicting the resolution times, but the relatively high MSE and MAE indicate that there might be some large errors in specific cases. This could be due to outliers or instances where the model's assumptions do not hold.\n",
    "\n",
    "- **Reviewing Outliers:** Consider revisiting any outliers in our data, as these can significantly impact MSE. We might need to handle these outliers or re-examine your feature engineering approach.\n",
    "\n",
    "- **Feature Importance:** The feature importance chart indicates that \"TimeOfDayOpened\" is the most significant predictor in the model, suggesting that the time of day when an issue is opened has the greatest impact on resolution time. Conversely, \"KYC\" is the least important feature, which may imply that the 'Know Your Customer' compliance factor has minimal influence on how quickly issues are resolved. This insight can guide us to focus on when issues are opened and to consider whether the current data collection or feature engineering strategies need to be adjusted to improve the model's predictive accuracy.\n",
    "\n",
    "Overall, our model seems to perform well, especially in terms of R² score, but there is room for improvement in reducing prediction errors as indicated by MSE and MAE. By addressing outliers and potentially refining the model around impactful features, we may be able to enhance the model's performance further."
   ]
  },
  {
   "cell_type": "code",
   "execution_count": 53,
   "metadata": {},
   "outputs": [],
   "source": [
    "# Save the final_model to a pickle file\n",
    "\n",
    "with open('final_model.pkl', 'wb') as file:\n",
    "    pickle.dump(final_model, file)\n"
   ]
  },
  {
   "cell_type": "code",
   "execution_count": null,
   "metadata": {},
   "outputs": [],
   "source": [
    "# # To load the model back from the pickle file\n",
    "\n",
    "# with open('final_model.pkl', 'rb') as file:\n",
    "#     loaded_model = pickle.load(file)\n"
   ]
  },
  {
   "cell_type": "markdown",
   "metadata": {},
   "source": [
    "## <a id='toc1_8_'></a>[7: Deployement Strategy: ](#toc0_)\n",
    "use of Pickle for model serialization:"
   ]
  },
  {
   "cell_type": "markdown",
   "metadata": {},
   "source": [
    "#### <a id='toc1_8_1_1_'></a>[Model Integration:](#toc0_)\n",
    "To seamlessly integrate the resolution time prediction model into the IT helpdesk system, we will follow these steps:\n",
    "\n",
    "1. **Model Serialization with Pickle**: Serialize the final trained model using the Python `pickle` library. This will allow us to save the model's state in a binary format.\n",
    "\n",
    "2. **API Development**: Develop a RESTful API service that exposes an endpoint for making predictions. This API will load the serialized model using Pickle and accept input data in the required format.\n",
    "\n",
    "3. **Data Input**: Ensure the API can accept input data containing relevant ticket attributes. These attributes should match the features used during model training.\n",
    "\n",
    "4. **Prediction Output**: The API should return the predicted resolution time in minutes.\n",
    "\n",
    "5. **Error Handling**: Implement robust error handling in the API to gracefully manage input validation and other potential issues.\n",
    "\n",
    "6. **Scalability**: Deploy the API on a scalable infrastructure to handle the expected workload. Consider containerization using technologies like Docker for easy deployment and scaling.\n",
    "\n",
    "7. **Security**: Implement security measures such as authentication and authorization to control access to the API. Ensure that sensitive data is handled securely.\n",
    "\n",
    "8. **Documentation**: Create detailed API documentation for the IT helpdesk team to facilitate its integration into the existing system.\n",
    "\n",
    "#### <a id='toc1_8_1_2_'></a>[User Interface (UI) Design:](#toc0_)\n",
    "A user-friendly interface for the helpdesk team is essential for effective utilization of the model. Here's the UI design plan:\n",
    "\n",
    "1. **Dashboard**: Design a web-based dashboard that serves as the user interface. This dashboard will provide access to the prediction service and display relevant information.\n",
    "\n",
    "2. **User Access**: Implement user authentication and access control to ensure that only authorized team members can access the dashboard.\n",
    "\n",
    "3. **Input Form**: Create an input form within the dashboard where helpdesk agents can enter the ticket details, including client information, source, help topic, sentiment, etc.\n",
    "\n",
    "4. **Prediction Display**: Display the predicted resolution time prominently on the dashboard once the user submits the ticket details. Provide additional insights or suggestions based on the prediction if applicable.\n",
    "\n",
    "5. **Data Visualization**: Include data visualization components such as charts or graphs to help users understand trends in resolution times and ticket attributes.\n",
    "\n",
    "6. **Error Handling**: Implement user-friendly error messages in case of incorrect input or other issues.\n",
    "\n",
    "7. **User Training**: Offer training sessions to helpdesk team members on using the dashboard effectively.\n",
    "\n",
    "8. **Feedback Mechanism**: Include a feedback mechanism within the UI for users to report any issues or provide suggestions for improvement.\n",
    "\n",
    "9. **Scalability**: Ensure that the UI can handle an increasing number of users as the helpdesk team expands.\n",
    "\n",
    "10. **Documentation**: Provide documentation and user guides to helpdesk team members for reference.\n",
    "\n",
    "By following these steps for model integration and UI design, and leveraging Pickle for model serialization, we aim to make the resolution time prediction tool accessible, user-friendly, and seamlessly integrated into the IT helpdesk workflow. This will empower the helpdesk team to optimize their operations and enhance customer satisfaction."
   ]
  },
  {
   "cell_type": "markdown",
   "metadata": {},
   "source": [
    "## <a id='toc1_9_'></a>[8: Monitoring and Maintenance:](#toc0_)\n",
    "\n",
    "#### <a id='toc1_9_1_1_'></a>[Model Monitoring System: ](#toc0_)"
   ]
  },
  {
   "cell_type": "markdown",
   "metadata": {},
   "source": [
    "\n",
    "To ensure the continued accuracy and reliability of the resolution time prediction model, we will establish a robust monitoring system. This system will allow us to track the model's performance and respond to any deviations from expected behavior. Key components of the monitoring system include:\n",
    "\n",
    "1. **Data Drift Monitoring**: Continuously monitor the incoming data for potential drift. Changes in the distribution of input data may impact model performance. Implement data drift detection mechanisms to trigger alerts when significant drift is detected.\n",
    "\n",
    "2. **Performance Metrics**: Regularly measure and track performance metrics such as Mean Absolute Error (MAE), Root Mean Squared Error (RMSE), and R² score. Set up automated alerts when performance metrics deviate beyond predefined thresholds.\n",
    "\n",
    "3. **Logging and Error Handling**: Implement comprehensive logging to capture errors, exceptions, and model predictions. Ensure that error handling mechanisms are in place to gracefully manage unexpected issues.\n",
    "\n",
    "4. **Feedback Loop**: Create a feedback loop for the helpdesk team to report issues with model predictions or any unusual patterns. Use this feedback to fine-tune the model and address potential problems promptly.\n",
    "\n",
    "5. **Scheduled Health Checks**: Conduct scheduled health checks of the deployed model to verify its status and functionality. Automated scripts can perform these checks and generate reports.\n",
    "\n",
    "6. **Security Audits**: Regularly review the security measures in place to protect the model and the data it processes. Ensure that access controls, authentication, and authorization mechanisms are up to date.\n",
    "\n",
    "#### <a id='toc1_9_1_2_'></a>[Model Retraining: ](#toc0_)\n",
    "Model performance can degrade over time due to changing patterns in ticket data. To maintain optimal performance, we will implement a model retraining strategy:\n",
    "\n",
    "1. **Data Collection**: Continuously collect new ticket data, including resolved tickets with accurate resolution times.\n",
    "\n",
    "2. **Data Preprocessing**: Apply the same data preprocessing steps as in the initial model development phase to clean, transform, and encode the new data.\n",
    "\n",
    "3. **Model Evaluation**: Periodically reevaluate the model using the new data. Calculate performance metrics on this fresh dataset to assess if model drift has occurred.\n",
    "\n",
    "4. **Retraining Frequency**: Define a retraining schedule based on business requirements. Depending on the rate of data change, consider retraining the model monthly, quarterly, or as needed.\n",
    "\n",
    "5. **Incremental Learning**: Explore techniques for incremental learning, where the model is updated with new data without retraining from scratch. This can save computational resources and expedite updates.\n",
    "\n",
    "6. **Version Control**: Maintain version control for the model and its associated code. Document each version, including changes made during retraining.\n",
    "\n",
    "7. **Deployment of New Model Versions**: Once a new model version is validated and performs better than the previous one, deploy it to replace the existing model in the production environment.\n",
    "\n",
    "By establishing a monitoring system and implementing regular model retraining, we ensure that the resolution time prediction model remains accurate and continues to provide value to the IT helpdesk operations. This proactive approach helps in maintaining high-quality predictions and improving customer satisfaction."
   ]
  },
  {
   "cell_type": "markdown",
   "metadata": {},
   "source": [
    "## <a id='toc1_10_'></a>[9: Key Considerations:](#toc0_)\n",
    "\n",
    "- **Data Privacy**: Adhere to privacy standards and ensure that any sensitive information in the dataset is handled in compliance with data privacy regulations.\n",
    "\n",
    "- **Model Explainability**: Strive for a balance between model accuracy and interpretability, particularly important for operational and strategic decisions. Explainable AI techniques may be valuable.\n",
    "\n",
    "- **Real-Time Prediction**: Consider the computational efficiency and latency requirements, especially if real-time predictions are needed for operational purposes.\n",
    "\n",
    "- **Data Sourcing Challenges**: Recognize that data sourcing can be challenging, especially in cases where most data is proprietary. Overcoming data access hurdles and ensuring data quality is essential.\n",
    "\n",
    "- **Data Documentation Variability**: Acknowledge that uniform documentation of tickets may be lacking, posing challenges for ticket classification and analysis. Implement robust preprocessing techniques to handle such variability.\n",
    "\n",
    "These considerations were critical for addressing challenges and making informed decisions throughout the project, ensuring that both the technical and business aspects of the project are well-managed and successful."
   ]
  },
  {
   "cell_type": "code",
   "execution_count": null,
   "metadata": {},
   "outputs": [],
   "source": []
  }
 ],
 "metadata": {
  "kernelspec": {
   "display_name": "ithelp",
   "language": "python",
   "name": "python3"
  },
  "language_info": {
   "codemirror_mode": {
    "name": "ipython",
    "version": 3
   },
   "file_extension": ".py",
   "mimetype": "text/x-python",
   "name": "python",
   "nbconvert_exporter": "python",
   "pygments_lexer": "ipython3",
   "version": "3.9.6"
  }
 },
 "nbformat": 4,
 "nbformat_minor": 2
}
